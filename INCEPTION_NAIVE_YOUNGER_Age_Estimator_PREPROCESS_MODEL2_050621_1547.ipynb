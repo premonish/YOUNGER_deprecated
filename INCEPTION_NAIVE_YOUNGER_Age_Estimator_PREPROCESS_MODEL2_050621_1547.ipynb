{
  "nbformat": 4,
  "nbformat_minor": 0,
  "metadata": {
    "colab": {
      "name": "INCEPTION_NAIVE_YOUNGER_Age_Estimator_PREPROCESS_MODEL2_050621_1547",
      "provenance": [],
      "collapsed_sections": [
        "FQJjfxDUkLfU"
      ],
      "toc_visible": true,
      "machine_shape": "hm",
      "include_colab_link": true
    },
    "kernelspec": {
      "display_name": "Python 3",
      "language": "python",
      "name": "python3"
    },
    "language_info": {
      "codemirror_mode": {
        "name": "ipython",
        "version": 3
      },
      "file_extension": ".py",
      "mimetype": "text/x-python",
      "name": "python",
      "nbconvert_exporter": "python",
      "pygments_lexer": "ipython3",
      "version": "3.7.6"
    },
    "accelerator": "GPU"
  },
  "cells": [
    {
      "cell_type": "markdown",
      "metadata": {
        "id": "view-in-github",
        "colab_type": "text"
      },
      "source": [
        "<a href=\"https://colab.research.google.com/github/premonish/YOUNGER_deprecated/blob/main/INCEPTION_NAIVE_YOUNGER_Age_Estimator_PREPROCESS_MODEL2_050621_1547.ipynb\" target=\"_parent\"><img src=\"https://colab.research.google.com/assets/colab-badge.svg\" alt=\"Open In Colab\"/></a>"
      ]
    },
    {
      "cell_type": "markdown",
      "metadata": {
        "id": "5NdHFhDErTM4"
      },
      "source": [
        "# **YOUNGER - Age Estimator:  Preprocessing & Modeling**\n",
        "---"
      ]
    },
    {
      "cell_type": "markdown",
      "metadata": {
        "id": "XiXYv221LD-I"
      },
      "source": [
        "###**Contents**\n",
        "\n"
      ]
    },
    {
      "cell_type": "markdown",
      "metadata": {
        "id": "snw-KlxraXz1"
      },
      "source": [
        "\n",
        "[**IV. PREPROCESSING**](#scrollTo=nAuKSR5HuQCy)\n",
        "\n",
        "* 4.1 Introduction\n",
        "* 4.2 Imports\n",
        "* 4.3 Load Data\n",
        "* 4.4 Transform Data\n",
        "* 4.5 Train/Test Split\n",
        "\n",
        "[**V. MODELING**](#scrollTo=QpXbL0ZoYSpN)\n",
        "\n",
        "* 5.1 CNN Architecture\n",
        "* 5.2 Transfer Learning\n",
        "* 5.3 Training the Model\n",
        "* 5.4 Model Performance\n",
        "* 5.5 Performance Visualization\n",
        "* 5.6 Unseen Data Test\n",
        "\n",
        "[**VI. SUMMARY**](#scrollTo=fRhrsD9SjrO7)\n",
        "\n",
        "\n",
        "[**VII. REFERENCES**](#scrollTo=tD6Lsmxlh3s8)\n",
        "\n",
        "[**VIII. APPENDIX**](#scrollTo=UhDT3ZLzzWxs)\n",
        "\n",
        "---"
      ]
    },
    {
      "cell_type": "markdown",
      "metadata": {
        "id": "nAuKSR5HuQCy"
      },
      "source": [
        "# **IV. PREPROCESSING**"
      ]
    },
    {
      "cell_type": "markdown",
      "metadata": {
        "id": "DiSjJnbdPiQY"
      },
      "source": [
        "##**4.1 Introduction**\n",
        "\n",
        "Previously, to create an age-predictor, we have completed a notebook to import data and explore its attributes: [Data Wrangling & Exploratory Data Analysis](https://github.com/premonish/YOUNGER/blob/main/notebooks/YOUNGER_Age_Estimator_WRANGLING_EDA_v2.ipynb). We took a close look at the metadata and plotted some histograms of the variable distributions. We transformed the data to extract the age of the primary face in each image from their date-of-birth and the date the photo was taken. We focused on extracting a long array of vectors of the pixel information per photo. We finished the previous phase by creating 2 arrays: 'matrix_x' with each row containing the (150,000+ pixel/image) data from each image in the dataset, and 'vector_y' containing the corresponding 'age' labels for the images. \n",
        "\n",
        "In this notebook, we will focus on Preprocessing & Modeling. In particular, we will use a Convolutional Neural Network, which is industry standard for Machine Learning image classification tasks due to its unmatched performance.  \n",
        "\n",
        "\n",
        "---\n",
        "\n"
      ]
    },
    {
      "cell_type": "markdown",
      "metadata": {
        "id": "NK2O29HEn-io"
      },
      "source": [
        "**Class Balance Note:** \n",
        "We decided to focus on predicting only the well represented age classes [8-80]. The dataset did not contain enough examples of other ages. Since the dataset had many examples for other ages, we decided to downsample to balance the classes.\n"
      ]
    },
    {
      "cell_type": "markdown",
      "metadata": {
        "id": "-nscfpB1XWMG"
      },
      "source": [
        "**Historical Context** \n",
        ">\n",
        "> Image classification has been around for decades, however the field has been rapidly maturing in the last decade.  Since 2010, [ImageNet](https://https://en.wikipedia.org/wiki/ImageNet) Large Scale Visual Recognition Challenge (ILSVRC) is an annual competition where teams attempt to categorize thousands of images into 1,000 classes. In 2012, 'AlexNet' won the competition by a landslide and this is considered a pivotal moment in the history of deep learning, enabled by ingenious data scientists, a massive labeled dataset, and GPUs for training.\n",
        "\n",
        "\n"
      ]
    },
    {
      "cell_type": "markdown",
      "metadata": {
        "id": "vFRQlsdn-N8Q"
      },
      "source": [
        "**PREPROCESSING** will be focused on three main sections.\n",
        "\n",
        "1. Create Dummy Variables for categorical variables. (One-Hot Encoding)\n",
        "2. Standardize the magnitude of numeric features using a scaler. (Scale 0-1)\n",
        "3. Split data into testing and training datasets.\n",
        "---"
      ]
    },
    {
      "cell_type": "markdown",
      "metadata": {
        "id": "zN67bVhWaOvq"
      },
      "source": [
        "## **4.2 Imports**"
      ]
    },
    {
      "cell_type": "code",
      "metadata": {
        "id": "KoFpJkXPKJV4"
      },
      "source": [
        "# !pip install tensorflow"
      ],
      "execution_count": 1,
      "outputs": []
    },
    {
      "cell_type": "code",
      "metadata": {
        "id": "paCb6SdG9lPb"
      },
      "source": [
        "# Create a list of currently installed python libraries for posterity\n",
        "# !pip freeze > requirements.txt"
      ],
      "execution_count": 2,
      "outputs": []
    },
    {
      "cell_type": "code",
      "metadata": {
        "id": "t6lsfcB9EpWm"
      },
      "source": [
        "### IMPORT libraries and packages ###\n",
        "### I get by with a little help from my friends ###\n",
        "import os\n",
        "import numpy as np\n",
        "import pandas as pd\n",
        "import matplotlib.pyplot as plt\n",
        "import tensorflow as tf\n",
        "from tensorflow import keras\n",
        "\n",
        "# deep-learning imports\n",
        "from keras.callbacks import ModelCheckpoint,EarlyStopping\n",
        "from keras.layers import Dense, Activation, Dropout, Flatten, Input, Convolution2D, ZeroPadding2D, MaxPooling2D, Activation\n",
        "from keras.layers import Conv2D, AveragePooling2D\n",
        "from keras.models import Model, Sequential\n",
        "from keras import metrics\n",
        "from keras.models import model_from_json"
      ],
      "execution_count": 3,
      "outputs": []
    },
    {
      "cell_type": "code",
      "metadata": {
        "id": "8y2HbkGJMwo5",
        "colab": {
          "base_uri": "https://localhost:8080/"
        },
        "outputId": "5cc19a0a-4070-49c6-990f-62e51decbc54"
      },
      "source": [
        "# mount GDrive where the dataset is stored for Colab environment\n",
        "from google.colab import drive\n",
        "drive.mount('/content/drive')"
      ],
      "execution_count": 4,
      "outputs": [
        {
          "output_type": "stream",
          "text": [
            "Drive already mounted at /content/drive; to attempt to forcibly remount, call drive.mount(\"/content/drive\", force_remount=True).\n"
          ],
          "name": "stdout"
        }
      ]
    },
    {
      "cell_type": "markdown",
      "metadata": {
        "id": "jbe7yzB7cKT-"
      },
      "source": [
        "## **4.3 Load Data**\n",
        "Let's load the compressed numpy arrays from disk, extract data, and check the number of rows in our dataset."
      ]
    },
    {
      "cell_type": "code",
      "metadata": {
        "id": "ZbArMfsXIsGf",
        "colab": {
          "base_uri": "https://localhost:8080/"
        },
        "outputId": "fcb32f23-d2cf-4c94-9641-1fb6ef677d00"
      },
      "source": [
        "%%time\n",
        "from numpy import asarray, savez_compressed, load\n",
        "# load dict of arrays\n",
        "images = np.load('/content/drive/MyDrive/YOUNGER/data5.npz', allow_pickle=True)\n",
        "matrix_x = images.f.arr_0\n",
        "X = matrix_x\n",
        "X.shape"
      ],
      "execution_count": 5,
      "outputs": [
        {
          "output_type": "stream",
          "text": [
            "CPU times: user 13.7 s, sys: 1.88 s, total: 15.6 s\n",
            "Wall time: 15.6 s\n"
          ],
          "name": "stdout"
        }
      ]
    },
    {
      "cell_type": "code",
      "metadata": {
        "id": "TemE8lc_mI_f",
        "colab": {
          "base_uri": "https://localhost:8080/"
        },
        "outputId": "baed1d94-a2fc-4cda-9ce3-a6ee4db17d35"
      },
      "source": [
        "# load the ages array 'vector_y'\n",
        "ages = np.load('/content/drive/MyDrive/YOUNGER/data6.npz', allow_pickle=True)\n",
        "vector_y = ages.f.arr_0\n",
        "y = vector_y\n",
        "y.shape"
      ],
      "execution_count": 6,
      "outputs": [
        {
          "output_type": "execute_result",
          "data": {
            "text/plain": [
              "(5037,)"
            ]
          },
          "metadata": {
            "tags": []
          },
          "execution_count": 6
        }
      ]
    },
    {
      "cell_type": "code",
      "metadata": {
        "id": "2rScm1jQm1Q_"
      },
      "source": [
        "# check output matrix_x & vector_y shapes\n",
        "# both matrix_x and vector_y are arrays of the same length \n",
        "assert vector_y.shape == matrix_x.shape"
      ],
      "execution_count": 7,
      "outputs": []
    },
    {
      "cell_type": "markdown",
      "metadata": {
        "id": "2vLOs6IEqrgw"
      },
      "source": [
        "**NOTE:** I've run many tests to see how many images to include without overwhelming Google Colab's RAM. \n",
        "\n",
        "I have already upgraded to Colab Pro for this project and have been reaching the RAM limits"
      ]
    },
    {
      "cell_type": "code",
      "metadata": {
        "id": "iB2Dr4lHrZsZ",
        "colab": {
          "base_uri": "https://localhost:8080/",
          "height": 241
        },
        "outputId": "61cf2ca1-1e53-47a4-e4cd-f98a56880d3e"
      },
      "source": [
        "# Plot Age Distribution represented in the dataset\n",
        "import seaborn as sns\n",
        "plt.figure(figsize=(5, 3))\n",
        "sns.histplot(y, color='green')\n",
        "plt.title('Age Distribution')\n",
        "plt.xlabel('age')\n",
        "plt.ylabel('count');"
      ],
      "execution_count": 8,
      "outputs": [
        {
          "output_type": "display_data",
          "data": {
            "image/png": "[encoded data removed]",
            "text/plain": [
              "<Figure size 360x216 with 1 Axes>"
            ]
          },
          "metadata": {
            "tags": [],
            "needs_background": "light"
          }
        }
      ]
    },
    {
      "cell_type": "markdown",
      "metadata": {
        "id": "Qd_Dc7cUo_rT"
      },
      "source": [
        "**^ Notice the balanced classes of the input data achieved in preprocessing.**\n",
        " \n",
        "We decided to focus on predicting only the well represented age classes [8-80]. The dataset did not contain enough examples of other ages. Since the dataset had many examples for other ages, we decided to downsample to balance the classes.\n",
        "\n",
        "---"
      ]
    },
    {
      "cell_type": "markdown",
      "metadata": {
        "id": "1zr0lCj5dZuW"
      },
      "source": [
        "## **4.4 Transform Data**"
      ]
    },
    {
      "cell_type": "markdown",
      "metadata": {
        "id": "UEz10wjTpq34"
      },
      "source": [
        "**One-Hot Encoding**\n",
        "\n",
        "We need to encode the 'ages' label as categorical (binary) representations to prepare for machine learning. \n",
        "The Keras API provides a 'to_categorical()' method that can be used to one-hot encode integer data. "
      ]
    },
    {
      "cell_type": "code",
      "metadata": {
        "id": "hOG6MdCQpRJF"
      },
      "source": [
        "# classes = 101   # ages 0 to 100   # We didn't have enough training examples to predict 101 classes\n",
        "classes = 73      # ages 8 to 80 (inclusive - inclusive)\n",
        "target = y-8      # prepare for zero-indexed encoding - must add for prediction\n",
        "\n",
        "# \"Converts a class vector (integers) to binary class matrix.\" \n",
        "target_classes = keras.utils.to_categorical(target, classes) "
      ],
      "execution_count": 9,
      "outputs": []
    },
    {
      "cell_type": "markdown",
      "metadata": {
        "id": "cZEaNizvqqnU"
      },
      "source": [
        "**Reshaping the Data**\n",
        "\n",
        "We must reshape the data into the standard input array shape of a 'rank 4 tensor' to prepare for the Tensorflow CNN.\n",
        "\n",
        "(b, w, h, c) : (batch, width, height, channels)"
      ]
    },
    {
      "cell_type": "code",
      "metadata": {
        "id": "4OjMyeT9oU42",
        "colab": {
          "base_uri": "https://localhost:8080/"
        },
        "outputId": "a482cf74-cf47-45b3-9e70-b5bb4e146b8c"
      },
      "source": [
        "features = []\n",
        "for i in range(0, len(X)):\n",
        "    features.append(X[i])\n",
        "features = np.array(features)\n",
        "features = features.reshape(len(X),224,224,3)\n",
        "features.shape"
      ],
      "execution_count": 10,
      "outputs": [
        {
          "output_type": "execute_result",
          "data": {
            "text/plain": [
              "(5037, 224, 224, 3)"
            ]
          },
          "metadata": {
            "tags": []
          },
          "execution_count": 10
        }
      ]
    },
    {
      "cell_type": "markdown",
      "metadata": {
        "id": "VlCGzAGvlmCy"
      },
      "source": [
        "**Scale the Data**\n",
        "\n",
        "Each of the pixel values range from 0-255. Let's scale the values to from 0-1 by dividing each value by 255. Interestingly, we are actually performing this operation virtually instantly 150,528 times per image (times the number of images)."
      ]
    },
    {
      "cell_type": "code",
      "metadata": {
        "id": "fo8E4IKfBjSF",
        "colab": {
          "base_uri": "https://localhost:8080/"
        },
        "outputId": "cb060f6b-8fb1-4c36-e7b1-a26733a582e9"
      },
      "source": [
        "features /= 255        # scale down pixel values to range [0, 1]\n",
        "print(\"The maximum value in our dataset is:\", features.max())"
      ],
      "execution_count": 11,
      "outputs": [
        {
          "output_type": "stream",
          "text": [
            "The maximum value in our dataset is: 1.0\n"
          ],
          "name": "stdout"
        }
      ]
    },
    {
      "cell_type": "markdown",
      "metadata": {
        "id": "h2UoOPjUjL77"
      },
      "source": [
        "\n",
        "\n",
        "---\n",
        "\n"
      ]
    },
    {
      "cell_type": "markdown",
      "metadata": {
        "id": "8it1tWzpdg-I"
      },
      "source": [
        "## **4.5 Train/Test Split**\n",
        "We will divide the dataset randomly into training data and test data (80/20). We will later perform data augmentation on only the training set to help balance the classes of ages in the dataset."
      ]
    },
    {
      "cell_type": "code",
      "metadata": {
        "id": "G6-ucgOZqCmH"
      },
      "source": [
        "# train/ test split\n",
        "from sklearn.model_selection import train_test_split\n",
        "train_x, test_x, train_y, test_y = train_test_split(features, target_classes, test_size=0.30, random_state=42, stratify=target_classes)"
      ],
      "execution_count": 12,
      "outputs": []
    },
    {
      "cell_type": "code",
      "metadata": {
        "id": "rrbNZT7QMnbk",
        "colab": {
          "base_uri": "https://localhost:8080/"
        },
        "outputId": "7c4106f7-2972-43e9-a3f6-0813db2ee7e6"
      },
      "source": [
        "print(\"X_train shape =\" ,train_x.shape) \n",
        "print(\"X_test  shape =\"  ,test_x.shape)\n",
        "print('- - - - - - - - - - - - - - - - - -')\n",
        "print(\"y_train shape =\" ,train_y.shape)\n",
        "print(\"y_test  shape =\"  ,test_y.shape)"
      ],
      "execution_count": 13,
      "outputs": [
        {
          "output_type": "stream",
          "text": [
            "X_train shape = (3525, 224, 224, 3)\n",
            "X_test  shape = (1512, 224, 224, 3)\n",
            "- - - - - - - - - - - - - - - - - -\n",
            "y_train shape = (3525, 73)\n",
            "y_test  shape = (1512, 73)\n"
          ],
          "name": "stdout"
        }
      ]
    },
    {
      "cell_type": "markdown",
      "metadata": {
        "id": "gJiGb6qucRzr"
      },
      "source": [
        "Now that we have one-hot encoded the target classes, shaped the input data into tensor-like shapes, scaled the data to 0-1, and split the dataset into training and test subsets, we are ready to move onto modeling."
      ]
    },
    {
      "cell_type": "markdown",
      "metadata": {
        "id": "J0OY658qi-9u"
      },
      "source": [
        "\n",
        "\n",
        "---\n",
        "\n"
      ]
    },
    {
      "cell_type": "markdown",
      "metadata": {
        "id": "QpXbL0ZoYSpN"
      },
      "source": [
        "# **V. MODELING**"
      ]
    },
    {
      "cell_type": "markdown",
      "metadata": {
        "id": "CF45pNbH-Reo"
      },
      "source": [
        "**MODELING** will focus on the following four phases.\n",
        "1. Train the models on the dataset (fit)\n",
        "2. Review model performance metrics\n",
        "3. Iterate over other models\n",
        "4. Identify the final model  \n",
        "\n",
        "\n",
        "---\n",
        "\n"
      ]
    },
    {
      "cell_type": "markdown",
      "metadata": {
        "id": "igwakK4t1cV4"
      },
      "source": [
        "## **5.1 CNN Architecture**\n",
        "\n",
        "I'll start by using an established architecture titled \"[VGG-Face](https://www.robots.ox.ac.uk/~vgg/publications/2015/Parkhi15/parkhi15.pdf)\" effective for facial recognition and building custom layers on top. This model was created by the Visual Geometry Group, at the University of Oxford to recognize 2,622 celebrities. Facial recognition is a more complex task than age prediction, yet the features extracted from many of the early layers of this model can be useful to our problem.\n",
        "\n",
        "\"These models can be used for non-commercial research purposes under [Creative Commons Attribution License](https://creativecommons.org/licenses/by-nc/4.0/).\"\n",
        "\n",
        "[VGGFace Github](https://github.com/rcmalli/keras-vggface)\n"
      ]
    },
    {
      "cell_type": "markdown",
      "metadata": {
        "id": "-0YfpUYikp7Y"
      },
      "source": [
        "![vgg_arch.PNG](data:image/png;base64,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)"
      ]
    },
    {
      "cell_type": "markdown",
      "metadata": {
        "id": "jbaMGEpblABf"
      },
      "source": [
        "**^ VGG-Face Architecture** The first 8 blocks are convolutional. The last 3 blocks are Fully Connected (fc). All convolution layers are followed by a ReLU (recitified linear unit) activation later. A softmax layer predicts probabilities of the labels."
      ]
    },
    {
      "cell_type": "code",
      "metadata": {
        "id": "Zy78eSy_qN-a"
      },
      "source": [
        "# #VGG-Face model\n",
        "# model = Sequential()\n",
        "# model.add(ZeroPadding2D((1,1),input_shape=(224,224, 3)))\n",
        "# model.add(Convolution2D(64, (3, 3), activation='relu'))\n",
        "# model.add(ZeroPadding2D((1,1)))\n",
        "# model.add(Convolution2D(64, (3, 3), activation='relu'))\n",
        "# model.add(MaxPooling2D((2,2), strides=(2,2)))\n",
        " \n",
        "# model.add(ZeroPadding2D((1,1)))\n",
        "# model.add(Convolution2D(128, (3, 3), activation='relu'))\n",
        "# model.add(ZeroPadding2D((1,1)))\n",
        "# model.add(Convolution2D(128, (3, 3), activation='relu'))\n",
        "# model.add(MaxPooling2D((2,2), strides=(2,2)))\n",
        " \n",
        "# model.add(ZeroPadding2D((1,1)))\n",
        "# model.add(Convolution2D(256, (3, 3), activation='relu'))\n",
        "# model.add(ZeroPadding2D((1,1)))\n",
        "# model.add(Convolution2D(256, (3, 3), activation='relu'))\n",
        "# model.add(ZeroPadding2D((1,1)))\n",
        "# model.add(Convolution2D(256, (3, 3), activation='relu'))\n",
        "# model.add(MaxPooling2D((2,2), strides=(2,2)))\n",
        " \n",
        "# model.add(ZeroPadding2D((1,1)))\n",
        "# model.add(Convolution2D(512, (3, 3), activation='relu'))\n",
        "# model.add(ZeroPadding2D((1,1)))\n",
        "# model.add(Convolution2D(512, (3, 3), activation='relu'))\n",
        "# model.add(ZeroPadding2D((1,1)))\n",
        "# model.add(Convolution2D(512, (3, 3), activation='relu'))\n",
        "# model.add(MaxPooling2D((2,2), strides=(2,2)))\n",
        " \n",
        "# model.add(ZeroPadding2D((1,1)))\n",
        "# model.add(Convolution2D(512, (3, 3), activation='relu'))\n",
        "# model.add(ZeroPadding2D((1,1)))\n",
        "# model.add(Convolution2D(512, (3, 3), activation='relu'))\n",
        "# model.add(ZeroPadding2D((1,1)))\n",
        "# model.add(Convolution2D(512, (3, 3), activation='relu'))\n",
        "# model.add(MaxPooling2D((2,2), strides=(2,2)))\n",
        " \n",
        "# model.add(Convolution2D(4096, (7, 7), activation='relu'))\n",
        "# model.add(Dropout(0.5))\n",
        "# model.add(Convolution2D(4096, (1, 1), activation='relu'))\n",
        "# model.add(Dropout(0.5))\n",
        "# model.add(Convolution2D(2622, (1, 1)))\n",
        "# model.add(Flatten())\n",
        "# model.add(Activation('softmax'))"
      ],
      "execution_count": 14,
      "outputs": []
    },
    {
      "cell_type": "code",
      "metadata": {
        "colab": {
          "base_uri": "https://localhost:8080/",
          "height": 128
        },
        "id": "bzFvOB4Kr54T",
        "outputId": "559508a1-62e6-459f-852c-b3c1b0b027e6"
      },
      "source": [
        "&&&&&"
      ],
      "execution_count": 15,
      "outputs": [
        {
          "output_type": "error",
          "ename": "SyntaxError",
          "evalue": "ignored",
          "traceback": [
            "\u001b[0;36m  File \u001b[0;32m\"<ipython-input-15-d762655e453d>\"\u001b[0;36m, line \u001b[0;32m1\u001b[0m\n\u001b[0;31m    &&&&&\u001b[0m\n\u001b[0m    ^\u001b[0m\n\u001b[0;31mSyntaxError\u001b[0m\u001b[0;31m:\u001b[0m invalid syntax\n"
          ]
        }
      ]
    },
    {
      "cell_type": "code",
      "metadata": {
        "colab": {
          "base_uri": "https://localhost:8080/"
        },
        "id": "njDbGD8n_JoT",
        "outputId": "3e850743-4426-4a23-e6b6-de1655c1ba03"
      },
      "source": [
        "# example of loading the inception v3 model\n",
        "from keras.applications.inception_v3 import InceptionV3\n",
        "# load model\n",
        "model = InceptionV3(include_top=False,\n",
        "    weights=\"imagenet\",\n",
        "    input_tensor=None,\n",
        "    input_shape=(224,224,3),\n",
        "    pooling=MaxPooling2D,\n",
        "    classes=1000,\n",
        "    classifier_activation=\"softmax\",\n",
        ")\n",
        "\n",
        "\n",
        "# add new classifier layers\n",
        "flat1 = Flatten()(model.layers[-1].output)\n",
        "class1 = Dense(1024, activation='relu')(flat1)\n",
        "output = Dense(73, activation='softmax')(class1)\n",
        "# define new model\n",
        "model = Model(inputs=model.inputs, outputs=output)\n",
        "model.summary()"
      ],
      "execution_count": 16,
      "outputs": [
        {
          "output_type": "stream",
          "text": [
            "Model: \"model\"\n",
            "__________________________________________________________________________________________________\n",
            "Layer (type)                    Output Shape         Param #     Connected to                     \n",
            "==================================================================================================\n",
            "input_1 (InputLayer)            [(None, 224, 224, 3) 0                                            \n",
            "__________________________________________________________________________________________________\n",
            "conv2d (Conv2D)                 (None, 111, 111, 32) 864         input_1[0][0]                    \n",
            "__________________________________________________________________________________________________\n",
            "batch_normalization (BatchNorma (None, 111, 111, 32) 96          conv2d[0][0]                     \n",
            "__________________________________________________________________________________________________\n",
            "activation (Activation)         (None, 111, 111, 32) 0           batch_normalization[0][0]        \n",
            "__________________________________________________________________________________________________\n",
            "conv2d_1 (Conv2D)               (None, 109, 109, 32) 9216        activation[0][0]                 \n",
            "__________________________________________________________________________________________________\n",
            "batch_normalization_1 (BatchNor (None, 109, 109, 32) 96          conv2d_1[0][0]                   \n",
            "__________________________________________________________________________________________________\n",
            "activation_1 (Activation)       (None, 109, 109, 32) 0           batch_normalization_1[0][0]      \n",
            "__________________________________________________________________________________________________\n",
            "conv2d_2 (Conv2D)               (None, 109, 109, 64) 18432       activation_1[0][0]               \n",
            "__________________________________________________________________________________________________\n",
            "batch_normalization_2 (BatchNor (None, 109, 109, 64) 192         conv2d_2[0][0]                   \n",
            "__________________________________________________________________________________________________\n",
            "activation_2 (Activation)       (None, 109, 109, 64) 0           batch_normalization_2[0][0]      \n",
            "__________________________________________________________________________________________________\n",
            "max_pooling2d (MaxPooling2D)    (None, 54, 54, 64)   0           activation_2[0][0]               \n",
            "__________________________________________________________________________________________________\n",
            "conv2d_3 (Conv2D)               (None, 54, 54, 80)   5120        max_pooling2d[0][0]              \n",
            "__________________________________________________________________________________________________\n",
            "batch_normalization_3 (BatchNor (None, 54, 54, 80)   240         conv2d_3[0][0]                   \n",
            "__________________________________________________________________________________________________\n",
            "activation_3 (Activation)       (None, 54, 54, 80)   0           batch_normalization_3[0][0]      \n",
            "__________________________________________________________________________________________________\n",
            "conv2d_4 (Conv2D)               (None, 52, 52, 192)  138240      activation_3[0][0]               \n",
            "__________________________________________________________________________________________________\n",
            "batch_normalization_4 (BatchNor (None, 52, 52, 192)  576         conv2d_4[0][0]                   \n",
            "__________________________________________________________________________________________________\n",
            "activation_4 (Activation)       (None, 52, 52, 192)  0           batch_normalization_4[0][0]      \n",
            "__________________________________________________________________________________________________\n",
            "max_pooling2d_1 (MaxPooling2D)  (None, 25, 25, 192)  0           activation_4[0][0]               \n",
            "__________________________________________________________________________________________________\n",
            "conv2d_8 (Conv2D)               (None, 25, 25, 64)   12288       max_pooling2d_1[0][0]            \n",
            "__________________________________________________________________________________________________\n",
            "batch_normalization_8 (BatchNor (None, 25, 25, 64)   192         conv2d_8[0][0]                   \n",
            "__________________________________________________________________________________________________\n",
            "activation_8 (Activation)       (None, 25, 25, 64)   0           batch_normalization_8[0][0]      \n",
            "__________________________________________________________________________________________________\n",
            "conv2d_6 (Conv2D)               (None, 25, 25, 48)   9216        max_pooling2d_1[0][0]            \n",
            "__________________________________________________________________________________________________\n",
            "conv2d_9 (Conv2D)               (None, 25, 25, 96)   55296       activation_8[0][0]               \n",
            "__________________________________________________________________________________________________\n",
            "batch_normalization_6 (BatchNor (None, 25, 25, 48)   144         conv2d_6[0][0]                   \n",
            "__________________________________________________________________________________________________\n",
            "batch_normalization_9 (BatchNor (None, 25, 25, 96)   288         conv2d_9[0][0]                   \n",
            "__________________________________________________________________________________________________\n",
            "activation_6 (Activation)       (None, 25, 25, 48)   0           batch_normalization_6[0][0]      \n",
            "__________________________________________________________________________________________________\n",
            "activation_9 (Activation)       (None, 25, 25, 96)   0           batch_normalization_9[0][0]      \n",
            "__________________________________________________________________________________________________\n",
            "average_pooling2d (AveragePooli (None, 25, 25, 192)  0           max_pooling2d_1[0][0]            \n",
            "__________________________________________________________________________________________________\n",
            "conv2d_5 (Conv2D)               (None, 25, 25, 64)   12288       max_pooling2d_1[0][0]            \n",
            "__________________________________________________________________________________________________\n",
            "conv2d_7 (Conv2D)               (None, 25, 25, 64)   76800       activation_6[0][0]               \n",
            "__________________________________________________________________________________________________\n",
            "conv2d_10 (Conv2D)              (None, 25, 25, 96)   82944       activation_9[0][0]               \n",
            "__________________________________________________________________________________________________\n",
            "conv2d_11 (Conv2D)              (None, 25, 25, 32)   6144        average_pooling2d[0][0]          \n",
            "__________________________________________________________________________________________________\n",
            "batch_normalization_5 (BatchNor (None, 25, 25, 64)   192         conv2d_5[0][0]                   \n",
            "__________________________________________________________________________________________________\n",
            "batch_normalization_7 (BatchNor (None, 25, 25, 64)   192         conv2d_7[0][0]                   \n",
            "__________________________________________________________________________________________________\n",
            "batch_normalization_10 (BatchNo (None, 25, 25, 96)   288         conv2d_10[0][0]                  \n",
            "__________________________________________________________________________________________________\n",
            "batch_normalization_11 (BatchNo (None, 25, 25, 32)   96          conv2d_11[0][0]                  \n",
            "__________________________________________________________________________________________________\n",
            "activation_5 (Activation)       (None, 25, 25, 64)   0           batch_normalization_5[0][0]      \n",
            "__________________________________________________________________________________________________\n",
            "activation_7 (Activation)       (None, 25, 25, 64)   0           batch_normalization_7[0][0]      \n",
            "__________________________________________________________________________________________________\n",
            "activation_10 (Activation)      (None, 25, 25, 96)   0           batch_normalization_10[0][0]     \n",
            "__________________________________________________________________________________________________\n",
            "activation_11 (Activation)      (None, 25, 25, 32)   0           batch_normalization_11[0][0]     \n",
            "__________________________________________________________________________________________________\n",
            "mixed0 (Concatenate)            (None, 25, 25, 256)  0           activation_5[0][0]               \n",
            "                                                                 activation_7[0][0]               \n",
            "                                                                 activation_10[0][0]              \n",
            "                                                                 activation_11[0][0]              \n",
            "__________________________________________________________________________________________________\n",
            "conv2d_15 (Conv2D)              (None, 25, 25, 64)   16384       mixed0[0][0]                     \n",
            "__________________________________________________________________________________________________\n",
            "batch_normalization_15 (BatchNo (None, 25, 25, 64)   192         conv2d_15[0][0]                  \n",
            "__________________________________________________________________________________________________\n",
            "activation_15 (Activation)      (None, 25, 25, 64)   0           batch_normalization_15[0][0]     \n",
            "__________________________________________________________________________________________________\n",
            "conv2d_13 (Conv2D)              (None, 25, 25, 48)   12288       mixed0[0][0]                     \n",
            "__________________________________________________________________________________________________\n",
            "conv2d_16 (Conv2D)              (None, 25, 25, 96)   55296       activation_15[0][0]              \n",
            "__________________________________________________________________________________________________\n",
            "batch_normalization_13 (BatchNo (None, 25, 25, 48)   144         conv2d_13[0][0]                  \n",
            "__________________________________________________________________________________________________\n",
            "batch_normalization_16 (BatchNo (None, 25, 25, 96)   288         conv2d_16[0][0]                  \n",
            "__________________________________________________________________________________________________\n",
            "activation_13 (Activation)      (None, 25, 25, 48)   0           batch_normalization_13[0][0]     \n",
            "__________________________________________________________________________________________________\n",
            "activation_16 (Activation)      (None, 25, 25, 96)   0           batch_normalization_16[0][0]     \n",
            "__________________________________________________________________________________________________\n",
            "average_pooling2d_1 (AveragePoo (None, 25, 25, 256)  0           mixed0[0][0]                     \n",
            "__________________________________________________________________________________________________\n",
            "conv2d_12 (Conv2D)              (None, 25, 25, 64)   16384       mixed0[0][0]                     \n",
            "__________________________________________________________________________________________________\n",
            "conv2d_14 (Conv2D)              (None, 25, 25, 64)   76800       activation_13[0][0]              \n",
            "__________________________________________________________________________________________________\n",
            "conv2d_17 (Conv2D)              (None, 25, 25, 96)   82944       activation_16[0][0]              \n",
            "__________________________________________________________________________________________________\n",
            "conv2d_18 (Conv2D)              (None, 25, 25, 64)   16384       average_pooling2d_1[0][0]        \n",
            "__________________________________________________________________________________________________\n",
            "batch_normalization_12 (BatchNo (None, 25, 25, 64)   192         conv2d_12[0][0]                  \n",
            "__________________________________________________________________________________________________\n",
            "batch_normalization_14 (BatchNo (None, 25, 25, 64)   192         conv2d_14[0][0]                  \n",
            "__________________________________________________________________________________________________\n",
            "batch_normalization_17 (BatchNo (None, 25, 25, 96)   288         conv2d_17[0][0]                  \n",
            "__________________________________________________________________________________________________\n",
            "batch_normalization_18 (BatchNo (None, 25, 25, 64)   192         conv2d_18[0][0]                  \n",
            "__________________________________________________________________________________________________\n",
            "activation_12 (Activation)      (None, 25, 25, 64)   0           batch_normalization_12[0][0]     \n",
            "__________________________________________________________________________________________________\n",
            "activation_14 (Activation)      (None, 25, 25, 64)   0           batch_normalization_14[0][0]     \n",
            "__________________________________________________________________________________________________\n",
            "activation_17 (Activation)      (None, 25, 25, 96)   0           batch_normalization_17[0][0]     \n",
            "__________________________________________________________________________________________________\n",
            "activation_18 (Activation)      (None, 25, 25, 64)   0           batch_normalization_18[0][0]     \n",
            "__________________________________________________________________________________________________\n",
            "mixed1 (Concatenate)            (None, 25, 25, 288)  0           activation_12[0][0]              \n",
            "                                                                 activation_14[0][0]              \n",
            "                                                                 activation_17[0][0]              \n",
            "                                                                 activation_18[0][0]              \n",
            "__________________________________________________________________________________________________\n",
            "conv2d_22 (Conv2D)              (None, 25, 25, 64)   18432       mixed1[0][0]                     \n",
            "__________________________________________________________________________________________________\n",
            "batch_normalization_22 (BatchNo (None, 25, 25, 64)   192         conv2d_22[0][0]                  \n",
            "__________________________________________________________________________________________________\n",
            "activation_22 (Activation)      (None, 25, 25, 64)   0           batch_normalization_22[0][0]     \n",
            "__________________________________________________________________________________________________\n",
            "conv2d_20 (Conv2D)              (None, 25, 25, 48)   13824       mixed1[0][0]                     \n",
            "__________________________________________________________________________________________________\n",
            "conv2d_23 (Conv2D)              (None, 25, 25, 96)   55296       activation_22[0][0]              \n",
            "__________________________________________________________________________________________________\n",
            "batch_normalization_20 (BatchNo (None, 25, 25, 48)   144         conv2d_20[0][0]                  \n",
            "__________________________________________________________________________________________________\n",
            "batch_normalization_23 (BatchNo (None, 25, 25, 96)   288         conv2d_23[0][0]                  \n",
            "__________________________________________________________________________________________________\n",
            "activation_20 (Activation)      (None, 25, 25, 48)   0           batch_normalization_20[0][0]     \n",
            "__________________________________________________________________________________________________\n",
            "activation_23 (Activation)      (None, 25, 25, 96)   0           batch_normalization_23[0][0]     \n",
            "__________________________________________________________________________________________________\n",
            "average_pooling2d_2 (AveragePoo (None, 25, 25, 288)  0           mixed1[0][0]                     \n",
            "__________________________________________________________________________________________________\n",
            "conv2d_19 (Conv2D)              (None, 25, 25, 64)   18432       mixed1[0][0]                     \n",
            "__________________________________________________________________________________________________\n",
            "conv2d_21 (Conv2D)              (None, 25, 25, 64)   76800       activation_20[0][0]              \n",
            "__________________________________________________________________________________________________\n",
            "conv2d_24 (Conv2D)              (None, 25, 25, 96)   82944       activation_23[0][0]              \n",
            "__________________________________________________________________________________________________\n",
            "conv2d_25 (Conv2D)              (None, 25, 25, 64)   18432       average_pooling2d_2[0][0]        \n",
            "__________________________________________________________________________________________________\n",
            "batch_normalization_19 (BatchNo (None, 25, 25, 64)   192         conv2d_19[0][0]                  \n",
            "__________________________________________________________________________________________________\n",
            "batch_normalization_21 (BatchNo (None, 25, 25, 64)   192         conv2d_21[0][0]                  \n",
            "__________________________________________________________________________________________________\n",
            "batch_normalization_24 (BatchNo (None, 25, 25, 96)   288         conv2d_24[0][0]                  \n",
            "__________________________________________________________________________________________________\n",
            "batch_normalization_25 (BatchNo (None, 25, 25, 64)   192         conv2d_25[0][0]                  \n",
            "__________________________________________________________________________________________________\n",
            "activation_19 (Activation)      (None, 25, 25, 64)   0           batch_normalization_19[0][0]     \n",
            "__________________________________________________________________________________________________\n",
            "activation_21 (Activation)      (None, 25, 25, 64)   0           batch_normalization_21[0][0]     \n",
            "__________________________________________________________________________________________________\n",
            "activation_24 (Activation)      (None, 25, 25, 96)   0           batch_normalization_24[0][0]     \n",
            "__________________________________________________________________________________________________\n",
            "activation_25 (Activation)      (None, 25, 25, 64)   0           batch_normalization_25[0][0]     \n",
            "__________________________________________________________________________________________________\n",
            "mixed2 (Concatenate)            (None, 25, 25, 288)  0           activation_19[0][0]              \n",
            "                                                                 activation_21[0][0]              \n",
            "                                                                 activation_24[0][0]              \n",
            "                                                                 activation_25[0][0]              \n",
            "__________________________________________________________________________________________________\n",
            "conv2d_27 (Conv2D)              (None, 25, 25, 64)   18432       mixed2[0][0]                     \n",
            "__________________________________________________________________________________________________\n",
            "batch_normalization_27 (BatchNo (None, 25, 25, 64)   192         conv2d_27[0][0]                  \n",
            "__________________________________________________________________________________________________\n",
            "activation_27 (Activation)      (None, 25, 25, 64)   0           batch_normalization_27[0][0]     \n",
            "__________________________________________________________________________________________________\n",
            "conv2d_28 (Conv2D)              (None, 25, 25, 96)   55296       activation_27[0][0]              \n",
            "__________________________________________________________________________________________________\n",
            "batch_normalization_28 (BatchNo (None, 25, 25, 96)   288         conv2d_28[0][0]                  \n",
            "__________________________________________________________________________________________________\n",
            "activation_28 (Activation)      (None, 25, 25, 96)   0           batch_normalization_28[0][0]     \n",
            "__________________________________________________________________________________________________\n",
            "conv2d_26 (Conv2D)              (None, 12, 12, 384)  995328      mixed2[0][0]                     \n",
            "__________________________________________________________________________________________________\n",
            "conv2d_29 (Conv2D)              (None, 12, 12, 96)   82944       activation_28[0][0]              \n",
            "__________________________________________________________________________________________________\n",
            "batch_normalization_26 (BatchNo (None, 12, 12, 384)  1152        conv2d_26[0][0]                  \n",
            "__________________________________________________________________________________________________\n",
            "batch_normalization_29 (BatchNo (None, 12, 12, 96)   288         conv2d_29[0][0]                  \n",
            "__________________________________________________________________________________________________\n",
            "activation_26 (Activation)      (None, 12, 12, 384)  0           batch_normalization_26[0][0]     \n",
            "__________________________________________________________________________________________________\n",
            "activation_29 (Activation)      (None, 12, 12, 96)   0           batch_normalization_29[0][0]     \n",
            "__________________________________________________________________________________________________\n",
            "max_pooling2d_2 (MaxPooling2D)  (None, 12, 12, 288)  0           mixed2[0][0]                     \n",
            "__________________________________________________________________________________________________\n",
            "mixed3 (Concatenate)            (None, 12, 12, 768)  0           activation_26[0][0]              \n",
            "                                                                 activation_29[0][0]              \n",
            "                                                                 max_pooling2d_2[0][0]            \n",
            "__________________________________________________________________________________________________\n",
            "conv2d_34 (Conv2D)              (None, 12, 12, 128)  98304       mixed3[0][0]                     \n",
            "__________________________________________________________________________________________________\n",
            "batch_normalization_34 (BatchNo (None, 12, 12, 128)  384         conv2d_34[0][0]                  \n",
            "__________________________________________________________________________________________________\n",
            "activation_34 (Activation)      (None, 12, 12, 128)  0           batch_normalization_34[0][0]     \n",
            "__________________________________________________________________________________________________\n",
            "conv2d_35 (Conv2D)              (None, 12, 12, 128)  114688      activation_34[0][0]              \n",
            "__________________________________________________________________________________________________\n",
            "batch_normalization_35 (BatchNo (None, 12, 12, 128)  384         conv2d_35[0][0]                  \n",
            "__________________________________________________________________________________________________\n",
            "activation_35 (Activation)      (None, 12, 12, 128)  0           batch_normalization_35[0][0]     \n",
            "__________________________________________________________________________________________________\n",
            "conv2d_31 (Conv2D)              (None, 12, 12, 128)  98304       mixed3[0][0]                     \n",
            "__________________________________________________________________________________________________\n",
            "conv2d_36 (Conv2D)              (None, 12, 12, 128)  114688      activation_35[0][0]              \n",
            "__________________________________________________________________________________________________\n",
            "batch_normalization_31 (BatchNo (None, 12, 12, 128)  384         conv2d_31[0][0]                  \n",
            "__________________________________________________________________________________________________\n",
            "batch_normalization_36 (BatchNo (None, 12, 12, 128)  384         conv2d_36[0][0]                  \n",
            "__________________________________________________________________________________________________\n",
            "activation_31 (Activation)      (None, 12, 12, 128)  0           batch_normalization_31[0][0]     \n",
            "__________________________________________________________________________________________________\n",
            "activation_36 (Activation)      (None, 12, 12, 128)  0           batch_normalization_36[0][0]     \n",
            "__________________________________________________________________________________________________\n",
            "conv2d_32 (Conv2D)              (None, 12, 12, 128)  114688      activation_31[0][0]              \n",
            "__________________________________________________________________________________________________\n",
            "conv2d_37 (Conv2D)              (None, 12, 12, 128)  114688      activation_36[0][0]              \n",
            "__________________________________________________________________________________________________\n",
            "batch_normalization_32 (BatchNo (None, 12, 12, 128)  384         conv2d_32[0][0]                  \n",
            "__________________________________________________________________________________________________\n",
            "batch_normalization_37 (BatchNo (None, 12, 12, 128)  384         conv2d_37[0][0]                  \n",
            "__________________________________________________________________________________________________\n",
            "activation_32 (Activation)      (None, 12, 12, 128)  0           batch_normalization_32[0][0]     \n",
            "__________________________________________________________________________________________________\n",
            "activation_37 (Activation)      (None, 12, 12, 128)  0           batch_normalization_37[0][0]     \n",
            "__________________________________________________________________________________________________\n",
            "average_pooling2d_3 (AveragePoo (None, 12, 12, 768)  0           mixed3[0][0]                     \n",
            "__________________________________________________________________________________________________\n",
            "conv2d_30 (Conv2D)              (None, 12, 12, 192)  147456      mixed3[0][0]                     \n",
            "__________________________________________________________________________________________________\n",
            "conv2d_33 (Conv2D)              (None, 12, 12, 192)  172032      activation_32[0][0]              \n",
            "__________________________________________________________________________________________________\n",
            "conv2d_38 (Conv2D)              (None, 12, 12, 192)  172032      activation_37[0][0]              \n",
            "__________________________________________________________________________________________________\n",
            "conv2d_39 (Conv2D)              (None, 12, 12, 192)  147456      average_pooling2d_3[0][0]        \n",
            "__________________________________________________________________________________________________\n",
            "batch_normalization_30 (BatchNo (None, 12, 12, 192)  576         conv2d_30[0][0]                  \n",
            "__________________________________________________________________________________________________\n",
            "batch_normalization_33 (BatchNo (None, 12, 12, 192)  576         conv2d_33[0][0]                  \n",
            "__________________________________________________________________________________________________\n",
            "batch_normalization_38 (BatchNo (None, 12, 12, 192)  576         conv2d_38[0][0]                  \n",
            "__________________________________________________________________________________________________\n",
            "batch_normalization_39 (BatchNo (None, 12, 12, 192)  576         conv2d_39[0][0]                  \n",
            "__________________________________________________________________________________________________\n",
            "activation_30 (Activation)      (None, 12, 12, 192)  0           batch_normalization_30[0][0]     \n",
            "__________________________________________________________________________________________________\n",
            "activation_33 (Activation)      (None, 12, 12, 192)  0           batch_normalization_33[0][0]     \n",
            "__________________________________________________________________________________________________\n",
            "activation_38 (Activation)      (None, 12, 12, 192)  0           batch_normalization_38[0][0]     \n",
            "__________________________________________________________________________________________________\n",
            "activation_39 (Activation)      (None, 12, 12, 192)  0           batch_normalization_39[0][0]     \n",
            "__________________________________________________________________________________________________\n",
            "mixed4 (Concatenate)            (None, 12, 12, 768)  0           activation_30[0][0]              \n",
            "                                                                 activation_33[0][0]              \n",
            "                                                                 activation_38[0][0]              \n",
            "                                                                 activation_39[0][0]              \n",
            "__________________________________________________________________________________________________\n",
            "conv2d_44 (Conv2D)              (None, 12, 12, 160)  122880      mixed4[0][0]                     \n",
            "__________________________________________________________________________________________________\n",
            "batch_normalization_44 (BatchNo (None, 12, 12, 160)  480         conv2d_44[0][0]                  \n",
            "__________________________________________________________________________________________________\n",
            "activation_44 (Activation)      (None, 12, 12, 160)  0           batch_normalization_44[0][0]     \n",
            "__________________________________________________________________________________________________\n",
            "conv2d_45 (Conv2D)              (None, 12, 12, 160)  179200      activation_44[0][0]              \n",
            "__________________________________________________________________________________________________\n",
            "batch_normalization_45 (BatchNo (None, 12, 12, 160)  480         conv2d_45[0][0]                  \n",
            "__________________________________________________________________________________________________\n",
            "activation_45 (Activation)      (None, 12, 12, 160)  0           batch_normalization_45[0][0]     \n",
            "__________________________________________________________________________________________________\n",
            "conv2d_41 (Conv2D)              (None, 12, 12, 160)  122880      mixed4[0][0]                     \n",
            "__________________________________________________________________________________________________\n",
            "conv2d_46 (Conv2D)              (None, 12, 12, 160)  179200      activation_45[0][0]              \n",
            "__________________________________________________________________________________________________\n",
            "batch_normalization_41 (BatchNo (None, 12, 12, 160)  480         conv2d_41[0][0]                  \n",
            "__________________________________________________________________________________________________\n",
            "batch_normalization_46 (BatchNo (None, 12, 12, 160)  480         conv2d_46[0][0]                  \n",
            "__________________________________________________________________________________________________\n",
            "activation_41 (Activation)      (None, 12, 12, 160)  0           batch_normalization_41[0][0]     \n",
            "__________________________________________________________________________________________________\n",
            "activation_46 (Activation)      (None, 12, 12, 160)  0           batch_normalization_46[0][0]     \n",
            "__________________________________________________________________________________________________\n",
            "conv2d_42 (Conv2D)              (None, 12, 12, 160)  179200      activation_41[0][0]              \n",
            "__________________________________________________________________________________________________\n",
            "conv2d_47 (Conv2D)              (None, 12, 12, 160)  179200      activation_46[0][0]              \n",
            "__________________________________________________________________________________________________\n",
            "batch_normalization_42 (BatchNo (None, 12, 12, 160)  480         conv2d_42[0][0]                  \n",
            "__________________________________________________________________________________________________\n",
            "batch_normalization_47 (BatchNo (None, 12, 12, 160)  480         conv2d_47[0][0]                  \n",
            "__________________________________________________________________________________________________\n",
            "activation_42 (Activation)      (None, 12, 12, 160)  0           batch_normalization_42[0][0]     \n",
            "__________________________________________________________________________________________________\n",
            "activation_47 (Activation)      (None, 12, 12, 160)  0           batch_normalization_47[0][0]     \n",
            "__________________________________________________________________________________________________\n",
            "average_pooling2d_4 (AveragePoo (None, 12, 12, 768)  0           mixed4[0][0]                     \n",
            "__________________________________________________________________________________________________\n",
            "conv2d_40 (Conv2D)              (None, 12, 12, 192)  147456      mixed4[0][0]                     \n",
            "__________________________________________________________________________________________________\n",
            "conv2d_43 (Conv2D)              (None, 12, 12, 192)  215040      activation_42[0][0]              \n",
            "__________________________________________________________________________________________________\n",
            "conv2d_48 (Conv2D)              (None, 12, 12, 192)  215040      activation_47[0][0]              \n",
            "__________________________________________________________________________________________________\n",
            "conv2d_49 (Conv2D)              (None, 12, 12, 192)  147456      average_pooling2d_4[0][0]        \n",
            "__________________________________________________________________________________________________\n",
            "batch_normalization_40 (BatchNo (None, 12, 12, 192)  576         conv2d_40[0][0]                  \n",
            "__________________________________________________________________________________________________\n",
            "batch_normalization_43 (BatchNo (None, 12, 12, 192)  576         conv2d_43[0][0]                  \n",
            "__________________________________________________________________________________________________\n",
            "batch_normalization_48 (BatchNo (None, 12, 12, 192)  576         conv2d_48[0][0]                  \n",
            "__________________________________________________________________________________________________\n",
            "batch_normalization_49 (BatchNo (None, 12, 12, 192)  576         conv2d_49[0][0]                  \n",
            "__________________________________________________________________________________________________\n",
            "activation_40 (Activation)      (None, 12, 12, 192)  0           batch_normalization_40[0][0]     \n",
            "__________________________________________________________________________________________________\n",
            "activation_43 (Activation)      (None, 12, 12, 192)  0           batch_normalization_43[0][0]     \n",
            "__________________________________________________________________________________________________\n",
            "activation_48 (Activation)      (None, 12, 12, 192)  0           batch_normalization_48[0][0]     \n",
            "__________________________________________________________________________________________________\n",
            "activation_49 (Activation)      (None, 12, 12, 192)  0           batch_normalization_49[0][0]     \n",
            "__________________________________________________________________________________________________\n",
            "mixed5 (Concatenate)            (None, 12, 12, 768)  0           activation_40[0][0]              \n",
            "                                                                 activation_43[0][0]              \n",
            "                                                                 activation_48[0][0]              \n",
            "                                                                 activation_49[0][0]              \n",
            "__________________________________________________________________________________________________\n",
            "conv2d_54 (Conv2D)              (None, 12, 12, 160)  122880      mixed5[0][0]                     \n",
            "__________________________________________________________________________________________________\n",
            "batch_normalization_54 (BatchNo (None, 12, 12, 160)  480         conv2d_54[0][0]                  \n",
            "__________________________________________________________________________________________________\n",
            "activation_54 (Activation)      (None, 12, 12, 160)  0           batch_normalization_54[0][0]     \n",
            "__________________________________________________________________________________________________\n",
            "conv2d_55 (Conv2D)              (None, 12, 12, 160)  179200      activation_54[0][0]              \n",
            "__________________________________________________________________________________________________\n",
            "batch_normalization_55 (BatchNo (None, 12, 12, 160)  480         conv2d_55[0][0]                  \n",
            "__________________________________________________________________________________________________\n",
            "activation_55 (Activation)      (None, 12, 12, 160)  0           batch_normalization_55[0][0]     \n",
            "__________________________________________________________________________________________________\n",
            "conv2d_51 (Conv2D)              (None, 12, 12, 160)  122880      mixed5[0][0]                     \n",
            "__________________________________________________________________________________________________\n",
            "conv2d_56 (Conv2D)              (None, 12, 12, 160)  179200      activation_55[0][0]              \n",
            "__________________________________________________________________________________________________\n",
            "batch_normalization_51 (BatchNo (None, 12, 12, 160)  480         conv2d_51[0][0]                  \n",
            "__________________________________________________________________________________________________\n",
            "batch_normalization_56 (BatchNo (None, 12, 12, 160)  480         conv2d_56[0][0]                  \n",
            "__________________________________________________________________________________________________\n",
            "activation_51 (Activation)      (None, 12, 12, 160)  0           batch_normalization_51[0][0]     \n",
            "__________________________________________________________________________________________________\n",
            "activation_56 (Activation)      (None, 12, 12, 160)  0           batch_normalization_56[0][0]     \n",
            "__________________________________________________________________________________________________\n",
            "conv2d_52 (Conv2D)              (None, 12, 12, 160)  179200      activation_51[0][0]              \n",
            "__________________________________________________________________________________________________\n",
            "conv2d_57 (Conv2D)              (None, 12, 12, 160)  179200      activation_56[0][0]              \n",
            "__________________________________________________________________________________________________\n",
            "batch_normalization_52 (BatchNo (None, 12, 12, 160)  480         conv2d_52[0][0]                  \n",
            "__________________________________________________________________________________________________\n",
            "batch_normalization_57 (BatchNo (None, 12, 12, 160)  480         conv2d_57[0][0]                  \n",
            "__________________________________________________________________________________________________\n",
            "activation_52 (Activation)      (None, 12, 12, 160)  0           batch_normalization_52[0][0]     \n",
            "__________________________________________________________________________________________________\n",
            "activation_57 (Activation)      (None, 12, 12, 160)  0           batch_normalization_57[0][0]     \n",
            "__________________________________________________________________________________________________\n",
            "average_pooling2d_5 (AveragePoo (None, 12, 12, 768)  0           mixed5[0][0]                     \n",
            "__________________________________________________________________________________________________\n",
            "conv2d_50 (Conv2D)              (None, 12, 12, 192)  147456      mixed5[0][0]                     \n",
            "__________________________________________________________________________________________________\n",
            "conv2d_53 (Conv2D)              (None, 12, 12, 192)  215040      activation_52[0][0]              \n",
            "__________________________________________________________________________________________________\n",
            "conv2d_58 (Conv2D)              (None, 12, 12, 192)  215040      activation_57[0][0]              \n",
            "__________________________________________________________________________________________________\n",
            "conv2d_59 (Conv2D)              (None, 12, 12, 192)  147456      average_pooling2d_5[0][0]        \n",
            "__________________________________________________________________________________________________\n",
            "batch_normalization_50 (BatchNo (None, 12, 12, 192)  576         conv2d_50[0][0]                  \n",
            "__________________________________________________________________________________________________\n",
            "batch_normalization_53 (BatchNo (None, 12, 12, 192)  576         conv2d_53[0][0]                  \n",
            "__________________________________________________________________________________________________\n",
            "batch_normalization_58 (BatchNo (None, 12, 12, 192)  576         conv2d_58[0][0]                  \n",
            "__________________________________________________________________________________________________\n",
            "batch_normalization_59 (BatchNo (None, 12, 12, 192)  576         conv2d_59[0][0]                  \n",
            "__________________________________________________________________________________________________\n",
            "activation_50 (Activation)      (None, 12, 12, 192)  0           batch_normalization_50[0][0]     \n",
            "__________________________________________________________________________________________________\n",
            "activation_53 (Activation)      (None, 12, 12, 192)  0           batch_normalization_53[0][0]     \n",
            "__________________________________________________________________________________________________\n",
            "activation_58 (Activation)      (None, 12, 12, 192)  0           batch_normalization_58[0][0]     \n",
            "__________________________________________________________________________________________________\n",
            "activation_59 (Activation)      (None, 12, 12, 192)  0           batch_normalization_59[0][0]     \n",
            "__________________________________________________________________________________________________\n",
            "mixed6 (Concatenate)            (None, 12, 12, 768)  0           activation_50[0][0]              \n",
            "                                                                 activation_53[0][0]              \n",
            "                                                                 activation_58[0][0]              \n",
            "                                                                 activation_59[0][0]              \n",
            "__________________________________________________________________________________________________\n",
            "conv2d_64 (Conv2D)              (None, 12, 12, 192)  147456      mixed6[0][0]                     \n",
            "__________________________________________________________________________________________________\n",
            "batch_normalization_64 (BatchNo (None, 12, 12, 192)  576         conv2d_64[0][0]                  \n",
            "__________________________________________________________________________________________________\n",
            "activation_64 (Activation)      (None, 12, 12, 192)  0           batch_normalization_64[0][0]     \n",
            "__________________________________________________________________________________________________\n",
            "conv2d_65 (Conv2D)              (None, 12, 12, 192)  258048      activation_64[0][0]              \n",
            "__________________________________________________________________________________________________\n",
            "batch_normalization_65 (BatchNo (None, 12, 12, 192)  576         conv2d_65[0][0]                  \n",
            "__________________________________________________________________________________________________\n",
            "activation_65 (Activation)      (None, 12, 12, 192)  0           batch_normalization_65[0][0]     \n",
            "__________________________________________________________________________________________________\n",
            "conv2d_61 (Conv2D)              (None, 12, 12, 192)  147456      mixed6[0][0]                     \n",
            "__________________________________________________________________________________________________\n",
            "conv2d_66 (Conv2D)              (None, 12, 12, 192)  258048      activation_65[0][0]              \n",
            "__________________________________________________________________________________________________\n",
            "batch_normalization_61 (BatchNo (None, 12, 12, 192)  576         conv2d_61[0][0]                  \n",
            "__________________________________________________________________________________________________\n",
            "batch_normalization_66 (BatchNo (None, 12, 12, 192)  576         conv2d_66[0][0]                  \n",
            "__________________________________________________________________________________________________\n",
            "activation_61 (Activation)      (None, 12, 12, 192)  0           batch_normalization_61[0][0]     \n",
            "__________________________________________________________________________________________________\n",
            "activation_66 (Activation)      (None, 12, 12, 192)  0           batch_normalization_66[0][0]     \n",
            "__________________________________________________________________________________________________\n",
            "conv2d_62 (Conv2D)              (None, 12, 12, 192)  258048      activation_61[0][0]              \n",
            "__________________________________________________________________________________________________\n",
            "conv2d_67 (Conv2D)              (None, 12, 12, 192)  258048      activation_66[0][0]              \n",
            "__________________________________________________________________________________________________\n",
            "batch_normalization_62 (BatchNo (None, 12, 12, 192)  576         conv2d_62[0][0]                  \n",
            "__________________________________________________________________________________________________\n",
            "batch_normalization_67 (BatchNo (None, 12, 12, 192)  576         conv2d_67[0][0]                  \n",
            "__________________________________________________________________________________________________\n",
            "activation_62 (Activation)      (None, 12, 12, 192)  0           batch_normalization_62[0][0]     \n",
            "__________________________________________________________________________________________________\n",
            "activation_67 (Activation)      (None, 12, 12, 192)  0           batch_normalization_67[0][0]     \n",
            "__________________________________________________________________________________________________\n",
            "average_pooling2d_6 (AveragePoo (None, 12, 12, 768)  0           mixed6[0][0]                     \n",
            "__________________________________________________________________________________________________\n",
            "conv2d_60 (Conv2D)              (None, 12, 12, 192)  147456      mixed6[0][0]                     \n",
            "__________________________________________________________________________________________________\n",
            "conv2d_63 (Conv2D)              (None, 12, 12, 192)  258048      activation_62[0][0]              \n",
            "__________________________________________________________________________________________________\n",
            "conv2d_68 (Conv2D)              (None, 12, 12, 192)  258048      activation_67[0][0]              \n",
            "__________________________________________________________________________________________________\n",
            "conv2d_69 (Conv2D)              (None, 12, 12, 192)  147456      average_pooling2d_6[0][0]        \n",
            "__________________________________________________________________________________________________\n",
            "batch_normalization_60 (BatchNo (None, 12, 12, 192)  576         conv2d_60[0][0]                  \n",
            "__________________________________________________________________________________________________\n",
            "batch_normalization_63 (BatchNo (None, 12, 12, 192)  576         conv2d_63[0][0]                  \n",
            "__________________________________________________________________________________________________\n",
            "batch_normalization_68 (BatchNo (None, 12, 12, 192)  576         conv2d_68[0][0]                  \n",
            "__________________________________________________________________________________________________\n",
            "batch_normalization_69 (BatchNo (None, 12, 12, 192)  576         conv2d_69[0][0]                  \n",
            "__________________________________________________________________________________________________\n",
            "activation_60 (Activation)      (None, 12, 12, 192)  0           batch_normalization_60[0][0]     \n",
            "__________________________________________________________________________________________________\n",
            "activation_63 (Activation)      (None, 12, 12, 192)  0           batch_normalization_63[0][0]     \n",
            "__________________________________________________________________________________________________\n",
            "activation_68 (Activation)      (None, 12, 12, 192)  0           batch_normalization_68[0][0]     \n",
            "__________________________________________________________________________________________________\n",
            "activation_69 (Activation)      (None, 12, 12, 192)  0           batch_normalization_69[0][0]     \n",
            "__________________________________________________________________________________________________\n",
            "mixed7 (Concatenate)            (None, 12, 12, 768)  0           activation_60[0][0]              \n",
            "                                                                 activation_63[0][0]              \n",
            "                                                                 activation_68[0][0]              \n",
            "                                                                 activation_69[0][0]              \n",
            "__________________________________________________________________________________________________\n",
            "conv2d_72 (Conv2D)              (None, 12, 12, 192)  147456      mixed7[0][0]                     \n",
            "__________________________________________________________________________________________________\n",
            "batch_normalization_72 (BatchNo (None, 12, 12, 192)  576         conv2d_72[0][0]                  \n",
            "__________________________________________________________________________________________________\n",
            "activation_72 (Activation)      (None, 12, 12, 192)  0           batch_normalization_72[0][0]     \n",
            "__________________________________________________________________________________________________\n",
            "conv2d_73 (Conv2D)              (None, 12, 12, 192)  258048      activation_72[0][0]              \n",
            "__________________________________________________________________________________________________\n",
            "batch_normalization_73 (BatchNo (None, 12, 12, 192)  576         conv2d_73[0][0]                  \n",
            "__________________________________________________________________________________________________\n",
            "activation_73 (Activation)      (None, 12, 12, 192)  0           batch_normalization_73[0][0]     \n",
            "__________________________________________________________________________________________________\n",
            "conv2d_70 (Conv2D)              (None, 12, 12, 192)  147456      mixed7[0][0]                     \n",
            "__________________________________________________________________________________________________\n",
            "conv2d_74 (Conv2D)              (None, 12, 12, 192)  258048      activation_73[0][0]              \n",
            "__________________________________________________________________________________________________\n",
            "batch_normalization_70 (BatchNo (None, 12, 12, 192)  576         conv2d_70[0][0]                  \n",
            "__________________________________________________________________________________________________\n",
            "batch_normalization_74 (BatchNo (None, 12, 12, 192)  576         conv2d_74[0][0]                  \n",
            "__________________________________________________________________________________________________\n",
            "activation_70 (Activation)      (None, 12, 12, 192)  0           batch_normalization_70[0][0]     \n",
            "__________________________________________________________________________________________________\n",
            "activation_74 (Activation)      (None, 12, 12, 192)  0           batch_normalization_74[0][0]     \n",
            "__________________________________________________________________________________________________\n",
            "conv2d_71 (Conv2D)              (None, 5, 5, 320)    552960      activation_70[0][0]              \n",
            "__________________________________________________________________________________________________\n",
            "conv2d_75 (Conv2D)              (None, 5, 5, 192)    331776      activation_74[0][0]              \n",
            "__________________________________________________________________________________________________\n",
            "batch_normalization_71 (BatchNo (None, 5, 5, 320)    960         conv2d_71[0][0]                  \n",
            "__________________________________________________________________________________________________\n",
            "batch_normalization_75 (BatchNo (None, 5, 5, 192)    576         conv2d_75[0][0]                  \n",
            "__________________________________________________________________________________________________\n",
            "activation_71 (Activation)      (None, 5, 5, 320)    0           batch_normalization_71[0][0]     \n",
            "__________________________________________________________________________________________________\n",
            "activation_75 (Activation)      (None, 5, 5, 192)    0           batch_normalization_75[0][0]     \n",
            "__________________________________________________________________________________________________\n",
            "max_pooling2d_3 (MaxPooling2D)  (None, 5, 5, 768)    0           mixed7[0][0]                     \n",
            "__________________________________________________________________________________________________\n",
            "mixed8 (Concatenate)            (None, 5, 5, 1280)   0           activation_71[0][0]              \n",
            "                                                                 activation_75[0][0]              \n",
            "                                                                 max_pooling2d_3[0][0]            \n",
            "__________________________________________________________________________________________________\n",
            "conv2d_80 (Conv2D)              (None, 5, 5, 448)    573440      mixed8[0][0]                     \n",
            "__________________________________________________________________________________________________\n",
            "batch_normalization_80 (BatchNo (None, 5, 5, 448)    1344        conv2d_80[0][0]                  \n",
            "__________________________________________________________________________________________________\n",
            "activation_80 (Activation)      (None, 5, 5, 448)    0           batch_normalization_80[0][0]     \n",
            "__________________________________________________________________________________________________\n",
            "conv2d_77 (Conv2D)              (None, 5, 5, 384)    491520      mixed8[0][0]                     \n",
            "__________________________________________________________________________________________________\n",
            "conv2d_81 (Conv2D)              (None, 5, 5, 384)    1548288     activation_80[0][0]              \n",
            "__________________________________________________________________________________________________\n",
            "batch_normalization_77 (BatchNo (None, 5, 5, 384)    1152        conv2d_77[0][0]                  \n",
            "__________________________________________________________________________________________________\n",
            "batch_normalization_81 (BatchNo (None, 5, 5, 384)    1152        conv2d_81[0][0]                  \n",
            "__________________________________________________________________________________________________\n",
            "activation_77 (Activation)      (None, 5, 5, 384)    0           batch_normalization_77[0][0]     \n",
            "__________________________________________________________________________________________________\n",
            "activation_81 (Activation)      (None, 5, 5, 384)    0           batch_normalization_81[0][0]     \n",
            "__________________________________________________________________________________________________\n",
            "conv2d_78 (Conv2D)              (None, 5, 5, 384)    442368      activation_77[0][0]              \n",
            "__________________________________________________________________________________________________\n",
            "conv2d_79 (Conv2D)              (None, 5, 5, 384)    442368      activation_77[0][0]              \n",
            "__________________________________________________________________________________________________\n",
            "conv2d_82 (Conv2D)              (None, 5, 5, 384)    442368      activation_81[0][0]              \n",
            "__________________________________________________________________________________________________\n",
            "conv2d_83 (Conv2D)              (None, 5, 5, 384)    442368      activation_81[0][0]              \n",
            "__________________________________________________________________________________________________\n",
            "average_pooling2d_7 (AveragePoo (None, 5, 5, 1280)   0           mixed8[0][0]                     \n",
            "__________________________________________________________________________________________________\n",
            "conv2d_76 (Conv2D)              (None, 5, 5, 320)    409600      mixed8[0][0]                     \n",
            "__________________________________________________________________________________________________\n",
            "batch_normalization_78 (BatchNo (None, 5, 5, 384)    1152        conv2d_78[0][0]                  \n",
            "__________________________________________________________________________________________________\n",
            "batch_normalization_79 (BatchNo (None, 5, 5, 384)    1152        conv2d_79[0][0]                  \n",
            "__________________________________________________________________________________________________\n",
            "batch_normalization_82 (BatchNo (None, 5, 5, 384)    1152        conv2d_82[0][0]                  \n",
            "__________________________________________________________________________________________________\n",
            "batch_normalization_83 (BatchNo (None, 5, 5, 384)    1152        conv2d_83[0][0]                  \n",
            "__________________________________________________________________________________________________\n",
            "conv2d_84 (Conv2D)              (None, 5, 5, 192)    245760      average_pooling2d_7[0][0]        \n",
            "__________________________________________________________________________________________________\n",
            "batch_normalization_76 (BatchNo (None, 5, 5, 320)    960         conv2d_76[0][0]                  \n",
            "__________________________________________________________________________________________________\n",
            "activation_78 (Activation)      (None, 5, 5, 384)    0           batch_normalization_78[0][0]     \n",
            "__________________________________________________________________________________________________\n",
            "activation_79 (Activation)      (None, 5, 5, 384)    0           batch_normalization_79[0][0]     \n",
            "__________________________________________________________________________________________________\n",
            "activation_82 (Activation)      (None, 5, 5, 384)    0           batch_normalization_82[0][0]     \n",
            "__________________________________________________________________________________________________\n",
            "activation_83 (Activation)      (None, 5, 5, 384)    0           batch_normalization_83[0][0]     \n",
            "__________________________________________________________________________________________________\n",
            "batch_normalization_84 (BatchNo (None, 5, 5, 192)    576         conv2d_84[0][0]                  \n",
            "__________________________________________________________________________________________________\n",
            "activation_76 (Activation)      (None, 5, 5, 320)    0           batch_normalization_76[0][0]     \n",
            "__________________________________________________________________________________________________\n",
            "mixed9_0 (Concatenate)          (None, 5, 5, 768)    0           activation_78[0][0]              \n",
            "                                                                 activation_79[0][0]              \n",
            "__________________________________________________________________________________________________\n",
            "concatenate (Concatenate)       (None, 5, 5, 768)    0           activation_82[0][0]              \n",
            "                                                                 activation_83[0][0]              \n",
            "__________________________________________________________________________________________________\n",
            "activation_84 (Activation)      (None, 5, 5, 192)    0           batch_normalization_84[0][0]     \n",
            "__________________________________________________________________________________________________\n",
            "mixed9 (Concatenate)            (None, 5, 5, 2048)   0           activation_76[0][0]              \n",
            "                                                                 mixed9_0[0][0]                   \n",
            "                                                                 concatenate[0][0]                \n",
            "                                                                 activation_84[0][0]              \n",
            "__________________________________________________________________________________________________\n",
            "conv2d_89 (Conv2D)              (None, 5, 5, 448)    917504      mixed9[0][0]                     \n",
            "__________________________________________________________________________________________________\n",
            "batch_normalization_89 (BatchNo (None, 5, 5, 448)    1344        conv2d_89[0][0]                  \n",
            "__________________________________________________________________________________________________\n",
            "activation_89 (Activation)      (None, 5, 5, 448)    0           batch_normalization_89[0][0]     \n",
            "__________________________________________________________________________________________________\n",
            "conv2d_86 (Conv2D)              (None, 5, 5, 384)    786432      mixed9[0][0]                     \n",
            "__________________________________________________________________________________________________\n",
            "conv2d_90 (Conv2D)              (None, 5, 5, 384)    1548288     activation_89[0][0]              \n",
            "__________________________________________________________________________________________________\n",
            "batch_normalization_86 (BatchNo (None, 5, 5, 384)    1152        conv2d_86[0][0]                  \n",
            "__________________________________________________________________________________________________\n",
            "batch_normalization_90 (BatchNo (None, 5, 5, 384)    1152        conv2d_90[0][0]                  \n",
            "__________________________________________________________________________________________________\n",
            "activation_86 (Activation)      (None, 5, 5, 384)    0           batch_normalization_86[0][0]     \n",
            "__________________________________________________________________________________________________\n",
            "activation_90 (Activation)      (None, 5, 5, 384)    0           batch_normalization_90[0][0]     \n",
            "__________________________________________________________________________________________________\n",
            "conv2d_87 (Conv2D)              (None, 5, 5, 384)    442368      activation_86[0][0]              \n",
            "__________________________________________________________________________________________________\n",
            "conv2d_88 (Conv2D)              (None, 5, 5, 384)    442368      activation_86[0][0]              \n",
            "__________________________________________________________________________________________________\n",
            "conv2d_91 (Conv2D)              (None, 5, 5, 384)    442368      activation_90[0][0]              \n",
            "__________________________________________________________________________________________________\n",
            "conv2d_92 (Conv2D)              (None, 5, 5, 384)    442368      activation_90[0][0]              \n",
            "__________________________________________________________________________________________________\n",
            "average_pooling2d_8 (AveragePoo (None, 5, 5, 2048)   0           mixed9[0][0]                     \n",
            "__________________________________________________________________________________________________\n",
            "conv2d_85 (Conv2D)              (None, 5, 5, 320)    655360      mixed9[0][0]                     \n",
            "__________________________________________________________________________________________________\n",
            "batch_normalization_87 (BatchNo (None, 5, 5, 384)    1152        conv2d_87[0][0]                  \n",
            "__________________________________________________________________________________________________\n",
            "batch_normalization_88 (BatchNo (None, 5, 5, 384)    1152        conv2d_88[0][0]                  \n",
            "__________________________________________________________________________________________________\n",
            "batch_normalization_91 (BatchNo (None, 5, 5, 384)    1152        conv2d_91[0][0]                  \n",
            "__________________________________________________________________________________________________\n",
            "batch_normalization_92 (BatchNo (None, 5, 5, 384)    1152        conv2d_92[0][0]                  \n",
            "__________________________________________________________________________________________________\n",
            "conv2d_93 (Conv2D)              (None, 5, 5, 192)    393216      average_pooling2d_8[0][0]        \n",
            "__________________________________________________________________________________________________\n",
            "batch_normalization_85 (BatchNo (None, 5, 5, 320)    960         conv2d_85[0][0]                  \n",
            "__________________________________________________________________________________________________\n",
            "activation_87 (Activation)      (None, 5, 5, 384)    0           batch_normalization_87[0][0]     \n",
            "__________________________________________________________________________________________________\n",
            "activation_88 (Activation)      (None, 5, 5, 384)    0           batch_normalization_88[0][0]     \n",
            "__________________________________________________________________________________________________\n",
            "activation_91 (Activation)      (None, 5, 5, 384)    0           batch_normalization_91[0][0]     \n",
            "__________________________________________________________________________________________________\n",
            "activation_92 (Activation)      (None, 5, 5, 384)    0           batch_normalization_92[0][0]     \n",
            "__________________________________________________________________________________________________\n",
            "batch_normalization_93 (BatchNo (None, 5, 5, 192)    576         conv2d_93[0][0]                  \n",
            "__________________________________________________________________________________________________\n",
            "activation_85 (Activation)      (None, 5, 5, 320)    0           batch_normalization_85[0][0]     \n",
            "__________________________________________________________________________________________________\n",
            "mixed9_1 (Concatenate)          (None, 5, 5, 768)    0           activation_87[0][0]              \n",
            "                                                                 activation_88[0][0]              \n",
            "__________________________________________________________________________________________________\n",
            "concatenate_1 (Concatenate)     (None, 5, 5, 768)    0           activation_91[0][0]              \n",
            "                                                                 activation_92[0][0]              \n",
            "__________________________________________________________________________________________________\n",
            "activation_93 (Activation)      (None, 5, 5, 192)    0           batch_normalization_93[0][0]     \n",
            "__________________________________________________________________________________________________\n",
            "mixed10 (Concatenate)           (None, 5, 5, 2048)   0           activation_85[0][0]              \n",
            "                                                                 mixed9_1[0][0]                   \n",
            "                                                                 concatenate_1[0][0]              \n",
            "                                                                 activation_93[0][0]              \n",
            "__________________________________________________________________________________________________\n",
            "flatten (Flatten)               (None, 51200)        0           mixed10[0][0]                    \n",
            "__________________________________________________________________________________________________\n",
            "dense (Dense)                   (None, 1024)         52429824    flatten[0][0]                    \n",
            "__________________________________________________________________________________________________\n",
            "dense_1 (Dense)                 (None, 73)           74825       dense[0][0]                      \n",
            "==================================================================================================\n",
            "Total params: 74,307,433\n",
            "Trainable params: 74,273,001\n",
            "Non-trainable params: 34,432\n",
            "__________________________________________________________________________________________________\n"
          ],
          "name": "stdout"
        }
      ]
    },
    {
      "cell_type": "code",
      "metadata": {
        "id": "3JIkSyVsDgmg"
      },
      "source": [
        "age_model = model"
      ],
      "execution_count": 17,
      "outputs": []
    },
    {
      "cell_type": "markdown",
      "metadata": {
        "id": "wpUyDCH5jOTK"
      },
      "source": [
        "\n",
        "\n",
        "---\n",
        "\n"
      ]
    },
    {
      "cell_type": "markdown",
      "metadata": {
        "id": "jl7kVJhEgO6S"
      },
      "source": [
        "## **5.2 Transfer Learning**\n",
        "\n",
        "Transfer learning allows us to use weights that have already been trained on a massive dataset (2.6M images in this case). For similar tasks, we can simply freeze the weights for many of the early layers. However, the later layers in the model will need to trained and tuned for our specific task.\n",
        "\n",
        "**Trained weights source:** \n",
        "https://www.robots.ox.ac.uk/~vgg/publications/2015/Parkhi15/parkhi15.pdf"
      ]
    },
    {
      "cell_type": "code",
      "metadata": {
        "id": "Vp9Ez104q_Rk"
      },
      "source": [
        "# load the pre-trained weights to take advantage of transfer learning\n",
        "model.load_weights('/content/drive/MyDrive/YOUNGER/vgg_face_weights.h5')"
      ],
      "execution_count": null,
      "outputs": []
    },
    {
      "cell_type": "markdown",
      "metadata": {
        "id": "YEmKKxpVzEqN"
      },
      "source": [
        "**To take advantage of transfer learning, we will freeze layers with trained weights. We will custom tune the last four layers for our age predictor based on our training set.**"
      ]
    },
    {
      "cell_type": "code",
      "metadata": {
        "id": "GQ_X736zrJ9F"
      },
      "source": [
        "# freeze layers to use transfer learning effectively\n",
        "for layer in model.layers[:-7]:\n",
        "  layer.trainable = False\n",
        "\n",
        "# add custom layers to predict on unique dataset and problem \n",
        "base_model_output = Sequential()\n",
        "base_model_output = Convolution2D(73, (1, 1), name='predictions')(model.layers[-4].output)\n",
        "base_model_output = Flatten()(base_model_output)\n",
        "base_model_output = Activation('softmax')(base_model_output)\n",
        " \n",
        "age_model = Model(inputs=model.input, outputs=base_model_output)"
      ],
      "execution_count": null,
      "outputs": []
    },
    {
      "cell_type": "code",
      "metadata": {
        "id": "5KJW8WSUrKB2"
      },
      "source": [
        "#check trainable layers\n",
        "if False:\n",
        "    for layer in model.layers:\n",
        "        print(layer, layer.trainable)\n",
        "    \n",
        "    print(\"------------------------\")\n",
        "    for layer in age_model.layers:\n",
        "        print(layer, layer.trainable)"
      ],
      "execution_count": null,
      "outputs": []
    },
    {
      "cell_type": "markdown",
      "metadata": {
        "id": "IV8nlxPk0bhX"
      },
      "source": [
        "**Compile Model**\n",
        "\n",
        "Categorical crossentropy is an appropriate loss function for multi-class classification problems. \n",
        "\n",
        "We will use an 'Adam' optimizer with a learning rate of 0.001."
      ]
    },
    {
      "cell_type": "code",
      "metadata": {
        "id": "AddcnX68rKHF"
      },
      "source": [
        "# Stochastic Gradient Descent = sgd\n",
        "# compile the model\n",
        "# sgd = keras.optimizers.SGD(lr=1e-3, decay=1e-6, momentum=.9, nesterov=True)\n",
        "\n",
        "opt = keras.optimizers.Adam(learning_rate=0.001,\n",
        "    beta_1=0.9,\n",
        "    beta_2=0.999,\n",
        "    epsilon=1e-07,\n",
        "    name=\"Adam\"\n",
        ")\n",
        "\n",
        "# 'categorical_crossentropy' is an appropriate loss function for a multi-class classification problem such as ours\n",
        "age_model.compile(loss='categorical_crossentropy'\n",
        "                  , optimizer = opt\n",
        "                  # , optimizer = sgd\n",
        "                  , metrics=['accuracy']\n",
        "                 )"
      ],
      "execution_count": 18,
      "outputs": []
    },
    {
      "cell_type": "markdown",
      "metadata": {
        "id": "0NjWzIvT1ycL"
      },
      "source": [
        "**Model Checkpoint**\n",
        "\n",
        "Validation Loss is our key performance metric. We create a checkpointer which automatically saves the best model based on improved 'val_loss' performance. We can later use the best pre-trained model to measure the performance of the model on unseen data."
      ]
    },
    {
      "cell_type": "code",
      "metadata": {
        "id": "vHlb1ci-s6n_"
      },
      "source": [
        "# create checkpoint which saves the best model based on loss on the validation data \n",
        "# if the validation loss decreases, the model will be saved as a checkpoint\n",
        "checkpointer = ModelCheckpoint(\n",
        "    # filepath='/content/classification_age_model.hdf5'\n",
        "    filepath='/content/drive/MyDrive/YOUNGER/classification_age_model_5.hdf5'\n",
        "    , monitor = \"val_loss\"\n",
        "    , verbose=1\n",
        "    , save_best_only=True\n",
        "    , mode = 'min'\n",
        "    # , mode = 'auto'\n",
        ")"
      ],
      "execution_count": 19,
      "outputs": []
    },
    {
      "cell_type": "markdown",
      "metadata": {
        "id": "uLclvItV2bqa"
      },
      "source": [
        "**Early Stopping**\n",
        "\n",
        "Early Stopping will notice when the validation loss is not improving  and it will stop the training to prevent overfitting."
      ]
    },
    {
      "cell_type": "code",
      "metadata": {
        "id": "yiSJXQY4DjJ3"
      },
      "source": [
        "# enable Early Stopping \n",
        "from tensorflow.keras.callbacks import EarlyStopping\n",
        "callback = tf.keras.callbacks.EarlyStopping(monitor='val_loss', mode='min', patience=5)"
      ],
      "execution_count": 20,
      "outputs": []
    },
    {
      "cell_type": "markdown",
      "metadata": {
        "id": "kcPaa7PR2pVo"
      },
      "source": [
        "**Tensorboard**\n",
        "\n",
        "Tensorboard allows us to experiment, visualizing changes in model details (hyperparameters) and perfomance metrics."
      ]
    },
    {
      "cell_type": "code",
      "metadata": {
        "id": "uqCAoAW1bR2h"
      },
      "source": [
        "#tensorboard\n",
        "%load_ext tensorboard\n",
        "import datetime"
      ],
      "execution_count": 21,
      "outputs": []
    },
    {
      "cell_type": "code",
      "metadata": {
        "id": "-bZPJvh9bpFV"
      },
      "source": [
        "# instantiate TensorBoard and define callback variable\n",
        "log_dir = \"logs/fit/\" + datetime.datetime.now().strftime(\"%Y%m%d-%H%M%S\")\n",
        "tensorboard_callback = tf.keras.callbacks.TensorBoard(log_dir=log_dir, histogram_freq=1)"
      ],
      "execution_count": 22,
      "outputs": []
    },
    {
      "cell_type": "markdown",
      "metadata": {
        "id": "3q-YLeIQ3CQV"
      },
      "source": [
        "**Save Performance Metrics**\n",
        "\n",
        "Kera's 'History' callback allows us to track performance metrics which we can later visualize."
      ]
    },
    {
      "cell_type": "code",
      "metadata": {
        "id": "QX77L0h1UTG0"
      },
      "source": [
        "# record model performance\n",
        "from keras.callbacks import History \n",
        "history = History()"
      ],
      "execution_count": 23,
      "outputs": []
    },
    {
      "cell_type": "code",
      "metadata": {
        "id": "GQtESZv2bR-P"
      },
      "source": [
        "# Clear any logs from previous runs - TensorBoard\n",
        "! rm -rf ./logs/"
      ],
      "execution_count": 24,
      "outputs": []
    },
    {
      "cell_type": "markdown",
      "metadata": {
        "id": "7U97VAthjQ8F"
      },
      "source": [
        "\n",
        "\n",
        "---\n",
        "\n"
      ]
    },
    {
      "cell_type": "markdown",
      "metadata": {
        "id": "eDSAfd893XoC"
      },
      "source": [
        "##**5.3 Training the Model**\n",
        "\n",
        "Training the model is where the magic happens. We will train our model for a given number of epochs with a given batchsize. We have tried many iterations with various batchsizes and various numbers of epochs to reach allow proper training while avoiding overfitting. Our primary performance metric is validation loss. As the model progresses through epochs, we want the validation loss to decrease at a steady pace.\n",
        "\n",
        "We will save our best model. In the future, we can simply use the saved model to predict on new data. "
      ]
    },
    {
      "cell_type": "code",
      "metadata": {
        "id": "Z7ZJV9Grs8rz",
        "colab": {
          "base_uri": "https://localhost:8080/"
        },
        "outputId": "e8d10a0e-767d-43da-d1a7-8eeecf712d3b"
      },
      "source": [
        "# set batch size and # of epochs\n",
        "# fit the model on training set & validate on the test set\n",
        "epochs = 50           # original = 250\n",
        "batch_size = 128      # original = 256\n",
        "\n",
        "enableFit = True\n",
        "\n",
        "if enableFit:\n",
        "    for i in range(epochs):\n",
        "        print(\"epoch \",i)\n",
        "        ix_train = np.random.choice(train_x.shape[0], size=batch_size)\n",
        "        \n",
        "        score = age_model.fit(\n",
        "            train_x[ix_train], train_y[ix_train],\n",
        "            epochs=1,\n",
        "            validation_data=(test_x, test_y),\n",
        "            callbacks=[tensorboard_callback, checkpointer, callback, history])\n",
        "        \n",
        "    #restore the best weights\n",
        "    from keras.models import load_model\n",
        "    age_model = load_model('/content/drive/MyDrive/YOUNGER/classification_age_model_5.hdf5')\n",
        "    age_model.save_weights('/content/drive/MyDrive/YOUNGER/age_model_weights_5.h5')\n",
        "        \n",
        "else:\n",
        "    # pre-trained weights for age prediction\n",
        "    age_model.load_weights(\"/content/drive/MyDrive/YOUNGER/age_model_weights_5.h5\")"
      ],
      "execution_count": 25,
      "outputs": [
        {
          "output_type": "stream",
          "text": [
            "epoch  0\n",
            "4/4 [==============================] - 16s 2s/step - loss: 16.5437 - accuracy: 0.0052 - val_loss: 2544.0195 - val_accuracy: 0.0119\n",
            "\n",
            "Epoch 00001: val_loss improved from inf to 2544.01953, saving model to /content/drive/MyDrive/YOUNGER/classification_age_model_5.hdf5\n",
            "epoch  1\n",
            "4/4 [==============================] - 4s 1s/step - loss: 7.7388 - accuracy: 0.0078 - val_loss: 54826.4766 - val_accuracy: 0.0132\n",
            "\n",
            "Epoch 00001: val_loss did not improve from 2544.01953\n",
            "epoch  2\n",
            "4/4 [==============================] - 4s 1s/step - loss: 5.9006 - accuracy: 0.0234 - val_loss: 748453.3125 - val_accuracy: 0.0139\n",
            "\n",
            "Epoch 00001: val_loss did not improve from 2544.01953\n",
            "epoch  3\n",
            "4/4 [==============================] - 4s 1s/step - loss: 7.0077 - accuracy: 0.0078 - val_loss: 628476.6875 - val_accuracy: 0.0139\n",
            "\n",
            "Epoch 00001: val_loss did not improve from 2544.01953\n",
            "epoch  4\n",
            "4/4 [==============================] - 4s 1s/step - loss: 6.2546 - accuracy: 0.0234 - val_loss: 1775616.1250 - val_accuracy: 0.0132\n",
            "\n",
            "Epoch 00001: val_loss did not improve from 2544.01953\n",
            "epoch  5\n",
            "4/4 [==============================] - 4s 1s/step - loss: 5.1328 - accuracy: 0.0156 - val_loss: 2555776.2500 - val_accuracy: 0.0132\n",
            "\n",
            "Epoch 00001: val_loss did not improve from 2544.01953\n",
            "epoch  6\n",
            "4/4 [==============================] - 4s 1s/step - loss: 4.5829 - accuracy: 0.0000e+00 - val_loss: 2220953.5000 - val_accuracy: 0.0139\n",
            "\n",
            "Epoch 00001: val_loss did not improve from 2544.01953\n",
            "epoch  7\n",
            "4/4 [==============================] - 4s 1s/step - loss: 4.6299 - accuracy: 0.0078 - val_loss: 883518.0625 - val_accuracy: 0.0152\n",
            "\n",
            "Epoch 00001: val_loss did not improve from 2544.01953\n",
            "epoch  8\n",
            "4/4 [==============================] - 4s 1s/step - loss: 4.5565 - accuracy: 0.0000e+00 - val_loss: 260721.0000 - val_accuracy: 0.0126\n",
            "\n",
            "Epoch 00001: val_loss did not improve from 2544.01953\n",
            "epoch  9\n",
            "4/4 [==============================] - 4s 1s/step - loss: 4.5415 - accuracy: 0.0000e+00 - val_loss: 74819.2656 - val_accuracy: 0.0099\n",
            "\n",
            "Epoch 00001: val_loss did not improve from 2544.01953\n",
            "epoch  10\n",
            "4/4 [==============================] - 4s 1s/step - loss: 4.3754 - accuracy: 0.0156 - val_loss: 31272.8945 - val_accuracy: 0.0099\n",
            "\n",
            "Epoch 00001: val_loss did not improve from 2544.01953\n",
            "epoch  11\n",
            "4/4 [==============================] - 4s 1s/step - loss: 4.4825 - accuracy: 0.0000e+00 - val_loss: 8446.9453 - val_accuracy: 0.0146\n",
            "\n",
            "Epoch 00001: val_loss did not improve from 2544.01953\n",
            "epoch  12\n",
            "4/4 [==============================] - 4s 1s/step - loss: 4.3601 - accuracy: 0.0234 - val_loss: 4235.7202 - val_accuracy: 0.0159\n",
            "\n",
            "Epoch 00001: val_loss did not improve from 2544.01953\n",
            "epoch  13\n",
            "4/4 [==============================] - 4s 1s/step - loss: 4.4082 - accuracy: 0.0234 - val_loss: 2550.2395 - val_accuracy: 0.0152\n",
            "\n",
            "Epoch 00001: val_loss did not improve from 2544.01953\n",
            "epoch  14\n",
            "4/4 [==============================] - 4s 1s/step - loss: 4.2887 - accuracy: 0.0469 - val_loss: 1723.7520 - val_accuracy: 0.0152\n",
            "\n",
            "Epoch 00001: val_loss improved from 2544.01953 to 1723.75195, saving model to /content/drive/MyDrive/YOUNGER/classification_age_model_5.hdf5\n",
            "epoch  15\n",
            "4/4 [==============================] - 4s 1s/step - loss: 4.3623 - accuracy: 0.0078 - val_loss: 1390.2345 - val_accuracy: 0.0152\n",
            "\n",
            "Epoch 00001: val_loss improved from 1723.75195 to 1390.23450, saving model to /content/drive/MyDrive/YOUNGER/classification_age_model_5.hdf5\n",
            "epoch  16\n",
            "4/4 [==============================] - 4s 1s/step - loss: 4.3332 - accuracy: 0.0000e+00 - val_loss: 1429.0122 - val_accuracy: 0.0165\n",
            "\n",
            "Epoch 00001: val_loss did not improve from 1390.23450\n",
            "epoch  17\n",
            "4/4 [==============================] - 4s 1s/step - loss: 4.3300 - accuracy: 0.0078 - val_loss: 1137.2588 - val_accuracy: 0.0159\n",
            "\n",
            "Epoch 00001: val_loss improved from 1390.23450 to 1137.25879, saving model to /content/drive/MyDrive/YOUNGER/classification_age_model_5.hdf5\n",
            "epoch  18\n",
            "4/4 [==============================] - 4s 1s/step - loss: 4.3072 - accuracy: 0.0234 - val_loss: 946.6334 - val_accuracy: 0.0152\n",
            "\n",
            "Epoch 00001: val_loss improved from 1137.25879 to 946.63336, saving model to /content/drive/MyDrive/YOUNGER/classification_age_model_5.hdf5\n",
            "epoch  19\n",
            "4/4 [==============================] - 4s 1s/step - loss: 4.3353 - accuracy: 0.0000e+00 - val_loss: 919.9995 - val_accuracy: 0.0159\n",
            "\n",
            "Epoch 00001: val_loss improved from 946.63336 to 919.99945, saving model to /content/drive/MyDrive/YOUNGER/classification_age_model_5.hdf5\n",
            "epoch  20\n",
            "4/4 [==============================] - 4s 1s/step - loss: 4.3520 - accuracy: 0.0156 - val_loss: 778.8041 - val_accuracy: 0.0146\n",
            "\n",
            "Epoch 00001: val_loss improved from 919.99945 to 778.80408, saving model to /content/drive/MyDrive/YOUNGER/classification_age_model_5.hdf5\n",
            "epoch  21\n",
            "4/4 [==============================] - 4s 1s/step - loss: 4.3101 - accuracy: 0.0234 - val_loss: 573.3448 - val_accuracy: 0.0146\n",
            "\n",
            "Epoch 00001: val_loss improved from 778.80408 to 573.34485, saving model to /content/drive/MyDrive/YOUNGER/classification_age_model_5.hdf5\n",
            "epoch  22\n",
            "4/4 [==============================] - 4s 1s/step - loss: 4.3268 - accuracy: 0.0078 - val_loss: 406.2686 - val_accuracy: 0.0146\n",
            "\n",
            "Epoch 00001: val_loss improved from 573.34485 to 406.26855, saving model to /content/drive/MyDrive/YOUNGER/classification_age_model_5.hdf5\n",
            "epoch  23\n",
            "4/4 [==============================] - 4s 1s/step - loss: 4.3341 - accuracy: 0.0000e+00 - val_loss: 357.3653 - val_accuracy: 0.0146\n",
            "\n",
            "Epoch 00001: val_loss improved from 406.26855 to 357.36530, saving model to /content/drive/MyDrive/YOUNGER/classification_age_model_5.hdf5\n",
            "epoch  24\n",
            "4/4 [==============================] - 4s 1s/step - loss: 4.3094 - accuracy: 0.0078 - val_loss: 298.1734 - val_accuracy: 0.0086\n",
            "\n",
            "Epoch 00001: val_loss improved from 357.36530 to 298.17340, saving model to /content/drive/MyDrive/YOUNGER/classification_age_model_5.hdf5\n",
            "epoch  25\n",
            "4/4 [==============================] - 4s 1s/step - loss: 4.3127 - accuracy: 0.0234 - val_loss: 238.0312 - val_accuracy: 0.0086\n",
            "\n",
            "Epoch 00001: val_loss improved from 298.17340 to 238.03119, saving model to /content/drive/MyDrive/YOUNGER/classification_age_model_5.hdf5\n",
            "epoch  26\n",
            "4/4 [==============================] - 4s 1s/step - loss: 4.2890 - accuracy: 0.0078 - val_loss: 202.6415 - val_accuracy: 0.0119\n",
            "\n",
            "Epoch 00001: val_loss improved from 238.03119 to 202.64148, saving model to /content/drive/MyDrive/YOUNGER/classification_age_model_5.hdf5\n",
            "epoch  27\n",
            "4/4 [==============================] - 4s 1s/step - loss: 4.3285 - accuracy: 0.0312 - val_loss: 269.8659 - val_accuracy: 0.0112\n",
            "\n",
            "Epoch 00001: val_loss did not improve from 202.64148\n",
            "epoch  28\n",
            "4/4 [==============================] - 4s 1s/step - loss: 4.3380 - accuracy: 0.0000e+00 - val_loss: 230.7785 - val_accuracy: 0.0112\n",
            "\n",
            "Epoch 00001: val_loss did not improve from 202.64148\n",
            "epoch  29\n",
            "4/4 [==============================] - 4s 1s/step - loss: 4.3296 - accuracy: 0.0078 - val_loss: 193.3902 - val_accuracy: 0.0119\n",
            "\n",
            "Epoch 00001: val_loss improved from 202.64148 to 193.39023, saving model to /content/drive/MyDrive/YOUNGER/classification_age_model_5.hdf5\n",
            "epoch  30\n",
            "4/4 [==============================] - 4s 1s/step - loss: 4.3429 - accuracy: 0.0156 - val_loss: 135.6643 - val_accuracy: 0.0126\n",
            "\n",
            "Epoch 00001: val_loss improved from 193.39023 to 135.66429, saving model to /content/drive/MyDrive/YOUNGER/classification_age_model_5.hdf5\n",
            "epoch  31\n",
            "4/4 [==============================] - 4s 1s/step - loss: 4.2885 - accuracy: 0.0234 - val_loss: 169.0281 - val_accuracy: 0.0132\n",
            "\n",
            "Epoch 00001: val_loss did not improve from 135.66429\n",
            "epoch  32\n",
            "4/4 [==============================] - 4s 1s/step - loss: 4.3080 - accuracy: 0.0078 - val_loss: 136.3773 - val_accuracy: 0.0146\n",
            "\n",
            "Epoch 00001: val_loss did not improve from 135.66429\n",
            "epoch  33\n",
            "4/4 [==============================] - 4s 1s/step - loss: 4.3277 - accuracy: 0.0000e+00 - val_loss: 69.6901 - val_accuracy: 0.0119\n",
            "\n",
            "Epoch 00001: val_loss improved from 135.66429 to 69.69006, saving model to /content/drive/MyDrive/YOUNGER/classification_age_model_5.hdf5\n",
            "epoch  34\n",
            "4/4 [==============================] - 4s 1s/step - loss: 4.3170 - accuracy: 0.0000e+00 - val_loss: 36.5931 - val_accuracy: 0.0119\n",
            "\n",
            "Epoch 00001: val_loss improved from 69.69006 to 36.59306, saving model to /content/drive/MyDrive/YOUNGER/classification_age_model_5.hdf5\n",
            "epoch  35\n",
            "4/4 [==============================] - 4s 1s/step - loss: 4.2855 - accuracy: 0.0078 - val_loss: 24.5809 - val_accuracy: 0.0152\n",
            "\n",
            "Epoch 00001: val_loss improved from 36.59306 to 24.58086, saving model to /content/drive/MyDrive/YOUNGER/classification_age_model_5.hdf5\n",
            "epoch  36\n",
            "4/4 [==============================] - 4s 1s/step - loss: 4.2890 - accuracy: 0.0078 - val_loss: 20.5460 - val_accuracy: 0.0126\n",
            "\n",
            "Epoch 00001: val_loss improved from 24.58086 to 20.54598, saving model to /content/drive/MyDrive/YOUNGER/classification_age_model_5.hdf5\n",
            "epoch  37\n",
            "4/4 [==============================] - 4s 1s/step - loss: 4.3092 - accuracy: 0.0156 - val_loss: 17.4225 - val_accuracy: 0.0126\n",
            "\n",
            "Epoch 00001: val_loss improved from 20.54598 to 17.42249, saving model to /content/drive/MyDrive/YOUNGER/classification_age_model_5.hdf5\n",
            "epoch  38\n",
            "4/4 [==============================] - 4s 1s/step - loss: 4.3069 - accuracy: 0.0156 - val_loss: 12.9018 - val_accuracy: 0.0139\n",
            "\n",
            "Epoch 00001: val_loss improved from 17.42249 to 12.90177, saving model to /content/drive/MyDrive/YOUNGER/classification_age_model_5.hdf5\n",
            "epoch  39\n",
            "4/4 [==============================] - 4s 1s/step - loss: 4.2876 - accuracy: 0.0312 - val_loss: 9.9880 - val_accuracy: 0.0132\n",
            "\n",
            "Epoch 00001: val_loss improved from 12.90177 to 9.98799, saving model to /content/drive/MyDrive/YOUNGER/classification_age_model_5.hdf5\n",
            "epoch  40\n",
            "4/4 [==============================] - 4s 1s/step - loss: 4.2994 - accuracy: 0.0156 - val_loss: 8.8309 - val_accuracy: 0.0146\n",
            "\n",
            "Epoch 00001: val_loss improved from 9.98799 to 8.83091, saving model to /content/drive/MyDrive/YOUNGER/classification_age_model_5.hdf5\n",
            "epoch  41\n",
            "4/4 [==============================] - 4s 1s/step - loss: 4.2992 - accuracy: 0.0078 - val_loss: 8.0666 - val_accuracy: 0.0146\n",
            "\n",
            "Epoch 00001: val_loss improved from 8.83091 to 8.06665, saving model to /content/drive/MyDrive/YOUNGER/classification_age_model_5.hdf5\n",
            "epoch  42\n",
            "4/4 [==============================] - 4s 1s/step - loss: 4.2862 - accuracy: 0.0234 - val_loss: 7.3419 - val_accuracy: 0.0146\n",
            "\n",
            "Epoch 00001: val_loss improved from 8.06665 to 7.34189, saving model to /content/drive/MyDrive/YOUNGER/classification_age_model_5.hdf5\n",
            "epoch  43\n",
            "4/4 [==============================] - 4s 1s/step - loss: 4.2889 - accuracy: 0.0156 - val_loss: 6.9815 - val_accuracy: 0.0152\n",
            "\n",
            "Epoch 00001: val_loss improved from 7.34189 to 6.98146, saving model to /content/drive/MyDrive/YOUNGER/classification_age_model_5.hdf5\n",
            "epoch  44\n",
            "4/4 [==============================] - 4s 1s/step - loss: 4.2927 - accuracy: 0.0078 - val_loss: 6.3745 - val_accuracy: 0.0146\n",
            "\n",
            "Epoch 00001: val_loss improved from 6.98146 to 6.37449, saving model to /content/drive/MyDrive/YOUNGER/classification_age_model_5.hdf5\n",
            "epoch  45\n",
            "4/4 [==============================] - 4s 1s/step - loss: 4.3017 - accuracy: 0.0312 - val_loss: 5.2569 - val_accuracy: 0.0132\n",
            "\n",
            "Epoch 00001: val_loss improved from 6.37449 to 5.25687, saving model to /content/drive/MyDrive/YOUNGER/classification_age_model_5.hdf5\n",
            "epoch  46\n",
            "4/4 [==============================] - 4s 1s/step - loss: 4.3001 - accuracy: 0.0000e+00 - val_loss: 4.8107 - val_accuracy: 0.0132\n",
            "\n",
            "Epoch 00001: val_loss improved from 5.25687 to 4.81065, saving model to /content/drive/MyDrive/YOUNGER/classification_age_model_5.hdf5\n",
            "epoch  47\n",
            "4/4 [==============================] - 4s 1s/step - loss: 4.2938 - accuracy: 0.0000e+00 - val_loss: 5.7749 - val_accuracy: 0.0139\n",
            "\n",
            "Epoch 00001: val_loss did not improve from 4.81065\n",
            "epoch  48\n",
            "4/4 [==============================] - 4s 1s/step - loss: 4.3024 - accuracy: 0.0156 - val_loss: 5.1085 - val_accuracy: 0.0139\n",
            "\n",
            "Epoch 00001: val_loss did not improve from 4.81065\n",
            "epoch  49\n",
            "4/4 [==============================] - 4s 1s/step - loss: 4.2919 - accuracy: 0.0156 - val_loss: 4.6407 - val_accuracy: 0.0139\n",
            "\n",
            "Epoch 00001: val_loss improved from 4.81065 to 4.64070, saving model to /content/drive/MyDrive/YOUNGER/classification_age_model_5.hdf5\n"
          ],
          "name": "stdout"
        }
      ]
    },
    {
      "cell_type": "markdown",
      "metadata": {
        "id": "wOSr1a8SjSm4"
      },
      "source": [
        "\n",
        "\n",
        "---\n",
        "\n"
      ]
    },
    {
      "cell_type": "markdown",
      "metadata": {
        "id": "LhbX9dchyH_G"
      },
      "source": [
        "##**5.4 Model Performance**\n",
        "\n",
        "We will assess the performance of the model by plotting the **validation set loss versus the training set loss**. If the performance of the training set improves too fast and diverges from the validation set, this is a sign of overfitting. Our objective is to prevent overfitting, thus making the model more robust to unseen data. "
      ]
    },
    {
      "cell_type": "code",
      "metadata": {
        "id": "YKqo4foLULRO",
        "colab": {
          "base_uri": "https://localhost:8080/",
          "height": 276
        },
        "outputId": "f18309fc-911d-400e-c7e4-2811c7a58566"
      },
      "source": [
        "# plot training loss vs. validation loss over epochs\n",
        "val_loss_change = []; loss_change = []\n",
        "for i in range(0, epochs):\n",
        "    val_loss_change.append(history.history['val_loss'][i])\n",
        "    loss_change.append(history.history['loss'][i])\n",
        "\n",
        "plt.plot(val_loss_change, label='val_loss')\n",
        "plt.plot(loss_change, label='train_loss')\n",
        "plt.legend(loc='upper right')\n",
        "plt.show()"
      ],
      "execution_count": 26,
      "outputs": [
        {
          "output_type": "display_data",
          "data": {
            "image/png": "[encoded data removed]",
            "text/plain": [
              "<Figure size 432x288 with 1 Axes>"
            ]
          },
          "metadata": {
            "tags": [],
            "needs_background": "light"
          }
        }
      ]
    },
    {
      "cell_type": "markdown",
      "metadata": {
        "id": "o8QBJU2vzxt_"
      },
      "source": [
        "We will also assess the performance of the model by plotting the **validation set accuracy versus the training set accuracy**."
      ]
    },
    {
      "cell_type": "code",
      "metadata": {
        "id": "Cmqi6RxJWtct",
        "colab": {
          "base_uri": "https://localhost:8080/",
          "height": 265
        },
        "outputId": "2d2eb934-317a-4ba8-876f-3c447718961e"
      },
      "source": [
        "# plot training loss vs. validation loss over epochs\n",
        "val_accuracy_change = []; accuracy_change = []\n",
        "for i in range(0, epochs):\n",
        "    val_accuracy_change.append(history.history['val_accuracy'][i])\n",
        "    accuracy_change.append(history.history['accuracy'][i])\n",
        "\n",
        "plt.plot(val_accuracy_change, label='val_accuracy')\n",
        "plt.plot(accuracy_change, label='train_accuracy')\n",
        "plt.legend(loc='upper right')\n",
        "plt.show()"
      ],
      "execution_count": 27,
      "outputs": [
        {
          "output_type": "display_data",
          "data": {
            "image/png": "[encoded data removed]",
            "text/plain": [
              "<Figure size 432x288 with 1 Axes>"
            ]
          },
          "metadata": {
            "tags": [],
            "needs_background": "light"
          }
        }
      ]
    },
    {
      "cell_type": "markdown",
      "metadata": {
        "id": "w1KpDrxW8ycW"
      },
      "source": [
        "**Check the training set loss and accuracy.**"
      ]
    },
    {
      "cell_type": "code",
      "metadata": {
        "id": "Dh5isONw83P4",
        "colab": {
          "base_uri": "https://localhost:8080/"
        },
        "outputId": "de7892cf-32f1-459a-8a82-69630496d67a"
      },
      "source": [
        "# loss and accuracy on training set\n",
        "train_eval = age_model.evaluate(train_x, train_y, verbose=1 , return_dict=True)\n",
        "train_eval"
      ],
      "execution_count": 28,
      "outputs": [
        {
          "output_type": "stream",
          "text": [
            "111/111 [==============================] - 8s 52ms/step - loss: 4.7227 - accuracy: 0.0153\n"
          ],
          "name": "stdout"
        },
        {
          "output_type": "execute_result",
          "data": {
            "text/plain": [
              "{'accuracy': 0.015319149009883404, 'loss': 4.722728252410889}"
            ]
          },
          "metadata": {
            "tags": []
          },
          "execution_count": 28
        }
      ]
    },
    {
      "cell_type": "markdown",
      "metadata": {
        "id": "p-tG7Lbr89rF"
      },
      "source": [
        "**Check the test set loss and accuracy.**"
      ]
    },
    {
      "cell_type": "code",
      "metadata": {
        "colab": {
          "base_uri": "https://localhost:8080/"
        },
        "id": "3WPSGEKW2iKk",
        "outputId": "01946c30-aa5d-4b25-f76a-7f965458b874"
      },
      "source": [
        "# loss and accuracy on test set\n",
        "test_eval = age_model.evaluate(test_x, test_y, verbose=1 , return_dict=True)\n",
        "test_eval"
      ],
      "execution_count": 29,
      "outputs": [
        {
          "output_type": "stream",
          "text": [
            "48/48 [==============================] - 2s 50ms/step - loss: 4.6407 - accuracy: 0.0139\n"
          ],
          "name": "stdout"
        },
        {
          "output_type": "execute_result",
          "data": {
            "text/plain": [
              "{'accuracy': 0.013888888992369175, 'loss': 4.640702247619629}"
            ]
          },
          "metadata": {
            "tags": []
          },
          "execution_count": 29
        }
      ]
    },
    {
      "cell_type": "markdown",
      "metadata": {
        "id": "DqlARLVl9E8H"
      },
      "source": [
        "**Predictions on the test set.**"
      ]
    },
    {
      "cell_type": "code",
      "metadata": {
        "id": "qOGpFQpMzh0M"
      },
      "source": [
        "predictions = age_model.predict(test_x)"
      ],
      "execution_count": 30,
      "outputs": []
    },
    {
      "cell_type": "markdown",
      "metadata": {
        "id": "Vorp8gbv9NX_"
      },
      "source": [
        "**The array of predictions need to be decoded into predicted ages.**"
      ]
    },
    {
      "cell_type": "code",
      "metadata": {
        "id": "xSy0Dpr_0Ad4"
      },
      "source": [
        "output_indexes = np.array([i for i in range(8, 81)])\n",
        "apparent_predictions = np.sum(predictions * output_indexes, axis = 1) "
      ],
      "execution_count": 31,
      "outputs": []
    },
    {
      "cell_type": "markdown",
      "metadata": {
        "id": "BWUnHrvq9q7k"
      },
      "source": [
        "**Let's take a look at the maximum, minimum and mean age predictions to ensure that our distribution of values is what we expected.**"
      ]
    },
    {
      "cell_type": "code",
      "metadata": {
        "id": "4Gw8DT0W4ix8",
        "colab": {
          "base_uri": "https://localhost:8080/"
        },
        "outputId": "181ef00a-14f6-420f-b525-0c0ba6212d6a"
      },
      "source": [
        "prediction_list = []\n",
        "for i in range(73):\n",
        "  prediction_list.append((np.argmax(predictions[i] * output_indexes[i])+8))\n",
        "\n",
        "print(\"Minumum Predicted Age:\",min(prediction_list))\n",
        "print(\"Maximum Predicted Age:\",max(prediction_list))\n",
        "print(\"Average Predicted Age:\",np.mean(prediction_list))"
      ],
      "execution_count": 32,
      "outputs": [
        {
          "output_type": "stream",
          "text": [
            "Minumum Predicted Age: 17\n",
            "Maximum Predicted Age: 72\n",
            "Average Predicted Age: 69.52054794520548\n"
          ],
          "name": "stdout"
        }
      ]
    },
    {
      "cell_type": "markdown",
      "metadata": {
        "id": "29z53NbSBpfK"
      },
      "source": [
        "**Mean Absolute Error**\n",
        "\n",
        "Compute the Mean Absolute Error (MAE) to see how far the predicted ages are from the actual ages on average. MAE is the primary performance metric of our project."
      ]
    },
    {
      "cell_type": "code",
      "metadata": {
        "id": "bER-cRBh2UYz",
        "colab": {
          "base_uri": "https://localhost:8080/"
        },
        "outputId": "69def795-b823-4560-8d75-7065990a29b2"
      },
      "source": [
        "# compute mae\n",
        "mae = 0\n",
        "n = apparent_predictions.shape[0]\n",
        "prediction_list = []\n",
        "for i in range(0, n):\n",
        "    prediction = int(apparent_predictions[i])\n",
        "    prediction_list.append(int(apparent_predictions[i]))\n",
        "    actual = np.argmax(test_y[i])\n",
        "    abs_error = abs(prediction - actual)\n",
        "    mae += abs_error\n",
        "    \n",
        "mae = mae / n\n",
        "print(\"mae: \",mae)\n",
        "print(\"instances: \", n)"
      ],
      "execution_count": 33,
      "outputs": [
        {
          "output_type": "stream",
          "text": [
            "mae:  19.12632275132275\n",
            "instances:  1512\n"
          ],
          "name": "stdout"
        }
      ]
    },
    {
      "cell_type": "code",
      "metadata": {
        "id": "dauLetTV7rEa"
      },
      "source": [
        "# create list 'test_y_age'  of the actual age labels\n",
        "test_y_age = np.argmax(test_y, axis=1)\n",
        "test_y_age  = test_y_age + 8"
      ],
      "execution_count": 34,
      "outputs": []
    },
    {
      "cell_type": "markdown",
      "metadata": {
        "id": "a9n5bGSqjVja"
      },
      "source": [
        "\n",
        "\n",
        "---\n",
        "\n"
      ]
    },
    {
      "cell_type": "markdown",
      "metadata": {
        "id": "NiLRVu89GAw3"
      },
      "source": [
        "##**5.5 Performance Visualization**\n",
        "\n",
        "Let's create data visualizations to compare the predicted ages with the actual ages. We will create a few to survey which data visualization is the most useful for analysis.  "
      ]
    },
    {
      "cell_type": "code",
      "metadata": {
        "id": "VB-BwSySCCql",
        "colab": {
          "base_uri": "https://localhost:8080/",
          "height": 665
        },
        "outputId": "cddc8c72-23a2-4895-ee34-ef337e6f16cd"
      },
      "source": [
        "# plot a scatterplot with a 'perfect prediction' line\n",
        "sns.set_theme(style=\"darkgrid\")\n",
        "fig, ax = plt.subplots(figsize=(10,10))\n",
        "sns.scatterplot(test_y_age, apparent_predictions)\n",
        "ax.plot([y.min(), y.max()], [y.min(), y.max()], 'k--', lw=3)\n",
        "ax.set_xlabel('Actual Age')\n",
        "ax.set_ylabel('Predicted Age');"
      ],
      "execution_count": 35,
      "outputs": [
        {
          "output_type": "stream",
          "text": [
            "/usr/local/lib/python3.7/dist-packages/seaborn/_decorators.py:43: FutureWarning: Pass the following variables as keyword args: x, y. From version 0.12, the only valid positional argument will be `data`, and passing other arguments without an explicit keyword will result in an error or misinterpretation.\n",
            "  FutureWarning\n"
          ],
          "name": "stderr"
        },
        {
          "output_type": "display_data",
          "data": {
            "image/png": "[encoded data removed]",
            "text/plain": [
              "<Figure size 720x720 with 1 Axes>"
            ]
          },
          "metadata": {
            "tags": []
          }
        }
      ]
    },
    {
      "cell_type": "markdown",
      "metadata": {
        "id": "wPzuTdP_JI-J"
      },
      "source": [
        "**Observation:** Above, we can see the 'perfect prediction' dotted line and get a general sense of the error pattern in the system. Generally, there is a positive correlation between actual age and predicted age. We can also see some predictions far from the ideal line."
      ]
    },
    {
      "cell_type": "code",
      "metadata": {
        "id": "WQF2mRq49WYj",
        "colab": {
          "base_uri": "https://localhost:8080/",
          "height": 407
        },
        "outputId": "dd3bd74b-c265-483d-b3a8-c81bd9e3c119"
      },
      "source": [
        "# jointplot - scatterplot with histogram\n",
        "sns.jointplot(test_y_age, apparent_predictions)\n",
        "ax.set_xlabel('Actual Age')\n",
        "ax.set_ylabel('Predicted Age');"
      ],
      "execution_count": null,
      "outputs": [
        {
          "output_type": "stream",
          "text": [
            "/usr/local/lib/python3.7/dist-packages/seaborn/_decorators.py:43: FutureWarning: Pass the following variables as keyword args: x, y. From version 0.12, the only valid positional argument will be `data`, and passing other arguments without an explicit keyword will result in an error or misinterpretation.\n",
            "  FutureWarning\n"
          ],
          "name": "stderr"
        },
        {
          "output_type": "error",
          "ename": "KeyboardInterrupt",
          "evalue": "ignored",
          "traceback": [
            "\u001b[0;31m---------------------------------------------------------------------------\u001b[0m",
            "\u001b[0;31mKeyboardInterrupt\u001b[0m                         Traceback (most recent call last)",
            "\u001b[0;32m<ipython-input-36-12f94b2765cc>\u001b[0m in \u001b[0;36m<module>\u001b[0;34m()\u001b[0m\n\u001b[1;32m      1\u001b[0m \u001b[0;31m# jointplot - scatterplot with histogram\u001b[0m\u001b[0;34m\u001b[0m\u001b[0;34m\u001b[0m\u001b[0;34m\u001b[0m\u001b[0m\n\u001b[0;32m----> 2\u001b[0;31m \u001b[0msns\u001b[0m\u001b[0;34m.\u001b[0m\u001b[0mjointplot\u001b[0m\u001b[0;34m(\u001b[0m\u001b[0mtest_y_age\u001b[0m\u001b[0;34m,\u001b[0m \u001b[0mapparent_predictions\u001b[0m\u001b[0;34m)\u001b[0m\u001b[0;34m\u001b[0m\u001b[0;34m\u001b[0m\u001b[0m\n\u001b[0m\u001b[1;32m      3\u001b[0m \u001b[0max\u001b[0m\u001b[0;34m.\u001b[0m\u001b[0mset_xlabel\u001b[0m\u001b[0;34m(\u001b[0m\u001b[0;34m'Actual Age'\u001b[0m\u001b[0;34m)\u001b[0m\u001b[0;34m\u001b[0m\u001b[0;34m\u001b[0m\u001b[0m\n\u001b[1;32m      4\u001b[0m \u001b[0max\u001b[0m\u001b[0;34m.\u001b[0m\u001b[0mset_ylabel\u001b[0m\u001b[0;34m(\u001b[0m\u001b[0;34m'Predicted Age'\u001b[0m\u001b[0;34m)\u001b[0m\u001b[0;34m;\u001b[0m\u001b[0;34m\u001b[0m\u001b[0;34m\u001b[0m\u001b[0m\n",
            "\u001b[0;32m/usr/local/lib/python3.7/dist-packages/seaborn/_decorators.py\u001b[0m in \u001b[0;36minner_f\u001b[0;34m(*args, **kwargs)\u001b[0m\n\u001b[1;32m     44\u001b[0m             )\n\u001b[1;32m     45\u001b[0m         \u001b[0mkwargs\u001b[0m\u001b[0;34m.\u001b[0m\u001b[0mupdate\u001b[0m\u001b[0;34m(\u001b[0m\u001b[0;34m{\u001b[0m\u001b[0mk\u001b[0m\u001b[0;34m:\u001b[0m \u001b[0marg\u001b[0m \u001b[0;32mfor\u001b[0m \u001b[0mk\u001b[0m\u001b[0;34m,\u001b[0m \u001b[0marg\u001b[0m \u001b[0;32min\u001b[0m \u001b[0mzip\u001b[0m\u001b[0;34m(\u001b[0m\u001b[0msig\u001b[0m\u001b[0;34m.\u001b[0m\u001b[0mparameters\u001b[0m\u001b[0;34m,\u001b[0m \u001b[0margs\u001b[0m\u001b[0;34m)\u001b[0m\u001b[0;34m}\u001b[0m\u001b[0;34m)\u001b[0m\u001b[0;34m\u001b[0m\u001b[0;34m\u001b[0m\u001b[0m\n\u001b[0;32m---> 46\u001b[0;31m         \u001b[0;32mreturn\u001b[0m \u001b[0mf\u001b[0m\u001b[0;34m(\u001b[0m\u001b[0;34m**\u001b[0m\u001b[0mkwargs\u001b[0m\u001b[0;34m)\u001b[0m\u001b[0;34m\u001b[0m\u001b[0;34m\u001b[0m\u001b[0m\n\u001b[0m\u001b[1;32m     47\u001b[0m     \u001b[0;32mreturn\u001b[0m \u001b[0minner_f\u001b[0m\u001b[0;34m\u001b[0m\u001b[0;34m\u001b[0m\u001b[0m\n\u001b[1;32m     48\u001b[0m \u001b[0;34m\u001b[0m\u001b[0m\n",
            "\u001b[0;32m/usr/local/lib/python3.7/dist-packages/seaborn/axisgrid.py\u001b[0m in \u001b[0;36mjointplot\u001b[0;34m(x, y, data, kind, color, height, ratio, space, dropna, xlim, ylim, marginal_ticks, joint_kws, marginal_kws, hue, palette, hue_order, hue_norm, **kwargs)\u001b[0m\n\u001b[1;32m   2142\u001b[0m \u001b[0;34m\u001b[0m\u001b[0m\n\u001b[1;32m   2143\u001b[0m         \u001b[0mmarginal_kws\u001b[0m\u001b[0;34m.\u001b[0m\u001b[0msetdefault\u001b[0m\u001b[0;34m(\u001b[0m\u001b[0;34m\"color\"\u001b[0m\u001b[0;34m,\u001b[0m \u001b[0mcolor\u001b[0m\u001b[0;34m)\u001b[0m\u001b[0;34m\u001b[0m\u001b[0;34m\u001b[0m\u001b[0m\n\u001b[0;32m-> 2144\u001b[0;31m         \u001b[0mgrid\u001b[0m\u001b[0;34m.\u001b[0m\u001b[0mplot_marginals\u001b[0m\u001b[0;34m(\u001b[0m\u001b[0mmarg_func\u001b[0m\u001b[0;34m,\u001b[0m \u001b[0;34m**\u001b[0m\u001b[0mmarginal_kws\u001b[0m\u001b[0;34m)\u001b[0m\u001b[0;34m\u001b[0m\u001b[0;34m\u001b[0m\u001b[0m\n\u001b[0m\u001b[1;32m   2145\u001b[0m \u001b[0;34m\u001b[0m\u001b[0m\n\u001b[1;32m   2146\u001b[0m     \u001b[0;32melif\u001b[0m \u001b[0mkind\u001b[0m\u001b[0;34m.\u001b[0m\u001b[0mstartswith\u001b[0m\u001b[0;34m(\u001b[0m\u001b[0;34m\"hist\"\u001b[0m\u001b[0;34m)\u001b[0m\u001b[0;34m:\u001b[0m\u001b[0;34m\u001b[0m\u001b[0;34m\u001b[0m\u001b[0m\n",
            "\u001b[0;32m/usr/local/lib/python3.7/dist-packages/seaborn/axisgrid.py\u001b[0m in \u001b[0;36mplot_marginals\u001b[0;34m(self, func, **kwargs)\u001b[0m\n\u001b[1;32m   1789\u001b[0m \u001b[0;34m\u001b[0m\u001b[0m\n\u001b[1;32m   1790\u001b[0m         \u001b[0;32mif\u001b[0m \u001b[0mseaborn_func\u001b[0m\u001b[0;34m:\u001b[0m\u001b[0;34m\u001b[0m\u001b[0;34m\u001b[0m\u001b[0m\n\u001b[0;32m-> 1791\u001b[0;31m             \u001b[0mfunc\u001b[0m\u001b[0;34m(\u001b[0m\u001b[0my\u001b[0m\u001b[0;34m=\u001b[0m\u001b[0mself\u001b[0m\u001b[0;34m.\u001b[0m\u001b[0my\u001b[0m\u001b[0;34m,\u001b[0m \u001b[0max\u001b[0m\u001b[0;34m=\u001b[0m\u001b[0mself\u001b[0m\u001b[0;34m.\u001b[0m\u001b[0max_marg_y\u001b[0m\u001b[0;34m,\u001b[0m \u001b[0;34m**\u001b[0m\u001b[0mkwargs\u001b[0m\u001b[0;34m)\u001b[0m\u001b[0;34m\u001b[0m\u001b[0;34m\u001b[0m\u001b[0m\n\u001b[0m\u001b[1;32m   1792\u001b[0m         \u001b[0;32melse\u001b[0m\u001b[0;34m:\u001b[0m\u001b[0;34m\u001b[0m\u001b[0;34m\u001b[0m\u001b[0m\n\u001b[1;32m   1793\u001b[0m             \u001b[0mplt\u001b[0m\u001b[0;34m.\u001b[0m\u001b[0msca\u001b[0m\u001b[0;34m(\u001b[0m\u001b[0mself\u001b[0m\u001b[0;34m.\u001b[0m\u001b[0max_marg_y\u001b[0m\u001b[0;34m)\u001b[0m\u001b[0;34m\u001b[0m\u001b[0;34m\u001b[0m\u001b[0m\n",
            "\u001b[0;32m/usr/local/lib/python3.7/dist-packages/seaborn/distributions.py\u001b[0m in \u001b[0;36mhistplot\u001b[0;34m(data, x, y, hue, weights, stat, bins, binwidth, binrange, discrete, cumulative, common_bins, common_norm, multiple, element, fill, shrink, kde, kde_kws, line_kws, thresh, pthresh, pmax, cbar, cbar_ax, cbar_kws, palette, hue_order, hue_norm, color, log_scale, legend, ax, **kwargs)\u001b[0m\n\u001b[1;32m   1434\u001b[0m             \u001b[0mestimate_kws\u001b[0m\u001b[0;34m=\u001b[0m\u001b[0mestimate_kws\u001b[0m\u001b[0;34m,\u001b[0m\u001b[0;34m\u001b[0m\u001b[0;34m\u001b[0m\u001b[0m\n\u001b[1;32m   1435\u001b[0m             \u001b[0mline_kws\u001b[0m\u001b[0;34m=\u001b[0m\u001b[0mline_kws\u001b[0m\u001b[0;34m,\u001b[0m\u001b[0;34m\u001b[0m\u001b[0;34m\u001b[0m\u001b[0m\n\u001b[0;32m-> 1436\u001b[0;31m             \u001b[0;34m**\u001b[0m\u001b[0mkwargs\u001b[0m\u001b[0;34m,\u001b[0m\u001b[0;34m\u001b[0m\u001b[0;34m\u001b[0m\u001b[0m\n\u001b[0m\u001b[1;32m   1437\u001b[0m         )\n\u001b[1;32m   1438\u001b[0m \u001b[0;34m\u001b[0m\u001b[0m\n",
            "\u001b[0;32m/usr/local/lib/python3.7/dist-packages/seaborn/distributions.py\u001b[0m in \u001b[0;36mplot_univariate_histogram\u001b[0;34m(self, multiple, element, fill, common_norm, common_bins, shrink, kde, kde_kws, color, legend, line_kws, estimate_kws, **plot_kws)\u001b[0m\n\u001b[1;32m    559\u001b[0m                     \u001b[0mbottom\u001b[0m\u001b[0;34m,\u001b[0m\u001b[0;34m\u001b[0m\u001b[0;34m\u001b[0m\u001b[0m\n\u001b[1;32m    560\u001b[0m                     \u001b[0malign\u001b[0m\u001b[0;34m=\u001b[0m\u001b[0;34m\"edge\"\u001b[0m\u001b[0;34m,\u001b[0m\u001b[0;34m\u001b[0m\u001b[0;34m\u001b[0m\u001b[0m\n\u001b[0;32m--> 561\u001b[0;31m                     \u001b[0;34m**\u001b[0m\u001b[0martist_kws\u001b[0m\u001b[0;34m,\u001b[0m\u001b[0;34m\u001b[0m\u001b[0;34m\u001b[0m\u001b[0m\n\u001b[0m\u001b[1;32m    562\u001b[0m                 )\n\u001b[1;32m    563\u001b[0m                 \u001b[0;32mfor\u001b[0m \u001b[0mbar\u001b[0m \u001b[0;32min\u001b[0m \u001b[0martists\u001b[0m\u001b[0;34m:\u001b[0m\u001b[0;34m\u001b[0m\u001b[0;34m\u001b[0m\u001b[0m\n",
            "\u001b[0;32m/usr/local/lib/python3.7/dist-packages/matplotlib/axes/_axes.py\u001b[0m in \u001b[0;36mbarh\u001b[0;34m(self, y, width, height, left, align, **kwargs)\u001b[0m\n\u001b[1;32m   2545\u001b[0m         \u001b[0mkwargs\u001b[0m\u001b[0;34m.\u001b[0m\u001b[0msetdefault\u001b[0m\u001b[0;34m(\u001b[0m\u001b[0;34m'orientation'\u001b[0m\u001b[0;34m,\u001b[0m \u001b[0;34m'horizontal'\u001b[0m\u001b[0;34m)\u001b[0m\u001b[0;34m\u001b[0m\u001b[0;34m\u001b[0m\u001b[0m\n\u001b[1;32m   2546\u001b[0m         patches = self.bar(x=left, height=height, width=width, bottom=y,\n\u001b[0;32m-> 2547\u001b[0;31m                            align=align, **kwargs)\n\u001b[0m\u001b[1;32m   2548\u001b[0m         \u001b[0;32mreturn\u001b[0m \u001b[0mpatches\u001b[0m\u001b[0;34m\u001b[0m\u001b[0;34m\u001b[0m\u001b[0m\n\u001b[1;32m   2549\u001b[0m \u001b[0;34m\u001b[0m\u001b[0m\n",
            "\u001b[0;32m/usr/local/lib/python3.7/dist-packages/matplotlib/__init__.py\u001b[0m in \u001b[0;36minner\u001b[0;34m(ax, data, *args, **kwargs)\u001b[0m\n\u001b[1;32m   1563\u001b[0m     \u001b[0;32mdef\u001b[0m \u001b[0minner\u001b[0m\u001b[0;34m(\u001b[0m\u001b[0max\u001b[0m\u001b[0;34m,\u001b[0m \u001b[0;34m*\u001b[0m\u001b[0margs\u001b[0m\u001b[0;34m,\u001b[0m \u001b[0mdata\u001b[0m\u001b[0;34m=\u001b[0m\u001b[0;32mNone\u001b[0m\u001b[0;34m,\u001b[0m \u001b[0;34m**\u001b[0m\u001b[0mkwargs\u001b[0m\u001b[0;34m)\u001b[0m\u001b[0;34m:\u001b[0m\u001b[0;34m\u001b[0m\u001b[0;34m\u001b[0m\u001b[0m\n\u001b[1;32m   1564\u001b[0m         \u001b[0;32mif\u001b[0m \u001b[0mdata\u001b[0m \u001b[0;32mis\u001b[0m \u001b[0;32mNone\u001b[0m\u001b[0;34m:\u001b[0m\u001b[0;34m\u001b[0m\u001b[0;34m\u001b[0m\u001b[0m\n\u001b[0;32m-> 1565\u001b[0;31m             \u001b[0;32mreturn\u001b[0m \u001b[0mfunc\u001b[0m\u001b[0;34m(\u001b[0m\u001b[0max\u001b[0m\u001b[0;34m,\u001b[0m \u001b[0;34m*\u001b[0m\u001b[0mmap\u001b[0m\u001b[0;34m(\u001b[0m\u001b[0msanitize_sequence\u001b[0m\u001b[0;34m,\u001b[0m \u001b[0margs\u001b[0m\u001b[0;34m)\u001b[0m\u001b[0;34m,\u001b[0m \u001b[0;34m**\u001b[0m\u001b[0mkwargs\u001b[0m\u001b[0;34m)\u001b[0m\u001b[0;34m\u001b[0m\u001b[0;34m\u001b[0m\u001b[0m\n\u001b[0m\u001b[1;32m   1566\u001b[0m \u001b[0;34m\u001b[0m\u001b[0m\n\u001b[1;32m   1567\u001b[0m         \u001b[0mbound\u001b[0m \u001b[0;34m=\u001b[0m \u001b[0mnew_sig\u001b[0m\u001b[0;34m.\u001b[0m\u001b[0mbind\u001b[0m\u001b[0;34m(\u001b[0m\u001b[0max\u001b[0m\u001b[0;34m,\u001b[0m \u001b[0;34m*\u001b[0m\u001b[0margs\u001b[0m\u001b[0;34m,\u001b[0m \u001b[0;34m**\u001b[0m\u001b[0mkwargs\u001b[0m\u001b[0;34m)\u001b[0m\u001b[0;34m\u001b[0m\u001b[0;34m\u001b[0m\u001b[0m\n",
            "\u001b[0;32m/usr/local/lib/python3.7/dist-packages/matplotlib/axes/_axes.py\u001b[0m in \u001b[0;36mbar\u001b[0;34m(self, x, height, width, bottom, align, **kwargs)\u001b[0m\n\u001b[1;32m   2402\u001b[0m             \u001b[0;32melif\u001b[0m \u001b[0morientation\u001b[0m \u001b[0;34m==\u001b[0m \u001b[0;34m'horizontal'\u001b[0m\u001b[0;34m:\u001b[0m\u001b[0;34m\u001b[0m\u001b[0;34m\u001b[0m\u001b[0m\n\u001b[1;32m   2403\u001b[0m                 \u001b[0mr\u001b[0m\u001b[0;34m.\u001b[0m\u001b[0msticky_edges\u001b[0m\u001b[0;34m.\u001b[0m\u001b[0mx\u001b[0m\u001b[0;34m.\u001b[0m\u001b[0mappend\u001b[0m\u001b[0;34m(\u001b[0m\u001b[0ml\u001b[0m\u001b[0;34m)\u001b[0m\u001b[0;34m\u001b[0m\u001b[0;34m\u001b[0m\u001b[0m\n\u001b[0;32m-> 2404\u001b[0;31m             \u001b[0mself\u001b[0m\u001b[0;34m.\u001b[0m\u001b[0madd_patch\u001b[0m\u001b[0;34m(\u001b[0m\u001b[0mr\u001b[0m\u001b[0;34m)\u001b[0m\u001b[0;34m\u001b[0m\u001b[0;34m\u001b[0m\u001b[0m\n\u001b[0m\u001b[1;32m   2405\u001b[0m             \u001b[0mpatches\u001b[0m\u001b[0;34m.\u001b[0m\u001b[0mappend\u001b[0m\u001b[0;34m(\u001b[0m\u001b[0mr\u001b[0m\u001b[0;34m)\u001b[0m\u001b[0;34m\u001b[0m\u001b[0;34m\u001b[0m\u001b[0m\n\u001b[1;32m   2406\u001b[0m \u001b[0;34m\u001b[0m\u001b[0m\n",
            "\u001b[0;32m/usr/local/lib/python3.7/dist-packages/matplotlib/axes/_base.py\u001b[0m in \u001b[0;36madd_patch\u001b[0;34m(self, p)\u001b[0m\n\u001b[1;32m   1917\u001b[0m         \u001b[0;32mif\u001b[0m \u001b[0mp\u001b[0m\u001b[0;34m.\u001b[0m\u001b[0mget_clip_path\u001b[0m\u001b[0;34m(\u001b[0m\u001b[0;34m)\u001b[0m \u001b[0;32mis\u001b[0m \u001b[0;32mNone\u001b[0m\u001b[0;34m:\u001b[0m\u001b[0;34m\u001b[0m\u001b[0;34m\u001b[0m\u001b[0m\n\u001b[1;32m   1918\u001b[0m             \u001b[0mp\u001b[0m\u001b[0;34m.\u001b[0m\u001b[0mset_clip_path\u001b[0m\u001b[0;34m(\u001b[0m\u001b[0mself\u001b[0m\u001b[0;34m.\u001b[0m\u001b[0mpatch\u001b[0m\u001b[0;34m)\u001b[0m\u001b[0;34m\u001b[0m\u001b[0;34m\u001b[0m\u001b[0m\n\u001b[0;32m-> 1919\u001b[0;31m         \u001b[0mself\u001b[0m\u001b[0;34m.\u001b[0m\u001b[0m_update_patch_limits\u001b[0m\u001b[0;34m(\u001b[0m\u001b[0mp\u001b[0m\u001b[0;34m)\u001b[0m\u001b[0;34m\u001b[0m\u001b[0;34m\u001b[0m\u001b[0m\n\u001b[0m\u001b[1;32m   1920\u001b[0m         \u001b[0mself\u001b[0m\u001b[0;34m.\u001b[0m\u001b[0mpatches\u001b[0m\u001b[0;34m.\u001b[0m\u001b[0mappend\u001b[0m\u001b[0;34m(\u001b[0m\u001b[0mp\u001b[0m\u001b[0;34m)\u001b[0m\u001b[0;34m\u001b[0m\u001b[0;34m\u001b[0m\u001b[0m\n\u001b[1;32m   1921\u001b[0m         \u001b[0mp\u001b[0m\u001b[0;34m.\u001b[0m\u001b[0m_remove_method\u001b[0m \u001b[0;34m=\u001b[0m \u001b[0mself\u001b[0m\u001b[0;34m.\u001b[0m\u001b[0mpatches\u001b[0m\u001b[0;34m.\u001b[0m\u001b[0mremove\u001b[0m\u001b[0;34m\u001b[0m\u001b[0;34m\u001b[0m\u001b[0m\n",
            "\u001b[0;32m/usr/local/lib/python3.7/dist-packages/matplotlib/axes/_base.py\u001b[0m in \u001b[0;36m_update_patch_limits\u001b[0;34m(self, patch)\u001b[0m\n\u001b[1;32m   1937\u001b[0m         \u001b[0mvertices\u001b[0m \u001b[0;34m=\u001b[0m \u001b[0mpatch\u001b[0m\u001b[0;34m.\u001b[0m\u001b[0mget_path\u001b[0m\u001b[0;34m(\u001b[0m\u001b[0;34m)\u001b[0m\u001b[0;34m.\u001b[0m\u001b[0mvertices\u001b[0m\u001b[0;34m\u001b[0m\u001b[0;34m\u001b[0m\u001b[0m\n\u001b[1;32m   1938\u001b[0m         \u001b[0;32mif\u001b[0m \u001b[0mvertices\u001b[0m\u001b[0;34m.\u001b[0m\u001b[0msize\u001b[0m \u001b[0;34m>\u001b[0m \u001b[0;36m0\u001b[0m\u001b[0;34m:\u001b[0m\u001b[0;34m\u001b[0m\u001b[0;34m\u001b[0m\u001b[0m\n\u001b[0;32m-> 1939\u001b[0;31m             \u001b[0mxys\u001b[0m \u001b[0;34m=\u001b[0m \u001b[0mpatch\u001b[0m\u001b[0;34m.\u001b[0m\u001b[0mget_patch_transform\u001b[0m\u001b[0;34m(\u001b[0m\u001b[0;34m)\u001b[0m\u001b[0;34m.\u001b[0m\u001b[0mtransform\u001b[0m\u001b[0;34m(\u001b[0m\u001b[0mvertices\u001b[0m\u001b[0;34m)\u001b[0m\u001b[0;34m\u001b[0m\u001b[0;34m\u001b[0m\u001b[0m\n\u001b[0m\u001b[1;32m   1940\u001b[0m             \u001b[0;32mif\u001b[0m \u001b[0mpatch\u001b[0m\u001b[0;34m.\u001b[0m\u001b[0mget_data_transform\u001b[0m\u001b[0;34m(\u001b[0m\u001b[0;34m)\u001b[0m \u001b[0;34m!=\u001b[0m \u001b[0mself\u001b[0m\u001b[0;34m.\u001b[0m\u001b[0mtransData\u001b[0m\u001b[0;34m:\u001b[0m\u001b[0;34m\u001b[0m\u001b[0;34m\u001b[0m\u001b[0m\n\u001b[1;32m   1941\u001b[0m                 patch_to_data = (patch.get_data_transform() -\n",
            "\u001b[0;32m/usr/local/lib/python3.7/dist-packages/matplotlib/patches.py\u001b[0m in \u001b[0;36mget_patch_transform\u001b[0;34m(self)\u001b[0m\n\u001b[1;32m    775\u001b[0m \u001b[0;34m\u001b[0m\u001b[0m\n\u001b[1;32m    776\u001b[0m     \u001b[0;32mdef\u001b[0m \u001b[0mget_patch_transform\u001b[0m\u001b[0;34m(\u001b[0m\u001b[0mself\u001b[0m\u001b[0;34m)\u001b[0m\u001b[0;34m:\u001b[0m\u001b[0;34m\u001b[0m\u001b[0;34m\u001b[0m\u001b[0m\n\u001b[0;32m--> 777\u001b[0;31m         \u001b[0mself\u001b[0m\u001b[0;34m.\u001b[0m\u001b[0m_update_patch_transform\u001b[0m\u001b[0;34m(\u001b[0m\u001b[0;34m)\u001b[0m\u001b[0;34m\u001b[0m\u001b[0;34m\u001b[0m\u001b[0m\n\u001b[0m\u001b[1;32m    778\u001b[0m         \u001b[0;32mreturn\u001b[0m \u001b[0mself\u001b[0m\u001b[0;34m.\u001b[0m\u001b[0m_rect_transform\u001b[0m\u001b[0;34m\u001b[0m\u001b[0;34m\u001b[0m\u001b[0m\n\u001b[1;32m    779\u001b[0m \u001b[0;34m\u001b[0m\u001b[0m\n",
            "\u001b[0;32m/usr/local/lib/python3.7/dist-packages/matplotlib/patches.py\u001b[0m in \u001b[0;36m_update_patch_transform\u001b[0;34m(self)\u001b[0m\n\u001b[1;32m    758\u001b[0m         \u001b[0mrot_trans\u001b[0m\u001b[0;34m.\u001b[0m\u001b[0mrotate_deg_around\u001b[0m\u001b[0;34m(\u001b[0m\u001b[0mx0\u001b[0m\u001b[0;34m,\u001b[0m \u001b[0my0\u001b[0m\u001b[0;34m,\u001b[0m \u001b[0mself\u001b[0m\u001b[0;34m.\u001b[0m\u001b[0mangle\u001b[0m\u001b[0;34m)\u001b[0m\u001b[0;34m\u001b[0m\u001b[0;34m\u001b[0m\u001b[0m\n\u001b[1;32m    759\u001b[0m         \u001b[0mself\u001b[0m\u001b[0;34m.\u001b[0m\u001b[0m_rect_transform\u001b[0m \u001b[0;34m=\u001b[0m \u001b[0mtransforms\u001b[0m\u001b[0;34m.\u001b[0m\u001b[0mBboxTransformTo\u001b[0m\u001b[0;34m(\u001b[0m\u001b[0mbbox\u001b[0m\u001b[0;34m)\u001b[0m\u001b[0;34m\u001b[0m\u001b[0;34m\u001b[0m\u001b[0m\n\u001b[0;32m--> 760\u001b[0;31m         \u001b[0mself\u001b[0m\u001b[0;34m.\u001b[0m\u001b[0m_rect_transform\u001b[0m \u001b[0;34m+=\u001b[0m \u001b[0mrot_trans\u001b[0m\u001b[0;34m\u001b[0m\u001b[0;34m\u001b[0m\u001b[0m\n\u001b[0m\u001b[1;32m    761\u001b[0m \u001b[0;34m\u001b[0m\u001b[0m\n\u001b[1;32m    762\u001b[0m     \u001b[0;32mdef\u001b[0m \u001b[0m_update_x1\u001b[0m\u001b[0;34m(\u001b[0m\u001b[0mself\u001b[0m\u001b[0;34m)\u001b[0m\u001b[0;34m:\u001b[0m\u001b[0;34m\u001b[0m\u001b[0;34m\u001b[0m\u001b[0m\n",
            "\u001b[0;32m/usr/local/lib/python3.7/dist-packages/matplotlib/transforms.py\u001b[0m in \u001b[0;36m__add__\u001b[0;34m(self, other)\u001b[0m\n\u001b[1;32m   1251\u001b[0m         \"\"\"\n\u001b[1;32m   1252\u001b[0m         \u001b[0;32mif\u001b[0m \u001b[0misinstance\u001b[0m\u001b[0;34m(\u001b[0m\u001b[0mother\u001b[0m\u001b[0;34m,\u001b[0m \u001b[0mTransform\u001b[0m\u001b[0;34m)\u001b[0m\u001b[0;34m:\u001b[0m\u001b[0;34m\u001b[0m\u001b[0;34m\u001b[0m\u001b[0m\n\u001b[0;32m-> 1253\u001b[0;31m             \u001b[0;32mreturn\u001b[0m \u001b[0mcomposite_transform_factory\u001b[0m\u001b[0;34m(\u001b[0m\u001b[0mself\u001b[0m\u001b[0;34m,\u001b[0m \u001b[0mother\u001b[0m\u001b[0;34m)\u001b[0m\u001b[0;34m\u001b[0m\u001b[0;34m\u001b[0m\u001b[0m\n\u001b[0m\u001b[1;32m   1254\u001b[0m         raise TypeError(\n\u001b[1;32m   1255\u001b[0m             \"Can not add Transform to object of type '%s'\" % type(other))\n",
            "\u001b[0;32m/usr/local/lib/python3.7/dist-packages/matplotlib/transforms.py\u001b[0m in \u001b[0;36mcomposite_transform_factory\u001b[0;34m(a, b)\u001b[0m\n\u001b[1;32m   2484\u001b[0m     \u001b[0;32melif\u001b[0m \u001b[0misinstance\u001b[0m\u001b[0;34m(\u001b[0m\u001b[0ma\u001b[0m\u001b[0;34m,\u001b[0m \u001b[0mAffine2D\u001b[0m\u001b[0;34m)\u001b[0m \u001b[0;32mand\u001b[0m \u001b[0misinstance\u001b[0m\u001b[0;34m(\u001b[0m\u001b[0mb\u001b[0m\u001b[0;34m,\u001b[0m \u001b[0mAffine2D\u001b[0m\u001b[0;34m)\u001b[0m\u001b[0;34m:\u001b[0m\u001b[0;34m\u001b[0m\u001b[0;34m\u001b[0m\u001b[0m\n\u001b[1;32m   2485\u001b[0m         \u001b[0;32mreturn\u001b[0m \u001b[0mCompositeAffine2D\u001b[0m\u001b[0;34m(\u001b[0m\u001b[0ma\u001b[0m\u001b[0;34m,\u001b[0m \u001b[0mb\u001b[0m\u001b[0;34m)\u001b[0m\u001b[0;34m\u001b[0m\u001b[0;34m\u001b[0m\u001b[0m\n\u001b[0;32m-> 2486\u001b[0;31m     \u001b[0;32mreturn\u001b[0m \u001b[0mCompositeGenericTransform\u001b[0m\u001b[0;34m(\u001b[0m\u001b[0ma\u001b[0m\u001b[0;34m,\u001b[0m \u001b[0mb\u001b[0m\u001b[0;34m)\u001b[0m\u001b[0;34m\u001b[0m\u001b[0;34m\u001b[0m\u001b[0m\n\u001b[0m\u001b[1;32m   2487\u001b[0m \u001b[0;34m\u001b[0m\u001b[0m\n\u001b[1;32m   2488\u001b[0m \u001b[0;34m\u001b[0m\u001b[0m\n",
            "\u001b[0;32m/usr/local/lib/python3.7/dist-packages/matplotlib/transforms.py\u001b[0m in \u001b[0;36m__init__\u001b[0;34m(self, a, b, **kwargs)\u001b[0m\n\u001b[1;32m   2306\u001b[0m         \u001b[0mself\u001b[0m\u001b[0;34m.\u001b[0m\u001b[0m_a\u001b[0m \u001b[0;34m=\u001b[0m \u001b[0ma\u001b[0m\u001b[0;34m\u001b[0m\u001b[0;34m\u001b[0m\u001b[0m\n\u001b[1;32m   2307\u001b[0m         \u001b[0mself\u001b[0m\u001b[0;34m.\u001b[0m\u001b[0m_b\u001b[0m \u001b[0;34m=\u001b[0m \u001b[0mb\u001b[0m\u001b[0;34m\u001b[0m\u001b[0;34m\u001b[0m\u001b[0m\n\u001b[0;32m-> 2308\u001b[0;31m         \u001b[0mself\u001b[0m\u001b[0;34m.\u001b[0m\u001b[0mset_children\u001b[0m\u001b[0;34m(\u001b[0m\u001b[0ma\u001b[0m\u001b[0;34m,\u001b[0m \u001b[0mb\u001b[0m\u001b[0;34m)\u001b[0m\u001b[0;34m\u001b[0m\u001b[0;34m\u001b[0m\u001b[0m\n\u001b[0m\u001b[1;32m   2309\u001b[0m \u001b[0;34m\u001b[0m\u001b[0m\n\u001b[1;32m   2310\u001b[0m     \u001b[0;32mdef\u001b[0m \u001b[0mfrozen\u001b[0m\u001b[0;34m(\u001b[0m\u001b[0mself\u001b[0m\u001b[0;34m)\u001b[0m\u001b[0;34m:\u001b[0m\u001b[0;34m\u001b[0m\u001b[0;34m\u001b[0m\u001b[0m\n",
            "\u001b[0;32m/usr/local/lib/python3.7/dist-packages/matplotlib/transforms.py\u001b[0m in \u001b[0;36mset_children\u001b[0;34m(self, *children)\u001b[0m\n\u001b[1;32m    176\u001b[0m             \u001b[0;31m# performance improvement over using WeakValueDictionary.\u001b[0m\u001b[0;34m\u001b[0m\u001b[0;34m\u001b[0m\u001b[0;34m\u001b[0m\u001b[0m\n\u001b[1;32m    177\u001b[0m             ref = weakref.ref(self, lambda ref, sid=id(self),\n\u001b[0;32m--> 178\u001b[0;31m                                         target=child._parents: target.pop(sid))\n\u001b[0m\u001b[1;32m    179\u001b[0m             \u001b[0mchild\u001b[0m\u001b[0;34m.\u001b[0m\u001b[0m_parents\u001b[0m\u001b[0;34m[\u001b[0m\u001b[0mid\u001b[0m\u001b[0;34m(\u001b[0m\u001b[0mself\u001b[0m\u001b[0;34m)\u001b[0m\u001b[0;34m]\u001b[0m \u001b[0;34m=\u001b[0m \u001b[0mref\u001b[0m\u001b[0;34m\u001b[0m\u001b[0;34m\u001b[0m\u001b[0m\n\u001b[1;32m    180\u001b[0m \u001b[0;34m\u001b[0m\u001b[0m\n",
            "\u001b[0;31mKeyboardInterrupt\u001b[0m: "
          ]
        }
      ]
    },
    {
      "cell_type": "markdown",
      "metadata": {
        "id": "_M0c0QdBLWig"
      },
      "source": [
        "**Correlation**\n",
        "\n",
        "Check Pearson Correlation Coefficient between predicted ages and actual ages."
      ]
    },
    {
      "cell_type": "code",
      "metadata": {
        "id": "z7jW0Cg4-ToY"
      },
      "source": [
        "# corr(test_y_age, apparent_predictions)\n",
        "np.corrcoef(test_y_age, apparent_predictions)"
      ],
      "execution_count": null,
      "outputs": []
    },
    {
      "cell_type": "markdown",
      "metadata": {
        "id": "7_0Rwq7TMDMh"
      },
      "source": [
        "**Confusion Matrix**\n",
        "\n",
        "We will create and plot a Confusion Matrix to visualize prediction accuracy in a grid."
      ]
    },
    {
      "cell_type": "code",
      "metadata": {
        "id": "actIQ50nrVCk"
      },
      "source": [
        "# confusion_matrix\n",
        "from sklearn.metrics import confusion_matrix\n",
        "import itertools\n",
        "sns.set_theme(style='dark')\n",
        "# prediction_list = np.array(prediction_list) + 8\n",
        "conf_mat1 = confusion_matrix(test_y_age, prediction_list)"
      ],
      "execution_count": null,
      "outputs": []
    },
    {
      "cell_type": "code",
      "metadata": {
        "id": "CFCCsFX7raDF"
      },
      "source": [
        "# plot the confusion matrix \n",
        "def plot_confusion_matrix(cm, classes, normalize=False, title='Confusion Matrix', export_as='confusion_matrix', cmap=plt.cm.Blues):\n",
        "    plt.imshow(cm, cmap=cmap, interpolation='nearest')\n",
        "    plt.title(title, fontsize=22)\n",
        "    plt.colorbar()\n",
        "    a_list = list(range(73))\n",
        "    b_list = [8,'',10,'','','','',15,'','','','',20,'','','','',25,'','','','',30,'','','','',35,'','','','',40,'','','','',\\\n",
        "                   45,'','','','',50,'','','','',55,'','','','',60,'','','','',65,'','','','',70,'','','','',75  ,'','','','',80]\n",
        "    plt.xticks(a_list, b_list, fontsize=12)\n",
        "    plt.yticks(a_list, b_list, fontsize=12)\n",
        "\n",
        "    plt.tight_layout()\n",
        "    plt.xlabel('Actual Age', fontsize=18)\n",
        "    plt.ylabel('Predicted Age', fontsize=18)\n",
        "    plt.savefig('/content/drive/MyDrive/YOUNGER/conf_mat1.png');"
      ],
      "execution_count": null,
      "outputs": []
    },
    {
      "cell_type": "code",
      "metadata": {
        "id": "jFYtVGP8rlPA"
      },
      "source": [
        "plt.figure(figsize=(10,10))\n",
        "plot_confusion_matrix(conf_mat1, list(range(73)), normalize=False,\n",
        "                      title=\"Confusion Matrix: Age Prediction, CNN Model 1\")\n",
        "plt.show()"
      ],
      "execution_count": null,
      "outputs": []
    },
    {
      "cell_type": "markdown",
      "metadata": {
        "id": "_WtrOUV9QZIj"
      },
      "source": [
        "**Observation:**\n",
        "Again, we can see the correlation trend forming a linear shape. Perfect predictions would form a dark blue line from top-left to bottom-right. The predictions are far from perfect. "
      ]
    },
    {
      "cell_type": "markdown",
      "metadata": {
        "id": "6KXcUfOaFUqX"
      },
      "source": [
        "\n",
        "\n",
        "---\n",
        "\n"
      ]
    },
    {
      "cell_type": "markdown",
      "metadata": {
        "id": "ZcNql82_C7JG"
      },
      "source": [
        "##**5.6 Unseen Data Test**\n",
        "\n",
        "We will create a sequence to predict the ages of new images loaded through Google Drive and also images from on the Internet. \n",
        "\n",
        "We can imagine this being the \"app\" where a user inputs their photo and the app returns an age prediction. This is the practical application of the predictor. "
      ]
    },
    {
      "cell_type": "code",
      "metadata": {
        "id": "N5xYEDfKzoBG"
      },
      "source": [
        "# image preprocessing\n",
        "def loadImage(filepath):\n",
        "    test_img = image.load_img(filepath, target_size=(224, 224))\n",
        "    test_img = image.img_to_array(test_img)\n",
        "    test_img = np.expand_dims(test_img, axis = 0)\n",
        "    test_img /= 255\n",
        "    return test_img"
      ],
      "execution_count": null,
      "outputs": []
    },
    {
      "cell_type": "code",
      "metadata": {
        "id": "Cp0kgrIrzwUI"
      },
      "source": [
        "# predictor function using the model created above\n",
        "from keras.preprocessing import image\n",
        "sns.set_theme(style='dark')\n",
        "picture1 = ''\n",
        "def image_age(photo=picture1):\n",
        "  prediction = age_model.predict(loadImage(photo))\n",
        "  img = image.load_img(photo)#, target_size=(224, 224))\n",
        "  plt.xticks([], []), ax.set_xticks([]), plt.yticks([], []), ax.set_yticks([]) # clear x & y ticks\n",
        "  plt.imshow(img)   # display image\n",
        "  plt.show()\n",
        "  \n",
        "  # print(\"Predicted Age: \", (np.argmax(prediction))+8)\n",
        "  apparent_age = np.round(np.sum(prediction * output_indexes, axis = 1))\n",
        "  print(\" Predicted Age: \", int(apparent_age[0]))"
      ],
      "execution_count": null,
      "outputs": []
    },
    {
      "cell_type": "code",
      "metadata": {
        "id": "cL2J7J2dzvWx"
      },
      "source": [
        "# visualize probabilites of each age class\n",
        "def viz_prob(pic=picture1):\n",
        "  prediction_1 = age_model.predict(loadImage(pic))\n",
        "  y_pos = np.arange(73)+8\n",
        "  plt.bar(y_pos, prediction_1[0], align='center', alpha=0.8)\n",
        "  plt.ylabel('percentage')\n",
        "  plt.title('age')\n",
        "  plt.show()"
      ],
      "execution_count": null,
      "outputs": []
    },
    {
      "cell_type": "markdown",
      "metadata": {
        "id": "cbtmtDVdarJv"
      },
      "source": [
        "**Load New Image, Predict Age, Visualize Probabilites**"
      ]
    },
    {
      "cell_type": "code",
      "metadata": {
        "id": "0vmP0Bluw15j"
      },
      "source": [
        "# insert image from Google Drive by path\n",
        "picture1 = \"/content/drive/MyDrive/YOUNGER/face_old.jpeg\"\n",
        "\n",
        "image_age(picture1)\n",
        "viz_prob(picture1)"
      ],
      "execution_count": null,
      "outputs": []
    },
    {
      "cell_type": "code",
      "metadata": {
        "id": "u2-mmj5QWgGq"
      },
      "source": [
        "picture1 = \"/content/drive/MyDrive/YOUNGER/prem_linked.jpg\"\n",
        "image_age(picture1)\n",
        "viz_prob(picture1)"
      ],
      "execution_count": null,
      "outputs": []
    },
    {
      "cell_type": "code",
      "metadata": {
        "id": "zgurgjGz6DtM"
      },
      "source": [
        "# create a web image upload & predict sequence\n",
        "from PIL import Image\n",
        "import requests\n",
        "\n",
        "url=''\n",
        "def web_age(url=url):  \n",
        "  web_photo = Image.open(requests.get(url, stream=True).raw).save(\"web_photo.jpg\")\n",
        "  picture1 = \"/content/web_photo.jpg\"\n",
        "  image_age(picture1)\n",
        "  # viz_prob(picture1)"
      ],
      "execution_count": null,
      "outputs": []
    },
    {
      "cell_type": "code",
      "metadata": {
        "id": "kFSO4LkqcKWZ"
      },
      "source": [
        "url = 'https://i.guim.co.uk/img/media/68b70e0ccc658b9b01cc7bf6a972134f2a5136e4/0_186_1900_1139/master/1900.jpg?width=1200&height=1200&quality=85&auto=format&fit=crop&s=c391df10a394dc50fafe584915c753e5'\n",
        "web_age(url)"
      ],
      "execution_count": null,
      "outputs": []
    },
    {
      "cell_type": "code",
      "metadata": {
        "id": "ABWi_soocYGQ"
      },
      "source": [
        "url = 'https://myimagejourney.com/wp-content/uploads/2013/08/2013-04-20-16.02.40.jpg'\n",
        "web_age(url)"
      ],
      "execution_count": null,
      "outputs": []
    },
    {
      "cell_type": "code",
      "metadata": {
        "id": "fSe3QTnecyIF"
      },
      "source": [
        "url = 'https://static.wikia.nocookie.net/harrypotter/images/9/97/Harry_Potter.jpg/revision/latest?cb=20140603201724'\n",
        "web_age(url)"
      ],
      "execution_count": null,
      "outputs": []
    },
    {
      "cell_type": "code",
      "metadata": {
        "id": "q3cQYDDXdMpg"
      },
      "source": [
        "url = 'https://encrypted-tbn0.gstatic.com/images?q=tbn:ANd9GcRed4B_N95FjRE0a-2sn3OEXAjc0SkMkWeJTQ&usqp=CAU'\n",
        "web_age(url)"
      ],
      "execution_count": null,
      "outputs": []
    },
    {
      "cell_type": "markdown",
      "metadata": {
        "id": "19QADLuWjblL"
      },
      "source": [
        "\n",
        "\n",
        "---\n",
        "\n"
      ]
    },
    {
      "cell_type": "markdown",
      "metadata": {
        "id": "fRhrsD9SjrO7"
      },
      "source": [
        "# **VI. SUMMARY**"
      ]
    },
    {
      "cell_type": "markdown",
      "metadata": {
        "id": "FQJjfxDUkLfU"
      },
      "source": [
        "\n",
        "\n",
        "Well, that was a lot. Let's take a look at what this notebook covers. \n",
        "\n",
        "**Preprocessing**\n",
        "\n",
        "During preprocessing, we loaded and prepared the data for machine learning by one-hot encoding the target classes. We scaled the pixel values from 0-255 to 0-1. We also split the data into training and testing subsets.\n",
        "\n",
        "**Modeling**\n",
        "\n",
        "Onward to modeling, we used a proven model arcitecture with pretrained weights for the first layers to expedite our learning. By using transfer learning we were able to use the existing model weights that have been previously trained on a massive 2.6 million image dataset. We froze the early layers and focuses on training the later layers in the model. Next we trained the model, observed results of the training, and reset the batchsize and the number of epochs to achieve a reasonable learning rate without overfitting.\n",
        "\n",
        "**Metrics**\n",
        "\n",
        "Our primary model performance metric is validation loss. We created our model to train to minimize validation loss and save the best weights progressively. We eventually got down to a reasonable validation loss for this project.\n",
        "\n",
        "Our primary overall metric is Mean Absolute Error (MAE). We want to minimize how far our predicted are from the actual ages. So far our MAE is still far from ideal. Training on a lot more data will help.\n",
        "\n",
        "**Visualizations**\n",
        "\n",
        "We created a confusion matrix, a scatterplot and a jointplot to get a sense of how well the model is predicting. Overall, the general trend is positive but there is room for improvement.\n",
        "\n",
        "**Unseen Data**\n",
        "\n",
        "We created a small program to predict the ages for new images from Google Drive and from the Internet. The results were encouraging."
      ]
    },
    {
      "cell_type": "markdown",
      "metadata": {
        "id": "7hBWV-Qai6uf"
      },
      "source": [
        "\n",
        "\n",
        "---\n",
        "\n"
      ]
    },
    {
      "cell_type": "code",
      "metadata": {
        "id": "GTOHCCjzgR5i"
      },
      "source": [
        "# one for the road\n",
        "url = 'https://imagesvc.meredithcorp.io/v3/mm/image?q=85&c=sc&poi=face&w=1200&h=1600&url=https%3A%2F%2Fstatic.onecms.io%2Fwp-content%2Fuploads%2Fsites%2F20%2F2019%2F05%2Fkim-beauty.jpg'\n",
        "web_age(url)"
      ],
      "execution_count": null,
      "outputs": []
    },
    {
      "cell_type": "markdown",
      "metadata": {
        "id": "36ynNMEDi8rL"
      },
      "source": [
        "\n",
        "\n",
        "---\n",
        "\n"
      ]
    },
    {
      "cell_type": "markdown",
      "metadata": {
        "id": "tD6Lsmxlh3s8"
      },
      "source": [
        "# **VII. REFERENCES**\n"
      ]
    },
    {
      "cell_type": "markdown",
      "metadata": {
        "id": "ntycdHWdR2uJ"
      },
      "source": [
        "1.   https://data.vision.ee.ethz.ch/cvl/rrothe/imdb-wiki/ \n",
        "2.   https://data.vision.ee.ethz.ch/cvl/publications/papers/proceedings/eth_biwi_01229.pdf\n",
        "3. https://sefiks.com/2019/02/13/apparent-age-and-gender-prediction-in-keras/ \n",
        "4. https://www.researchgate.net/publication/265125544_Face_Detection_without_Bells_and_Whistles\n",
        "5. https://github.com/yu4u/age-gender-estimation\n",
        "6. https://www.robots.ox.ac.uk/~vgg/publications/2015/Parkhi15/parkhi15.pdf\n",
        "7. https://link.springer.com/chapter/10.1007/978-3-319-10593-2_47\n",
        "\n",
        "\n",
        "---"
      ]
    },
    {
      "cell_type": "markdown",
      "metadata": {
        "id": "UhDT3ZLzzWxs"
      },
      "source": [
        "# **VIII. APPENDIX**\n"
      ]
    },
    {
      "cell_type": "markdown",
      "metadata": {
        "id": "76KTAepOh-6q"
      },
      "source": [
        "**Model Summary**\n",
        "\n",
        "[VGG-Face Model](https://https://www.robots.ox.ac.uk/~vgg/publications/2015/Parkhi15/parkhi15.pdf) was the basis for our model. We used the VGG-Face structure and trained on the last 4 custom layers."
      ]
    },
    {
      "cell_type": "code",
      "metadata": {
        "id": "nkc3RndZQa4t"
      },
      "source": [
        "age_model.summary()"
      ],
      "execution_count": null,
      "outputs": []
    },
    {
      "cell_type": "markdown",
      "metadata": {
        "id": "oc6stSC6if16"
      },
      "source": [
        "\n",
        "\n",
        "---\n",
        "\n"
      ]
    },
    {
      "cell_type": "markdown",
      "metadata": {
        "id": "f_qgZlJNig45"
      },
      "source": [
        "**TensorBoard**\n",
        "TensorBoard visualization for experimentation."
      ]
    },
    {
      "cell_type": "code",
      "metadata": {
        "id": "TZiUC3Emb7YO"
      },
      "source": [
        "# !kill 380\n",
        "%tensorboard --logdir logs/fit"
      ],
      "execution_count": null,
      "outputs": []
    },
    {
      "cell_type": "code",
      "metadata": {
        "id": "7YBQ-hXQf2iE"
      },
      "source": [
        "!tensorboard dev upload \\\n",
        "  --logdir logs/fit \\\n",
        "  --name \"My latest experiment\" \\\n",
        "  --description \"Simple comparison of hyperparameters\" \\\n",
        "  --one_shot"
      ],
      "execution_count": null,
      "outputs": []
    }
  ]
}