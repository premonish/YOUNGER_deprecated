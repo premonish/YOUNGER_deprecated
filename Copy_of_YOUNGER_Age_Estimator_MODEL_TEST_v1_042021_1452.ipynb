{
  "nbformat": 4,
  "nbformat_minor": 0,
  "metadata": {
    "colab": {
      "name": "Copy of YOUNGER_Age_Estimator_MODEL_TEST_v1_042021_1452",
      "provenance": [],
      "collapsed_sections": [],
      "toc_visible": true,
      "machine_shape": "hm",
      "include_colab_link": true
    },
    "kernelspec": {
      "display_name": "Python 3",
      "language": "python",
      "name": "python3"
    },
    "language_info": {
      "codemirror_mode": {
        "name": "ipython",
        "version": 3
      },
      "file_extension": ".py",
      "mimetype": "text/x-python",
      "name": "python",
      "nbconvert_exporter": "python",
      "pygments_lexer": "ipython3",
      "version": "3.7.6"
    },
    "accelerator": "GPU"
  },
  "cells": [
    {
      "cell_type": "markdown",
      "metadata": {
        "id": "view-in-github",
        "colab_type": "text"
      },
      "source": [
        "<a href=\"https://colab.research.google.com/github/premonish/YOUNGER_deprecated/blob/main/Copy_of_YOUNGER_Age_Estimator_MODEL_TEST_v1_042021_1452.ipynb\" target=\"_parent\"><img src=\"https://colab.research.google.com/assets/colab-badge.svg\" alt=\"Open In Colab\"/></a>"
      ]
    },
    {
      "cell_type": "markdown",
      "metadata": {
        "id": "5NdHFhDErTM4"
      },
      "source": [
        "# **YOUNGER - Age Estimator**"
      ]
    },
    {
      "cell_type": "markdown",
      "metadata": {
        "id": "nAuKSR5HuQCy"
      },
      "source": [
        "# **I. PROBLEM IDENTIFICATION**"
      ]
    },
    {
      "cell_type": "markdown",
      "metadata": {
        "id": "bu0ZzPKHreQo"
      },
      "source": [
        "## A. Introduction"
      ]
    },
    {
      "cell_type": "markdown",
      "metadata": {
        "id": "dxTSoNsp1Gqz"
      },
      "source": [
        "**CONTEXT:** \"Babyface\" a startup skincare company wants to build an app that can estimate a person’s age from an image. They need an app to create an age estimate within about 5 years of their real age. The primary problem to solve is: When given a photo of a face, estimate the age with reasonable accuracy. Babyface will eventually use this to create \"before & after\" age estimates to demonstrate the benefits of their skin products.\n",
        "\n",
        "**[INPUT] → [OUTPUT]**\n",
        "\n",
        "**[Photo of a face] → [Age estimate]**"
      ]
    },
    {
      "cell_type": "markdown",
      "metadata": {
        "id": "WtcERHZA0f1-"
      },
      "source": [
        "## B. Proposed Method"
      ]
    },
    {
      "cell_type": "markdown",
      "metadata": {
        "id": "bbPmAo_a1Rb1"
      },
      "source": [
        "**i. The techniques** to explore are a combination of **Support Vector Machines, Decision Trees, K Nearest Neighbor, and Convolutional Neural Network (CNN)** (for feature detection)."
      ]
    },
    {
      "cell_type": "markdown",
      "metadata": {
        "id": "RWsAxEOS3j9-"
      },
      "source": [
        "**ii. Process Overview**\n",
        "\n",
        "1. DATA WRANGLING - Source Data, Download Data, Inspect Data, Clean Data\n",
        "2. EXPLORATORY DATA ANALYSIS - Statistical EDA, Visual EDA\n",
        "3. PREPROCESSING - Face Detection, Crop Images, Augmentation, Class Balancing\n",
        "4. TRAINING - Feature Extraction\n",
        "5. MODELING - Prediction, Hyperparameter Tuning"
      ]
    },
    {
      "cell_type": "markdown",
      "metadata": {
        "id": "Z_MaOw6FvBd8"
      },
      "source": [
        "# **II. DATA WRANGLING**"
      ]
    },
    {
      "cell_type": "markdown",
      "metadata": {
        "id": "dy1UfWrAtL-l"
      },
      "source": [
        "**DATASET:** Researchers from ETH Zurich University have created a labeled dataset used to successfully predicting age and gender from face images.\n",
        "The image dataset consists of human faces with associated ages. \n",
        "\n",
        "\"In total we obtained 460,723 face images from 20,284 celebrities from IMDb and 62,328 from Wikipedia, thus 523,051 in total.\"\n",
        "\n",
        "[IMDB-WIKI – 500k+ face images with age and gender labels\n",
        "Rasmus Rothe, Radu Timofte, Luc Van Gool](https://data.vision.ee.ethz.ch/cvl/rrothe/imdb-wiki/)\n"
      ]
    },
    {
      "cell_type": "markdown",
      "metadata": {
        "id": "s9lm5UwHePLz"
      },
      "source": [
        "**DETAILS:** The dataset that we will use for our age predictor was created by Rasmus Rothe, Radu Timofte, Luc Van Gool in combination with a competition \"ChaLearn LAP 2015\" dataset. This dataset was scraped from IMDb and Wikipedia. The dataset is labeled with date-of-birth (DOB) and gender and includes only images with timestamps, indicating when the image was captured. The age of the person in the image can be obtained by simply subtracting the person's date of birth from the timestamp (picture taken date). It is important to note that some of the IMDb dataset images are \"production photos\" like movie posters and the timestamps may not be precise, since movie production cycles can be months long.\n",
        "\n",
        "**APPROACH:** *Source, Download, Inspect, Clean:* Since we have sourced an image dataset, we will proceed by downloading the dataset and exploring the images and metadata to understand the attirbutes of the data and any constraints or missing information. The ages can be calculated from the subjects' date of birth and the related photo taken date. We will then clean our dataset as needed and distill the dataset down to the essential features useful for feature extraction."
      ]
    },
    {
      "cell_type": "code",
      "metadata": {
        "id": "KoFpJkXPKJV4"
      },
      "source": [
        "# !pip install tensorflow"
      ],
      "execution_count": 1,
      "outputs": []
    },
    {
      "cell_type": "markdown",
      "metadata": {
        "id": "b0T5efW7dih1"
      },
      "source": [
        "**Why Google Colab?**\n",
        "\n",
        "Google Colab was chosen as we intend to use a deep learning convolutional neural network (CNN) for training and modeling as CNNs excel for image classification projects. Google Colab provides free access to GPUs that will expedite training immensely. The platform is also very handy for live team collaboration in a Google Docs/Sheets style."
      ]
    },
    {
      "cell_type": "code",
      "metadata": {
        "id": "paCb6SdG9lPb"
      },
      "source": [
        "# Creating a list of currently installed python libraries for posterity\n",
        "# !pip freeze > requirements.txt"
      ],
      "execution_count": 2,
      "outputs": []
    },
    {
      "cell_type": "code",
      "metadata": {
        "id": "t6lsfcB9EpWm"
      },
      "source": [
        "### IMPORT libraries and packages ###\n",
        "### I get by with a little help from my friends ###\n",
        "import os\n",
        "from pathlib import Path\n",
        "import pandas as pd\n",
        "import matplotlib.pyplot as plt\n",
        "import seaborn as sns\n",
        "import numpy as np\n",
        "import PIL\n",
        "from PIL import Image\n",
        "import requests\n",
        "import scipy.io\n",
        "import random\n",
        "from datetime import datetime, date, time, timedelta\n",
        "\n",
        "import tensorflow as tf\n",
        "from tensorflow import keras\n",
        "from keras.preprocessing import image\n",
        "from keras.applications.resnet import preprocess_input"
      ],
      "execution_count": 3,
      "outputs": []
    },
    {
      "cell_type": "markdown",
      "metadata": {
        "id": "aaUSvPGN-Gkp"
      },
      "source": [
        "**COLAB/ Google Drive**\n",
        "\n",
        "We have uploaded our dataset to Google Drive for easy access in the Google Colab environment. To access Google Drive, we must mount the drive."
      ]
    },
    {
      "cell_type": "code",
      "metadata": {
        "colab": {
          "base_uri": "https://localhost:8080/"
        },
        "id": "8y2HbkGJMwo5",
        "outputId": "db65da76-6bc4-4bb3-97ab-102e7c842460"
      },
      "source": [
        "# mount GDrive where the dataset is stored\n",
        "from google.colab import drive\n",
        "drive.mount('/content/drive')"
      ],
      "execution_count": 4,
      "outputs": [
        {
          "output_type": "stream",
          "text": [
            "Drive already mounted at /content/drive; to attempt to forcibly remount, call drive.mount(\"/content/drive\", force_remount=True).\n"
          ],
          "name": "stdout"
        }
      ]
    },
    {
      "cell_type": "code",
      "metadata": {
        "colab": {
          "base_uri": "https://localhost:8080/",
          "height": 231
        },
        "id": "RCRKFevoK3OR",
        "outputId": "f0117eb7-1d4b-4495-d819-5ad7dde951a8"
      },
      "source": [
        "### VIEW A RANDOM IMAGE FROM DATASET ###\n",
        "# loc = 'C:/Users/Prem/Desktop/SPRINGBOARD_MASTER/YOUNGER/Data/wiki_crop_subset/81800_1986-06-13_2011.jpg'\n",
        "directory = '/content/drive/MyDrive/YOUNGER/wiki_crop/01'\n",
        "dir_list = []\n",
        "for filename in os.listdir(directory):\n",
        "    if filename.endswith(\".jpg\"):\n",
        "        dir_list.append(os.path.join(directory, filename))\n",
        "\n",
        "random_number = random.randint(0,len(dir_list))\n",
        "random_image = Image.open(dir_list[random_number]) \n",
        "random_image"
      ],
      "execution_count": 5,
      "outputs": [
        {
          "output_type": "execute_result",
          "data": {
            "image/png": "[encoded data removed]",
            "text/plain": [
              "<PIL.JpegImagePlugin.JpegImageFile image mode=RGB size=213x214 at 0x7F782E854F90>"
            ]
          },
          "metadata": {
            "tags": []
          },
          "execution_count": 5
        }
      ]
    },
    {
      "cell_type": "markdown",
      "metadata": {
        "id": "SfAtcfuBfzBC"
      },
      "source": [
        "**Metadata Inspection** \n",
        "\n",
        "Next, we will inspect the metadata to understand the dataset. We will focus on the Wikipedia dataset."
      ]
    },
    {
      "cell_type": "code",
      "metadata": {
        "id": "yFaSBYTBMiOb",
        "colab": {
          "base_uri": "https://localhost:8080/"
        },
        "outputId": "d5d1e558-a546-4221-b2bb-50abea89723b"
      },
      "source": [
        "### LOAD METADATA FILE ###\n",
        "# wiki_mat_path = 'C:/Users/Prem/Desktop/SPRINGBOARD_MASTER/YOUNGER/Data/WIKI_CROP/wiki.mat'\n",
        "wiki_mat_path = '/content/drive/MyDrive/YOUNGER/wiki.mat' # COLAB\n",
        "\n",
        "# load .mat as python dict\n",
        "mat = scipy.io.loadmat(wiki_mat_path)\n",
        "\n",
        "# Metadata Keys #\n",
        "print(mat.keys())"
      ],
      "execution_count": 6,
      "outputs": [
        {
          "output_type": "stream",
          "text": [
            "dict_keys(['__header__', '__version__', '__globals__', 'wiki'])\n"
          ],
          "name": "stdout"
        }
      ]
    },
    {
      "cell_type": "code",
      "metadata": {
        "colab": {
          "base_uri": "https://localhost:8080/"
        },
        "id": "wteiQ-_u1zQY",
        "outputId": "2dc40a93-1676-450c-9c95-556fbf7320c9"
      },
      "source": [
        "### INSPECT METADATA STRUCTURE ###\n",
        "print(mat['wiki'][0][0])"
      ],
      "execution_count": 7,
      "outputs": [
        {
          "output_type": "stream",
          "text": [
            "(array([[723671, 703186, 711677, ..., 720620, 723893, 713846]], dtype=int32), array([[2009, 1964, 2008, ..., 2013, 2011, 2008]], dtype=uint16), array([[array(['17/10000217_1981-05-05_2009.jpg'], dtype='<U31'),\n",
            "        array(['48/10000548_1925-04-04_1964.jpg'], dtype='<U31'),\n",
            "        array(['12/100012_1948-07-03_2008.jpg'], dtype='<U29'), ...,\n",
            "        array(['09/9998109_1972-12-27_2013.jpg'], dtype='<U30'),\n",
            "        array(['00/9999400_1981-12-13_2011.jpg'], dtype='<U30'),\n",
            "        array(['80/999980_1954-06-11_2008.jpg'], dtype='<U29')]],\n",
            "      dtype=object), array([[1., 1., 1., ..., 1., 1., 0.]]), array([[array(['Sami Jauhojärvi'], dtype='<U15'),\n",
            "        array(['Dettmar Cramer'], dtype='<U14'),\n",
            "        array(['Marc Okrand'], dtype='<U11'), ...,\n",
            "        array(['Michael Wiesinger'], dtype='<U17'),\n",
            "        array(['Johann Grugger'], dtype='<U14'),\n",
            "        array(['Greta Van Susteren'], dtype='<U18')]], dtype=object), array([[array([[111.29109473, 111.29109473, 252.66993082, 252.66993082]]),\n",
            "        array([[252.4833023 , 126.68165115, 354.53192596, 228.73027481]]),\n",
            "        array([[113.52, 169.84, 366.08, 422.4 ]]), ...,\n",
            "        array([[169.88839786,  74.31669472, 235.2534231 , 139.68171997]]),\n",
            "        array([[1, 1, 1, 1]], dtype=uint8),\n",
            "        array([[ 92.72633235,  62.0435549 , 230.12083087, 199.43805342]])]],\n",
            "      dtype=object), array([[4.30096239, 2.6456395 , 4.32932883, ..., 3.49430317,       -inf,\n",
            "        5.48691655]]), array([[       nan, 1.94924791,        nan, ...,        nan,        nan,\n",
            "               nan]]))\n"
          ],
          "name": "stdout"
        }
      ]
    },
    {
      "cell_type": "markdown",
      "metadata": {
        "id": "pPuvrssinSIh"
      },
      "source": [
        "**MATLAB to pandas DataFrame**\n",
        "\n",
        "Next, we will transform the data from the '.mat' MATLAB nested structure into an easier-to-read pandas DataFrame with a familiar table format.\n"
      ]
    },
    {
      "cell_type": "code",
      "metadata": {
        "id": "fVEG2Py1UES7",
        "colab": {
          "base_uri": "https://localhost:8080/",
          "height": 279
        },
        "outputId": "77c7749a-5119-4c2f-8c18-6c7d0ea62df4"
      },
      "source": [
        "### CREATE DATAFRAME FROM METADATA ###\n",
        "# Assign the length of the array to 'num_of_observations'\n",
        "num_of_observations = mat['wiki'][0][0][0].shape[1]\n",
        "columns = [\"dob\", \"photo_taken\", \"full_path\", \"gender\", \"name\", \"face_location\", \"face_score\", \"second_face_score\"]\n",
        "\n",
        "# Create pandas dataframe as tall as 'num_of_observations' with column headers from metadata\n",
        "df = pd.DataFrame(index = range(0, num_of_observations), columns = columns)\n",
        "\n",
        "# Iterate through the 'wiki' header of the metadata\n",
        "for i in mat:\n",
        "  if i == \"wiki\":\n",
        "    wiki_array = mat[i][0][0]               # Dig two layers deep into the dict structure and assign to 'wiki_array'\n",
        "    for b in range(len(wiki_array)):        \n",
        "      df[columns[b]] = pd.DataFrame(wiki_array[b][0]) # Create a pandas DataFrame for each nested value and assign to respective df[columns]\n",
        "\n",
        "df.sample(5)"
      ],
      "execution_count": 8,
      "outputs": [
        {
          "output_type": "execute_result",
          "data": {
            "text/html": [
              "<div>\n",
              "<style scoped>\n",
              "    .dataframe tbody tr th:only-of-type {\n",
              "        vertical-align: middle;\n",
              "    }\n",
              "\n",
              "    .dataframe tbody tr th {\n",
              "        vertical-align: top;\n",
              "    }\n",
              "\n",
              "    .dataframe thead th {\n",
              "        text-align: right;\n",
              "    }\n",
              "</style>\n",
              "<table border=\"1\" class=\"dataframe\">\n",
              "  <thead>\n",
              "    <tr style=\"text-align: right;\">\n",
              "      <th></th>\n",
              "      <th>dob</th>\n",
              "      <th>photo_taken</th>\n",
              "      <th>full_path</th>\n",
              "      <th>gender</th>\n",
              "      <th>name</th>\n",
              "      <th>face_location</th>\n",
              "      <th>face_score</th>\n",
              "      <th>second_face_score</th>\n",
              "    </tr>\n",
              "  </thead>\n",
              "  <tbody>\n",
              "    <tr>\n",
              "      <th>10131</th>\n",
              "      <td>721869</td>\n",
              "      <td>2006</td>\n",
              "      <td>[87/1611387_1976-05-29_2006.jpg]</td>\n",
              "      <td>1.0</td>\n",
              "      <td>[Raef LaFrentz]</td>\n",
              "      <td>[[34.506, 34.506, 95.42399999999999, 95.423999...</td>\n",
              "      <td>1.884107</td>\n",
              "      <td>NaN</td>\n",
              "    </tr>\n",
              "    <tr>\n",
              "      <th>50270</th>\n",
              "      <td>725645</td>\n",
              "      <td>2013</td>\n",
              "      <td>[96/6975696_1986-09-30_2013.jpg]</td>\n",
              "      <td>1.0</td>\n",
              "      <td>[Cristián Zapata]</td>\n",
              "      <td>[[169.69701257893047, 85.24850628946523, 244.9...</td>\n",
              "      <td>2.077668</td>\n",
              "      <td>NaN</td>\n",
              "    </tr>\n",
              "    <tr>\n",
              "      <th>6636</th>\n",
              "      <td>726856</td>\n",
              "      <td>2012</td>\n",
              "      <td>[74/30181474_1990-01-23_2012.jpg]</td>\n",
              "      <td>1.0</td>\n",
              "      <td>[Lavonte David]</td>\n",
              "      <td>[[81, 65, 224, 208]]</td>\n",
              "      <td>1.649013</td>\n",
              "      <td>NaN</td>\n",
              "    </tr>\n",
              "    <tr>\n",
              "      <th>38793</th>\n",
              "      <td>725984</td>\n",
              "      <td>2013</td>\n",
              "      <td>[60/41653660_1987-09-04_2013.jpg]</td>\n",
              "      <td>0.0</td>\n",
              "      <td>[Mayara]</td>\n",
              "      <td>[[85.9538748202169, 64.60090611516267, 181.500...</td>\n",
              "      <td>3.188971</td>\n",
              "      <td>NaN</td>\n",
              "    </tr>\n",
              "    <tr>\n",
              "      <th>38887</th>\n",
              "      <td>718674</td>\n",
              "      <td>2013</td>\n",
              "      <td>[98/5164198_1967-08-30_2013.jpg]</td>\n",
              "      <td>0.0</td>\n",
              "      <td>[Catrin Nilsmark]</td>\n",
              "      <td>[[31.061140705022012, 151.78570352511005, 301....</td>\n",
              "      <td>5.509128</td>\n",
              "      <td>NaN</td>\n",
              "    </tr>\n",
              "  </tbody>\n",
              "</table>\n",
              "</div>"
            ],
            "text/plain": [
              "          dob  photo_taken  ... face_score  second_face_score\n",
              "10131  721869         2006  ...   1.884107                NaN\n",
              "50270  725645         2013  ...   2.077668                NaN\n",
              "6636   726856         2012  ...   1.649013                NaN\n",
              "38793  725984         2013  ...   3.188971                NaN\n",
              "38887  718674         2013  ...   5.509128                NaN\n",
              "\n",
              "[5 rows x 8 columns]"
            ]
          },
          "metadata": {
            "tags": []
          },
          "execution_count": 8
        }
      ]
    },
    {
      "cell_type": "markdown",
      "metadata": {
        "id": "zCrloHvB5XxT"
      },
      "source": [
        "**Metadata Feature Descriptions**\n",
        "\n",
        "---\n",
        "\n",
        "**dob:** date of birth (Matlab serial date number)\n",
        "\n",
        "**photo_taken:** year when the photo was taken\n",
        "\n",
        "**full_path:** path to image file in folder\n",
        "\n",
        "**gender:** 0 = female, 1 = male, NaN = unknown\n",
        "\n",
        "**name:** full name \n",
        "\n",
        "***face_location:** location of the face \n",
        "\n",
        "***face_score:** detector score ('inf'= no face detected)\n",
        "\n",
        "***second_face_score:** detector score of the face with the second highest score. 'NaN' if no second face was detected.\n",
        "\n",
        "---\n",
        "\n",
        "(*)  Features created during preprocessing indicated with asterisk *"
      ]
    },
    {
      "cell_type": "markdown",
      "metadata": {
        "id": "uLhiqZwO3IaA"
      },
      "source": [
        "**Metadata Preprocessed Features**\n",
        "\n",
        "Some features have been inherited from the preprocessing of the dataset. Namely, these preprocessed features are: face_location, face_score, and second_face_score. The features were created with a face detection algorithm ([Mathias et al. 2014](https://https://www.researchgate.net/publication/265125544_Face_Detection_without_Bells_and_Whistles)) and contain the relative position of the face, how strongly a face was detected in the image and how strongly a second face was detected, respectively. "
      ]
    },
    {
      "cell_type": "code",
      "metadata": {
        "colab": {
          "base_uri": "https://localhost:8080/"
        },
        "id": "8MURxTP8ULm-",
        "outputId": "21654ee9-91f1-449b-99ae-cc4e0ed816b1"
      },
      "source": [
        "### INSPECT DATAFRAME ###\n",
        "print(\"***There are\", df.shape[0], \"images and\", df.shape[1], \"features in this dataset.***\")\n",
        "print(\" \")\n",
        "print(df.info())"
      ],
      "execution_count": 9,
      "outputs": [
        {
          "output_type": "stream",
          "text": [
            "***There are 62328 images and 8 features in this dataset.***\n",
            " \n",
            "<class 'pandas.core.frame.DataFrame'>\n",
            "RangeIndex: 62328 entries, 0 to 62327\n",
            "Data columns (total 8 columns):\n",
            " #   Column             Non-Null Count  Dtype  \n",
            "---  ------             --------------  -----  \n",
            " 0   dob                62328 non-null  int32  \n",
            " 1   photo_taken        62328 non-null  uint16 \n",
            " 2   full_path          62328 non-null  object \n",
            " 3   gender             59685 non-null  float64\n",
            " 4   name               62328 non-null  object \n",
            " 5   face_location      62328 non-null  object \n",
            " 6   face_score         62328 non-null  float64\n",
            " 7   second_face_score  4096 non-null   float64\n",
            "dtypes: float64(3), int32(1), object(3), uint16(1)\n",
            "memory usage: 3.2+ MB\n",
            "None\n"
          ],
          "name": "stdout"
        }
      ]
    },
    {
      "cell_type": "markdown",
      "metadata": {
        "id": "lgLc3Sq8jr_X"
      },
      "source": [
        "**Observations**\n",
        "\n",
        "1. 'gender' column has missing values. \n",
        "2. 'second_face_score' has spare data and mostly Null values. "
      ]
    },
    {
      "cell_type": "code",
      "metadata": {
        "colab": {
          "base_uri": "https://localhost:8080/"
        },
        "id": "RKZKG-gqQMzu",
        "outputId": "33ebb3af-0b1c-4209-b514-b2cbe43baa09"
      },
      "source": [
        "print(\"General information about the dataset: \")\n",
        "print(\"======================================\")\n",
        "print(\"Oldest Photo Date: \"+str(df.photo_taken.min()))\n",
        "print(\"Most Recent Photo Date: \"+str(df.photo_taken.max()))\n",
        "print(\"Minimum Face Score: \"+str(df.face_score.min()))\n",
        "print(\"Maximum Face Score: \"+str(round(df.face_score.max(),3)))\n",
        "print(\"Null Second Face Scores: \"+ str(df.second_face_score.isna().sum()))"
      ],
      "execution_count": 10,
      "outputs": [
        {
          "output_type": "stream",
          "text": [
            "General information about the dataset: \n",
            "======================================\n",
            "Oldest Photo Date: 1940\n",
            "Most Recent Photo Date: 2015\n",
            "Minimum Face Score: -inf\n",
            "Maximum Face Score: 7.081\n",
            "Null Second Face Scores: 58232\n"
          ],
          "name": "stdout"
        }
      ]
    },
    {
      "cell_type": "markdown",
      "metadata": {
        "id": "fX97jMgOEl39"
      },
      "source": [
        "We need to convert \"dob\" from Matlab datenum into Python datetime and then compute each subject's age."
      ]
    },
    {
      "cell_type": "code",
      "metadata": {
        "id": "ZnDLCh2tVNrx",
        "colab": {
          "base_uri": "https://localhost:8080/"
        },
        "outputId": "3fd6c55f-c591-40ce-efc7-ce7cee6885a1"
      },
      "source": [
        "# Function to convert Matlab datenum into Python datetime\n",
        "def datenum_to_datetime(datenum):\n",
        "  days = datenum % 1\n",
        "  hours = days % 1 * 24\n",
        "  minutes = hours % 1 * 60\n",
        "  seconds = minutes % 1 * 60\n",
        "  exact_date = datetime.fromordinal(int(datenum)) \\\n",
        "    + timedelta(days=int(days)) + timedelta(hours=int(hours)) \\\n",
        "    + timedelta(minutes=int(minutes)) + timedelta(seconds=round(seconds)) \\\n",
        "    - timedelta(days=366)\n",
        "  return exact_date.year\n",
        " \n",
        "# Convert Matlab datenum into Python datetime & create a new columns 'date_of_birth'\n",
        "df['date_of_birth'] = df['dob'].apply(datenum_to_datetime)\n",
        "\n",
        "# Compute age by subtracting 'date_of_birth' from 'photo_taken'\n",
        "df['age'] = df['photo_taken'] - df['date_of_birth']\n",
        "df['age'].sample(5)"
      ],
      "execution_count": 11,
      "outputs": [
        {
          "output_type": "execute_result",
          "data": {
            "text/plain": [
              "13054    33\n",
              "39589    37\n",
              "49922    27\n",
              "26378    26\n",
              "19488    26\n",
              "Name: age, dtype: int64"
            ]
          },
          "metadata": {
            "tags": []
          },
          "execution_count": 11
        }
      ]
    },
    {
      "cell_type": "code",
      "metadata": {
        "colab": {
          "base_uri": "https://localhost:8080/"
        },
        "id": "Xnb6wA5SqjOD",
        "outputId": "c6939ec6-4e3d-423c-d432-af404ad14a3b"
      },
      "source": [
        "# Check the maximum & minimum age...\n",
        "print('age.max', str(df.age.max()))\n",
        "print('age.min', str(df.age.min()))"
      ],
      "execution_count": 12,
      "outputs": [
        {
          "output_type": "stream",
          "text": [
            "age.max 1996\n",
            "age.min -74\n"
          ],
          "name": "stdout"
        }
      ]
    },
    {
      "cell_type": "markdown",
      "metadata": {
        "id": "_PIsy2CXGO8S"
      },
      "source": [
        "We can see that there are some ages that are impossible. Let's clean up the dataset by removing observations that are over 100 and under 0. "
      ]
    },
    {
      "cell_type": "code",
      "metadata": {
        "id": "8Rf8YIGFjWAZ",
        "colab": {
          "base_uri": "https://localhost:8080/"
        },
        "outputId": "e8e85367-2106-49cd-ca9a-77a3c7c0b071"
      },
      "source": [
        "# Remove ages over 100 & remove ages under 0\n",
        "df_shape_raw = df.shape[0]\n",
        "df = df[df['age'] <= 100]\n",
        "df = df[df['age'] > 0]\n",
        "\n",
        "diff = df_shape_raw - df.shape[0]\n",
        "print('We cleaned', df_shape_raw - df.shape[0], 'observations or',round((diff/df_shape_raw*100),2),'percent of the Wikipedia Dataset that were out of the age range 0-100.')"
      ],
      "execution_count": 13,
      "outputs": [
        {
          "output_type": "stream",
          "text": [
            "We cleaned 1880 observations or 3.02 percent of the Wikipedia Dataset that were out of the age range 0-100.\n"
          ],
          "name": "stdout"
        }
      ]
    },
    {
      "cell_type": "markdown",
      "metadata": {
        "id": "U4ZIr0NPKJ3K"
      },
      "source": [
        "**DATA CLEANING**\n",
        "\n",
        "We will clean by omitting data with missing gender information, images where faces were not detected (represented by -inf), images where a second face *is* detected, and images that have a face detection score (face_score) of less than '3.0'."
      ]
    },
    {
      "cell_type": "code",
      "metadata": {
        "id": "UsEcVcQ7WGOB"
      },
      "source": [
        "### CLEAN THE DATASET ###\n",
        "\n",
        "# Remove records with missing gender data\n",
        "df = df[~df['gender'].isna()]\n",
        "\n",
        "# Remove images where faces were not detected\n",
        "df = df[df['face_score'] != -np.inf]\n",
        " \n",
        "# Include only images with a second face score missing (NaN)\n",
        "# We don't want to deal with extra faces in the images\n",
        "df = df[df['second_face_score'].isna()]\n",
        " \n",
        "# Include images that have a primary 'face_score' of 3 or more\n",
        "df = df[df['face_score'] >= 5.0]"
      ],
      "execution_count": 14,
      "outputs": []
    },
    {
      "cell_type": "markdown",
      "metadata": {
        "id": "ysTJAKf7nmdk"
      },
      "source": [
        "**Columns to Drop**\n",
        "\n",
        "'name' are arbitrary, so we will drop the names.\n",
        "\n",
        "'dob' has been replaced by date_of_birth.\n",
        "\n",
        "'second_face_score' are all \"Nan\". Let's drop them."
      ]
    },
    {
      "cell_type": "code",
      "metadata": {
        "id": "oxiZY9Mgncl8"
      },
      "source": [
        "# Drop columns that won't inform the prediction model\n",
        "df = df.drop(columns = ['dob','name', 'second_face_score'])"
      ],
      "execution_count": 15,
      "outputs": []
    },
    {
      "cell_type": "markdown",
      "metadata": {
        "id": "hkTeqW60vKTN"
      },
      "source": [
        "# **III. EXPLORATORY DATA ANALYSIS**"
      ]
    },
    {
      "cell_type": "markdown",
      "metadata": {
        "id": "KNmuOzsRpBx3"
      },
      "source": [
        "## **METADATA**\n",
        "**Distribution Visualizations**\n",
        "\n",
        "Let's take a look at the shape of the dataset's variables with some colorful histograms."
      ]
    },
    {
      "cell_type": "code",
      "metadata": {
        "colab": {
          "base_uri": "https://localhost:8080/",
          "height": 350
        },
        "id": "XzbdDdGiWMmn",
        "outputId": "8dff4fef-9a18-4410-b41f-3acf03f29a9b"
      },
      "source": [
        "# Plot Age Distribution represented in the dataset\n",
        "plt.figure(figsize=(10, 5))\n",
        "# histogram_age = df['age'].hist(bins=df['age'].nunique())\n",
        "sns.histplot(df['age'], bins=df['age'].nunique(), color='green')\n",
        "plt.title('Age Distribution')\n",
        "plt.xlabel('age')\n",
        "plt.ylabel('count');"
      ],
      "execution_count": 16,
      "outputs": [
        {
          "output_type": "display_data",
          "data": {
            "image/png": "[encoded data removed]",
            "text/plain": [
              "<Figure size 720x360 with 1 Axes>"
            ]
          },
          "metadata": {
            "tags": [],
            "needs_background": "light"
          }
        }
      ]
    },
    {
      "cell_type": "code",
      "metadata": {
        "colab": {
          "base_uri": "https://localhost:8080/",
          "height": 350
        },
        "id": "lxCqjKq3KJV_",
        "outputId": "4724fcbf-2377-4736-92bf-7c652c0e1625"
      },
      "source": [
        "# Plot Age Distribution in ten (10) age bins\n",
        "plt.figure(figsize=(10, 5))\n",
        "# histogram_age = df['age'].hist(bins=10)\n",
        "sns.histplot(df['age'],bins=10, color='blue')\n",
        "plt.title('Age Distribution - 10 Bins')\n",
        "plt.xlabel('age')\n",
        "plt.ylabel('count');"
      ],
      "execution_count": 17,
      "outputs": [
        {
          "output_type": "display_data",
          "data": {
            "image/png": "[encoded data removed]",
            "text/plain": [
              "<Figure size 720x360 with 1 Axes>"
            ]
          },
          "metadata": {
            "tags": [],
            "needs_background": "light"
          }
        }
      ]
    },
    {
      "cell_type": "markdown",
      "metadata": {
        "id": "crtEn61kEj1j"
      },
      "source": [
        "The Age Distribution is **right skewed** with a large representation in the 20-30 age range. We must consider balancing the classes before training our algorithm as a biased dataset would lead to a biased output (age estimation). "
      ]
    },
    {
      "cell_type": "code",
      "metadata": {
        "colab": {
          "base_uri": "https://localhost:8080/",
          "height": 350
        },
        "id": "CA9ioNQ2EZje",
        "outputId": "90c53d13-9af4-4c94-9ccd-804ed0cf5786"
      },
      "source": [
        "# Plot Years Photos Taken Distribution represented in the dataset\n",
        "plt.figure(figsize=(10, 5))\n",
        "sns.histplot(df['photo_taken'], bins=50, color='purple')\n",
        "# histogram_age = df['face_score'].hist(bins=50)\n",
        "plt.title('Years the Photos Were Taken')\n",
        "plt.xlabel('Year Photo Taken')\n",
        "plt.ylabel('count');"
      ],
      "execution_count": 18,
      "outputs": [
        {
          "output_type": "display_data",
          "data": {
            "image/png": "[encoded data removed]",
            "text/plain": [
              "<Figure size 720x360 with 1 Axes>"
            ]
          },
          "metadata": {
            "tags": [],
            "needs_background": "light"
          }
        }
      ]
    },
    {
      "cell_type": "markdown",
      "metadata": {
        "id": "yuYiLRgHFeVD"
      },
      "source": [
        "As we might expect, most of the images in the dataset were created in the last 20 years, coinciding with the boom of digital imagery and the explosion of digital data creation."
      ]
    },
    {
      "cell_type": "code",
      "metadata": {
        "colab": {
          "base_uri": "https://localhost:8080/",
          "height": 351
        },
        "id": "FDysRSgDr6cS",
        "outputId": "04c3c47f-f2f1-4f68-aa69-fd6d8b6ff4b3"
      },
      "source": [
        "# Plot face_score Distribution represented in the dataset\n",
        "plt.figure(figsize=(10, 5))\n",
        "sns.histplot(df['face_score'], bins=50, color='maroon')\n",
        "# histogram_age = df['face_score'].hist(bins=50)\n",
        "plt.title('Face Scores Distribution')\n",
        "plt.xlabel('face_score')\n",
        "plt.ylabel('count');"
      ],
      "execution_count": 19,
      "outputs": [
        {
          "output_type": "display_data",
          "data": {
            "image/png": "[encoded data removed]",
            "text/plain": [
              "<Figure size 720x360 with 1 Axes>"
            ]
          },
          "metadata": {
            "tags": [],
            "needs_background": "light"
          }
        }
      ]
    },
    {
      "cell_type": "markdown",
      "metadata": {
        "id": "GkPTLbCHPUPB"
      },
      "source": [
        "The Face Scores distribution shows that we subset for images with a face scores of 3 or above. This will ensure that we are working with faces that were clearly detected during\n",
        " preprocessing."
      ]
    },
    {
      "cell_type": "code",
      "metadata": {
        "colab": {
          "base_uri": "https://localhost:8080/",
          "height": 350
        },
        "id": "3kkH4vDtteCk",
        "outputId": "6fd2fd57-20b8-4253-c9bf-f2f2cdcef81f"
      },
      "source": [
        "# Plot Gender Distribution represented in the dataset\n",
        "plt.figure(figsize=(10, 5))\n",
        "sns.histplot(df['gender'], bins=2)\n",
        "# histogram_age = df['gender'].hist(bins=2)\n",
        "plt.title('Gender Distribution (Female/Male)')\n",
        "plt.xlabel('gender')\n",
        "plt.ylabel('count');"
      ],
      "execution_count": 20,
      "outputs": [
        {
          "output_type": "display_data",
          "data": {
            "image/png": "[encoded data removed]",
            "text/plain": [
              "<Figure size 720x360 with 1 Axes>"
            ]
          },
          "metadata": {
            "tags": [],
            "needs_background": "light"
          }
        }
      ]
    },
    {
      "cell_type": "markdown",
      "metadata": {
        "id": "4VkA3U8LKvop"
      },
      "source": [
        "The left side of the plot represents 'female' and the right side of the plot represents 'male'. The gender distribution is very uneven with many more 'male' subjects represented. We will consider balancing this as well."
      ]
    },
    {
      "cell_type": "code",
      "metadata": {
        "colab": {
          "base_uri": "https://localhost:8080/"
        },
        "id": "F7ptJuYlsuYc",
        "outputId": "88d7e25e-e256-48de-e723-c8c1ac1998ed"
      },
      "source": [
        "### Descriptive Statistics about Age Distribution ###\n",
        "df.age.describe()"
      ],
      "execution_count": 21,
      "outputs": [
        {
          "output_type": "execute_result",
          "data": {
            "text/plain": [
              "count    3209.000000\n",
              "mean       33.750390\n",
              "std        12.427534\n",
              "min         9.000000\n",
              "25%        25.000000\n",
              "50%        30.000000\n",
              "75%        41.000000\n",
              "max        97.000000\n",
              "Name: age, dtype: float64"
            ]
          },
          "metadata": {
            "tags": []
          },
          "execution_count": 21
        }
      ]
    },
    {
      "cell_type": "markdown",
      "metadata": {
        "id": "bgLBxbzGnT69"
      },
      "source": [
        ""
      ]
    },
    {
      "cell_type": "markdown",
      "metadata": {
        "id": "1HyuZiy6sUd5"
      },
      "source": [
        "## **IMAGES**\n",
        "Let's prepare the images directly."
      ]
    },
    {
      "cell_type": "markdown",
      "metadata": {
        "id": "gKUt6y9QB8pO"
      },
      "source": [
        "##**Images ---> Pixel Values ---> Vectors**\n",
        "\n",
        "We need to convert the images from pixels to vectors. Specifically, we need to convert the images from colored, 3-channel pixels to long one-dimensional vectors.  This is required to hunt for patterns, reduce complexity, and extract features.\n",
        "\n",
        "Each digital image is composed of a large grid of pixels. In color images, each pixel has 3 color channels: Red, Green, Blue (RGB). Each color channel's intensity are in the range [0-255]. \n",
        "\n",
        "To translate our images from photos (jpg format) to vectors of pixel values, we will first use a *Keras module called \"load_img\" to read the images in a PIL (Python Imaging Library) format. We will set the 'color mode' argument to (RGB) and set the target-size to 224 x 224 pixels. \n",
        "\n",
        "Next, we will use Kera's \"img_to_array\" module to extract the pixel information and store it in an array (index-based vector) of 150,528 numbers per image (224x224x3). \n",
        "\n",
        "*Keras is a high-level API interface for TensorFlow for working with artificial neural networks (ANN). TensorFlow & Keras are frequently used on computer vision image classification projects, such as this."
      ]
    },
    {
      "cell_type": "markdown",
      "metadata": {
        "id": "3KgBBUKCUELk"
      },
      "source": [
        "*Prem: I remember being inspired to learn more about AI when hearing VC Marc Andreessen talk about how acccessible TensorFlow was in a 2018 [Tim Ferriss Show podcast](https://https://tim.blog/2018/01/01/the-tim-ferriss-show-transcripts-marc-andreessen/). He said \"So all of a sudden, AI is like a tractable thing that you can just have on your own laptop, and you can build new things on top of it.\"*"
      ]
    },
    {
      "cell_type": "code",
      "metadata": {
        "id": "Fs5fjBv4KJV_"
      },
      "source": [
        "# Create function to load images using 'load_img' and create 1 array per image (224, 224, 3)\n",
        "target_size=(224, 224)\n",
        "\n",
        "def getImagePixels(image_path):\n",
        "    # img = image.load_img(\"C:/Users/Prem/Desktop/SPRINGBOARD_MASTER/YOUNGER/Data/wiki_crop/%s\" % image_path[0], grayscale=False, target_size=(224, 224))\n",
        "    img = image.load_img(\"/content/drive/MyDrive/YOUNGER/wiki_crop/%s\" % image_path[0], color_mode='rgb', target_size=target_size)\n",
        "    x = image.img_to_array(img)\n",
        "    x = np.array([x])\n",
        "    # x = image.img_to_array(img).reshape(1, -1)[0]\n",
        "    # x = preprocess_input(x)\n",
        "    return x"
      ],
      "execution_count": 22,
      "outputs": []
    },
    {
      "cell_type": "markdown",
      "metadata": {
        "id": "o5a6aqk8TDpU"
      },
      "source": [
        "**Images to Grayscale?**\n",
        "\n",
        "We reduce the images to grayscale to reduce the heavy load of data per image (by a factor of three). Also, image classification on color images is more prone to overfitting. Color images are much more compute and memory intensive compared to grayscale images."
      ]
    },
    {
      "cell_type": "code",
      "metadata": {
        "id": "QvF3ML3dnbfg"
      },
      "source": [
        "### SUBSETTING THE DATASET FOR RAPID TESTING ### ### TESTING ### ### TESTING ### ### TESTING ###\n",
        "df = df[:20000]\n",
        "### TESTING ### ### TESTING ### ### TESTING ### ### TESTING ### ### TESTING ### ### TESTING ### "
      ],
      "execution_count": 23,
      "outputs": []
    },
    {
      "cell_type": "code",
      "metadata": {
        "id": "0JBWohIYahhC"
      },
      "source": [
        "# df['pixels'] = [getImagePixels[a] for a in df.full_path]"
      ],
      "execution_count": 24,
      "outputs": []
    },
    {
      "cell_type": "code",
      "metadata": {
        "id": "gxcABpB_OayF",
        "colab": {
          "base_uri": "https://localhost:8080/"
        },
        "outputId": "33cb41c1-bfe0-49dd-b354-2753e8895643"
      },
      "source": [
        "%%time\n",
        "# apply 'getImagePixels' function to all observations and create new column df.pixels\n",
        "df['pixels'] = df['full_path'].apply(getImagePixels)"
      ],
      "execution_count": 25,
      "outputs": [
        {
          "output_type": "stream",
          "text": [
            "CPU times: user 6.49 s, sys: 1.37 s, total: 7.86 s\n",
            "Wall time: 10.1 s\n"
          ],
          "name": "stdout"
        }
      ]
    },
    {
      "cell_type": "code",
      "metadata": {
        "id": "cFQI99BibK2N"
      },
      "source": [
        "# print(df['pixels'][0].shape)\n",
        "# print(type(df['pixels'][0].shape))"
      ],
      "execution_count": 26,
      "outputs": []
    },
    {
      "cell_type": "code",
      "metadata": {
        "colab": {
          "base_uri": "https://localhost:8080/"
        },
        "id": "dKTp4nnpA77z",
        "outputId": "a3af37d0-41b4-476e-d2f9-a9923a07828f"
      },
      "source": [
        "classes = 101 #(0, 100])\n",
        "print(\"number of output classes: \",classes)"
      ],
      "execution_count": 27,
      "outputs": [
        {
          "output_type": "stream",
          "text": [
            "number of output classes:  101\n"
          ],
          "name": "stdout"
        }
      ]
    },
    {
      "cell_type": "code",
      "metadata": {
        "id": "CL0ghLAdCVhw"
      },
      "source": [
        "import tensorflow as tf\n",
        "\n",
        "import keras\n",
        "from keras.preprocessing import image\n",
        "from keras.callbacks import ModelCheckpoint,EarlyStopping\n",
        "from keras.layers import Dense, Activation, Dropout, Flatten, Input, Convolution2D, ZeroPadding2D, MaxPooling2D, Activation\n",
        "from keras.layers import Conv2D, AveragePooling2D\n",
        "from keras.models import Model, Sequential\n",
        "\n",
        "from sklearn.model_selection import train_test_split\n",
        "\n",
        "from keras import metrics\n",
        "\n",
        "from keras.models import model_from_json"
      ],
      "execution_count": 28,
      "outputs": []
    },
    {
      "cell_type": "code",
      "metadata": {
        "id": "UQZh-CthBNiu"
      },
      "source": [
        "target = df['age'].values\n",
        "target_classes = keras.utils.to_categorical(target, classes)"
      ],
      "execution_count": 29,
      "outputs": []
    },
    {
      "cell_type": "code",
      "metadata": {
        "id": "DYSPf2WrBNnm"
      },
      "source": [
        "features = df['pixels'].values\n",
        "features = []\n",
        "\n",
        "for i in range(0, df.shape[0]):\n",
        "    features.append(df['pixels'].values[i])\n",
        "\n",
        "features = np.array(features)\n",
        "features = features.reshape(features.shape[0], 224, 224, 3)"
      ],
      "execution_count": 30,
      "outputs": []
    },
    {
      "cell_type": "code",
      "metadata": {
        "colab": {
          "base_uri": "https://localhost:8080/"
        },
        "id": "edD6_X00BNrR",
        "outputId": "d5e9a388-d0ae-4af2-94e8-8b1bd092f1d7"
      },
      "source": [
        "features.shape"
      ],
      "execution_count": 31,
      "outputs": [
        {
          "output_type": "execute_result",
          "data": {
            "text/plain": [
              "(3209, 224, 224, 3)"
            ]
          },
          "metadata": {
            "tags": []
          },
          "execution_count": 31
        }
      ]
    },
    {
      "cell_type": "code",
      "metadata": {
        "id": "prDUIwNgBNuk"
      },
      "source": [
        "features /= 255 #normalize in [0, 1]"
      ],
      "execution_count": 32,
      "outputs": []
    },
    {
      "cell_type": "code",
      "metadata": {
        "id": "XO1LsUJRBNxT"
      },
      "source": [
        "train_x, test_x, train_y, test_y = train_test_split(features, target_classes\n",
        "                                        , test_size=0.30, random_state=42)"
      ],
      "execution_count": 33,
      "outputs": []
    },
    {
      "cell_type": "code",
      "metadata": {
        "id": "0321dbthBN1H"
      },
      "source": [
        "model = Sequential()\n",
        "model.add(ZeroPadding2D((1,1),input_shape=(224,224, 3)))\n",
        "model.add(Convolution2D(64, (3, 3), activation='relu'))\n",
        "model.add(ZeroPadding2D((1,1)))\n",
        "model.add(Convolution2D(64, (3, 3), activation='relu'))\n",
        "model.add(MaxPooling2D((2,2), strides=(2,2)))\n",
        " \n",
        "model.add(ZeroPadding2D((1,1)))\n",
        "model.add(Convolution2D(128, (3, 3), activation='relu'))\n",
        "model.add(ZeroPadding2D((1,1)))\n",
        "model.add(Convolution2D(128, (3, 3), activation='relu'))\n",
        "model.add(MaxPooling2D((2,2), strides=(2,2)))\n",
        " \n",
        "model.add(ZeroPadding2D((1,1)))\n",
        "model.add(Convolution2D(256, (3, 3), activation='relu'))\n",
        "model.add(ZeroPadding2D((1,1)))\n",
        "model.add(Convolution2D(256, (3, 3), activation='relu'))\n",
        "model.add(ZeroPadding2D((1,1)))\n",
        "model.add(Convolution2D(256, (3, 3), activation='relu'))\n",
        "model.add(MaxPooling2D((2,2), strides=(2,2)))\n",
        " \n",
        "model.add(ZeroPadding2D((1,1)))\n",
        "model.add(Convolution2D(512, (3, 3), activation='relu'))\n",
        "model.add(ZeroPadding2D((1,1)))\n",
        "model.add(Convolution2D(512, (3, 3), activation='relu'))\n",
        "model.add(ZeroPadding2D((1,1)))\n",
        "model.add(Convolution2D(512, (3, 3), activation='relu'))\n",
        "model.add(MaxPooling2D((2,2), strides=(2,2)))\n",
        " \n",
        "model.add(ZeroPadding2D((1,1)))\n",
        "model.add(Convolution2D(512, (3, 3), activation='relu'))\n",
        "model.add(ZeroPadding2D((1,1)))\n",
        "model.add(Convolution2D(512, (3, 3), activation='relu'))\n",
        "model.add(ZeroPadding2D((1,1)))\n",
        "model.add(Convolution2D(512, (3, 3), activation='relu'))\n",
        "model.add(MaxPooling2D((2,2), strides=(2,2)))\n",
        " \n",
        "model.add(Convolution2D(4096, (7, 7), activation='relu'))\n",
        "model.add(Dropout(0.5))\n",
        "model.add(Convolution2D(4096, (1, 1), activation='relu'))\n",
        "model.add(Dropout(0.5))\n",
        "model.add(Convolution2D(2622, (1, 1)))\n",
        "model.add(Flatten())\n",
        "model.add(Activation('softmax'))"
      ],
      "execution_count": 34,
      "outputs": []
    },
    {
      "cell_type": "code",
      "metadata": {
        "id": "nkjYsJyCBN3m"
      },
      "source": [
        "model.load_weights('/content/drive/MyDrive/YOUNGER/vgg_face_weights.h5')"
      ],
      "execution_count": 35,
      "outputs": []
    },
    {
      "cell_type": "code",
      "metadata": {
        "id": "EYCoijGZBN6K"
      },
      "source": [
        "#freeze all layers of VGG-Face except last 7 one\n",
        "for layer in model.layers[:-7]:\n",
        "    layer.trainable = False\n",
        "\n",
        "base_model_output = Sequential()\n",
        "base_model_output = Convolution2D(classes, (1, 1), name='predictions')(model.layers[-4].output)\n",
        "base_model_output = Flatten()(base_model_output)\n",
        "base_model_output = Activation('softmax')(base_model_output)\n",
        "\n",
        "age_model = Model(inputs=model.input, outputs=base_model_output)"
      ],
      "execution_count": 36,
      "outputs": []
    },
    {
      "cell_type": "code",
      "metadata": {
        "id": "JDiWsy3OBOBN"
      },
      "source": [
        "\n",
        "sgd = keras.optimizers.SGD(lr=1e-3, decay=1e-6, momentum=0.9, nesterov=True)\n",
        "\n",
        "age_model.compile(loss='categorical_crossentropy'\n",
        "                  , optimizer=keras.optimizers.Adam()\n",
        "                  # , optimizer = sgd\n",
        "                  , metrics=['accuracy']\n",
        "                 )"
      ],
      "execution_count": 37,
      "outputs": []
    },
    {
      "cell_type": "code",
      "metadata": {
        "id": "U6LnmGrjBOD6"
      },
      "source": [
        "\n",
        "checkpointer = ModelCheckpoint(\n",
        "    # filepath='classification_age_model.hdf5'\n",
        "    filepath='/content/classification_age_model.hdf5'\n",
        "    , monitor = \"val_loss\"\n",
        "    , verbose=1\n",
        "    , save_best_only=True\n",
        "    , mode = 'auto'\n",
        ")"
      ],
      "execution_count": 38,
      "outputs": []
    },
    {
      "cell_type": "code",
      "metadata": {
        "id": "0AB4JlKHBOGq"
      },
      "source": [
        "scores = []"
      ],
      "execution_count": 39,
      "outputs": []
    },
    {
      "cell_type": "code",
      "metadata": {
        "colab": {
          "base_uri": "https://localhost:8080/"
        },
        "id": "UDD_fUXzBOI-",
        "outputId": "8054c3a1-0ff7-4746-e692-38a3642869f0"
      },
      "source": [
        "enableFit = True\n",
        "\n",
        "if enableFit:\n",
        "    # epochs = 200 \n",
        "    # batch_size = 256 # original\n",
        "    epochs = 250 #orignal\n",
        "    batch_size = 32\n",
        "\n",
        "    for i in range(epochs):\n",
        "        print(\"epoch \",i)\n",
        "        \n",
        "        ix_train = np.random.choice(train_x.shape[0], size=batch_size)\n",
        "        \n",
        "        score = age_model.fit(\n",
        "            train_x[ix_train], train_y[ix_train]\n",
        "            , epochs=1\n",
        "            , validation_data=(test_x, test_y)\n",
        "            , callbacks=[checkpointer]\n",
        "        )\n",
        "        \n",
        "        scores.append(score)\n",
        "    \n",
        "    #restore the best weights\n",
        "    from keras.models import load_model\n",
        "    age_model = load_model('/content/classification_age_model.hdf5')\n",
        "    \n",
        "    age_model.save_weights('/content/drive/MyDrive/YOUNGER/age_model_weights.h5')\n",
        "        \n",
        "else:\n",
        "    #pre-trained weights for age prediction: https://drive.google.com/file/d/1YCox_4kJ-BYeXq27uUbasu--yz28zUMV/view?usp=sharing\n",
        "    age_model.load_weights(\"/content/drive/MyDrive/YOUNGER/age_model_weights.h5\")"
      ],
      "execution_count": 40,
      "outputs": [
        {
          "output_type": "stream",
          "text": [
            "epoch  0\n",
            "1/1 [==============================] - 13s 13s/step - loss: 4.6162 - accuracy: 0.0000e+00 - val_loss: 4.6083 - val_accuracy: 0.0301\n",
            "\n",
            "Epoch 00001: val_loss improved from inf to 4.60829, saving model to /content/classification_age_model.hdf5\n",
            "epoch  1\n",
            "1/1 [==============================] - 3s 3s/step - loss: 4.6070 - accuracy: 0.0625 - val_loss: 4.5790 - val_accuracy: 0.0260\n",
            "\n",
            "Epoch 00001: val_loss improved from 4.60829 to 4.57898, saving model to /content/classification_age_model.hdf5\n",
            "epoch  2\n",
            "1/1 [==============================] - 3s 3s/step - loss: 4.6019 - accuracy: 0.0312 - val_loss: 4.5026 - val_accuracy: 0.0291\n",
            "\n",
            "Epoch 00001: val_loss improved from 4.57898 to 4.50261, saving model to /content/classification_age_model.hdf5\n",
            "epoch  3\n",
            "1/1 [==============================] - 3s 3s/step - loss: 4.5110 - accuracy: 0.0312 - val_loss: 4.3379 - val_accuracy: 0.0291\n",
            "\n",
            "Epoch 00001: val_loss improved from 4.50261 to 4.33791, saving model to /content/classification_age_model.hdf5\n",
            "epoch  4\n",
            "1/1 [==============================] - 3s 3s/step - loss: 4.2892 - accuracy: 0.0000e+00 - val_loss: 4.1737 - val_accuracy: 0.0530\n",
            "\n",
            "Epoch 00001: val_loss improved from 4.33791 to 4.17370, saving model to /content/classification_age_model.hdf5\n",
            "epoch  5\n",
            "1/1 [==============================] - 3s 3s/step - loss: 4.1513 - accuracy: 0.0312 - val_loss: 4.2239 - val_accuracy: 0.0530\n",
            "\n",
            "Epoch 00001: val_loss did not improve from 4.17370\n",
            "epoch  6\n",
            "1/1 [==============================] - 3s 3s/step - loss: 4.0156 - accuracy: 0.0938 - val_loss: 4.3765 - val_accuracy: 0.0405\n",
            "\n",
            "Epoch 00001: val_loss did not improve from 4.17370\n",
            "epoch  7\n",
            "1/1 [==============================] - 3s 3s/step - loss: 4.6867 - accuracy: 0.0938 - val_loss: 4.2054 - val_accuracy: 0.0405\n",
            "\n",
            "Epoch 00001: val_loss did not improve from 4.17370\n",
            "epoch  8\n",
            "1/1 [==============================] - 3s 3s/step - loss: 4.2074 - accuracy: 0.0938 - val_loss: 4.1233 - val_accuracy: 0.0405\n",
            "\n",
            "Epoch 00001: val_loss improved from 4.17370 to 4.12325, saving model to /content/classification_age_model.hdf5\n",
            "epoch  9\n",
            "1/1 [==============================] - 3s 3s/step - loss: 3.8198 - accuracy: 0.0312 - val_loss: 4.1133 - val_accuracy: 0.0478\n",
            "\n",
            "Epoch 00001: val_loss improved from 4.12325 to 4.11326, saving model to /content/classification_age_model.hdf5\n",
            "epoch  10\n",
            "1/1 [==============================] - 3s 3s/step - loss: 4.6053 - accuracy: 0.0000e+00 - val_loss: 4.0506 - val_accuracy: 0.0343\n",
            "\n",
            "Epoch 00001: val_loss improved from 4.11326 to 4.05062, saving model to /content/classification_age_model.hdf5\n",
            "epoch  11\n",
            "1/1 [==============================] - 3s 3s/step - loss: 4.1871 - accuracy: 0.0312 - val_loss: 4.0252 - val_accuracy: 0.0239\n",
            "\n",
            "Epoch 00001: val_loss improved from 4.05062 to 4.02516, saving model to /content/classification_age_model.hdf5\n",
            "epoch  12\n",
            "1/1 [==============================] - 3s 3s/step - loss: 4.2230 - accuracy: 0.0625 - val_loss: 4.0224 - val_accuracy: 0.0239\n",
            "\n",
            "Epoch 00001: val_loss improved from 4.02516 to 4.02238, saving model to /content/classification_age_model.hdf5\n",
            "epoch  13\n",
            "1/1 [==============================] - 3s 3s/step - loss: 4.0516 - accuracy: 0.0000e+00 - val_loss: 4.0181 - val_accuracy: 0.0301\n",
            "\n",
            "Epoch 00001: val_loss improved from 4.02238 to 4.01812, saving model to /content/classification_age_model.hdf5\n",
            "epoch  14\n",
            "1/1 [==============================] - 3s 3s/step - loss: 3.8060 - accuracy: 0.1250 - val_loss: 3.9932 - val_accuracy: 0.0436\n",
            "\n",
            "Epoch 00001: val_loss improved from 4.01812 to 3.99315, saving model to /content/classification_age_model.hdf5\n",
            "epoch  15\n",
            "1/1 [==============================] - 3s 3s/step - loss: 4.0498 - accuracy: 0.0000e+00 - val_loss: 3.9672 - val_accuracy: 0.0374\n",
            "\n",
            "Epoch 00001: val_loss improved from 3.99315 to 3.96719, saving model to /content/classification_age_model.hdf5\n",
            "epoch  16\n",
            "1/1 [==============================] - 3s 3s/step - loss: 4.0980 - accuracy: 0.0312 - val_loss: 3.9447 - val_accuracy: 0.0384\n",
            "\n",
            "Epoch 00001: val_loss improved from 3.96719 to 3.94470, saving model to /content/classification_age_model.hdf5\n",
            "epoch  17\n",
            "1/1 [==============================] - 3s 3s/step - loss: 3.9350 - accuracy: 0.0625 - val_loss: 3.9222 - val_accuracy: 0.0363\n",
            "\n",
            "Epoch 00001: val_loss improved from 3.94470 to 3.92216, saving model to /content/classification_age_model.hdf5\n",
            "epoch  18\n",
            "1/1 [==============================] - 3s 3s/step - loss: 3.9289 - accuracy: 0.0312 - val_loss: 3.9120 - val_accuracy: 0.0395\n",
            "\n",
            "Epoch 00001: val_loss improved from 3.92216 to 3.91195, saving model to /content/classification_age_model.hdf5\n",
            "epoch  19\n",
            "1/1 [==============================] - 3s 3s/step - loss: 3.7596 - accuracy: 0.0000e+00 - val_loss: 3.9133 - val_accuracy: 0.0405\n",
            "\n",
            "Epoch 00001: val_loss did not improve from 3.91195\n",
            "epoch  20\n",
            "1/1 [==============================] - 3s 3s/step - loss: 3.9191 - accuracy: 0.0000e+00 - val_loss: 3.9004 - val_accuracy: 0.0332\n",
            "\n",
            "Epoch 00001: val_loss improved from 3.91195 to 3.90044, saving model to /content/classification_age_model.hdf5\n",
            "epoch  21\n",
            "1/1 [==============================] - 3s 3s/step - loss: 3.7683 - accuracy: 0.1250 - val_loss: 3.8779 - val_accuracy: 0.0343\n",
            "\n",
            "Epoch 00001: val_loss improved from 3.90044 to 3.87789, saving model to /content/classification_age_model.hdf5\n",
            "epoch  22\n",
            "1/1 [==============================] - 3s 3s/step - loss: 3.9496 - accuracy: 0.0312 - val_loss: 3.8561 - val_accuracy: 0.0415\n",
            "\n",
            "Epoch 00001: val_loss improved from 3.87789 to 3.85614, saving model to /content/classification_age_model.hdf5\n",
            "epoch  23\n",
            "1/1 [==============================] - 3s 3s/step - loss: 3.7080 - accuracy: 0.0625 - val_loss: 3.8422 - val_accuracy: 0.0519\n",
            "\n",
            "Epoch 00001: val_loss improved from 3.85614 to 3.84216, saving model to /content/classification_age_model.hdf5\n",
            "epoch  24\n",
            "1/1 [==============================] - 3s 3s/step - loss: 3.8716 - accuracy: 0.0312 - val_loss: 3.8311 - val_accuracy: 0.0561\n",
            "\n",
            "Epoch 00001: val_loss improved from 3.84216 to 3.83105, saving model to /content/classification_age_model.hdf5\n",
            "epoch  25\n",
            "1/1 [==============================] - 3s 3s/step - loss: 3.7722 - accuracy: 0.0625 - val_loss: 3.8230 - val_accuracy: 0.0498\n",
            "\n",
            "Epoch 00001: val_loss improved from 3.83105 to 3.82305, saving model to /content/classification_age_model.hdf5\n",
            "epoch  26\n",
            "1/1 [==============================] - 3s 3s/step - loss: 3.6939 - accuracy: 0.0312 - val_loss: 3.8252 - val_accuracy: 0.0457\n",
            "\n",
            "Epoch 00001: val_loss did not improve from 3.82305\n",
            "epoch  27\n",
            "1/1 [==============================] - 3s 3s/step - loss: 3.5789 - accuracy: 0.0312 - val_loss: 3.8372 - val_accuracy: 0.0457\n",
            "\n",
            "Epoch 00001: val_loss did not improve from 3.82305\n",
            "epoch  28\n",
            "1/1 [==============================] - 3s 3s/step - loss: 3.7107 - accuracy: 0.0312 - val_loss: 3.8444 - val_accuracy: 0.0395\n",
            "\n",
            "Epoch 00001: val_loss did not improve from 3.82305\n",
            "epoch  29\n",
            "1/1 [==============================] - 3s 3s/step - loss: 3.7457 - accuracy: 0.0938 - val_loss: 3.8480 - val_accuracy: 0.0415\n",
            "\n",
            "Epoch 00001: val_loss did not improve from 3.82305\n",
            "epoch  30\n",
            "1/1 [==============================] - 3s 3s/step - loss: 3.8286 - accuracy: 0.0000e+00 - val_loss: 3.8431 - val_accuracy: 0.0447\n",
            "\n",
            "Epoch 00001: val_loss did not improve from 3.82305\n",
            "epoch  31\n",
            "1/1 [==============================] - 3s 3s/step - loss: 3.8561 - accuracy: 0.0312 - val_loss: 3.8331 - val_accuracy: 0.0374\n",
            "\n",
            "Epoch 00001: val_loss did not improve from 3.82305\n",
            "epoch  32\n",
            "1/1 [==============================] - 3s 3s/step - loss: 3.7028 - accuracy: 0.0625 - val_loss: 3.8172 - val_accuracy: 0.0405\n",
            "\n",
            "Epoch 00001: val_loss improved from 3.82305 to 3.81724, saving model to /content/classification_age_model.hdf5\n",
            "epoch  33\n",
            "1/1 [==============================] - 3s 3s/step - loss: 3.8200 - accuracy: 0.0000e+00 - val_loss: 3.8016 - val_accuracy: 0.0436\n",
            "\n",
            "Epoch 00001: val_loss improved from 3.81724 to 3.80158, saving model to /content/classification_age_model.hdf5\n",
            "epoch  34\n",
            "1/1 [==============================] - 3s 3s/step - loss: 3.4441 - accuracy: 0.0625 - val_loss: 3.7924 - val_accuracy: 0.0478\n",
            "\n",
            "Epoch 00001: val_loss improved from 3.80158 to 3.79236, saving model to /content/classification_age_model.hdf5\n",
            "epoch  35\n",
            "1/1 [==============================] - 3s 3s/step - loss: 4.0808 - accuracy: 0.0625 - val_loss: 3.7772 - val_accuracy: 0.0488\n",
            "\n",
            "Epoch 00001: val_loss improved from 3.79236 to 3.77723, saving model to /content/classification_age_model.hdf5\n",
            "epoch  36\n",
            "1/1 [==============================] - 3s 3s/step - loss: 3.6595 - accuracy: 0.0625 - val_loss: 3.7671 - val_accuracy: 0.0488\n",
            "\n",
            "Epoch 00001: val_loss improved from 3.77723 to 3.76710, saving model to /content/classification_age_model.hdf5\n",
            "epoch  37\n",
            "1/1 [==============================] - 3s 3s/step - loss: 3.6852 - accuracy: 0.0312 - val_loss: 3.7604 - val_accuracy: 0.0447\n",
            "\n",
            "Epoch 00001: val_loss improved from 3.76710 to 3.76042, saving model to /content/classification_age_model.hdf5\n",
            "epoch  38\n",
            "1/1 [==============================] - 3s 3s/step - loss: 3.6979 - accuracy: 0.0000e+00 - val_loss: 3.7576 - val_accuracy: 0.0363\n",
            "\n",
            "Epoch 00001: val_loss improved from 3.76042 to 3.75764, saving model to /content/classification_age_model.hdf5\n",
            "epoch  39\n",
            "1/1 [==============================] - 3s 3s/step - loss: 3.5309 - accuracy: 0.0938 - val_loss: 3.7546 - val_accuracy: 0.0395\n",
            "\n",
            "Epoch 00001: val_loss improved from 3.75764 to 3.75463, saving model to /content/classification_age_model.hdf5\n",
            "epoch  40\n",
            "1/1 [==============================] - 3s 3s/step - loss: 3.6604 - accuracy: 0.0312 - val_loss: 3.7534 - val_accuracy: 0.0426\n",
            "\n",
            "Epoch 00001: val_loss improved from 3.75463 to 3.75340, saving model to /content/classification_age_model.hdf5\n",
            "epoch  41\n",
            "1/1 [==============================] - 3s 3s/step - loss: 3.7430 - accuracy: 0.0312 - val_loss: 3.7528 - val_accuracy: 0.0540\n",
            "\n",
            "Epoch 00001: val_loss improved from 3.75340 to 3.75283, saving model to /content/classification_age_model.hdf5\n",
            "epoch  42\n",
            "1/1 [==============================] - 3s 3s/step - loss: 3.6989 - accuracy: 0.0625 - val_loss: 3.7588 - val_accuracy: 0.0550\n",
            "\n",
            "Epoch 00001: val_loss did not improve from 3.75283\n",
            "epoch  43\n",
            "1/1 [==============================] - 3s 3s/step - loss: 3.5614 - accuracy: 0.0938 - val_loss: 3.7604 - val_accuracy: 0.0613\n",
            "\n",
            "Epoch 00001: val_loss did not improve from 3.75283\n",
            "epoch  44\n",
            "1/1 [==============================] - 3s 3s/step - loss: 3.8841 - accuracy: 0.0938 - val_loss: 3.7512 - val_accuracy: 0.0571\n",
            "\n",
            "Epoch 00001: val_loss improved from 3.75283 to 3.75117, saving model to /content/classification_age_model.hdf5\n",
            "epoch  45\n",
            "1/1 [==============================] - 3s 3s/step - loss: 3.6000 - accuracy: 0.0938 - val_loss: 3.7434 - val_accuracy: 0.0530\n",
            "\n",
            "Epoch 00001: val_loss improved from 3.75117 to 3.74339, saving model to /content/classification_age_model.hdf5\n",
            "epoch  46\n",
            "1/1 [==============================] - 3s 3s/step - loss: 3.8068 - accuracy: 0.0312 - val_loss: 3.7413 - val_accuracy: 0.0540\n",
            "\n",
            "Epoch 00001: val_loss improved from 3.74339 to 3.74130, saving model to /content/classification_age_model.hdf5\n",
            "epoch  47\n",
            "1/1 [==============================] - 3s 3s/step - loss: 3.7425 - accuracy: 0.0625 - val_loss: 3.7426 - val_accuracy: 0.0447\n",
            "\n",
            "Epoch 00001: val_loss did not improve from 3.74130\n",
            "epoch  48\n",
            "1/1 [==============================] - 3s 3s/step - loss: 3.6088 - accuracy: 0.1562 - val_loss: 3.7374 - val_accuracy: 0.0447\n",
            "\n",
            "Epoch 00001: val_loss improved from 3.74130 to 3.73737, saving model to /content/classification_age_model.hdf5\n",
            "epoch  49\n",
            "1/1 [==============================] - 3s 3s/step - loss: 3.5273 - accuracy: 0.0938 - val_loss: 3.7321 - val_accuracy: 0.0447\n",
            "\n",
            "Epoch 00001: val_loss improved from 3.73737 to 3.73206, saving model to /content/classification_age_model.hdf5\n",
            "epoch  50\n",
            "1/1 [==============================] - 3s 3s/step - loss: 3.9562 - accuracy: 0.0312 - val_loss: 3.7298 - val_accuracy: 0.0405\n",
            "\n",
            "Epoch 00001: val_loss improved from 3.73206 to 3.72984, saving model to /content/classification_age_model.hdf5\n",
            "epoch  51\n",
            "1/1 [==============================] - 3s 3s/step - loss: 3.5256 - accuracy: 0.1562 - val_loss: 3.7275 - val_accuracy: 0.0384\n",
            "\n",
            "Epoch 00001: val_loss improved from 3.72984 to 3.72750, saving model to /content/classification_age_model.hdf5\n",
            "epoch  52\n",
            "1/1 [==============================] - 3s 3s/step - loss: 3.4221 - accuracy: 0.0938 - val_loss: 3.7314 - val_accuracy: 0.0426\n",
            "\n",
            "Epoch 00001: val_loss did not improve from 3.72750\n",
            "epoch  53\n",
            "1/1 [==============================] - 3s 3s/step - loss: 3.6932 - accuracy: 0.1562 - val_loss: 3.7285 - val_accuracy: 0.0426\n",
            "\n",
            "Epoch 00001: val_loss did not improve from 3.72750\n",
            "epoch  54\n",
            "1/1 [==============================] - 3s 3s/step - loss: 3.6940 - accuracy: 0.1562 - val_loss: 3.7255 - val_accuracy: 0.0447\n",
            "\n",
            "Epoch 00001: val_loss improved from 3.72750 to 3.72549, saving model to /content/classification_age_model.hdf5\n",
            "epoch  55\n",
            "1/1 [==============================] - 3s 3s/step - loss: 3.9344 - accuracy: 0.0625 - val_loss: 3.7197 - val_accuracy: 0.0457\n",
            "\n",
            "Epoch 00001: val_loss improved from 3.72549 to 3.71970, saving model to /content/classification_age_model.hdf5\n",
            "epoch  56\n",
            "1/1 [==============================] - 3s 3s/step - loss: 3.5773 - accuracy: 0.0000e+00 - val_loss: 3.7124 - val_accuracy: 0.0498\n",
            "\n",
            "Epoch 00001: val_loss improved from 3.71970 to 3.71242, saving model to /content/classification_age_model.hdf5\n",
            "epoch  57\n",
            "1/1 [==============================] - 3s 3s/step - loss: 3.6830 - accuracy: 0.0312 - val_loss: 3.7042 - val_accuracy: 0.0478\n",
            "\n",
            "Epoch 00001: val_loss improved from 3.71242 to 3.70425, saving model to /content/classification_age_model.hdf5\n",
            "epoch  58\n",
            "1/1 [==============================] - 3s 3s/step - loss: 3.6061 - accuracy: 0.0312 - val_loss: 3.6901 - val_accuracy: 0.0457\n",
            "\n",
            "Epoch 00001: val_loss improved from 3.70425 to 3.69011, saving model to /content/classification_age_model.hdf5\n",
            "epoch  59\n",
            "1/1 [==============================] - 3s 3s/step - loss: 3.6519 - accuracy: 0.1562 - val_loss: 3.6818 - val_accuracy: 0.0436\n",
            "\n",
            "Epoch 00001: val_loss improved from 3.69011 to 3.68178, saving model to /content/classification_age_model.hdf5\n",
            "epoch  60\n",
            "1/1 [==============================] - 3s 3s/step - loss: 3.6231 - accuracy: 0.1250 - val_loss: 3.6797 - val_accuracy: 0.0395\n",
            "\n",
            "Epoch 00001: val_loss improved from 3.68178 to 3.67968, saving model to /content/classification_age_model.hdf5\n",
            "epoch  61\n",
            "1/1 [==============================] - 3s 3s/step - loss: 3.4947 - accuracy: 0.0938 - val_loss: 3.6791 - val_accuracy: 0.0426\n",
            "\n",
            "Epoch 00001: val_loss improved from 3.67968 to 3.67912, saving model to /content/classification_age_model.hdf5\n",
            "epoch  62\n",
            "1/1 [==============================] - 3s 3s/step - loss: 3.5993 - accuracy: 0.0938 - val_loss: 3.6816 - val_accuracy: 0.0415\n",
            "\n",
            "Epoch 00001: val_loss did not improve from 3.67912\n",
            "epoch  63\n",
            "1/1 [==============================] - 3s 3s/step - loss: 3.4702 - accuracy: 0.0938 - val_loss: 3.6908 - val_accuracy: 0.0395\n",
            "\n",
            "Epoch 00001: val_loss did not improve from 3.67912\n",
            "epoch  64\n",
            "1/1 [==============================] - 3s 3s/step - loss: 3.4511 - accuracy: 0.0938 - val_loss: 3.6937 - val_accuracy: 0.0405\n",
            "\n",
            "Epoch 00001: val_loss did not improve from 3.67912\n",
            "epoch  65\n",
            "1/1 [==============================] - 3s 3s/step - loss: 3.5487 - accuracy: 0.1250 - val_loss: 3.7054 - val_accuracy: 0.0436\n",
            "\n",
            "Epoch 00001: val_loss did not improve from 3.67912\n",
            "epoch  66\n",
            "1/1 [==============================] - 3s 3s/step - loss: 3.5267 - accuracy: 0.1250 - val_loss: 3.7106 - val_accuracy: 0.0312\n",
            "\n",
            "Epoch 00001: val_loss did not improve from 3.67912\n",
            "epoch  67\n",
            "1/1 [==============================] - 3s 3s/step - loss: 3.5777 - accuracy: 0.1250 - val_loss: 3.7148 - val_accuracy: 0.0270\n",
            "\n",
            "Epoch 00001: val_loss did not improve from 3.67912\n",
            "epoch  68\n",
            "1/1 [==============================] - 3s 3s/step - loss: 3.4995 - accuracy: 0.1250 - val_loss: 3.7186 - val_accuracy: 0.0353\n",
            "\n",
            "Epoch 00001: val_loss did not improve from 3.67912\n",
            "epoch  69\n",
            "1/1 [==============================] - 3s 3s/step - loss: 3.4522 - accuracy: 0.1875 - val_loss: 3.7220 - val_accuracy: 0.0343\n",
            "\n",
            "Epoch 00001: val_loss did not improve from 3.67912\n",
            "epoch  70\n",
            "1/1 [==============================] - 3s 3s/step - loss: 3.6027 - accuracy: 0.0000e+00 - val_loss: 3.7113 - val_accuracy: 0.0395\n",
            "\n",
            "Epoch 00001: val_loss did not improve from 3.67912\n",
            "epoch  71\n",
            "1/1 [==============================] - 3s 3s/step - loss: 3.5951 - accuracy: 0.0938 - val_loss: 3.7035 - val_accuracy: 0.0447\n",
            "\n",
            "Epoch 00001: val_loss did not improve from 3.67912\n",
            "epoch  72\n",
            "1/1 [==============================] - 3s 3s/step - loss: 3.5121 - accuracy: 0.0938 - val_loss: 3.6984 - val_accuracy: 0.0561\n",
            "\n",
            "Epoch 00001: val_loss did not improve from 3.67912\n",
            "epoch  73\n",
            "1/1 [==============================] - 3s 3s/step - loss: 3.7252 - accuracy: 0.0625 - val_loss: 3.6863 - val_accuracy: 0.0550\n",
            "\n",
            "Epoch 00001: val_loss did not improve from 3.67912\n",
            "epoch  74\n",
            "1/1 [==============================] - 3s 3s/step - loss: 3.4689 - accuracy: 0.0938 - val_loss: 3.6793 - val_accuracy: 0.0478\n",
            "\n",
            "Epoch 00001: val_loss did not improve from 3.67912\n",
            "epoch  75\n",
            "1/1 [==============================] - 3s 3s/step - loss: 3.5760 - accuracy: 0.1250 - val_loss: 3.6651 - val_accuracy: 0.0498\n",
            "\n",
            "Epoch 00001: val_loss improved from 3.67912 to 3.66513, saving model to /content/classification_age_model.hdf5\n",
            "epoch  76\n",
            "1/1 [==============================] - 3s 3s/step - loss: 3.4031 - accuracy: 0.0938 - val_loss: 3.6521 - val_accuracy: 0.0561\n",
            "\n",
            "Epoch 00001: val_loss improved from 3.66513 to 3.65208, saving model to /content/classification_age_model.hdf5\n",
            "epoch  77\n",
            "1/1 [==============================] - 3s 3s/step - loss: 3.4435 - accuracy: 0.1562 - val_loss: 3.6480 - val_accuracy: 0.0644\n",
            "\n",
            "Epoch 00001: val_loss improved from 3.65208 to 3.64805, saving model to /content/classification_age_model.hdf5\n",
            "epoch  78\n",
            "1/1 [==============================] - 3s 3s/step - loss: 3.5845 - accuracy: 0.0000e+00 - val_loss: 3.6536 - val_accuracy: 0.0654\n",
            "\n",
            "Epoch 00001: val_loss did not improve from 3.64805\n",
            "epoch  79\n",
            "1/1 [==============================] - 3s 3s/step - loss: 3.5279 - accuracy: 0.0938 - val_loss: 3.6591 - val_accuracy: 0.0644\n",
            "\n",
            "Epoch 00001: val_loss did not improve from 3.64805\n",
            "epoch  80\n",
            "1/1 [==============================] - 3s 3s/step - loss: 3.4257 - accuracy: 0.0938 - val_loss: 3.6598 - val_accuracy: 0.0592\n",
            "\n",
            "Epoch 00001: val_loss did not improve from 3.64805\n",
            "epoch  81\n",
            "1/1 [==============================] - 3s 3s/step - loss: 3.3829 - accuracy: 0.1250 - val_loss: 3.6604 - val_accuracy: 0.0602\n",
            "\n",
            "Epoch 00001: val_loss did not improve from 3.64805\n",
            "epoch  82\n",
            "1/1 [==============================] - 3s 3s/step - loss: 3.1776 - accuracy: 0.2188 - val_loss: 3.6545 - val_accuracy: 0.0613\n",
            "\n",
            "Epoch 00001: val_loss did not improve from 3.64805\n",
            "epoch  83\n",
            "1/1 [==============================] - 3s 3s/step - loss: 3.2877 - accuracy: 0.0312 - val_loss: 3.6379 - val_accuracy: 0.0665\n",
            "\n",
            "Epoch 00001: val_loss improved from 3.64805 to 3.63787, saving model to /content/classification_age_model.hdf5\n",
            "epoch  84\n",
            "1/1 [==============================] - 3s 3s/step - loss: 3.2800 - accuracy: 0.1875 - val_loss: 3.6290 - val_accuracy: 0.0592\n",
            "\n",
            "Epoch 00001: val_loss improved from 3.63787 to 3.62902, saving model to /content/classification_age_model.hdf5\n",
            "epoch  85\n",
            "1/1 [==============================] - 3s 3s/step - loss: 2.9538 - accuracy: 0.1562 - val_loss: 3.6383 - val_accuracy: 0.0592\n",
            "\n",
            "Epoch 00001: val_loss did not improve from 3.62902\n",
            "epoch  86\n",
            "1/1 [==============================] - 3s 3s/step - loss: 3.4578 - accuracy: 0.1250 - val_loss: 3.6587 - val_accuracy: 0.0602\n",
            "\n",
            "Epoch 00001: val_loss did not improve from 3.62902\n",
            "epoch  87\n",
            "1/1 [==============================] - 3s 3s/step - loss: 3.4833 - accuracy: 0.2188 - val_loss: 3.6927 - val_accuracy: 0.0654\n",
            "\n",
            "Epoch 00001: val_loss did not improve from 3.62902\n",
            "epoch  88\n",
            "1/1 [==============================] - 3s 3s/step - loss: 3.5518 - accuracy: 0.0625 - val_loss: 3.6966 - val_accuracy: 0.0644\n",
            "\n",
            "Epoch 00001: val_loss did not improve from 3.62902\n",
            "epoch  89\n",
            "1/1 [==============================] - 3s 3s/step - loss: 3.1428 - accuracy: 0.1875 - val_loss: 3.6835 - val_accuracy: 0.0602\n",
            "\n",
            "Epoch 00001: val_loss did not improve from 3.62902\n",
            "epoch  90\n",
            "1/1 [==============================] - 3s 3s/step - loss: 3.2748 - accuracy: 0.1875 - val_loss: 3.6715 - val_accuracy: 0.0540\n",
            "\n",
            "Epoch 00001: val_loss did not improve from 3.62902\n",
            "epoch  91\n",
            "1/1 [==============================] - 3s 3s/step - loss: 2.9231 - accuracy: 0.2812 - val_loss: 3.6694 - val_accuracy: 0.0478\n",
            "\n",
            "Epoch 00001: val_loss did not improve from 3.62902\n",
            "epoch  92\n",
            "1/1 [==============================] - 3s 3s/step - loss: 3.2490 - accuracy: 0.1250 - val_loss: 3.6800 - val_accuracy: 0.0519\n",
            "\n",
            "Epoch 00001: val_loss did not improve from 3.62902\n",
            "epoch  93\n",
            "1/1 [==============================] - 3s 3s/step - loss: 3.5110 - accuracy: 0.0312 - val_loss: 3.6813 - val_accuracy: 0.0478\n",
            "\n",
            "Epoch 00001: val_loss did not improve from 3.62902\n",
            "epoch  94\n",
            "1/1 [==============================] - 3s 3s/step - loss: 3.4061 - accuracy: 0.1875 - val_loss: 3.6691 - val_accuracy: 0.0509\n",
            "\n",
            "Epoch 00001: val_loss did not improve from 3.62902\n",
            "epoch  95\n",
            "1/1 [==============================] - 3s 3s/step - loss: 3.2104 - accuracy: 0.1250 - val_loss: 3.6423 - val_accuracy: 0.0613\n",
            "\n",
            "Epoch 00001: val_loss did not improve from 3.62902\n",
            "epoch  96\n",
            "1/1 [==============================] - 3s 3s/step - loss: 3.2672 - accuracy: 0.1250 - val_loss: 3.6251 - val_accuracy: 0.0665\n",
            "\n",
            "Epoch 00001: val_loss improved from 3.62902 to 3.62515, saving model to /content/classification_age_model.hdf5\n",
            "epoch  97\n",
            "1/1 [==============================] - 3s 3s/step - loss: 3.1968 - accuracy: 0.0938 - val_loss: 3.6189 - val_accuracy: 0.0633\n",
            "\n",
            "Epoch 00001: val_loss improved from 3.62515 to 3.61895, saving model to /content/classification_age_model.hdf5\n",
            "epoch  98\n",
            "1/1 [==============================] - 3s 3s/step - loss: 3.3219 - accuracy: 0.1250 - val_loss: 3.6159 - val_accuracy: 0.0550\n",
            "\n",
            "Epoch 00001: val_loss improved from 3.61895 to 3.61593, saving model to /content/classification_age_model.hdf5\n",
            "epoch  99\n",
            "1/1 [==============================] - 3s 3s/step - loss: 3.2126 - accuracy: 0.1562 - val_loss: 3.6167 - val_accuracy: 0.0592\n",
            "\n",
            "Epoch 00001: val_loss did not improve from 3.61593\n",
            "epoch  100\n",
            "1/1 [==============================] - 3s 3s/step - loss: 3.6423 - accuracy: 0.0938 - val_loss: 3.6151 - val_accuracy: 0.0550\n",
            "\n",
            "Epoch 00001: val_loss improved from 3.61593 to 3.61509, saving model to /content/classification_age_model.hdf5\n",
            "epoch  101\n",
            "1/1 [==============================] - 3s 3s/step - loss: 3.5815 - accuracy: 0.1875 - val_loss: 3.6123 - val_accuracy: 0.0582\n",
            "\n",
            "Epoch 00001: val_loss improved from 3.61509 to 3.61233, saving model to /content/classification_age_model.hdf5\n",
            "epoch  102\n",
            "1/1 [==============================] - 3s 3s/step - loss: 3.1449 - accuracy: 0.1562 - val_loss: 3.6161 - val_accuracy: 0.0613\n",
            "\n",
            "Epoch 00001: val_loss did not improve from 3.61233\n",
            "epoch  103\n",
            "1/1 [==============================] - 3s 3s/step - loss: 2.8631 - accuracy: 0.3125 - val_loss: 3.6330 - val_accuracy: 0.0592\n",
            "\n",
            "Epoch 00001: val_loss did not improve from 3.61233\n",
            "epoch  104\n",
            "1/1 [==============================] - 3s 3s/step - loss: 3.6184 - accuracy: 0.1250 - val_loss: 3.6430 - val_accuracy: 0.0571\n",
            "\n",
            "Epoch 00001: val_loss did not improve from 3.61233\n",
            "epoch  105\n",
            "1/1 [==============================] - 3s 3s/step - loss: 3.3756 - accuracy: 0.1562 - val_loss: 3.6531 - val_accuracy: 0.0509\n",
            "\n",
            "Epoch 00001: val_loss did not improve from 3.61233\n",
            "epoch  106\n",
            "1/1 [==============================] - 3s 3s/step - loss: 3.0039 - accuracy: 0.2188 - val_loss: 3.6614 - val_accuracy: 0.0467\n",
            "\n",
            "Epoch 00001: val_loss did not improve from 3.61233\n",
            "epoch  107\n",
            "1/1 [==============================] - 3s 3s/step - loss: 3.5430 - accuracy: 0.0000e+00 - val_loss: 3.6582 - val_accuracy: 0.0519\n",
            "\n",
            "Epoch 00001: val_loss did not improve from 3.61233\n",
            "epoch  108\n",
            "1/1 [==============================] - 3s 3s/step - loss: 3.1964 - accuracy: 0.2188 - val_loss: 3.6477 - val_accuracy: 0.0436\n",
            "\n",
            "Epoch 00001: val_loss did not improve from 3.61233\n",
            "epoch  109\n",
            "1/1 [==============================] - 3s 3s/step - loss: 3.3126 - accuracy: 0.2188 - val_loss: 3.6381 - val_accuracy: 0.0478\n",
            "\n",
            "Epoch 00001: val_loss did not improve from 3.61233\n",
            "epoch  110\n",
            "1/1 [==============================] - 3s 3s/step - loss: 3.0234 - accuracy: 0.1875 - val_loss: 3.6292 - val_accuracy: 0.0530\n",
            "\n",
            "Epoch 00001: val_loss did not improve from 3.61233\n",
            "epoch  111\n",
            "1/1 [==============================] - 3s 3s/step - loss: 3.0556 - accuracy: 0.1562 - val_loss: 3.6342 - val_accuracy: 0.0623\n",
            "\n",
            "Epoch 00001: val_loss did not improve from 3.61233\n",
            "epoch  112\n",
            "1/1 [==============================] - 3s 3s/step - loss: 3.2683 - accuracy: 0.1250 - val_loss: 3.6476 - val_accuracy: 0.0665\n",
            "\n",
            "Epoch 00001: val_loss did not improve from 3.61233\n",
            "epoch  113\n",
            "1/1 [==============================] - 3s 3s/step - loss: 3.3996 - accuracy: 0.1562 - val_loss: 3.6484 - val_accuracy: 0.0675\n",
            "\n",
            "Epoch 00001: val_loss did not improve from 3.61233\n",
            "epoch  114\n",
            "1/1 [==============================] - 3s 3s/step - loss: 3.3022 - accuracy: 0.2188 - val_loss: 3.6282 - val_accuracy: 0.0550\n",
            "\n",
            "Epoch 00001: val_loss did not improve from 3.61233\n",
            "epoch  115\n",
            "1/1 [==============================] - 3s 3s/step - loss: 3.0959 - accuracy: 0.1562 - val_loss: 3.6117 - val_accuracy: 0.0540\n",
            "\n",
            "Epoch 00001: val_loss improved from 3.61233 to 3.61172, saving model to /content/classification_age_model.hdf5\n",
            "epoch  116\n",
            "1/1 [==============================] - 3s 3s/step - loss: 3.1909 - accuracy: 0.2188 - val_loss: 3.6295 - val_accuracy: 0.0509\n",
            "\n",
            "Epoch 00001: val_loss did not improve from 3.61172\n",
            "epoch  117\n",
            "1/1 [==============================] - 3s 3s/step - loss: 3.3909 - accuracy: 0.1250 - val_loss: 3.6436 - val_accuracy: 0.0498\n",
            "\n",
            "Epoch 00001: val_loss did not improve from 3.61172\n",
            "epoch  118\n",
            "1/1 [==============================] - 3s 3s/step - loss: 3.0894 - accuracy: 0.2812 - val_loss: 3.6594 - val_accuracy: 0.0550\n",
            "\n",
            "Epoch 00001: val_loss did not improve from 3.61172\n",
            "epoch  119\n",
            "1/1 [==============================] - 3s 3s/step - loss: 3.2333 - accuracy: 0.1562 - val_loss: 3.6528 - val_accuracy: 0.0602\n",
            "\n",
            "Epoch 00001: val_loss did not improve from 3.61172\n",
            "epoch  120\n",
            "1/1 [==============================] - 3s 3s/step - loss: 3.3915 - accuracy: 0.1562 - val_loss: 3.6369 - val_accuracy: 0.0665\n",
            "\n",
            "Epoch 00001: val_loss did not improve from 3.61172\n",
            "epoch  121\n",
            "1/1 [==============================] - 3s 3s/step - loss: 2.9455 - accuracy: 0.2812 - val_loss: 3.6325 - val_accuracy: 0.0665\n",
            "\n",
            "Epoch 00001: val_loss did not improve from 3.61172\n",
            "epoch  122\n",
            "1/1 [==============================] - 3s 3s/step - loss: 3.1873 - accuracy: 0.1875 - val_loss: 3.6420 - val_accuracy: 0.0613\n",
            "\n",
            "Epoch 00001: val_loss did not improve from 3.61172\n",
            "epoch  123\n",
            "1/1 [==============================] - 3s 3s/step - loss: 3.2857 - accuracy: 0.2188 - val_loss: 3.6622 - val_accuracy: 0.0571\n",
            "\n",
            "Epoch 00001: val_loss did not improve from 3.61172\n",
            "epoch  124\n",
            "1/1 [==============================] - 3s 3s/step - loss: 3.1328 - accuracy: 0.0938 - val_loss: 3.6739 - val_accuracy: 0.0571\n",
            "\n",
            "Epoch 00001: val_loss did not improve from 3.61172\n",
            "epoch  125\n",
            "1/1 [==============================] - 3s 3s/step - loss: 2.8344 - accuracy: 0.4062 - val_loss: 3.6645 - val_accuracy: 0.0613\n",
            "\n",
            "Epoch 00001: val_loss did not improve from 3.61172\n",
            "epoch  126\n",
            "1/1 [==============================] - 3s 3s/step - loss: 3.5328 - accuracy: 0.1875 - val_loss: 3.6208 - val_accuracy: 0.0498\n",
            "\n",
            "Epoch 00001: val_loss did not improve from 3.61172\n",
            "epoch  127\n",
            "1/1 [==============================] - 3s 3s/step - loss: 3.1830 - accuracy: 0.1562 - val_loss: 3.5938 - val_accuracy: 0.0447\n",
            "\n",
            "Epoch 00001: val_loss improved from 3.61172 to 3.59379, saving model to /content/classification_age_model.hdf5\n",
            "epoch  128\n",
            "1/1 [==============================] - 3s 3s/step - loss: 3.2009 - accuracy: 0.1875 - val_loss: 3.6011 - val_accuracy: 0.0602\n",
            "\n",
            "Epoch 00001: val_loss did not improve from 3.59379\n",
            "epoch  129\n",
            "1/1 [==============================] - 3s 3s/step - loss: 3.3564 - accuracy: 0.1562 - val_loss: 3.6164 - val_accuracy: 0.0623\n",
            "\n",
            "Epoch 00001: val_loss did not improve from 3.59379\n",
            "epoch  130\n",
            "1/1 [==============================] - 3s 3s/step - loss: 2.9545 - accuracy: 0.2188 - val_loss: 3.6129 - val_accuracy: 0.0571\n",
            "\n",
            "Epoch 00001: val_loss did not improve from 3.59379\n",
            "epoch  131\n",
            "1/1 [==============================] - 3s 3s/step - loss: 3.2351 - accuracy: 0.1250 - val_loss: 3.6182 - val_accuracy: 0.0540\n",
            "\n",
            "Epoch 00001: val_loss did not improve from 3.59379\n",
            "epoch  132\n",
            "1/1 [==============================] - 3s 3s/step - loss: 3.3248 - accuracy: 0.1562 - val_loss: 3.6315 - val_accuracy: 0.0613\n",
            "\n",
            "Epoch 00001: val_loss did not improve from 3.59379\n",
            "epoch  133\n",
            "1/1 [==============================] - 3s 3s/step - loss: 2.8750 - accuracy: 0.2500 - val_loss: 3.6339 - val_accuracy: 0.0571\n",
            "\n",
            "Epoch 00001: val_loss did not improve from 3.59379\n",
            "epoch  134\n",
            "1/1 [==============================] - 3s 3s/step - loss: 2.9550 - accuracy: 0.3750 - val_loss: 3.6303 - val_accuracy: 0.0498\n",
            "\n",
            "Epoch 00001: val_loss did not improve from 3.59379\n",
            "epoch  135\n",
            "1/1 [==============================] - 3s 3s/step - loss: 3.0716 - accuracy: 0.0938 - val_loss: 3.6170 - val_accuracy: 0.0509\n",
            "\n",
            "Epoch 00001: val_loss did not improve from 3.59379\n",
            "epoch  136\n",
            "1/1 [==============================] - 3s 3s/step - loss: 3.5955 - accuracy: 0.2500 - val_loss: 3.6021 - val_accuracy: 0.0571\n",
            "\n",
            "Epoch 00001: val_loss did not improve from 3.59379\n",
            "epoch  137\n",
            "1/1 [==============================] - 3s 3s/step - loss: 2.6306 - accuracy: 0.2812 - val_loss: 3.5972 - val_accuracy: 0.0550\n",
            "\n",
            "Epoch 00001: val_loss did not improve from 3.59379\n",
            "epoch  138\n",
            "1/1 [==============================] - 3s 3s/step - loss: 2.7009 - accuracy: 0.4062 - val_loss: 3.5991 - val_accuracy: 0.0540\n",
            "\n",
            "Epoch 00001: val_loss did not improve from 3.59379\n",
            "epoch  139\n",
            "1/1 [==============================] - 3s 3s/step - loss: 3.2453 - accuracy: 0.1250 - val_loss: 3.5907 - val_accuracy: 0.0561\n",
            "\n",
            "Epoch 00001: val_loss improved from 3.59379 to 3.59065, saving model to /content/classification_age_model.hdf5\n",
            "epoch  140\n",
            "1/1 [==============================] - 3s 3s/step - loss: 2.9752 - accuracy: 0.2188 - val_loss: 3.5849 - val_accuracy: 0.0540\n",
            "\n",
            "Epoch 00001: val_loss improved from 3.59065 to 3.58492, saving model to /content/classification_age_model.hdf5\n",
            "epoch  141\n",
            "1/1 [==============================] - 3s 3s/step - loss: 2.8513 - accuracy: 0.2500 - val_loss: 3.5936 - val_accuracy: 0.0436\n",
            "\n",
            "Epoch 00001: val_loss did not improve from 3.58492\n",
            "epoch  142\n",
            "1/1 [==============================] - 3s 3s/step - loss: 2.8613 - accuracy: 0.3125 - val_loss: 3.6143 - val_accuracy: 0.0447\n",
            "\n",
            "Epoch 00001: val_loss did not improve from 3.58492\n",
            "epoch  143\n",
            "1/1 [==============================] - 3s 3s/step - loss: 2.5775 - accuracy: 0.3438 - val_loss: 3.6532 - val_accuracy: 0.0540\n",
            "\n",
            "Epoch 00001: val_loss did not improve from 3.58492\n",
            "epoch  144\n",
            "1/1 [==============================] - 3s 3s/step - loss: 2.9801 - accuracy: 0.2500 - val_loss: 3.6782 - val_accuracy: 0.0540\n",
            "\n",
            "Epoch 00001: val_loss did not improve from 3.58492\n",
            "epoch  145\n",
            "1/1 [==============================] - 3s 3s/step - loss: 2.7178 - accuracy: 0.2500 - val_loss: 3.6997 - val_accuracy: 0.0457\n",
            "\n",
            "Epoch 00001: val_loss did not improve from 3.58492\n",
            "epoch  146\n",
            "1/1 [==============================] - 3s 3s/step - loss: 3.0439 - accuracy: 0.2500 - val_loss: 3.7089 - val_accuracy: 0.0447\n",
            "\n",
            "Epoch 00001: val_loss did not improve from 3.58492\n",
            "epoch  147\n",
            "1/1 [==============================] - 3s 3s/step - loss: 3.0320 - accuracy: 0.1875 - val_loss: 3.7213 - val_accuracy: 0.0467\n",
            "\n",
            "Epoch 00001: val_loss did not improve from 3.58492\n",
            "epoch  148\n",
            "1/1 [==============================] - 3s 3s/step - loss: 2.8257 - accuracy: 0.3125 - val_loss: 3.7322 - val_accuracy: 0.0436\n",
            "\n",
            "Epoch 00001: val_loss did not improve from 3.58492\n",
            "epoch  149\n",
            "1/1 [==============================] - 3s 3s/step - loss: 3.1357 - accuracy: 0.2188 - val_loss: 3.7273 - val_accuracy: 0.0415\n",
            "\n",
            "Epoch 00001: val_loss did not improve from 3.58492\n",
            "epoch  150\n",
            "1/1 [==============================] - 3s 3s/step - loss: 3.0916 - accuracy: 0.1562 - val_loss: 3.6960 - val_accuracy: 0.0436\n",
            "\n",
            "Epoch 00001: val_loss did not improve from 3.58492\n",
            "epoch  151\n",
            "1/1 [==============================] - 3s 3s/step - loss: 2.6945 - accuracy: 0.3438 - val_loss: 3.6549 - val_accuracy: 0.0488\n",
            "\n",
            "Epoch 00001: val_loss did not improve from 3.58492\n",
            "epoch  152\n",
            "1/1 [==============================] - 3s 3s/step - loss: 3.2100 - accuracy: 0.2188 - val_loss: 3.6173 - val_accuracy: 0.0519\n",
            "\n",
            "Epoch 00001: val_loss did not improve from 3.58492\n",
            "epoch  153\n",
            "1/1 [==============================] - 3s 3s/step - loss: 2.8550 - accuracy: 0.2812 - val_loss: 3.5971 - val_accuracy: 0.0530\n",
            "\n",
            "Epoch 00001: val_loss did not improve from 3.58492\n",
            "epoch  154\n",
            "1/1 [==============================] - 3s 3s/step - loss: 2.8076 - accuracy: 0.2500 - val_loss: 3.5915 - val_accuracy: 0.0602\n",
            "\n",
            "Epoch 00001: val_loss did not improve from 3.58492\n",
            "epoch  155\n",
            "1/1 [==============================] - 3s 3s/step - loss: 3.2581 - accuracy: 0.2500 - val_loss: 3.6006 - val_accuracy: 0.0623\n",
            "\n",
            "Epoch 00001: val_loss did not improve from 3.58492\n",
            "epoch  156\n",
            "1/1 [==============================] - 3s 3s/step - loss: 2.9600 - accuracy: 0.2500 - val_loss: 3.6140 - val_accuracy: 0.0696\n",
            "\n",
            "Epoch 00001: val_loss did not improve from 3.58492\n",
            "epoch  157\n",
            "1/1 [==============================] - 3s 3s/step - loss: 3.1213 - accuracy: 0.2188 - val_loss: 3.6361 - val_accuracy: 0.0644\n",
            "\n",
            "Epoch 00001: val_loss did not improve from 3.58492\n",
            "epoch  158\n",
            "1/1 [==============================] - 3s 3s/step - loss: 2.4218 - accuracy: 0.4375 - val_loss: 3.6407 - val_accuracy: 0.0571\n",
            "\n",
            "Epoch 00001: val_loss did not improve from 3.58492\n",
            "epoch  159\n",
            "1/1 [==============================] - 3s 3s/step - loss: 2.6395 - accuracy: 0.4062 - val_loss: 3.6443 - val_accuracy: 0.0519\n",
            "\n",
            "Epoch 00001: val_loss did not improve from 3.58492\n",
            "epoch  160\n",
            "1/1 [==============================] - 3s 3s/step - loss: 2.3074 - accuracy: 0.4375 - val_loss: 3.6544 - val_accuracy: 0.0488\n",
            "\n",
            "Epoch 00001: val_loss did not improve from 3.58492\n",
            "epoch  161\n",
            "1/1 [==============================] - 3s 3s/step - loss: 2.6890 - accuracy: 0.3125 - val_loss: 3.6599 - val_accuracy: 0.0478\n",
            "\n",
            "Epoch 00001: val_loss did not improve from 3.58492\n",
            "epoch  162\n",
            "1/1 [==============================] - 3s 3s/step - loss: 3.0783 - accuracy: 0.2500 - val_loss: 3.6645 - val_accuracy: 0.0498\n",
            "\n",
            "Epoch 00001: val_loss did not improve from 3.58492\n",
            "epoch  163\n",
            "1/1 [==============================] - 3s 3s/step - loss: 2.7553 - accuracy: 0.2812 - val_loss: 3.6622 - val_accuracy: 0.0478\n",
            "\n",
            "Epoch 00001: val_loss did not improve from 3.58492\n",
            "epoch  164\n",
            "1/1 [==============================] - 3s 3s/step - loss: 3.0413 - accuracy: 0.2188 - val_loss: 3.6481 - val_accuracy: 0.0519\n",
            "\n",
            "Epoch 00001: val_loss did not improve from 3.58492\n",
            "epoch  165\n",
            "1/1 [==============================] - 3s 3s/step - loss: 2.8974 - accuracy: 0.2188 - val_loss: 3.6424 - val_accuracy: 0.0415\n",
            "\n",
            "Epoch 00001: val_loss did not improve from 3.58492\n",
            "epoch  166\n",
            "1/1 [==============================] - 3s 3s/step - loss: 2.5128 - accuracy: 0.4375 - val_loss: 3.6453 - val_accuracy: 0.0405\n",
            "\n",
            "Epoch 00001: val_loss did not improve from 3.58492\n",
            "epoch  167\n",
            "1/1 [==============================] - 3s 3s/step - loss: 2.8766 - accuracy: 0.3125 - val_loss: 3.6389 - val_accuracy: 0.0395\n",
            "\n",
            "Epoch 00001: val_loss did not improve from 3.58492\n",
            "epoch  168\n",
            "1/1 [==============================] - 3s 3s/step - loss: 2.6556 - accuracy: 0.3438 - val_loss: 3.6451 - val_accuracy: 0.0353\n",
            "\n",
            "Epoch 00001: val_loss did not improve from 3.58492\n",
            "epoch  169\n",
            "1/1 [==============================] - 3s 3s/step - loss: 3.0665 - accuracy: 0.2500 - val_loss: 3.6646 - val_accuracy: 0.0467\n",
            "\n",
            "Epoch 00001: val_loss did not improve from 3.58492\n",
            "epoch  170\n",
            "1/1 [==============================] - 3s 3s/step - loss: 2.8073 - accuracy: 0.4062 - val_loss: 3.6752 - val_accuracy: 0.0519\n",
            "\n",
            "Epoch 00001: val_loss did not improve from 3.58492\n",
            "epoch  171\n",
            "1/1 [==============================] - 3s 3s/step - loss: 3.2737 - accuracy: 0.1562 - val_loss: 3.6785 - val_accuracy: 0.0540\n",
            "\n",
            "Epoch 00001: val_loss did not improve from 3.58492\n",
            "epoch  172\n",
            "1/1 [==============================] - 3s 3s/step - loss: 2.8266 - accuracy: 0.1562 - val_loss: 3.6581 - val_accuracy: 0.0530\n",
            "\n",
            "Epoch 00001: val_loss did not improve from 3.58492\n",
            "epoch  173\n",
            "1/1 [==============================] - 3s 3s/step - loss: 2.7547 - accuracy: 0.2500 - val_loss: 3.6393 - val_accuracy: 0.0571\n",
            "\n",
            "Epoch 00001: val_loss did not improve from 3.58492\n",
            "epoch  174\n",
            "1/1 [==============================] - 3s 3s/step - loss: 2.5402 - accuracy: 0.3750 - val_loss: 3.6244 - val_accuracy: 0.0519\n",
            "\n",
            "Epoch 00001: val_loss did not improve from 3.58492\n",
            "epoch  175\n",
            "1/1 [==============================] - 3s 3s/step - loss: 2.1080 - accuracy: 0.4688 - val_loss: 3.6339 - val_accuracy: 0.0488\n",
            "\n",
            "Epoch 00001: val_loss did not improve from 3.58492\n",
            "epoch  176\n",
            "1/1 [==============================] - 3s 3s/step - loss: 2.7580 - accuracy: 0.2812 - val_loss: 3.6532 - val_accuracy: 0.0467\n",
            "\n",
            "Epoch 00001: val_loss did not improve from 3.58492\n",
            "epoch  177\n",
            "1/1 [==============================] - 3s 3s/step - loss: 2.9342 - accuracy: 0.2188 - val_loss: 3.6605 - val_accuracy: 0.0530\n",
            "\n",
            "Epoch 00001: val_loss did not improve from 3.58492\n",
            "epoch  178\n",
            "1/1 [==============================] - 3s 3s/step - loss: 2.6322 - accuracy: 0.2812 - val_loss: 3.6497 - val_accuracy: 0.0540\n",
            "\n",
            "Epoch 00001: val_loss did not improve from 3.58492\n",
            "epoch  179\n",
            "1/1 [==============================] - 3s 3s/step - loss: 2.8047 - accuracy: 0.2812 - val_loss: 3.6312 - val_accuracy: 0.0561\n",
            "\n",
            "Epoch 00001: val_loss did not improve from 3.58492\n",
            "epoch  180\n",
            "1/1 [==============================] - 3s 3s/step - loss: 2.4847 - accuracy: 0.3750 - val_loss: 3.6327 - val_accuracy: 0.0530\n",
            "\n",
            "Epoch 00001: val_loss did not improve from 3.58492\n",
            "epoch  181\n",
            "1/1 [==============================] - 3s 3s/step - loss: 2.6725 - accuracy: 0.2812 - val_loss: 3.6279 - val_accuracy: 0.0498\n",
            "\n",
            "Epoch 00001: val_loss did not improve from 3.58492\n",
            "epoch  182\n",
            "1/1 [==============================] - 3s 3s/step - loss: 2.4240 - accuracy: 0.4375 - val_loss: 3.6389 - val_accuracy: 0.0550\n",
            "\n",
            "Epoch 00001: val_loss did not improve from 3.58492\n",
            "epoch  183\n",
            "1/1 [==============================] - 3s 3s/step - loss: 3.1806 - accuracy: 0.2812 - val_loss: 3.6324 - val_accuracy: 0.0582\n",
            "\n",
            "Epoch 00001: val_loss did not improve from 3.58492\n",
            "epoch  184\n",
            "1/1 [==============================] - 3s 3s/step - loss: 2.8632 - accuracy: 0.2500 - val_loss: 3.6175 - val_accuracy: 0.0613\n",
            "\n",
            "Epoch 00001: val_loss did not improve from 3.58492\n",
            "epoch  185\n",
            "1/1 [==============================] - 3s 3s/step - loss: 2.8452 - accuracy: 0.3438 - val_loss: 3.6070 - val_accuracy: 0.0550\n",
            "\n",
            "Epoch 00001: val_loss did not improve from 3.58492\n",
            "epoch  186\n",
            "1/1 [==============================] - 3s 3s/step - loss: 2.0941 - accuracy: 0.5625 - val_loss: 3.5991 - val_accuracy: 0.0530\n",
            "\n",
            "Epoch 00001: val_loss did not improve from 3.58492\n",
            "epoch  187\n",
            "1/1 [==============================] - 3s 3s/step - loss: 2.6386 - accuracy: 0.3750 - val_loss: 3.5910 - val_accuracy: 0.0550\n",
            "\n",
            "Epoch 00001: val_loss did not improve from 3.58492\n",
            "epoch  188\n",
            "1/1 [==============================] - 3s 3s/step - loss: 2.3305 - accuracy: 0.4062 - val_loss: 3.5976 - val_accuracy: 0.0623\n",
            "\n",
            "Epoch 00001: val_loss did not improve from 3.58492\n",
            "epoch  189\n",
            "1/1 [==============================] - 3s 3s/step - loss: 2.6673 - accuracy: 0.2500 - val_loss: 3.6086 - val_accuracy: 0.0654\n",
            "\n",
            "Epoch 00001: val_loss did not improve from 3.58492\n",
            "epoch  190\n",
            "1/1 [==============================] - 3s 3s/step - loss: 3.1318 - accuracy: 0.2188 - val_loss: 3.6128 - val_accuracy: 0.0675\n",
            "\n",
            "Epoch 00001: val_loss did not improve from 3.58492\n",
            "epoch  191\n",
            "1/1 [==============================] - 3s 3s/step - loss: 2.1053 - accuracy: 0.4375 - val_loss: 3.6248 - val_accuracy: 0.0727\n",
            "\n",
            "Epoch 00001: val_loss did not improve from 3.58492\n",
            "epoch  192\n",
            "1/1 [==============================] - 3s 3s/step - loss: 2.5634 - accuracy: 0.4062 - val_loss: 3.6312 - val_accuracy: 0.0706\n",
            "\n",
            "Epoch 00001: val_loss did not improve from 3.58492\n",
            "epoch  193\n",
            "1/1 [==============================] - 3s 3s/step - loss: 2.4799 - accuracy: 0.3750 - val_loss: 3.6364 - val_accuracy: 0.0644\n",
            "\n",
            "Epoch 00001: val_loss did not improve from 3.58492\n",
            "epoch  194\n",
            "1/1 [==============================] - 3s 3s/step - loss: 2.2851 - accuracy: 0.5000 - val_loss: 3.6605 - val_accuracy: 0.0592\n",
            "\n",
            "Epoch 00001: val_loss did not improve from 3.58492\n",
            "epoch  195\n",
            "1/1 [==============================] - 3s 3s/step - loss: 2.4634 - accuracy: 0.3438 - val_loss: 3.6776 - val_accuracy: 0.0582\n",
            "\n",
            "Epoch 00001: val_loss did not improve from 3.58492\n",
            "epoch  196\n",
            "1/1 [==============================] - 3s 3s/step - loss: 2.4312 - accuracy: 0.3438 - val_loss: 3.6838 - val_accuracy: 0.0561\n",
            "\n",
            "Epoch 00001: val_loss did not improve from 3.58492\n",
            "epoch  197\n",
            "1/1 [==============================] - 3s 3s/step - loss: 2.0459 - accuracy: 0.4062 - val_loss: 3.6859 - val_accuracy: 0.0530\n",
            "\n",
            "Epoch 00001: val_loss did not improve from 3.58492\n",
            "epoch  198\n",
            "1/1 [==============================] - 3s 3s/step - loss: 2.5633 - accuracy: 0.4688 - val_loss: 3.6856 - val_accuracy: 0.0509\n",
            "\n",
            "Epoch 00001: val_loss did not improve from 3.58492\n",
            "epoch  199\n",
            "1/1 [==============================] - 3s 3s/step - loss: 1.9853 - accuracy: 0.4375 - val_loss: 3.6980 - val_accuracy: 0.0519\n",
            "\n",
            "Epoch 00001: val_loss did not improve from 3.58492\n",
            "epoch  200\n",
            "1/1 [==============================] - 3s 3s/step - loss: 2.7598 - accuracy: 0.2812 - val_loss: 3.7172 - val_accuracy: 0.0561\n",
            "\n",
            "Epoch 00001: val_loss did not improve from 3.58492\n",
            "epoch  201\n",
            "1/1 [==============================] - 3s 3s/step - loss: 2.5392 - accuracy: 0.2812 - val_loss: 3.7026 - val_accuracy: 0.0519\n",
            "\n",
            "Epoch 00001: val_loss did not improve from 3.58492\n",
            "epoch  202\n",
            "1/1 [==============================] - 3s 3s/step - loss: 2.8851 - accuracy: 0.2188 - val_loss: 3.6949 - val_accuracy: 0.0498\n",
            "\n",
            "Epoch 00001: val_loss did not improve from 3.58492\n",
            "epoch  203\n",
            "1/1 [==============================] - 3s 3s/step - loss: 2.9336 - accuracy: 0.2812 - val_loss: 3.6873 - val_accuracy: 0.0592\n",
            "\n",
            "Epoch 00001: val_loss did not improve from 3.58492\n",
            "epoch  204\n",
            "1/1 [==============================] - 3s 3s/step - loss: 2.9910 - accuracy: 0.2812 - val_loss: 3.6923 - val_accuracy: 0.0530\n",
            "\n",
            "Epoch 00001: val_loss did not improve from 3.58492\n",
            "epoch  205\n",
            "1/1 [==============================] - 3s 3s/step - loss: 2.2045 - accuracy: 0.5000 - val_loss: 3.6859 - val_accuracy: 0.0561\n",
            "\n",
            "Epoch 00001: val_loss did not improve from 3.58492\n",
            "epoch  206\n",
            "1/1 [==============================] - 3s 3s/step - loss: 2.7957 - accuracy: 0.2812 - val_loss: 3.6879 - val_accuracy: 0.0561\n",
            "\n",
            "Epoch 00001: val_loss did not improve from 3.58492\n",
            "epoch  207\n",
            "1/1 [==============================] - 3s 3s/step - loss: 1.9223 - accuracy: 0.5000 - val_loss: 3.7177 - val_accuracy: 0.0509\n",
            "\n",
            "Epoch 00001: val_loss did not improve from 3.58492\n",
            "epoch  208\n",
            "1/1 [==============================] - 3s 3s/step - loss: 2.2701 - accuracy: 0.5000 - val_loss: 3.7443 - val_accuracy: 0.0447\n",
            "\n",
            "Epoch 00001: val_loss did not improve from 3.58492\n",
            "epoch  209\n",
            "1/1 [==============================] - 3s 3s/step - loss: 2.6093 - accuracy: 0.4062 - val_loss: 3.7254 - val_accuracy: 0.0509\n",
            "\n",
            "Epoch 00001: val_loss did not improve from 3.58492\n",
            "epoch  210\n",
            "1/1 [==============================] - 3s 3s/step - loss: 2.4840 - accuracy: 0.3438 - val_loss: 3.7134 - val_accuracy: 0.0602\n",
            "\n",
            "Epoch 00001: val_loss did not improve from 3.58492\n",
            "epoch  211\n",
            "1/1 [==============================] - 3s 3s/step - loss: 1.9487 - accuracy: 0.5312 - val_loss: 3.7068 - val_accuracy: 0.0582\n",
            "\n",
            "Epoch 00001: val_loss did not improve from 3.58492\n",
            "epoch  212\n",
            "1/1 [==============================] - 3s 3s/step - loss: 2.5520 - accuracy: 0.4375 - val_loss: 3.7216 - val_accuracy: 0.0582\n",
            "\n",
            "Epoch 00001: val_loss did not improve from 3.58492\n",
            "epoch  213\n",
            "1/1 [==============================] - 3s 3s/step - loss: 2.1719 - accuracy: 0.5312 - val_loss: 3.7342 - val_accuracy: 0.0561\n",
            "\n",
            "Epoch 00001: val_loss did not improve from 3.58492\n",
            "epoch  214\n",
            "1/1 [==============================] - 3s 3s/step - loss: 2.8291 - accuracy: 0.2812 - val_loss: 3.7280 - val_accuracy: 0.0550\n",
            "\n",
            "Epoch 00001: val_loss did not improve from 3.58492\n",
            "epoch  215\n",
            "1/1 [==============================] - 3s 3s/step - loss: 1.9053 - accuracy: 0.5000 - val_loss: 3.7173 - val_accuracy: 0.0550\n",
            "\n",
            "Epoch 00001: val_loss did not improve from 3.58492\n",
            "epoch  216\n",
            "1/1 [==============================] - 3s 3s/step - loss: 2.4283 - accuracy: 0.4062 - val_loss: 3.7104 - val_accuracy: 0.0530\n",
            "\n",
            "Epoch 00001: val_loss did not improve from 3.58492\n",
            "epoch  217\n",
            "1/1 [==============================] - 3s 3s/step - loss: 2.1260 - accuracy: 0.5000 - val_loss: 3.7172 - val_accuracy: 0.0550\n",
            "\n",
            "Epoch 00001: val_loss did not improve from 3.58492\n",
            "epoch  218\n",
            "1/1 [==============================] - 3s 3s/step - loss: 2.3630 - accuracy: 0.3125 - val_loss: 3.7376 - val_accuracy: 0.0582\n",
            "\n",
            "Epoch 00001: val_loss did not improve from 3.58492\n",
            "epoch  219\n",
            "1/1 [==============================] - 3s 3s/step - loss: 2.3282 - accuracy: 0.3438 - val_loss: 3.7474 - val_accuracy: 0.0550\n",
            "\n",
            "Epoch 00001: val_loss did not improve from 3.58492\n",
            "epoch  220\n",
            "1/1 [==============================] - 3s 3s/step - loss: 2.4329 - accuracy: 0.4688 - val_loss: 3.7423 - val_accuracy: 0.0561\n",
            "\n",
            "Epoch 00001: val_loss did not improve from 3.58492\n",
            "epoch  221\n",
            "1/1 [==============================] - 3s 3s/step - loss: 2.3445 - accuracy: 0.3750 - val_loss: 3.7506 - val_accuracy: 0.0571\n",
            "\n",
            "Epoch 00001: val_loss did not improve from 3.58492\n",
            "epoch  222\n",
            "1/1 [==============================] - 3s 3s/step - loss: 2.4798 - accuracy: 0.4062 - val_loss: 3.7671 - val_accuracy: 0.0509\n",
            "\n",
            "Epoch 00001: val_loss did not improve from 3.58492\n",
            "epoch  223\n",
            "1/1 [==============================] - 3s 3s/step - loss: 2.1579 - accuracy: 0.4688 - val_loss: 3.7637 - val_accuracy: 0.0488\n",
            "\n",
            "Epoch 00001: val_loss did not improve from 3.58492\n",
            "epoch  224\n",
            "1/1 [==============================] - 3s 3s/step - loss: 2.0365 - accuracy: 0.4688 - val_loss: 3.7636 - val_accuracy: 0.0530\n",
            "\n",
            "Epoch 00001: val_loss did not improve from 3.58492\n",
            "epoch  225\n",
            "1/1 [==============================] - 3s 3s/step - loss: 1.9497 - accuracy: 0.5000 - val_loss: 3.7724 - val_accuracy: 0.0478\n",
            "\n",
            "Epoch 00001: val_loss did not improve from 3.58492\n",
            "epoch  226\n",
            "1/1 [==============================] - 3s 3s/step - loss: 2.4519 - accuracy: 0.4688 - val_loss: 3.7865 - val_accuracy: 0.0478\n",
            "\n",
            "Epoch 00001: val_loss did not improve from 3.58492\n",
            "epoch  227\n",
            "1/1 [==============================] - 3s 3s/step - loss: 1.8178 - accuracy: 0.5312 - val_loss: 3.8125 - val_accuracy: 0.0550\n",
            "\n",
            "Epoch 00001: val_loss did not improve from 3.58492\n",
            "epoch  228\n",
            "1/1 [==============================] - 3s 3s/step - loss: 2.5310 - accuracy: 0.4688 - val_loss: 3.8217 - val_accuracy: 0.0561\n",
            "\n",
            "Epoch 00001: val_loss did not improve from 3.58492\n",
            "epoch  229\n",
            "1/1 [==============================] - 3s 3s/step - loss: 1.7096 - accuracy: 0.5312 - val_loss: 3.8299 - val_accuracy: 0.0592\n",
            "\n",
            "Epoch 00001: val_loss did not improve from 3.58492\n",
            "epoch  230\n",
            "1/1 [==============================] - 3s 3s/step - loss: 1.5868 - accuracy: 0.5312 - val_loss: 3.8583 - val_accuracy: 0.0654\n",
            "\n",
            "Epoch 00001: val_loss did not improve from 3.58492\n",
            "epoch  231\n",
            "1/1 [==============================] - 3s 3s/step - loss: 2.2473 - accuracy: 0.4688 - val_loss: 3.8466 - val_accuracy: 0.0571\n",
            "\n",
            "Epoch 00001: val_loss did not improve from 3.58492\n",
            "epoch  232\n",
            "1/1 [==============================] - 3s 3s/step - loss: 1.8832 - accuracy: 0.5938 - val_loss: 3.8270 - val_accuracy: 0.0571\n",
            "\n",
            "Epoch 00001: val_loss did not improve from 3.58492\n",
            "epoch  233\n",
            "1/1 [==============================] - 3s 3s/step - loss: 1.7348 - accuracy: 0.6250 - val_loss: 3.8397 - val_accuracy: 0.0498\n",
            "\n",
            "Epoch 00001: val_loss did not improve from 3.58492\n",
            "epoch  234\n",
            "1/1 [==============================] - 3s 3s/step - loss: 2.3991 - accuracy: 0.3438 - val_loss: 3.8501 - val_accuracy: 0.0550\n",
            "\n",
            "Epoch 00001: val_loss did not improve from 3.58492\n",
            "epoch  235\n",
            "1/1 [==============================] - 3s 3s/step - loss: 2.1500 - accuracy: 0.3750 - val_loss: 3.8453 - val_accuracy: 0.0540\n",
            "\n",
            "Epoch 00001: val_loss did not improve from 3.58492\n",
            "epoch  236\n",
            "1/1 [==============================] - 3s 3s/step - loss: 1.9005 - accuracy: 0.5625 - val_loss: 3.8468 - val_accuracy: 0.0488\n",
            "\n",
            "Epoch 00001: val_loss did not improve from 3.58492\n",
            "epoch  237\n",
            "1/1 [==============================] - 3s 3s/step - loss: 2.3870 - accuracy: 0.3750 - val_loss: 3.8554 - val_accuracy: 0.0519\n",
            "\n",
            "Epoch 00001: val_loss did not improve from 3.58492\n",
            "epoch  238\n",
            "1/1 [==============================] - 3s 3s/step - loss: 2.5209 - accuracy: 0.3438 - val_loss: 3.8721 - val_accuracy: 0.0467\n",
            "\n",
            "Epoch 00001: val_loss did not improve from 3.58492\n",
            "epoch  239\n",
            "1/1 [==============================] - 3s 3s/step - loss: 2.4615 - accuracy: 0.2812 - val_loss: 3.8628 - val_accuracy: 0.0478\n",
            "\n",
            "Epoch 00001: val_loss did not improve from 3.58492\n",
            "epoch  240\n",
            "1/1 [==============================] - 3s 3s/step - loss: 1.9766 - accuracy: 0.4062 - val_loss: 3.8367 - val_accuracy: 0.0519\n",
            "\n",
            "Epoch 00001: val_loss did not improve from 3.58492\n",
            "epoch  241\n",
            "1/1 [==============================] - 3s 3s/step - loss: 2.1122 - accuracy: 0.4375 - val_loss: 3.7822 - val_accuracy: 0.0519\n",
            "\n",
            "Epoch 00001: val_loss did not improve from 3.58492\n",
            "epoch  242\n",
            "1/1 [==============================] - 3s 3s/step - loss: 2.1547 - accuracy: 0.5312 - val_loss: 3.7415 - val_accuracy: 0.0550\n",
            "\n",
            "Epoch 00001: val_loss did not improve from 3.58492\n",
            "epoch  243\n",
            "1/1 [==============================] - 3s 3s/step - loss: 1.5695 - accuracy: 0.6250 - val_loss: 3.7193 - val_accuracy: 0.0561\n",
            "\n",
            "Epoch 00001: val_loss did not improve from 3.58492\n",
            "epoch  244\n",
            "1/1 [==============================] - 3s 3s/step - loss: 2.0778 - accuracy: 0.6250 - val_loss: 3.7080 - val_accuracy: 0.0696\n",
            "\n",
            "Epoch 00001: val_loss did not improve from 3.58492\n",
            "epoch  245\n",
            "1/1 [==============================] - 3s 3s/step - loss: 1.6605 - accuracy: 0.6562 - val_loss: 3.7338 - val_accuracy: 0.0665\n",
            "\n",
            "Epoch 00001: val_loss did not improve from 3.58492\n",
            "epoch  246\n",
            "1/1 [==============================] - 3s 3s/step - loss: 1.7627 - accuracy: 0.5938 - val_loss: 3.7692 - val_accuracy: 0.0644\n",
            "\n",
            "Epoch 00001: val_loss did not improve from 3.58492\n",
            "epoch  247\n",
            "1/1 [==============================] - 3s 3s/step - loss: 2.0899 - accuracy: 0.3438 - val_loss: 3.7616 - val_accuracy: 0.0685\n",
            "\n",
            "Epoch 00001: val_loss did not improve from 3.58492\n",
            "epoch  248\n",
            "1/1 [==============================] - 3s 3s/step - loss: 2.3379 - accuracy: 0.4375 - val_loss: 3.7433 - val_accuracy: 0.0706\n",
            "\n",
            "Epoch 00001: val_loss did not improve from 3.58492\n",
            "epoch  249\n",
            "1/1 [==============================] - 3s 3s/step - loss: 2.3919 - accuracy: 0.3750 - val_loss: 3.7441 - val_accuracy: 0.0748\n",
            "\n",
            "Epoch 00001: val_loss did not improve from 3.58492\n"
          ],
          "name": "stdout"
        }
      ]
    },
    {
      "cell_type": "code",
      "metadata": {
        "colab": {
          "base_uri": "https://localhost:8080/",
          "height": 265
        },
        "id": "pjJNUdLWA8BE",
        "outputId": "fdeec32f-351e-4c3b-a5f4-5ef3763870b5"
      },
      "source": [
        "val_loss_change = []; loss_change = []\n",
        "for i in range(0, len(scores)):\n",
        "    val_loss_change.append(scores[i].history['val_loss'])\n",
        "    loss_change.append(scores[i].history['loss'])\n",
        "\n",
        "plt.plot(val_loss_change, label='val_loss')\n",
        "plt.plot(loss_change, label='train_loss')\n",
        "plt.legend(loc='upper right')\n",
        "plt.show()"
      ],
      "execution_count": 41,
      "outputs": [
        {
          "output_type": "display_data",
          "data": {
            "image/png": "[encoded data removed]",
            "text/plain": [
              "<Figure size 432x288 with 1 Axes>"
            ]
          },
          "metadata": {
            "tags": [],
            "needs_background": "light"
          }
        }
      ]
    },
    {
      "cell_type": "code",
      "metadata": {
        "colab": {
          "base_uri": "https://localhost:8080/"
        },
        "id": "gFFzzrKFB_AL",
        "outputId": "3665d419-9390-4566-85c4-70b387bf255b"
      },
      "source": [
        "#loss and accuracy on validation set\n",
        "age_model.evaluate(test_x, test_y, verbose=1)"
      ],
      "execution_count": 42,
      "outputs": [
        {
          "output_type": "stream",
          "text": [
            "31/31 [==============================] - 3s 97ms/step - loss: 3.5849 - accuracy: 0.0540\n"
          ],
          "name": "stdout"
        },
        {
          "output_type": "execute_result",
          "data": {
            "text/plain": [
              "[3.584916830062866, 0.05399792268872261]"
            ]
          },
          "metadata": {
            "tags": []
          },
          "execution_count": 42
        }
      ]
    },
    {
      "cell_type": "code",
      "metadata": {
        "id": "woYtqmi5B_J_"
      },
      "source": [
        "predictions = age_model.predict(test_x)"
      ],
      "execution_count": 44,
      "outputs": []
    },
    {
      "cell_type": "code",
      "metadata": {
        "id": "TEGiDP_SB_Tg"
      },
      "source": [
        "output_indexes = np.array([i for i in range(0, 101)])\n",
        "apparent_predictions = np.sum(predictions * output_indexes, axis = 1)"
      ],
      "execution_count": 45,
      "outputs": []
    },
    {
      "cell_type": "code",
      "metadata": {
        "colab": {
          "base_uri": "https://localhost:8080/"
        },
        "id": "Rh419JvTB_rd",
        "outputId": "3b8f3e87-da2b-4eb2-db4c-b01ca719775e"
      },
      "source": [
        "mae = 0\n",
        "\n",
        "for i in range(0 ,apparent_predictions.shape[0]):\n",
        "    prediction = int(apparent_predictions[i])\n",
        "    actual = np.argmax(test_y[i])\n",
        "    \n",
        "    abs_error = abs(prediction - actual)\n",
        "    # actual_mean = actual_mean + actual\n",
        "    \n",
        "    mae = mae + abs_error\n",
        "    \n",
        "mae = mae / apparent_predictions.shape[0]\n",
        "\n",
        "print(\"mae: \",mae)\n",
        "print(\"instances: \",apparent_predictions.shape[0])"
      ],
      "execution_count": 46,
      "outputs": [
        {
          "output_type": "stream",
          "text": [
            "mae:  6.546209761163032\n",
            "instances:  963\n"
          ],
          "name": "stdout"
        }
      ]
    },
    {
      "cell_type": "code",
      "metadata": {
        "id": "GJpUAx_NB_xR"
      },
      "source": [
        "from keras.preprocessing import image\n",
        "from keras.preprocessing.image import ImageDataGenerator"
      ],
      "execution_count": 47,
      "outputs": []
    },
    {
      "cell_type": "code",
      "metadata": {
        "id": "IOT5Z8L_B_0P"
      },
      "source": [
        "def loadImage(filepath):\n",
        "    test_img = image.load_img(filepath, target_size=(224, 224))\n",
        "    test_img = image.img_to_array(test_img)\n",
        "    test_img = np.expand_dims(test_img, axis = 0)\n",
        "    test_img /= 255\n",
        "    return test_img"
      ],
      "execution_count": 48,
      "outputs": []
    },
    {
      "cell_type": "code",
      "metadata": {
        "id": "IiPXXF-SB_2p"
      },
      "source": [
        "picture = \"/content/drive/MyDrive/YOUNGER/wiki_crop/19/4142419_1970-09-11_2011.jpg\"\n",
        "#picture = \"brando.jpg\"\n",
        "#picture = \"katy-3.jpg\"\n",
        "\n",
        "prediction = age_model.predict(loadImage(picture))"
      ],
      "execution_count": 49,
      "outputs": []
    },
    {
      "cell_type": "code",
      "metadata": {
        "colab": {
          "base_uri": "https://localhost:8080/",
          "height": 281
        },
        "id": "xRqEnc_hB_4m",
        "outputId": "ad55e391-17f3-4bb9-d8b9-670b01e1a449"
      },
      "source": [
        "\n",
        "y_pos = np.arange(101)\n",
        "plt.bar(y_pos, prediction[0], align='center', alpha=.7)\n",
        "plt.ylabel('percentage')\n",
        "plt.title('age')\n",
        "plt.show()"
      ],
      "execution_count": 50,
      "outputs": [
        {
          "output_type": "display_data",
          "data": {
            "image/png": "[encoded data removed]",
            "text/plain": [
              "<Figure size 432x288 with 1 Axes>"
            ]
          },
          "metadata": {
            "tags": [],
            "needs_background": "light"
          }
        }
      ]
    },
    {
      "cell_type": "code",
      "metadata": {
        "colab": {
          "base_uri": "https://localhost:8080/",
          "height": 302
        },
        "id": "6pverZsYCLXj",
        "outputId": "114a17ff-59ef-40c3-baa5-e69560d64d22"
      },
      "source": [
        "\n",
        "img = image.load_img(picture)#, target_size=(224, 224))\n",
        "plt.imshow(img)\n",
        "plt.show()\n",
        "\n",
        "print(\"most dominant age class (not apparent age): \",np.argmax(prediction))\n",
        "\n",
        "apparent_age = np.round(np.sum(prediction * output_indexes, axis = 1))\n",
        "print(\"apparent age: \", int(apparent_age[0]))"
      ],
      "execution_count": 51,
      "outputs": [
        {
          "output_type": "display_data",
          "data": {
            "image/png": "[encoded data removed]",
            "text/plain": [
              "<Figure size 432x288 with 1 Axes>"
            ]
          },
          "metadata": {
            "tags": [],
            "needs_background": "light"
          }
        },
        {
          "output_type": "stream",
          "text": [
            "most dominant age class (not apparent age):  30\n",
            "apparent age:  37\n"
          ],
          "name": "stdout"
        }
      ]
    }
  ]
}