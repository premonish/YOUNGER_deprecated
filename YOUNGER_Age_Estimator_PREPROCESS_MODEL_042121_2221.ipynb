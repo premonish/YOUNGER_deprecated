{
  "nbformat": 4,
  "nbformat_minor": 0,
  "metadata": {
    "colab": {
      "name": "YOUNGER_Age_Estimator_PREPROCESS_MODEL_042121_2221",
      "provenance": [],
      "collapsed_sections": [],
      "toc_visible": true,
      "machine_shape": "hm",
      "include_colab_link": true
    },
    "kernelspec": {
      "display_name": "Python 3",
      "language": "python",
      "name": "python3"
    },
    "language_info": {
      "codemirror_mode": {
        "name": "ipython",
        "version": 3
      },
      "file_extension": ".py",
      "mimetype": "text/x-python",
      "name": "python",
      "nbconvert_exporter": "python",
      "pygments_lexer": "ipython3",
      "version": "3.7.6"
    },
    "accelerator": "GPU"
  },
  "cells": [
    {
      "cell_type": "markdown",
      "metadata": {
        "id": "view-in-github",
        "colab_type": "text"
      },
      "source": [
        "<a href=\"https://colab.research.google.com/github/premonish/YOUNGER_deprecated/blob/main/YOUNGER_Age_Estimator_PREPROCESS_MODEL_042121_2221.ipynb\" target=\"_parent\"><img src=\"https://colab.research.google.com/assets/colab-badge.svg\" alt=\"Open In Colab\"/></a>"
      ]
    },
    {
      "cell_type": "markdown",
      "metadata": {
        "id": "5NdHFhDErTM4"
      },
      "source": [
        "# **YOUNGER - Age Estimator**"
      ]
    },
    {
      "cell_type": "markdown",
      "metadata": {
        "id": "nAuKSR5HuQCy"
      },
      "source": [
        "# **IV. PREPROCESSING**"
      ]
    },
    {
      "cell_type": "markdown",
      "metadata": {
        "id": "XiXYv221LD-I"
      },
      "source": [
        "## **4 Pre-Processing and Training Data**\n",
        "* 4.1 Contents\n",
        "* 4.2 Introduction\n",
        "* 4.3 Imports\n",
        "* 4.4 Load Data\n",
        "* 4.5 Verify Data\n",
        "* 4.6 Train/Test Split\n",
        "* 4.7 Simple Model\n",
        " * 4.7.1 Metrics\n",
        "* 4.8 Initial Models\n",
        " * 4.8.1 Scale the data\n",
        " * 4.8.2 Train the model on the train split\n",
        " * 4.8.3 Make predictions using the model on both train and test splits\n",
        " * 4.8.4 Assess model performance\n",
        " * 4.8.5 Scale the data\n",
        " * 4.8.6 Train the model on the train split\n",
        " * 4.8.7 Make predictions using the model on both train and test splits\n",
        " * 4.8.8 Assess model performance\n",
        " * 4.8.9 Pipelines\n",
        "   * 4.8.9.1 Define the pipeline\n",
        "   * 4.8.9.2 Fit the pipeline\n",
        "   * 4.8.9.3 Make predictions on the train and test sets\n",
        "   * 4.8.9.4 Assess performance\n",
        "* 4.9 Refining The Linear Model\n",
        " * 4.9.1 Define the pipeline\n",
        " * 4.9.2 Fit the pipeline\n",
        " * 4.9.3 Assess performance on the train and test set\n",
        " * 4.9.4 Define a new pipeline to select a different number of features\n",
        " * 4.9.5 Fit the pipeline\n",
        " * 4.9.6 Assess performance on train and test data\n",
        " * 4.9.7 Assessing performance using cross-validation\n",
        " * 4.9.8 Hyperparameter search using GridSearchCV\n",
        "* 4.10 Random Forest Model\n",
        " * 4.10.1 Define the pipeline\n",
        " * 4.10.2 Fit and assess performance using cross-validation\n",
        " * 4.10.3 Hyperparameter search using GridSearchCV\n",
        "* 4.11 Final Model Selection\n",
        " * 4.11.1 Linear regression model performance\n",
        " * 4.11.2 Random forest regression model performance\n",
        " * 4.11.3 Conclusion\n",
        "* 4.12 Data quantity assessment\n",
        "* 4.13 Save best model object from pipeline\n",
        "* 4.14 Summary\n",
        "\n",
        "\n",
        "---\n",
        "\n"
      ]
    },
    {
      "cell_type": "markdown",
      "metadata": {
        "id": "DiSjJnbdPiQY"
      },
      "source": [
        "##**4.2 Introduction**\n",
        "\n",
        "Previously, to create an age-predictor, we have completed a notebook import data and explore its attributes: [Data Wrangling & Exploratory Data Analysis](https://github.com/premonish/YOUNGER/blob/main/notebooks/YOUNGER_Age_Estimator_WRANGLING_EDA_v2.ipynb). We took a close look at the metadata and plotted some histograms of the variable distributions. We transformed the data to extract the age of the primary face in each image from their date-of-birth and the date the photo was taken. We focused on extracting a large array of vectors of the pixel information per photo. We finished the previous phase by creating 2 arrays: 'matrix_x' containing the (150,000+ pixel/image) data from each image in the dataset, and 'vector_y' containing the corresponding 'age' labels for the images. \n",
        "\n",
        "In this notebook, we will focus on Preprocessing & Modeling. In particular, we will use a Convolutional Neural Network, which is industry standard for Machine Learning image classification tasks due to its unmatched performance.  \n",
        "\n",
        "\n",
        "---\n",
        "\n"
      ]
    },
    {
      "cell_type": "markdown",
      "metadata": {
        "id": "-nscfpB1XWMG"
      },
      "source": [
        "**Historical Context** \n",
        ">\n",
        "> Image classification has been around for decades, however the field has been rapidly maturing in the last decade.  Since 2010, [ImageNet](https://https://en.wikipedia.org/wiki/ImageNet) Large Scale Visual Recognition Challenge (ILSVRC) is an annual competition where teams attempt to categorize thousands of images into 1,000 classes. In 2012, 'AlexNet' won the competition by a landslide and this is considered a pivotal moment in the history of deep learning, enabled by ingenious data scientists, a massive labeled dataset, and GPUs for training.\n",
        "\n",
        "\n"
      ]
    },
    {
      "cell_type": "markdown",
      "metadata": {
        "id": "vFRQlsdn-N8Q"
      },
      "source": [
        "**PREPROCESSING** will be focused on three main sections.\n",
        "\n",
        "1. Create Dummy Variables for categorical variables where appropriate.\n",
        "2. Standardize the magnitude of numeric features using a scaler.\n",
        "3. Split data into testing and training datasets."
      ]
    },
    {
      "cell_type": "markdown",
      "metadata": {
        "id": "CF45pNbH-Reo"
      },
      "source": [
        "**MODELING** will focus on the following four phases.\n",
        "1. Train the models on the dataset (fit)\n",
        "2. Review model performance metrics\n",
        "3. Iterate over other models\n",
        "4. Identify the final model  \n",
        "\n",
        "\n",
        "---\n",
        "\n"
      ]
    },
    {
      "cell_type": "markdown",
      "metadata": {
        "id": "zN67bVhWaOvq"
      },
      "source": [
        "## **4.3 Imports**"
      ]
    },
    {
      "cell_type": "code",
      "metadata": {
        "id": "KoFpJkXPKJV4"
      },
      "source": [
        "# !pip install tensorflow"
      ],
      "execution_count": 1,
      "outputs": []
    },
    {
      "cell_type": "code",
      "metadata": {
        "id": "paCb6SdG9lPb"
      },
      "source": [
        "# Creating a list of currently installed python libraries for posterity\n",
        "# !pip freeze > requirements.txt"
      ],
      "execution_count": 2,
      "outputs": []
    },
    {
      "cell_type": "code",
      "metadata": {
        "id": "t6lsfcB9EpWm"
      },
      "source": [
        "### IMPORT libraries and packages ###\n",
        "### I get by with a little help from my friends ###\n",
        "import os\n",
        "from pathlib import Path\n",
        "import pandas as pd\n",
        "import matplotlib.pyplot as plt\n",
        "import seaborn as sns\n",
        "import numpy as np\n",
        "import PIL\n",
        "from PIL import Image\n",
        "import requests\n",
        "import scipy.io\n",
        "import random\n",
        "from datetime import datetime, date, time, timedelta\n",
        "\n",
        "import tensorflow as tf\n",
        "from tensorflow import keras\n",
        "from keras.preprocessing import image\n",
        "from keras.applications.resnet import preprocess_input"
      ],
      "execution_count": 3,
      "outputs": []
    },
    {
      "cell_type": "code",
      "metadata": {
        "colab": {
          "base_uri": "https://localhost:8080/"
        },
        "id": "8y2HbkGJMwo5",
        "outputId": "9d2d33c4-f4ad-4408-c7b5-102d2f113ec7"
      },
      "source": [
        "# mount GDrive where the dataset is stored\n",
        "from google.colab import drive\n",
        "drive.mount('/content/drive')"
      ],
      "execution_count": 4,
      "outputs": [
        {
          "output_type": "stream",
          "text": [
            "Drive already mounted at /content/drive; to attempt to forcibly remount, call drive.mount(\"/content/drive\", force_remount=True).\n"
          ],
          "name": "stdout"
        }
      ]
    },
    {
      "cell_type": "markdown",
      "metadata": {
        "id": "jbe7yzB7cKT-"
      },
      "source": [
        "## **4.4 Load Data**"
      ]
    },
    {
      "cell_type": "code",
      "metadata": {
        "id": "ZbArMfsXIsGf",
        "colab": {
          "base_uri": "https://localhost:8080/"
        },
        "outputId": "ed29d57c-7ebc-4e4d-9d61-28713a8ba7d0"
      },
      "source": [
        "from numpy import asarray, savez_compressed, load\n",
        "# load dict of arrays\n",
        "images = np.load('/content/drive/MyDrive/YOUNGER/data2.npz', allow_pickle=True)\n",
        "matrix_x = images.f.arr_0\n",
        "matrix_x.shape"
      ],
      "execution_count": 5,
      "outputs": [
        {
          "output_type": "execute_result",
          "data": {
            "text/plain": [
              "(22138,)"
            ]
          },
          "metadata": {
            "tags": []
          },
          "execution_count": 5
        }
      ]
    },
    {
      "cell_type": "code",
      "metadata": {
        "colab": {
          "base_uri": "https://localhost:8080/"
        },
        "id": "TemE8lc_mI_f",
        "outputId": "1bef1554-3cba-4b32-ee50-dee9919823bf"
      },
      "source": [
        "# load the ages array 'vector_y'\n",
        "ages = np.load('/content/drive/MyDrive/YOUNGER/vector_y.npz', allow_pickle=True)\n",
        "vector_y = ages.f.arr_0\n",
        "vector_y.shape"
      ],
      "execution_count": 6,
      "outputs": [
        {
          "output_type": "execute_result",
          "data": {
            "text/plain": [
              "(22138,)"
            ]
          },
          "metadata": {
            "tags": []
          },
          "execution_count": 6
        }
      ]
    },
    {
      "cell_type": "markdown",
      "metadata": {
        "id": "1zr0lCj5dZuW"
      },
      "source": [
        "## **4.5 Verify Data**"
      ]
    },
    {
      "cell_type": "code",
      "metadata": {
        "id": "2rScm1jQm1Q_"
      },
      "source": [
        "# check output matrix_x & vector_y shapes\n",
        "# both matrix_x and vector_y are 1 dimensional arrays of the same length \n",
        "assert vector_y.shape == matrix_x.shape"
      ],
      "execution_count": 7,
      "outputs": []
    },
    {
      "cell_type": "code",
      "metadata": {
        "id": "8kju0z4om9ig"
      },
      "source": [
        "# #TEST####\n",
        "# X = matrix_x\n",
        "# y = vector_y"
      ],
      "execution_count": 8,
      "outputs": []
    },
    {
      "cell_type": "code",
      "metadata": {
        "id": "QLNueet4nDFy"
      },
      "source": [
        "#TEST####\n",
        "# print(X[0][0].shape)"
      ],
      "execution_count": 9,
      "outputs": []
    },
    {
      "cell_type": "code",
      "metadata": {
        "id": "tmZ6TfEqBkqB"
      },
      "source": [
        "# subset data\n",
        "# convert to tensor\n",
        "X = matrix_x[:5000]\n",
        "y = vector_y[:5000]\n",
        "# X = matrix_x\n",
        "# y = vector_y\n",
        "# [tf.convert_to_tensor(a) for a in X]\n",
        "# [tf.convert_to_tensor(a) for a in y];"
      ],
      "execution_count": 10,
      "outputs": []
    },
    {
      "cell_type": "code",
      "metadata": {
        "id": "c9M1_ghLsIDR"
      },
      "source": [
        "# X = [[i][0][0][0] for i in X]"
      ],
      "execution_count": 11,
      "outputs": []
    },
    {
      "cell_type": "code",
      "metadata": {
        "colab": {
          "base_uri": "https://localhost:8080/"
        },
        "id": "G3wHt0dPxJon",
        "outputId": "57560fef-478a-4140-c223-7e219b72ce50"
      },
      "source": [
        "type(X[0][0][0][0])"
      ],
      "execution_count": 12,
      "outputs": [
        {
          "output_type": "execute_result",
          "data": {
            "text/plain": [
              "numpy.ndarray"
            ]
          },
          "metadata": {
            "tags": []
          },
          "execution_count": 12
        }
      ]
    },
    {
      "cell_type": "markdown",
      "metadata": {
        "id": "8it1tWzpdg-I"
      },
      "source": [
        "## **4.6 Train/Test Split**"
      ]
    },
    {
      "cell_type": "code",
      "metadata": {
        "id": "4OjMyeT9oU42",
        "colab": {
          "base_uri": "https://localhost:8080/"
        },
        "outputId": "5e8697cf-8b85-43f6-8f48-a6cd6c47e216"
      },
      "source": [
        "classes = 101 #0 to 100\n",
        "target = y\n",
        "target_classes = keras.utils.to_categorical(target, classes)\n",
        "features = []\n",
        "\n",
        "for i in range(0, len(X)):\n",
        "    features.append(X[i])\n",
        "\n",
        "features = np.array(features)\n",
        "features = features.reshape(len(X),224,224,3)\n",
        "features.shape"
      ],
      "execution_count": 13,
      "outputs": [
        {
          "output_type": "execute_result",
          "data": {
            "text/plain": [
              "(5000, 224, 224, 3)"
            ]
          },
          "metadata": {
            "tags": []
          },
          "execution_count": 13
        }
      ]
    },
    {
      "cell_type": "code",
      "metadata": {
        "id": "fo8E4IKfBjSF"
      },
      "source": [
        "features /= 255 #normalize in [0, 1]"
      ],
      "execution_count": 14,
      "outputs": []
    },
    {
      "cell_type": "code",
      "metadata": {
        "id": "G6-ucgOZqCmH"
      },
      "source": [
        "# train/ test split\n",
        "from sklearn.model_selection import train_test_split\n",
        "train_x, test_x, train_y, test_y = train_test_split(features, target_classes, test_size=0.20)\n",
        "# train_x, test_x, train_y, test_y = train_test_split(X, Y, test_size=0.20)"
      ],
      "execution_count": 15,
      "outputs": []
    },
    {
      "cell_type": "code",
      "metadata": {
        "id": "SCivGcQLNXTK"
      },
      "source": [
        "from tensorflow.keras.preprocessing.image import ImageDataGenerator\n",
        "datagen = ImageDataGenerator(\n",
        "        featurewise_center=False,  # set input mean to 0 over the dataset\n",
        "        samplewise_center=False,  # set each sample mean to 0\n",
        "        featurewise_std_normalization=False,  # divide inputs by std of the dataset\n",
        "        samplewise_std_normalization=False,  # divide each input by its std\n",
        "        zca_whitening=False,  # apply ZCA whitening\n",
        "        rotation_range = 30,  # randomly rotate images in the range (degrees, 0 to 180)\n",
        "        zoom_range = 0.2, # Randomly zoom image \n",
        "        width_shift_range=0.1,  # randomly shift images horizontally (fraction of total width)\n",
        "        height_shift_range=0.1,  # randomly shift images vertically (fraction of total height)\n",
        "        horizontal_flip = True,  # randomly flip images\n",
        "        vertical_flip=False)  # randomly flip images\n",
        "\n",
        "\n",
        "# datagen.fit(POP)"
      ],
      "execution_count": 16,
      "outputs": []
    },
    {
      "cell_type": "code",
      "metadata": {
        "id": "BwyVqBaEO-_n"
      },
      "source": [
        "# Data Augmentation on X_train\n",
        "# [datagen.fit(a) for a in X];\n",
        "# [datagen.fit(a) for a in train_x];\n",
        "datagen.fit(train_x);"
      ],
      "execution_count": 17,
      "outputs": []
    },
    {
      "cell_type": "code",
      "metadata": {
        "id": "EmkWjWONMO-h"
      },
      "source": [
        "# #train/ test split\n",
        "# from sklearn.model_selection import train_test_split\n",
        "# X_train, X_test, y_train, y_test = train_test_split(X, y, test_size=0.20, random_state=42)"
      ],
      "execution_count": 18,
      "outputs": []
    },
    {
      "cell_type": "code",
      "metadata": {
        "colab": {
          "base_uri": "https://localhost:8080/"
        },
        "id": "rrbNZT7QMnbk",
        "outputId": "d43bda52-510e-41a6-e8e2-5769e0b3dea8"
      },
      "source": [
        "# print(\"X_train shape =\",X_train.shape,\"| X_test shape =\",X_test.shape)\n",
        "# print(\"y_train shape =\",y_train.shape,\"| y_test shape =\",y_test.shape)\n",
        "\n",
        "print(\"X_train shape =\",train_x.shape,\"| X_test shape =\",test_x.shape)\n",
        "print(\"y_train shape =\",train_y.shape,\"| y_test shape =\",test_y.shape)"
      ],
      "execution_count": 19,
      "outputs": [
        {
          "output_type": "stream",
          "text": [
            "X_train shape = (4000, 224, 224, 3) | X_test shape = (1000, 224, 224, 3)\n",
            "y_train shape = (4000, 101) | y_test shape = (1000, 101)\n"
          ],
          "name": "stdout"
        }
      ]
    },
    {
      "cell_type": "code",
      "metadata": {
        "id": "T2pHFKSoOoym"
      },
      "source": [
        "# XO = [tf.reshape(a, [1,224,224,3]) for a in X]"
      ],
      "execution_count": 20,
      "outputs": []
    },
    {
      "cell_type": "code",
      "metadata": {
        "id": "w92gy8Y0UG9q"
      },
      "source": [
        "# X_tr = [tf.reshape(a, [1,224,224,3]) for a in X_train]\n",
        "# X_te = [tf.reshape(a, [1,224,224,3]) for a in X_test]"
      ],
      "execution_count": 21,
      "outputs": []
    },
    {
      "cell_type": "code",
      "metadata": {
        "id": "tCM72WbtsrX6"
      },
      "source": [
        "import keras\n",
        "from keras.preprocessing import image\n",
        "from keras.callbacks import ModelCheckpoint,EarlyStopping\n",
        "from keras.layers import Dense, Activation, Dropout, Flatten, Input, Convolution2D, ZeroPadding2D, MaxPooling2D, Activation\n",
        "from keras.layers import Conv2D, AveragePooling2D\n",
        "from keras.models import Model, Sequential\n",
        "\n",
        "from sklearn.model_selection import train_test_split\n",
        "\n",
        "from keras import metrics\n",
        "\n",
        "from keras.models import model_from_json\n",
        "import matplotlib.pyplot as plt"
      ],
      "execution_count": 22,
      "outputs": []
    },
    {
      "cell_type": "code",
      "metadata": {
        "id": "Zy78eSy_qN-a"
      },
      "source": [
        "#VGG-Face model\n",
        "model = Sequential()\n",
        "model.add(ZeroPadding2D((1,1),input_shape=(224,224, 3)))\n",
        "model.add(Convolution2D(64, (3, 3), activation='relu'))\n",
        "model.add(ZeroPadding2D((1,1)))\n",
        "model.add(Convolution2D(64, (3, 3), activation='relu'))\n",
        "model.add(MaxPooling2D((2,2), strides=(2,2)))\n",
        " \n",
        "model.add(ZeroPadding2D((1,1)))\n",
        "model.add(Convolution2D(128, (3, 3), activation='relu'))\n",
        "model.add(ZeroPadding2D((1,1)))\n",
        "model.add(Convolution2D(128, (3, 3), activation='relu'))\n",
        "model.add(MaxPooling2D((2,2), strides=(2,2)))\n",
        " \n",
        "model.add(ZeroPadding2D((1,1)))\n",
        "model.add(Convolution2D(256, (3, 3), activation='relu'))\n",
        "model.add(ZeroPadding2D((1,1)))\n",
        "model.add(Convolution2D(256, (3, 3), activation='relu'))\n",
        "model.add(ZeroPadding2D((1,1)))\n",
        "model.add(Convolution2D(256, (3, 3), activation='relu'))\n",
        "model.add(MaxPooling2D((2,2), strides=(2,2)))\n",
        " \n",
        "model.add(ZeroPadding2D((1,1)))\n",
        "model.add(Convolution2D(512, (3, 3), activation='relu'))\n",
        "model.add(ZeroPadding2D((1,1)))\n",
        "model.add(Convolution2D(512, (3, 3), activation='relu'))\n",
        "model.add(ZeroPadding2D((1,1)))\n",
        "model.add(Convolution2D(512, (3, 3), activation='relu'))\n",
        "model.add(MaxPooling2D((2,2), strides=(2,2)))\n",
        " \n",
        "model.add(ZeroPadding2D((1,1)))\n",
        "model.add(Convolution2D(512, (3, 3), activation='relu'))\n",
        "model.add(ZeroPadding2D((1,1)))\n",
        "model.add(Convolution2D(512, (3, 3), activation='relu'))\n",
        "model.add(ZeroPadding2D((1,1)))\n",
        "model.add(Convolution2D(512, (3, 3), activation='relu'))\n",
        "model.add(MaxPooling2D((2,2), strides=(2,2)))\n",
        " \n",
        "model.add(Convolution2D(4096, (7, 7), activation='relu'))\n",
        "model.add(Dropout(0.5))\n",
        "model.add(Convolution2D(4096, (1, 1), activation='relu'))\n",
        "model.add(Dropout(0.5))\n",
        "model.add(Convolution2D(2622, (1, 1)))\n",
        "model.add(Flatten())\n",
        "model.add(Activation('softmax'))"
      ],
      "execution_count": 23,
      "outputs": []
    },
    {
      "cell_type": "code",
      "metadata": {
        "id": "Vp9Ez104q_Rk"
      },
      "source": [
        "model.load_weights('/content/drive/MyDrive/YOUNGER/vgg_face_weights.h5')"
      ],
      "execution_count": 24,
      "outputs": []
    },
    {
      "cell_type": "code",
      "metadata": {
        "id": "GQ_X736zrJ9F"
      },
      "source": [
        "for layer in model.layers[:-7]:\n",
        "  layer.trainable = False\n",
        " \n",
        "base_model_output = Sequential()\n",
        "base_model_output = Convolution2D(101, (1, 1), name='predictions')(model.layers[-4].output)\n",
        "base_model_output = Flatten()(base_model_output)\n",
        "base_model_output = Activation('softmax')(base_model_output)\n",
        " \n",
        "age_model = Model(inputs=model.input, outputs=base_model_output)"
      ],
      "execution_count": 25,
      "outputs": []
    },
    {
      "cell_type": "code",
      "metadata": {
        "id": "5KJW8WSUrKB2"
      },
      "source": [
        "# check trainable layers\n",
        "if False:\n",
        "    for layer in model.layers:\n",
        "        print(layer, layer.trainable)\n",
        "    \n",
        "    print(\"------------------------\")\n",
        "    for layer in age_model.layers:\n",
        "        print(layer, layer.trainable)"
      ],
      "execution_count": 26,
      "outputs": []
    },
    {
      "cell_type": "code",
      "metadata": {
        "id": "AddcnX68rKHF"
      },
      "source": [
        "sgd = keras.optimizers.SGD(lr=1e-3, decay=1e-6, momentum=0.9, nesterov=True)\n",
        "\n",
        "age_model.compile(loss='categorical_crossentropy'\n",
        "                  , optimizer=keras.optimizers.Adam()\n",
        "                  #, optimizer = sgd\n",
        "                  , metrics=['accuracy']\n",
        "                 )"
      ],
      "execution_count": 27,
      "outputs": []
    },
    {
      "cell_type": "code",
      "metadata": {
        "id": "vHlb1ci-s6n_"
      },
      "source": [
        "checkpointer = ModelCheckpoint(\n",
        "    filepath='/content/classification_age_model.hdf5'\n",
        "    , monitor = \"val_loss\"\n",
        "    , verbose=1\n",
        "    , save_best_only=True\n",
        "    , mode = 'auto'\n",
        ")"
      ],
      "execution_count": 28,
      "outputs": []
    },
    {
      "cell_type": "code",
      "metadata": {
        "id": "wVNjkvais8ok"
      },
      "source": [
        "scores = []"
      ],
      "execution_count": 29,
      "outputs": []
    },
    {
      "cell_type": "code",
      "metadata": {
        "id": "Z7ZJV9Grs8rz",
        "colab": {
          "base_uri": "https://localhost:8080/"
        },
        "outputId": "24529f84-72d4-470d-8937-c9ec021e3ba2"
      },
      "source": [
        "enableFit = True\n",
        "\n",
        "if enableFit:\n",
        "    # epochs = 250 # original\n",
        "    # batch_size = 256 # original\n",
        "    epochs = 250\n",
        "    batch_size = 32\n",
        "\n",
        "    for i in range(epochs):\n",
        "        print(\"epoch \",i)\n",
        "        \n",
        "        ix_train = np.random.choice(train_x.shape[0], size=batch_size)\n",
        "        \n",
        "        score = age_model.fit(\n",
        "            train_x[ix_train], train_y[ix_train]\n",
        "            , epochs=1\n",
        "            , validation_data=(test_x, test_y)\n",
        "            , callbacks=[checkpointer]\n",
        "        )\n",
        "        \n",
        "        scores.append(score)\n",
        "    \n",
        "    #restore the best weights\n",
        "    from keras.models import load_model\n",
        "    age_model = load_model('/content/classification_age_model.hdf5')\n",
        "    \n",
        "    age_model.save_weights('/content/drive/MyDrive/YOUNGER/age_model_weights.h5')\n",
        "        \n",
        "else:\n",
        "    #pre-trained weights for age prediction: https://drive.google.com/file/d/1YCox_4kJ-BYeXq27uUbasu--yz28zUMV/view?usp=sharing\n",
        "    age_model.load_weights(\"/content/drive/MyDrive/YOUNGER/age_model_weights.h5\")"
      ],
      "execution_count": 30,
      "outputs": [
        {
          "output_type": "stream",
          "text": [
            "epoch  0\n",
            "1/1 [==============================] - 25s 25s/step - loss: 4.6059 - accuracy: 0.0000e+00 - val_loss: 4.6087 - val_accuracy: 0.0250\n",
            "\n",
            "Epoch 00001: val_loss improved from inf to 4.60873, saving model to /content/classification_age_model.hdf5\n",
            "epoch  1\n",
            "1/1 [==============================] - 3s 3s/step - loss: 4.6151 - accuracy: 0.0000e+00 - val_loss: 4.5769 - val_accuracy: 0.0320\n",
            "\n",
            "Epoch 00001: val_loss improved from 4.60873 to 4.57690, saving model to /content/classification_age_model.hdf5\n",
            "epoch  2\n",
            "1/1 [==============================] - 3s 3s/step - loss: 4.5844 - accuracy: 0.0312 - val_loss: 4.4878 - val_accuracy: 0.0400\n",
            "\n",
            "Epoch 00001: val_loss improved from 4.57690 to 4.48778, saving model to /content/classification_age_model.hdf5\n",
            "epoch  3\n",
            "1/1 [==============================] - 3s 3s/step - loss: 4.4915 - accuracy: 0.0312 - val_loss: 4.3657 - val_accuracy: 0.0400\n",
            "\n",
            "Epoch 00001: val_loss improved from 4.48778 to 4.36566, saving model to /content/classification_age_model.hdf5\n",
            "epoch  4\n",
            "1/1 [==============================] - 3s 3s/step - loss: 4.5095 - accuracy: 0.0312 - val_loss: 4.2827 - val_accuracy: 0.0400\n",
            "\n",
            "Epoch 00001: val_loss improved from 4.36566 to 4.28272, saving model to /content/classification_age_model.hdf5\n",
            "epoch  5\n",
            "1/1 [==============================] - 3s 3s/step - loss: 4.5483 - accuracy: 0.0625 - val_loss: 4.2350 - val_accuracy: 0.0400\n",
            "\n",
            "Epoch 00001: val_loss improved from 4.28272 to 4.23503, saving model to /content/classification_age_model.hdf5\n",
            "epoch  6\n",
            "1/1 [==============================] - 3s 3s/step - loss: 4.5281 - accuracy: 0.0000e+00 - val_loss: 4.1885 - val_accuracy: 0.0340\n",
            "\n",
            "Epoch 00001: val_loss improved from 4.23503 to 4.18855, saving model to /content/classification_age_model.hdf5\n",
            "epoch  7\n",
            "1/1 [==============================] - 3s 3s/step - loss: 4.2035 - accuracy: 0.0000e+00 - val_loss: 4.1989 - val_accuracy: 0.0330\n",
            "\n",
            "Epoch 00001: val_loss did not improve from 4.18855\n",
            "epoch  8\n",
            "1/1 [==============================] - 3s 3s/step - loss: 4.1460 - accuracy: 0.0625 - val_loss: 4.2510 - val_accuracy: 0.0330\n",
            "\n",
            "Epoch 00001: val_loss did not improve from 4.18855\n",
            "epoch  9\n",
            "1/1 [==============================] - 3s 3s/step - loss: 4.5429 - accuracy: 0.0000e+00 - val_loss: 4.2585 - val_accuracy: 0.0210\n",
            "\n",
            "Epoch 00001: val_loss did not improve from 4.18855\n",
            "epoch  10\n",
            "1/1 [==============================] - 3s 3s/step - loss: 4.5027 - accuracy: 0.0000e+00 - val_loss: 4.2328 - val_accuracy: 0.0210\n",
            "\n",
            "Epoch 00001: val_loss did not improve from 4.18855\n",
            "epoch  11\n",
            "1/1 [==============================] - 3s 3s/step - loss: 4.1942 - accuracy: 0.0000e+00 - val_loss: 4.1898 - val_accuracy: 0.0210\n",
            "\n",
            "Epoch 00001: val_loss did not improve from 4.18855\n",
            "epoch  12\n",
            "1/1 [==============================] - 3s 3s/step - loss: 4.0277 - accuracy: 0.0625 - val_loss: 4.1617 - val_accuracy: 0.0210\n",
            "\n",
            "Epoch 00001: val_loss improved from 4.18855 to 4.16167, saving model to /content/classification_age_model.hdf5\n",
            "epoch  13\n",
            "1/1 [==============================] - 3s 3s/step - loss: 4.1847 - accuracy: 0.0000e+00 - val_loss: 4.1324 - val_accuracy: 0.0210\n",
            "\n",
            "Epoch 00001: val_loss improved from 4.16167 to 4.13236, saving model to /content/classification_age_model.hdf5\n",
            "epoch  14\n",
            "1/1 [==============================] - 3s 3s/step - loss: 4.1631 - accuracy: 0.0000e+00 - val_loss: 4.0915 - val_accuracy: 0.0260\n",
            "\n",
            "Epoch 00001: val_loss improved from 4.13236 to 4.09145, saving model to /content/classification_age_model.hdf5\n",
            "epoch  15\n",
            "1/1 [==============================] - 3s 3s/step - loss: 4.0064 - accuracy: 0.0312 - val_loss: 4.0623 - val_accuracy: 0.0360\n",
            "\n",
            "Epoch 00001: val_loss improved from 4.09145 to 4.06228, saving model to /content/classification_age_model.hdf5\n",
            "epoch  16\n",
            "1/1 [==============================] - 3s 3s/step - loss: 4.3382 - accuracy: 0.0312 - val_loss: 4.0363 - val_accuracy: 0.0330\n",
            "\n",
            "Epoch 00001: val_loss improved from 4.06228 to 4.03631, saving model to /content/classification_age_model.hdf5\n",
            "epoch  17\n",
            "1/1 [==============================] - 3s 3s/step - loss: 3.9786 - accuracy: 0.0938 - val_loss: 4.0215 - val_accuracy: 0.0340\n",
            "\n",
            "Epoch 00001: val_loss improved from 4.03631 to 4.02145, saving model to /content/classification_age_model.hdf5\n",
            "epoch  18\n",
            "1/1 [==============================] - 3s 3s/step - loss: 3.9023 - accuracy: 0.0312 - val_loss: 4.0203 - val_accuracy: 0.0380\n",
            "\n",
            "Epoch 00001: val_loss improved from 4.02145 to 4.02030, saving model to /content/classification_age_model.hdf5\n",
            "epoch  19\n",
            "1/1 [==============================] - 3s 3s/step - loss: 3.9738 - accuracy: 0.0625 - val_loss: 4.0431 - val_accuracy: 0.0450\n",
            "\n",
            "Epoch 00001: val_loss did not improve from 4.02030\n",
            "epoch  20\n",
            "1/1 [==============================] - 3s 3s/step - loss: 3.9559 - accuracy: 0.0312 - val_loss: 4.0687 - val_accuracy: 0.0440\n",
            "\n",
            "Epoch 00001: val_loss did not improve from 4.02030\n",
            "epoch  21\n",
            "1/1 [==============================] - 3s 3s/step - loss: 4.2470 - accuracy: 0.0000e+00 - val_loss: 4.0396 - val_accuracy: 0.0440\n",
            "\n",
            "Epoch 00001: val_loss did not improve from 4.02030\n",
            "epoch  22\n",
            "1/1 [==============================] - 3s 3s/step - loss: 3.9251 - accuracy: 0.0312 - val_loss: 4.0129 - val_accuracy: 0.0440\n",
            "\n",
            "Epoch 00001: val_loss improved from 4.02030 to 4.01293, saving model to /content/classification_age_model.hdf5\n",
            "epoch  23\n",
            "1/1 [==============================] - 3s 3s/step - loss: 4.1064 - accuracy: 0.0625 - val_loss: 3.9915 - val_accuracy: 0.0440\n",
            "\n",
            "Epoch 00001: val_loss improved from 4.01293 to 3.99151, saving model to /content/classification_age_model.hdf5\n",
            "epoch  24\n",
            "1/1 [==============================] - 3s 3s/step - loss: 4.1013 - accuracy: 0.0000e+00 - val_loss: 3.9833 - val_accuracy: 0.0450\n",
            "\n",
            "Epoch 00001: val_loss improved from 3.99151 to 3.98326, saving model to /content/classification_age_model.hdf5\n",
            "epoch  25\n",
            "1/1 [==============================] - 3s 3s/step - loss: 4.0515 - accuracy: 0.0000e+00 - val_loss: 3.9869 - val_accuracy: 0.0290\n",
            "\n",
            "Epoch 00001: val_loss did not improve from 3.98326\n",
            "epoch  26\n",
            "1/1 [==============================] - 3s 3s/step - loss: 4.0891 - accuracy: 0.0000e+00 - val_loss: 3.9909 - val_accuracy: 0.0320\n",
            "\n",
            "Epoch 00001: val_loss did not improve from 3.98326\n",
            "epoch  27\n",
            "1/1 [==============================] - 3s 3s/step - loss: 4.1049 - accuracy: 0.0625 - val_loss: 3.9925 - val_accuracy: 0.0260\n",
            "\n",
            "Epoch 00001: val_loss did not improve from 3.98326\n",
            "epoch  28\n",
            "1/1 [==============================] - 3s 3s/step - loss: 4.0611 - accuracy: 0.0000e+00 - val_loss: 3.9842 - val_accuracy: 0.0270\n",
            "\n",
            "Epoch 00001: val_loss did not improve from 3.98326\n",
            "epoch  29\n",
            "1/1 [==============================] - 3s 3s/step - loss: 3.7000 - accuracy: 0.0625 - val_loss: 3.9729 - val_accuracy: 0.0320\n",
            "\n",
            "Epoch 00001: val_loss improved from 3.98326 to 3.97294, saving model to /content/classification_age_model.hdf5\n",
            "epoch  30\n",
            "1/1 [==============================] - 3s 3s/step - loss: 3.8840 - accuracy: 0.0000e+00 - val_loss: 3.9698 - val_accuracy: 0.0290\n",
            "\n",
            "Epoch 00001: val_loss improved from 3.97294 to 3.96985, saving model to /content/classification_age_model.hdf5\n",
            "epoch  31\n",
            "1/1 [==============================] - 3s 3s/step - loss: 4.0604 - accuracy: 0.0000e+00 - val_loss: 3.9630 - val_accuracy: 0.0290\n",
            "\n",
            "Epoch 00001: val_loss improved from 3.96985 to 3.96302, saving model to /content/classification_age_model.hdf5\n",
            "epoch  32\n",
            "1/1 [==============================] - 3s 3s/step - loss: 3.9621 - accuracy: 0.0625 - val_loss: 3.9557 - val_accuracy: 0.0300\n",
            "\n",
            "Epoch 00001: val_loss improved from 3.96302 to 3.95574, saving model to /content/classification_age_model.hdf5\n",
            "epoch  33\n",
            "1/1 [==============================] - 3s 3s/step - loss: 3.7513 - accuracy: 0.0312 - val_loss: 3.9485 - val_accuracy: 0.0310\n",
            "\n",
            "Epoch 00001: val_loss improved from 3.95574 to 3.94854, saving model to /content/classification_age_model.hdf5\n",
            "epoch  34\n",
            "1/1 [==============================] - 3s 3s/step - loss: 4.2913 - accuracy: 0.0312 - val_loss: 3.9297 - val_accuracy: 0.0340\n",
            "\n",
            "Epoch 00001: val_loss improved from 3.94854 to 3.92973, saving model to /content/classification_age_model.hdf5\n",
            "epoch  35\n",
            "1/1 [==============================] - 3s 3s/step - loss: 3.9762 - accuracy: 0.0000e+00 - val_loss: 3.9072 - val_accuracy: 0.0350\n",
            "\n",
            "Epoch 00001: val_loss improved from 3.92973 to 3.90715, saving model to /content/classification_age_model.hdf5\n",
            "epoch  36\n",
            "1/1 [==============================] - 3s 3s/step - loss: 3.7438 - accuracy: 0.0312 - val_loss: 3.8946 - val_accuracy: 0.0380\n",
            "\n",
            "Epoch 00001: val_loss improved from 3.90715 to 3.89456, saving model to /content/classification_age_model.hdf5\n",
            "epoch  37\n",
            "1/1 [==============================] - 3s 3s/step - loss: 3.7824 - accuracy: 0.0938 - val_loss: 3.8861 - val_accuracy: 0.0320\n",
            "\n",
            "Epoch 00001: val_loss improved from 3.89456 to 3.88614, saving model to /content/classification_age_model.hdf5\n",
            "epoch  38\n",
            "1/1 [==============================] - 3s 3s/step - loss: 3.9258 - accuracy: 0.0000e+00 - val_loss: 3.8805 - val_accuracy: 0.0400\n",
            "\n",
            "Epoch 00001: val_loss improved from 3.88614 to 3.88052, saving model to /content/classification_age_model.hdf5\n",
            "epoch  39\n",
            "1/1 [==============================] - 3s 3s/step - loss: 4.0369 - accuracy: 0.0312 - val_loss: 3.8739 - val_accuracy: 0.0430\n",
            "\n",
            "Epoch 00001: val_loss improved from 3.88052 to 3.87389, saving model to /content/classification_age_model.hdf5\n",
            "epoch  40\n",
            "1/1 [==============================] - 3s 3s/step - loss: 4.1632 - accuracy: 0.0000e+00 - val_loss: 3.8683 - val_accuracy: 0.0430\n",
            "\n",
            "Epoch 00001: val_loss improved from 3.87389 to 3.86828, saving model to /content/classification_age_model.hdf5\n",
            "epoch  41\n",
            "1/1 [==============================] - 3s 3s/step - loss: 3.7789 - accuracy: 0.0312 - val_loss: 3.8630 - val_accuracy: 0.0420\n",
            "\n",
            "Epoch 00001: val_loss improved from 3.86828 to 3.86298, saving model to /content/classification_age_model.hdf5\n",
            "epoch  42\n",
            "1/1 [==============================] - 3s 3s/step - loss: 3.9008 - accuracy: 0.0938 - val_loss: 3.8548 - val_accuracy: 0.0410\n",
            "\n",
            "Epoch 00001: val_loss improved from 3.86298 to 3.85476, saving model to /content/classification_age_model.hdf5\n",
            "epoch  43\n",
            "1/1 [==============================] - 3s 3s/step - loss: 3.7530 - accuracy: 0.0000e+00 - val_loss: 3.8474 - val_accuracy: 0.0510\n",
            "\n",
            "Epoch 00001: val_loss improved from 3.85476 to 3.84744, saving model to /content/classification_age_model.hdf5\n",
            "epoch  44\n",
            "1/1 [==============================] - 3s 3s/step - loss: 3.7951 - accuracy: 0.0625 - val_loss: 3.8463 - val_accuracy: 0.0470\n",
            "\n",
            "Epoch 00001: val_loss improved from 3.84744 to 3.84626, saving model to /content/classification_age_model.hdf5\n",
            "epoch  45\n",
            "1/1 [==============================] - 3s 3s/step - loss: 3.9087 - accuracy: 0.0312 - val_loss: 3.8444 - val_accuracy: 0.0530\n",
            "\n",
            "Epoch 00001: val_loss improved from 3.84626 to 3.84445, saving model to /content/classification_age_model.hdf5\n",
            "epoch  46\n",
            "1/1 [==============================] - 3s 3s/step - loss: 3.6115 - accuracy: 0.1250 - val_loss: 3.8448 - val_accuracy: 0.0410\n",
            "\n",
            "Epoch 00001: val_loss did not improve from 3.84445\n",
            "epoch  47\n",
            "1/1 [==============================] - 3s 3s/step - loss: 3.8619 - accuracy: 0.0312 - val_loss: 3.8385 - val_accuracy: 0.0360\n",
            "\n",
            "Epoch 00001: val_loss improved from 3.84445 to 3.83847, saving model to /content/classification_age_model.hdf5\n",
            "epoch  48\n",
            "1/1 [==============================] - 3s 3s/step - loss: 3.9569 - accuracy: 0.0312 - val_loss: 3.8374 - val_accuracy: 0.0470\n",
            "\n",
            "Epoch 00001: val_loss improved from 3.83847 to 3.83744, saving model to /content/classification_age_model.hdf5\n",
            "epoch  49\n",
            "1/1 [==============================] - 3s 3s/step - loss: 3.7676 - accuracy: 0.0938 - val_loss: 3.8384 - val_accuracy: 0.0460\n",
            "\n",
            "Epoch 00001: val_loss did not improve from 3.83744\n",
            "epoch  50\n",
            "1/1 [==============================] - 3s 3s/step - loss: 3.8402 - accuracy: 0.1250 - val_loss: 3.8372 - val_accuracy: 0.0480\n",
            "\n",
            "Epoch 00001: val_loss improved from 3.83744 to 3.83717, saving model to /content/classification_age_model.hdf5\n",
            "epoch  51\n",
            "1/1 [==============================] - 3s 3s/step - loss: 3.5819 - accuracy: 0.0000e+00 - val_loss: 3.8328 - val_accuracy: 0.0500\n",
            "\n",
            "Epoch 00001: val_loss improved from 3.83717 to 3.83284, saving model to /content/classification_age_model.hdf5\n",
            "epoch  52\n",
            "1/1 [==============================] - 3s 3s/step - loss: 3.7264 - accuracy: 0.0625 - val_loss: 3.8289 - val_accuracy: 0.0520\n",
            "\n",
            "Epoch 00001: val_loss improved from 3.83284 to 3.82888, saving model to /content/classification_age_model.hdf5\n",
            "epoch  53\n",
            "1/1 [==============================] - 3s 3s/step - loss: 3.8830 - accuracy: 0.0000e+00 - val_loss: 3.8195 - val_accuracy: 0.0500\n",
            "\n",
            "Epoch 00001: val_loss improved from 3.82888 to 3.81954, saving model to /content/classification_age_model.hdf5\n",
            "epoch  54\n",
            "1/1 [==============================] - 3s 3s/step - loss: 4.0521 - accuracy: 0.0000e+00 - val_loss: 3.8112 - val_accuracy: 0.0580\n",
            "\n",
            "Epoch 00001: val_loss improved from 3.81954 to 3.81118, saving model to /content/classification_age_model.hdf5\n",
            "epoch  55\n",
            "1/1 [==============================] - 3s 3s/step - loss: 3.8584 - accuracy: 0.0312 - val_loss: 3.8033 - val_accuracy: 0.0470\n",
            "\n",
            "Epoch 00001: val_loss improved from 3.81118 to 3.80325, saving model to /content/classification_age_model.hdf5\n",
            "epoch  56\n",
            "1/1 [==============================] - 3s 3s/step - loss: 3.8960 - accuracy: 0.0312 - val_loss: 3.7977 - val_accuracy: 0.0470\n",
            "\n",
            "Epoch 00001: val_loss improved from 3.80325 to 3.79774, saving model to /content/classification_age_model.hdf5\n",
            "epoch  57\n",
            "1/1 [==============================] - 3s 3s/step - loss: 3.8307 - accuracy: 0.0625 - val_loss: 3.7966 - val_accuracy: 0.0490\n",
            "\n",
            "Epoch 00001: val_loss improved from 3.79774 to 3.79659, saving model to /content/classification_age_model.hdf5\n",
            "epoch  58\n",
            "1/1 [==============================] - 3s 3s/step - loss: 3.8853 - accuracy: 0.0312 - val_loss: 3.8004 - val_accuracy: 0.0510\n",
            "\n",
            "Epoch 00001: val_loss did not improve from 3.79659\n",
            "epoch  59\n",
            "1/1 [==============================] - 3s 3s/step - loss: 3.7248 - accuracy: 0.0938 - val_loss: 3.8049 - val_accuracy: 0.0520\n",
            "\n",
            "Epoch 00001: val_loss did not improve from 3.79659\n",
            "epoch  60\n",
            "1/1 [==============================] - 3s 3s/step - loss: 3.8185 - accuracy: 0.0625 - val_loss: 3.7994 - val_accuracy: 0.0500\n",
            "\n",
            "Epoch 00001: val_loss did not improve from 3.79659\n",
            "epoch  61\n",
            "1/1 [==============================] - 3s 3s/step - loss: 4.0120 - accuracy: 0.0625 - val_loss: 3.7983 - val_accuracy: 0.0450\n",
            "\n",
            "Epoch 00001: val_loss did not improve from 3.79659\n",
            "epoch  62\n",
            "1/1 [==============================] - 3s 3s/step - loss: 3.8816 - accuracy: 0.0312 - val_loss: 3.7995 - val_accuracy: 0.0440\n",
            "\n",
            "Epoch 00001: val_loss did not improve from 3.79659\n",
            "epoch  63\n",
            "1/1 [==============================] - 3s 3s/step - loss: 3.7898 - accuracy: 0.0312 - val_loss: 3.7965 - val_accuracy: 0.0470\n",
            "\n",
            "Epoch 00001: val_loss improved from 3.79659 to 3.79654, saving model to /content/classification_age_model.hdf5\n",
            "epoch  64\n",
            "1/1 [==============================] - 3s 3s/step - loss: 3.8391 - accuracy: 0.0312 - val_loss: 3.7946 - val_accuracy: 0.0490\n",
            "\n",
            "Epoch 00001: val_loss improved from 3.79654 to 3.79457, saving model to /content/classification_age_model.hdf5\n",
            "epoch  65\n",
            "1/1 [==============================] - 3s 3s/step - loss: 3.7088 - accuracy: 0.0938 - val_loss: 3.7950 - val_accuracy: 0.0510\n",
            "\n",
            "Epoch 00001: val_loss did not improve from 3.79457\n",
            "epoch  66\n",
            "1/1 [==============================] - 3s 3s/step - loss: 3.6853 - accuracy: 0.0312 - val_loss: 3.7975 - val_accuracy: 0.0510\n",
            "\n",
            "Epoch 00001: val_loss did not improve from 3.79457\n",
            "epoch  67\n",
            "1/1 [==============================] - 3s 3s/step - loss: 3.6226 - accuracy: 0.0938 - val_loss: 3.8100 - val_accuracy: 0.0380\n",
            "\n",
            "Epoch 00001: val_loss did not improve from 3.79457\n",
            "epoch  68\n",
            "1/1 [==============================] - 3s 3s/step - loss: 3.7267 - accuracy: 0.0625 - val_loss: 3.8288 - val_accuracy: 0.0380\n",
            "\n",
            "Epoch 00001: val_loss did not improve from 3.79457\n",
            "epoch  69\n",
            "1/1 [==============================] - 3s 3s/step - loss: 3.5226 - accuracy: 0.0625 - val_loss: 3.8440 - val_accuracy: 0.0360\n",
            "\n",
            "Epoch 00001: val_loss did not improve from 3.79457\n",
            "epoch  70\n",
            "1/1 [==============================] - 3s 3s/step - loss: 3.7807 - accuracy: 0.0625 - val_loss: 3.8317 - val_accuracy: 0.0360\n",
            "\n",
            "Epoch 00001: val_loss did not improve from 3.79457\n",
            "epoch  71\n",
            "1/1 [==============================] - 3s 3s/step - loss: 3.8338 - accuracy: 0.0625 - val_loss: 3.8102 - val_accuracy: 0.0450\n",
            "\n",
            "Epoch 00001: val_loss did not improve from 3.79457\n",
            "epoch  72\n",
            "1/1 [==============================] - 3s 3s/step - loss: 3.5470 - accuracy: 0.0625 - val_loss: 3.7986 - val_accuracy: 0.0510\n",
            "\n",
            "Epoch 00001: val_loss did not improve from 3.79457\n",
            "epoch  73\n",
            "1/1 [==============================] - 3s 3s/step - loss: 3.7243 - accuracy: 0.1250 - val_loss: 3.7961 - val_accuracy: 0.0530\n",
            "\n",
            "Epoch 00001: val_loss did not improve from 3.79457\n",
            "epoch  74\n",
            "1/1 [==============================] - 3s 3s/step - loss: 3.6197 - accuracy: 0.1250 - val_loss: 3.7896 - val_accuracy: 0.0460\n",
            "\n",
            "Epoch 00001: val_loss improved from 3.79457 to 3.78958, saving model to /content/classification_age_model.hdf5\n",
            "epoch  75\n",
            "1/1 [==============================] - 3s 3s/step - loss: 3.7344 - accuracy: 0.0312 - val_loss: 3.7820 - val_accuracy: 0.0440\n",
            "\n",
            "Epoch 00001: val_loss improved from 3.78958 to 3.78202, saving model to /content/classification_age_model.hdf5\n",
            "epoch  76\n",
            "1/1 [==============================] - 3s 3s/step - loss: 3.7162 - accuracy: 0.0938 - val_loss: 3.7782 - val_accuracy: 0.0450\n",
            "\n",
            "Epoch 00001: val_loss improved from 3.78202 to 3.77821, saving model to /content/classification_age_model.hdf5\n",
            "epoch  77\n",
            "1/1 [==============================] - 3s 3s/step - loss: 3.4830 - accuracy: 0.0625 - val_loss: 3.7787 - val_accuracy: 0.0430\n",
            "\n",
            "Epoch 00001: val_loss did not improve from 3.77821\n",
            "epoch  78\n",
            "1/1 [==============================] - 3s 3s/step - loss: 3.6936 - accuracy: 0.0625 - val_loss: 3.7876 - val_accuracy: 0.0410\n",
            "\n",
            "Epoch 00001: val_loss did not improve from 3.77821\n",
            "epoch  79\n",
            "1/1 [==============================] - 3s 3s/step - loss: 3.9602 - accuracy: 0.0312 - val_loss: 3.7862 - val_accuracy: 0.0430\n",
            "\n",
            "Epoch 00001: val_loss did not improve from 3.77821\n",
            "epoch  80\n",
            "1/1 [==============================] - 3s 3s/step - loss: 3.8376 - accuracy: 0.0625 - val_loss: 3.7810 - val_accuracy: 0.0480\n",
            "\n",
            "Epoch 00001: val_loss did not improve from 3.77821\n",
            "epoch  81\n",
            "1/1 [==============================] - 3s 3s/step - loss: 3.3533 - accuracy: 0.1562 - val_loss: 3.7828 - val_accuracy: 0.0500\n",
            "\n",
            "Epoch 00001: val_loss did not improve from 3.77821\n",
            "epoch  82\n",
            "1/1 [==============================] - 3s 3s/step - loss: 3.5987 - accuracy: 0.0938 - val_loss: 3.7925 - val_accuracy: 0.0540\n",
            "\n",
            "Epoch 00001: val_loss did not improve from 3.77821\n",
            "epoch  83\n",
            "1/1 [==============================] - 3s 3s/step - loss: 3.7903 - accuracy: 0.0625 - val_loss: 3.7927 - val_accuracy: 0.0480\n",
            "\n",
            "Epoch 00001: val_loss did not improve from 3.77821\n",
            "epoch  84\n",
            "1/1 [==============================] - 3s 3s/step - loss: 3.5144 - accuracy: 0.1250 - val_loss: 3.7864 - val_accuracy: 0.0480\n",
            "\n",
            "Epoch 00001: val_loss did not improve from 3.77821\n",
            "epoch  85\n",
            "1/1 [==============================] - 3s 3s/step - loss: 3.6803 - accuracy: 0.1562 - val_loss: 3.7846 - val_accuracy: 0.0460\n",
            "\n",
            "Epoch 00001: val_loss did not improve from 3.77821\n",
            "epoch  86\n",
            "1/1 [==============================] - 3s 3s/step - loss: 3.4225 - accuracy: 0.0625 - val_loss: 3.8013 - val_accuracy: 0.0410\n",
            "\n",
            "Epoch 00001: val_loss did not improve from 3.77821\n",
            "epoch  87\n",
            "1/1 [==============================] - 3s 3s/step - loss: 3.4498 - accuracy: 0.1562 - val_loss: 3.8221 - val_accuracy: 0.0570\n",
            "\n",
            "Epoch 00001: val_loss did not improve from 3.77821\n",
            "epoch  88\n",
            "1/1 [==============================] - 3s 3s/step - loss: 3.7892 - accuracy: 0.0625 - val_loss: 3.8252 - val_accuracy: 0.0550\n",
            "\n",
            "Epoch 00001: val_loss did not improve from 3.77821\n",
            "epoch  89\n",
            "1/1 [==============================] - 3s 3s/step - loss: 3.8764 - accuracy: 0.0938 - val_loss: 3.7857 - val_accuracy: 0.0580\n",
            "\n",
            "Epoch 00001: val_loss did not improve from 3.77821\n",
            "epoch  90\n",
            "1/1 [==============================] - 3s 3s/step - loss: 3.3403 - accuracy: 0.1250 - val_loss: 3.7614 - val_accuracy: 0.0530\n",
            "\n",
            "Epoch 00001: val_loss improved from 3.77821 to 3.76138, saving model to /content/classification_age_model.hdf5\n",
            "epoch  91\n",
            "1/1 [==============================] - 3s 3s/step - loss: 3.8271 - accuracy: 0.0938 - val_loss: 3.7358 - val_accuracy: 0.0490\n",
            "\n",
            "Epoch 00001: val_loss improved from 3.76138 to 3.73583, saving model to /content/classification_age_model.hdf5\n",
            "epoch  92\n",
            "1/1 [==============================] - 3s 3s/step - loss: 3.3982 - accuracy: 0.0938 - val_loss: 3.7311 - val_accuracy: 0.0470\n",
            "\n",
            "Epoch 00001: val_loss improved from 3.73583 to 3.73112, saving model to /content/classification_age_model.hdf5\n",
            "epoch  93\n",
            "1/1 [==============================] - 3s 3s/step - loss: 3.5701 - accuracy: 0.1250 - val_loss: 3.7350 - val_accuracy: 0.0440\n",
            "\n",
            "Epoch 00001: val_loss did not improve from 3.73112\n",
            "epoch  94\n",
            "1/1 [==============================] - 3s 3s/step - loss: 3.9218 - accuracy: 0.0625 - val_loss: 3.7407 - val_accuracy: 0.0420\n",
            "\n",
            "Epoch 00001: val_loss did not improve from 3.73112\n",
            "epoch  95\n",
            "1/1 [==============================] - 3s 3s/step - loss: 3.4453 - accuracy: 0.0625 - val_loss: 3.7562 - val_accuracy: 0.0460\n",
            "\n",
            "Epoch 00001: val_loss did not improve from 3.73112\n",
            "epoch  96\n",
            "1/1 [==============================] - 3s 3s/step - loss: 3.9433 - accuracy: 0.0312 - val_loss: 3.7740 - val_accuracy: 0.0450\n",
            "\n",
            "Epoch 00001: val_loss did not improve from 3.73112\n",
            "epoch  97\n",
            "1/1 [==============================] - 3s 3s/step - loss: 3.4351 - accuracy: 0.0625 - val_loss: 3.7911 - val_accuracy: 0.0400\n",
            "\n",
            "Epoch 00001: val_loss did not improve from 3.73112\n",
            "epoch  98\n",
            "1/1 [==============================] - 3s 3s/step - loss: 3.7162 - accuracy: 0.0938 - val_loss: 3.7919 - val_accuracy: 0.0370\n",
            "\n",
            "Epoch 00001: val_loss did not improve from 3.73112\n",
            "epoch  99\n",
            "1/1 [==============================] - 3s 3s/step - loss: 3.5251 - accuracy: 0.0625 - val_loss: 3.7773 - val_accuracy: 0.0380\n",
            "\n",
            "Epoch 00001: val_loss did not improve from 3.73112\n",
            "epoch  100\n",
            "1/1 [==============================] - 3s 3s/step - loss: 3.7866 - accuracy: 0.0312 - val_loss: 3.7696 - val_accuracy: 0.0400\n",
            "\n",
            "Epoch 00001: val_loss did not improve from 3.73112\n",
            "epoch  101\n",
            "1/1 [==============================] - 3s 3s/step - loss: 3.6951 - accuracy: 0.1250 - val_loss: 3.7594 - val_accuracy: 0.0390\n",
            "\n",
            "Epoch 00001: val_loss did not improve from 3.73112\n",
            "epoch  102\n",
            "1/1 [==============================] - 3s 3s/step - loss: 3.5116 - accuracy: 0.0938 - val_loss: 3.7394 - val_accuracy: 0.0380\n",
            "\n",
            "Epoch 00001: val_loss did not improve from 3.73112\n",
            "epoch  103\n",
            "1/1 [==============================] - 3s 3s/step - loss: 4.0532 - accuracy: 0.0938 - val_loss: 3.7198 - val_accuracy: 0.0470\n",
            "\n",
            "Epoch 00001: val_loss improved from 3.73112 to 3.71981, saving model to /content/classification_age_model.hdf5\n",
            "epoch  104\n",
            "1/1 [==============================] - 3s 3s/step - loss: 3.5843 - accuracy: 0.0625 - val_loss: 3.7113 - val_accuracy: 0.0500\n",
            "\n",
            "Epoch 00001: val_loss improved from 3.71981 to 3.71127, saving model to /content/classification_age_model.hdf5\n",
            "epoch  105\n",
            "1/1 [==============================] - 3s 3s/step - loss: 3.4845 - accuracy: 0.1250 - val_loss: 3.7181 - val_accuracy: 0.0550\n",
            "\n",
            "Epoch 00001: val_loss did not improve from 3.71127\n",
            "epoch  106\n",
            "1/1 [==============================] - 3s 3s/step - loss: 3.3689 - accuracy: 0.0938 - val_loss: 3.7233 - val_accuracy: 0.0540\n",
            "\n",
            "Epoch 00001: val_loss did not improve from 3.71127\n",
            "epoch  107\n",
            "1/1 [==============================] - 3s 3s/step - loss: 3.7940 - accuracy: 0.0625 - val_loss: 3.7112 - val_accuracy: 0.0540\n",
            "\n",
            "Epoch 00001: val_loss improved from 3.71127 to 3.71115, saving model to /content/classification_age_model.hdf5\n",
            "epoch  108\n",
            "1/1 [==============================] - 3s 3s/step - loss: 3.6553 - accuracy: 0.0625 - val_loss: 3.7040 - val_accuracy: 0.0500\n",
            "\n",
            "Epoch 00001: val_loss improved from 3.71115 to 3.70398, saving model to /content/classification_age_model.hdf5\n",
            "epoch  109\n",
            "1/1 [==============================] - 3s 3s/step - loss: 3.7282 - accuracy: 0.0938 - val_loss: 3.7041 - val_accuracy: 0.0520\n",
            "\n",
            "Epoch 00001: val_loss did not improve from 3.70398\n",
            "epoch  110\n",
            "1/1 [==============================] - 3s 3s/step - loss: 3.6714 - accuracy: 0.1875 - val_loss: 3.7163 - val_accuracy: 0.0520\n",
            "\n",
            "Epoch 00001: val_loss did not improve from 3.70398\n",
            "epoch  111\n",
            "1/1 [==============================] - 3s 3s/step - loss: 3.8492 - accuracy: 0.0938 - val_loss: 3.7381 - val_accuracy: 0.0510\n",
            "\n",
            "Epoch 00001: val_loss did not improve from 3.70398\n",
            "epoch  112\n",
            "1/1 [==============================] - 3s 3s/step - loss: 3.6004 - accuracy: 0.0000e+00 - val_loss: 3.7445 - val_accuracy: 0.0550\n",
            "\n",
            "Epoch 00001: val_loss did not improve from 3.70398\n",
            "epoch  113\n",
            "1/1 [==============================] - 3s 3s/step - loss: 3.6743 - accuracy: 0.1250 - val_loss: 3.7503 - val_accuracy: 0.0530\n",
            "\n",
            "Epoch 00001: val_loss did not improve from 3.70398\n",
            "epoch  114\n",
            "1/1 [==============================] - 3s 3s/step - loss: 3.7692 - accuracy: 0.0625 - val_loss: 3.7344 - val_accuracy: 0.0510\n",
            "\n",
            "Epoch 00001: val_loss did not improve from 3.70398\n",
            "epoch  115\n",
            "1/1 [==============================] - 3s 3s/step - loss: 3.5346 - accuracy: 0.1250 - val_loss: 3.7202 - val_accuracy: 0.0470\n",
            "\n",
            "Epoch 00001: val_loss did not improve from 3.70398\n",
            "epoch  116\n",
            "1/1 [==============================] - 3s 3s/step - loss: 3.6224 - accuracy: 0.0938 - val_loss: 3.7472 - val_accuracy: 0.0430\n",
            "\n",
            "Epoch 00001: val_loss did not improve from 3.70398\n",
            "epoch  117\n",
            "1/1 [==============================] - 3s 3s/step - loss: 3.7233 - accuracy: 0.0000e+00 - val_loss: 3.7825 - val_accuracy: 0.0440\n",
            "\n",
            "Epoch 00001: val_loss did not improve from 3.70398\n",
            "epoch  118\n",
            "1/1 [==============================] - 3s 3s/step - loss: 3.6040 - accuracy: 0.0625 - val_loss: 3.7889 - val_accuracy: 0.0430\n",
            "\n",
            "Epoch 00001: val_loss did not improve from 3.70398\n",
            "epoch  119\n",
            "1/1 [==============================] - 3s 3s/step - loss: 3.6961 - accuracy: 0.1562 - val_loss: 3.7709 - val_accuracy: 0.0490\n",
            "\n",
            "Epoch 00001: val_loss did not improve from 3.70398\n",
            "epoch  120\n",
            "1/1 [==============================] - 3s 3s/step - loss: 3.5497 - accuracy: 0.1250 - val_loss: 3.7391 - val_accuracy: 0.0450\n",
            "\n",
            "Epoch 00001: val_loss did not improve from 3.70398\n",
            "epoch  121\n",
            "1/1 [==============================] - 3s 3s/step - loss: 3.2431 - accuracy: 0.2188 - val_loss: 3.7251 - val_accuracy: 0.0440\n",
            "\n",
            "Epoch 00001: val_loss did not improve from 3.70398\n",
            "epoch  122\n",
            "1/1 [==============================] - 3s 3s/step - loss: 3.7802 - accuracy: 0.0625 - val_loss: 3.7228 - val_accuracy: 0.0450\n",
            "\n",
            "Epoch 00001: val_loss did not improve from 3.70398\n",
            "epoch  123\n",
            "1/1 [==============================] - 3s 3s/step - loss: 3.2262 - accuracy: 0.1875 - val_loss: 3.7296 - val_accuracy: 0.0510\n",
            "\n",
            "Epoch 00001: val_loss did not improve from 3.70398\n",
            "epoch  124\n",
            "1/1 [==============================] - 3s 3s/step - loss: 3.4724 - accuracy: 0.1875 - val_loss: 3.7434 - val_accuracy: 0.0550\n",
            "\n",
            "Epoch 00001: val_loss did not improve from 3.70398\n",
            "epoch  125\n",
            "1/1 [==============================] - 3s 3s/step - loss: 3.4836 - accuracy: 0.1562 - val_loss: 3.7384 - val_accuracy: 0.0570\n",
            "\n",
            "Epoch 00001: val_loss did not improve from 3.70398\n",
            "epoch  126\n",
            "1/1 [==============================] - 3s 3s/step - loss: 3.7517 - accuracy: 0.1250 - val_loss: 3.7295 - val_accuracy: 0.0620\n",
            "\n",
            "Epoch 00001: val_loss did not improve from 3.70398\n",
            "epoch  127\n",
            "1/1 [==============================] - 3s 3s/step - loss: 3.4317 - accuracy: 0.0938 - val_loss: 3.7168 - val_accuracy: 0.0580\n",
            "\n",
            "Epoch 00001: val_loss did not improve from 3.70398\n",
            "epoch  128\n",
            "1/1 [==============================] - 3s 3s/step - loss: 3.3298 - accuracy: 0.1562 - val_loss: 3.7170 - val_accuracy: 0.0570\n",
            "\n",
            "Epoch 00001: val_loss did not improve from 3.70398\n",
            "epoch  129\n",
            "1/1 [==============================] - 3s 3s/step - loss: 3.5265 - accuracy: 0.0938 - val_loss: 3.7107 - val_accuracy: 0.0560\n",
            "\n",
            "Epoch 00001: val_loss did not improve from 3.70398\n",
            "epoch  130\n",
            "1/1 [==============================] - 3s 3s/step - loss: 3.4516 - accuracy: 0.0938 - val_loss: 3.7031 - val_accuracy: 0.0630\n",
            "\n",
            "Epoch 00001: val_loss improved from 3.70398 to 3.70309, saving model to /content/classification_age_model.hdf5\n",
            "epoch  131\n",
            "1/1 [==============================] - 3s 3s/step - loss: 3.7206 - accuracy: 0.0312 - val_loss: 3.6911 - val_accuracy: 0.0660\n",
            "\n",
            "Epoch 00001: val_loss improved from 3.70309 to 3.69106, saving model to /content/classification_age_model.hdf5\n",
            "epoch  132\n",
            "1/1 [==============================] - 3s 3s/step - loss: 3.7587 - accuracy: 0.0312 - val_loss: 3.6780 - val_accuracy: 0.0680\n",
            "\n",
            "Epoch 00001: val_loss improved from 3.69106 to 3.67797, saving model to /content/classification_age_model.hdf5\n",
            "epoch  133\n",
            "1/1 [==============================] - 3s 3s/step - loss: 3.8328 - accuracy: 0.0312 - val_loss: 3.6698 - val_accuracy: 0.0620\n",
            "\n",
            "Epoch 00001: val_loss improved from 3.67797 to 3.66982, saving model to /content/classification_age_model.hdf5\n",
            "epoch  134\n",
            "1/1 [==============================] - 3s 3s/step - loss: 3.4289 - accuracy: 0.1562 - val_loss: 3.6758 - val_accuracy: 0.0600\n",
            "\n",
            "Epoch 00001: val_loss did not improve from 3.66982\n",
            "epoch  135\n",
            "1/1 [==============================] - 3s 3s/step - loss: 3.1371 - accuracy: 0.2188 - val_loss: 3.6708 - val_accuracy: 0.0570\n",
            "\n",
            "Epoch 00001: val_loss did not improve from 3.66982\n",
            "epoch  136\n",
            "1/1 [==============================] - 3s 3s/step - loss: 3.3546 - accuracy: 0.1562 - val_loss: 3.6655 - val_accuracy: 0.0600\n",
            "\n",
            "Epoch 00001: val_loss improved from 3.66982 to 3.66547, saving model to /content/classification_age_model.hdf5\n",
            "epoch  137\n",
            "1/1 [==============================] - 3s 3s/step - loss: 3.2586 - accuracy: 0.1562 - val_loss: 3.6643 - val_accuracy: 0.0560\n",
            "\n",
            "Epoch 00001: val_loss improved from 3.66547 to 3.66434, saving model to /content/classification_age_model.hdf5\n",
            "epoch  138\n",
            "1/1 [==============================] - 3s 3s/step - loss: 3.3844 - accuracy: 0.1250 - val_loss: 3.6688 - val_accuracy: 0.0520\n",
            "\n",
            "Epoch 00001: val_loss did not improve from 3.66434\n",
            "epoch  139\n",
            "1/1 [==============================] - 3s 3s/step - loss: 3.6007 - accuracy: 0.0000e+00 - val_loss: 3.6692 - val_accuracy: 0.0540\n",
            "\n",
            "Epoch 00001: val_loss did not improve from 3.66434\n",
            "epoch  140\n",
            "1/1 [==============================] - 3s 3s/step - loss: 3.4643 - accuracy: 0.1875 - val_loss: 3.6678 - val_accuracy: 0.0600\n",
            "\n",
            "Epoch 00001: val_loss did not improve from 3.66434\n",
            "epoch  141\n",
            "1/1 [==============================] - 3s 3s/step - loss: 3.2129 - accuracy: 0.1250 - val_loss: 3.6673 - val_accuracy: 0.0550\n",
            "\n",
            "Epoch 00001: val_loss did not improve from 3.66434\n",
            "epoch  142\n",
            "1/1 [==============================] - 3s 3s/step - loss: 3.3017 - accuracy: 0.1250 - val_loss: 3.6765 - val_accuracy: 0.0500\n",
            "\n",
            "Epoch 00001: val_loss did not improve from 3.66434\n",
            "epoch  143\n",
            "1/1 [==============================] - 3s 3s/step - loss: 3.7193 - accuracy: 0.0312 - val_loss: 3.6793 - val_accuracy: 0.0500\n",
            "\n",
            "Epoch 00001: val_loss did not improve from 3.66434\n",
            "epoch  144\n",
            "1/1 [==============================] - 3s 3s/step - loss: 3.7607 - accuracy: 0.0625 - val_loss: 3.6746 - val_accuracy: 0.0530\n",
            "\n",
            "Epoch 00001: val_loss did not improve from 3.66434\n",
            "epoch  145\n",
            "1/1 [==============================] - 3s 3s/step - loss: 3.2502 - accuracy: 0.1875 - val_loss: 3.6704 - val_accuracy: 0.0540\n",
            "\n",
            "Epoch 00001: val_loss did not improve from 3.66434\n",
            "epoch  146\n",
            "1/1 [==============================] - 3s 3s/step - loss: 3.4132 - accuracy: 0.0938 - val_loss: 3.6727 - val_accuracy: 0.0590\n",
            "\n",
            "Epoch 00001: val_loss did not improve from 3.66434\n",
            "epoch  147\n",
            "1/1 [==============================] - 3s 3s/step - loss: 3.5817 - accuracy: 0.1250 - val_loss: 3.6723 - val_accuracy: 0.0580\n",
            "\n",
            "Epoch 00001: val_loss did not improve from 3.66434\n",
            "epoch  148\n",
            "1/1 [==============================] - 3s 3s/step - loss: 3.5517 - accuracy: 0.0312 - val_loss: 3.6715 - val_accuracy: 0.0560\n",
            "\n",
            "Epoch 00001: val_loss did not improve from 3.66434\n",
            "epoch  149\n",
            "1/1 [==============================] - 3s 3s/step - loss: 3.3478 - accuracy: 0.1562 - val_loss: 3.6740 - val_accuracy: 0.0590\n",
            "\n",
            "Epoch 00001: val_loss did not improve from 3.66434\n",
            "epoch  150\n",
            "1/1 [==============================] - 3s 3s/step - loss: 3.7611 - accuracy: 0.0625 - val_loss: 3.6729 - val_accuracy: 0.0590\n",
            "\n",
            "Epoch 00001: val_loss did not improve from 3.66434\n",
            "epoch  151\n",
            "1/1 [==============================] - 3s 3s/step - loss: 3.1749 - accuracy: 0.1875 - val_loss: 3.6646 - val_accuracy: 0.0590\n",
            "\n",
            "Epoch 00001: val_loss did not improve from 3.66434\n",
            "epoch  152\n",
            "1/1 [==============================] - 3s 3s/step - loss: 3.2972 - accuracy: 0.1250 - val_loss: 3.6748 - val_accuracy: 0.0550\n",
            "\n",
            "Epoch 00001: val_loss did not improve from 3.66434\n",
            "epoch  153\n",
            "1/1 [==============================] - 3s 3s/step - loss: 3.3039 - accuracy: 0.1562 - val_loss: 3.7192 - val_accuracy: 0.0470\n",
            "\n",
            "Epoch 00001: val_loss did not improve from 3.66434\n",
            "epoch  154\n",
            "1/1 [==============================] - 3s 3s/step - loss: 3.4388 - accuracy: 0.0938 - val_loss: 3.7328 - val_accuracy: 0.0500\n",
            "\n",
            "Epoch 00001: val_loss did not improve from 3.66434\n",
            "epoch  155\n",
            "1/1 [==============================] - 3s 3s/step - loss: 3.2231 - accuracy: 0.1250 - val_loss: 3.7273 - val_accuracy: 0.0450\n",
            "\n",
            "Epoch 00001: val_loss did not improve from 3.66434\n",
            "epoch  156\n",
            "1/1 [==============================] - 3s 3s/step - loss: 3.7736 - accuracy: 0.0625 - val_loss: 3.7079 - val_accuracy: 0.0500\n",
            "\n",
            "Epoch 00001: val_loss did not improve from 3.66434\n",
            "epoch  157\n",
            "1/1 [==============================] - 3s 3s/step - loss: 3.6211 - accuracy: 0.0938 - val_loss: 3.6804 - val_accuracy: 0.0500\n",
            "\n",
            "Epoch 00001: val_loss did not improve from 3.66434\n",
            "epoch  158\n",
            "1/1 [==============================] - 3s 3s/step - loss: 3.3557 - accuracy: 0.0938 - val_loss: 3.6727 - val_accuracy: 0.0480\n",
            "\n",
            "Epoch 00001: val_loss did not improve from 3.66434\n",
            "epoch  159\n",
            "1/1 [==============================] - 3s 3s/step - loss: 3.4773 - accuracy: 0.0625 - val_loss: 3.6688 - val_accuracy: 0.0470\n",
            "\n",
            "Epoch 00001: val_loss did not improve from 3.66434\n",
            "epoch  160\n",
            "1/1 [==============================] - 3s 3s/step - loss: 3.1272 - accuracy: 0.1250 - val_loss: 3.6739 - val_accuracy: 0.0430\n",
            "\n",
            "Epoch 00001: val_loss did not improve from 3.66434\n",
            "epoch  161\n",
            "1/1 [==============================] - 3s 3s/step - loss: 3.6871 - accuracy: 0.0625 - val_loss: 3.6859 - val_accuracy: 0.0490\n",
            "\n",
            "Epoch 00001: val_loss did not improve from 3.66434\n",
            "epoch  162\n",
            "1/1 [==============================] - 3s 3s/step - loss: 3.2143 - accuracy: 0.1875 - val_loss: 3.6989 - val_accuracy: 0.0440\n",
            "\n",
            "Epoch 00001: val_loss did not improve from 3.66434\n",
            "epoch  163\n",
            "1/1 [==============================] - 3s 3s/step - loss: 3.3277 - accuracy: 0.1250 - val_loss: 3.7147 - val_accuracy: 0.0460\n",
            "\n",
            "Epoch 00001: val_loss did not improve from 3.66434\n",
            "epoch  164\n",
            "1/1 [==============================] - 3s 3s/step - loss: 3.1987 - accuracy: 0.1875 - val_loss: 3.7250 - val_accuracy: 0.0480\n",
            "\n",
            "Epoch 00001: val_loss did not improve from 3.66434\n",
            "epoch  165\n",
            "1/1 [==============================] - 3s 3s/step - loss: 2.9996 - accuracy: 0.2188 - val_loss: 3.7292 - val_accuracy: 0.0450\n",
            "\n",
            "Epoch 00001: val_loss did not improve from 3.66434\n",
            "epoch  166\n",
            "1/1 [==============================] - 3s 3s/step - loss: 3.7485 - accuracy: 0.0625 - val_loss: 3.7123 - val_accuracy: 0.0420\n",
            "\n",
            "Epoch 00001: val_loss did not improve from 3.66434\n",
            "epoch  167\n",
            "1/1 [==============================] - 3s 3s/step - loss: 3.2071 - accuracy: 0.2188 - val_loss: 3.7233 - val_accuracy: 0.0490\n",
            "\n",
            "Epoch 00001: val_loss did not improve from 3.66434\n",
            "epoch  168\n",
            "1/1 [==============================] - 3s 3s/step - loss: 3.5140 - accuracy: 0.2188 - val_loss: 3.7491 - val_accuracy: 0.0480\n",
            "\n",
            "Epoch 00001: val_loss did not improve from 3.66434\n",
            "epoch  169\n",
            "1/1 [==============================] - 3s 3s/step - loss: 3.3402 - accuracy: 0.1250 - val_loss: 3.7452 - val_accuracy: 0.0470\n",
            "\n",
            "Epoch 00001: val_loss did not improve from 3.66434\n",
            "epoch  170\n",
            "1/1 [==============================] - 3s 3s/step - loss: 3.7513 - accuracy: 0.0625 - val_loss: 3.7161 - val_accuracy: 0.0500\n",
            "\n",
            "Epoch 00001: val_loss did not improve from 3.66434\n",
            "epoch  171\n",
            "1/1 [==============================] - 3s 3s/step - loss: 3.4151 - accuracy: 0.0938 - val_loss: 3.6975 - val_accuracy: 0.0480\n",
            "\n",
            "Epoch 00001: val_loss did not improve from 3.66434\n",
            "epoch  172\n",
            "1/1 [==============================] - 3s 3s/step - loss: 3.1104 - accuracy: 0.0938 - val_loss: 3.6998 - val_accuracy: 0.0420\n",
            "\n",
            "Epoch 00001: val_loss did not improve from 3.66434\n",
            "epoch  173\n",
            "1/1 [==============================] - 3s 3s/step - loss: 3.3953 - accuracy: 0.2188 - val_loss: 3.7013 - val_accuracy: 0.0390\n",
            "\n",
            "Epoch 00001: val_loss did not improve from 3.66434\n",
            "epoch  174\n",
            "1/1 [==============================] - 3s 3s/step - loss: 3.6639 - accuracy: 0.1250 - val_loss: 3.7051 - val_accuracy: 0.0410\n",
            "\n",
            "Epoch 00001: val_loss did not improve from 3.66434\n",
            "epoch  175\n",
            "1/1 [==============================] - 3s 3s/step - loss: 3.7477 - accuracy: 0.0625 - val_loss: 3.7024 - val_accuracy: 0.0420\n",
            "\n",
            "Epoch 00001: val_loss did not improve from 3.66434\n",
            "epoch  176\n",
            "1/1 [==============================] - 3s 3s/step - loss: 3.4151 - accuracy: 0.1250 - val_loss: 3.6955 - val_accuracy: 0.0460\n",
            "\n",
            "Epoch 00001: val_loss did not improve from 3.66434\n",
            "epoch  177\n",
            "1/1 [==============================] - 3s 3s/step - loss: 3.6084 - accuracy: 0.0625 - val_loss: 3.6841 - val_accuracy: 0.0540\n",
            "\n",
            "Epoch 00001: val_loss did not improve from 3.66434\n",
            "epoch  178\n",
            "1/1 [==============================] - 3s 3s/step - loss: 3.0835 - accuracy: 0.1875 - val_loss: 3.6851 - val_accuracy: 0.0620\n",
            "\n",
            "Epoch 00001: val_loss did not improve from 3.66434\n",
            "epoch  179\n",
            "1/1 [==============================] - 3s 3s/step - loss: 3.2316 - accuracy: 0.1250 - val_loss: 3.7019 - val_accuracy: 0.0590\n",
            "\n",
            "Epoch 00001: val_loss did not improve from 3.66434\n",
            "epoch  180\n",
            "1/1 [==============================] - 3s 3s/step - loss: 3.3493 - accuracy: 0.1562 - val_loss: 3.7273 - val_accuracy: 0.0510\n",
            "\n",
            "Epoch 00001: val_loss did not improve from 3.66434\n",
            "epoch  181\n",
            "1/1 [==============================] - 3s 3s/step - loss: 3.6226 - accuracy: 0.0625 - val_loss: 3.7283 - val_accuracy: 0.0410\n",
            "\n",
            "Epoch 00001: val_loss did not improve from 3.66434\n",
            "epoch  182\n",
            "1/1 [==============================] - 3s 3s/step - loss: 3.3187 - accuracy: 0.0938 - val_loss: 3.6949 - val_accuracy: 0.0440\n",
            "\n",
            "Epoch 00001: val_loss did not improve from 3.66434\n",
            "epoch  183\n",
            "1/1 [==============================] - 3s 3s/step - loss: 3.5308 - accuracy: 0.1250 - val_loss: 3.6616 - val_accuracy: 0.0410\n",
            "\n",
            "Epoch 00001: val_loss improved from 3.66434 to 3.66163, saving model to /content/classification_age_model.hdf5\n",
            "epoch  184\n",
            "1/1 [==============================] - 3s 3s/step - loss: 3.3893 - accuracy: 0.0938 - val_loss: 3.6464 - val_accuracy: 0.0460\n",
            "\n",
            "Epoch 00001: val_loss improved from 3.66163 to 3.64638, saving model to /content/classification_age_model.hdf5\n",
            "epoch  185\n",
            "1/1 [==============================] - 3s 3s/step - loss: 3.3853 - accuracy: 0.1562 - val_loss: 3.6496 - val_accuracy: 0.0440\n",
            "\n",
            "Epoch 00001: val_loss did not improve from 3.64638\n",
            "epoch  186\n",
            "1/1 [==============================] - 3s 3s/step - loss: 3.3873 - accuracy: 0.2188 - val_loss: 3.6586 - val_accuracy: 0.0510\n",
            "\n",
            "Epoch 00001: val_loss did not improve from 3.64638\n",
            "epoch  187\n",
            "1/1 [==============================] - 3s 3s/step - loss: 2.8232 - accuracy: 0.2812 - val_loss: 3.6722 - val_accuracy: 0.0390\n",
            "\n",
            "Epoch 00001: val_loss did not improve from 3.64638\n",
            "epoch  188\n",
            "1/1 [==============================] - 3s 3s/step - loss: 3.0739 - accuracy: 0.1562 - val_loss: 3.7012 - val_accuracy: 0.0400\n",
            "\n",
            "Epoch 00001: val_loss did not improve from 3.64638\n",
            "epoch  189\n",
            "1/1 [==============================] - 3s 3s/step - loss: 3.4576 - accuracy: 0.0938 - val_loss: 3.7319 - val_accuracy: 0.0400\n",
            "\n",
            "Epoch 00001: val_loss did not improve from 3.64638\n",
            "epoch  190\n",
            "1/1 [==============================] - 3s 3s/step - loss: 3.9195 - accuracy: 0.0000e+00 - val_loss: 3.7127 - val_accuracy: 0.0420\n",
            "\n",
            "Epoch 00001: val_loss did not improve from 3.64638\n",
            "epoch  191\n",
            "1/1 [==============================] - 3s 3s/step - loss: 3.3624 - accuracy: 0.0938 - val_loss: 3.6861 - val_accuracy: 0.0470\n",
            "\n",
            "Epoch 00001: val_loss did not improve from 3.64638\n",
            "epoch  192\n",
            "1/1 [==============================] - 3s 3s/step - loss: 2.8246 - accuracy: 0.2188 - val_loss: 3.6720 - val_accuracy: 0.0460\n",
            "\n",
            "Epoch 00001: val_loss did not improve from 3.64638\n",
            "epoch  193\n",
            "1/1 [==============================] - 3s 3s/step - loss: 3.1660 - accuracy: 0.1250 - val_loss: 3.6638 - val_accuracy: 0.0520\n",
            "\n",
            "Epoch 00001: val_loss did not improve from 3.64638\n",
            "epoch  194\n",
            "1/1 [==============================] - 3s 3s/step - loss: 3.5791 - accuracy: 0.1250 - val_loss: 3.6597 - val_accuracy: 0.0540\n",
            "\n",
            "Epoch 00001: val_loss did not improve from 3.64638\n",
            "epoch  195\n",
            "1/1 [==============================] - 3s 3s/step - loss: 3.6418 - accuracy: 0.1250 - val_loss: 3.6553 - val_accuracy: 0.0560\n",
            "\n",
            "Epoch 00001: val_loss did not improve from 3.64638\n",
            "epoch  196\n",
            "1/1 [==============================] - 3s 3s/step - loss: 3.1595 - accuracy: 0.1875 - val_loss: 3.6622 - val_accuracy: 0.0540\n",
            "\n",
            "Epoch 00001: val_loss did not improve from 3.64638\n",
            "epoch  197\n",
            "1/1 [==============================] - 3s 3s/step - loss: 2.8505 - accuracy: 0.3125 - val_loss: 3.6809 - val_accuracy: 0.0540\n",
            "\n",
            "Epoch 00001: val_loss did not improve from 3.64638\n",
            "epoch  198\n",
            "1/1 [==============================] - 3s 3s/step - loss: 3.4532 - accuracy: 0.1562 - val_loss: 3.7009 - val_accuracy: 0.0500\n",
            "\n",
            "Epoch 00001: val_loss did not improve from 3.64638\n",
            "epoch  199\n",
            "1/1 [==============================] - 3s 3s/step - loss: 3.0494 - accuracy: 0.1250 - val_loss: 3.7084 - val_accuracy: 0.0520\n",
            "\n",
            "Epoch 00001: val_loss did not improve from 3.64638\n",
            "epoch  200\n",
            "1/1 [==============================] - 3s 3s/step - loss: 3.2787 - accuracy: 0.1250 - val_loss: 3.7039 - val_accuracy: 0.0460\n",
            "\n",
            "Epoch 00001: val_loss did not improve from 3.64638\n",
            "epoch  201\n",
            "1/1 [==============================] - 3s 3s/step - loss: 3.3387 - accuracy: 0.1250 - val_loss: 3.6929 - val_accuracy: 0.0510\n",
            "\n",
            "Epoch 00001: val_loss did not improve from 3.64638\n",
            "epoch  202\n",
            "1/1 [==============================] - 3s 3s/step - loss: 3.7839 - accuracy: 0.0625 - val_loss: 3.7042 - val_accuracy: 0.0420\n",
            "\n",
            "Epoch 00001: val_loss did not improve from 3.64638\n",
            "epoch  203\n",
            "1/1 [==============================] - 3s 3s/step - loss: 2.8314 - accuracy: 0.3125 - val_loss: 3.7262 - val_accuracy: 0.0460\n",
            "\n",
            "Epoch 00001: val_loss did not improve from 3.64638\n",
            "epoch  204\n",
            "1/1 [==============================] - 3s 3s/step - loss: 3.1288 - accuracy: 0.1562 - val_loss: 3.7245 - val_accuracy: 0.0470\n",
            "\n",
            "Epoch 00001: val_loss did not improve from 3.64638\n",
            "epoch  205\n",
            "1/1 [==============================] - 3s 3s/step - loss: 3.2902 - accuracy: 0.1250 - val_loss: 3.7162 - val_accuracy: 0.0500\n",
            "\n",
            "Epoch 00001: val_loss did not improve from 3.64638\n",
            "epoch  206\n",
            "1/1 [==============================] - 3s 3s/step - loss: 3.7368 - accuracy: 0.0938 - val_loss: 3.6895 - val_accuracy: 0.0540\n",
            "\n",
            "Epoch 00001: val_loss did not improve from 3.64638\n",
            "epoch  207\n",
            "1/1 [==============================] - 3s 3s/step - loss: 3.0477 - accuracy: 0.1250 - val_loss: 3.6645 - val_accuracy: 0.0520\n",
            "\n",
            "Epoch 00001: val_loss did not improve from 3.64638\n",
            "epoch  208\n",
            "1/1 [==============================] - 3s 3s/step - loss: 3.0592 - accuracy: 0.0938 - val_loss: 3.6592 - val_accuracy: 0.0540\n",
            "\n",
            "Epoch 00001: val_loss did not improve from 3.64638\n",
            "epoch  209\n",
            "1/1 [==============================] - 3s 3s/step - loss: 3.1705 - accuracy: 0.2812 - val_loss: 3.6623 - val_accuracy: 0.0540\n",
            "\n",
            "Epoch 00001: val_loss did not improve from 3.64638\n",
            "epoch  210\n",
            "1/1 [==============================] - 3s 3s/step - loss: 3.1688 - accuracy: 0.1875 - val_loss: 3.6759 - val_accuracy: 0.0510\n",
            "\n",
            "Epoch 00001: val_loss did not improve from 3.64638\n",
            "epoch  211\n",
            "1/1 [==============================] - 3s 3s/step - loss: 3.7082 - accuracy: 0.0938 - val_loss: 3.6857 - val_accuracy: 0.0520\n",
            "\n",
            "Epoch 00001: val_loss did not improve from 3.64638\n",
            "epoch  212\n",
            "1/1 [==============================] - 3s 3s/step - loss: 3.7281 - accuracy: 0.0625 - val_loss: 3.6842 - val_accuracy: 0.0470\n",
            "\n",
            "Epoch 00001: val_loss did not improve from 3.64638\n",
            "epoch  213\n",
            "1/1 [==============================] - 3s 3s/step - loss: 3.3555 - accuracy: 0.0312 - val_loss: 3.6829 - val_accuracy: 0.0560\n",
            "\n",
            "Epoch 00001: val_loss did not improve from 3.64638\n",
            "epoch  214\n",
            "1/1 [==============================] - 3s 3s/step - loss: 3.5612 - accuracy: 0.1562 - val_loss: 3.6804 - val_accuracy: 0.0540\n",
            "\n",
            "Epoch 00001: val_loss did not improve from 3.64638\n",
            "epoch  215\n",
            "1/1 [==============================] - 3s 3s/step - loss: 3.5532 - accuracy: 0.0625 - val_loss: 3.6786 - val_accuracy: 0.0480\n",
            "\n",
            "Epoch 00001: val_loss did not improve from 3.64638\n",
            "epoch  216\n",
            "1/1 [==============================] - 3s 3s/step - loss: 3.3530 - accuracy: 0.1875 - val_loss: 3.6863 - val_accuracy: 0.0490\n",
            "\n",
            "Epoch 00001: val_loss did not improve from 3.64638\n",
            "epoch  217\n",
            "1/1 [==============================] - 3s 3s/step - loss: 3.4130 - accuracy: 0.1562 - val_loss: 3.6994 - val_accuracy: 0.0470\n",
            "\n",
            "Epoch 00001: val_loss did not improve from 3.64638\n",
            "epoch  218\n",
            "1/1 [==============================] - 3s 3s/step - loss: 3.3565 - accuracy: 0.0625 - val_loss: 3.6991 - val_accuracy: 0.0410\n",
            "\n",
            "Epoch 00001: val_loss did not improve from 3.64638\n",
            "epoch  219\n",
            "1/1 [==============================] - 3s 3s/step - loss: 3.1347 - accuracy: 0.2500 - val_loss: 3.6828 - val_accuracy: 0.0430\n",
            "\n",
            "Epoch 00001: val_loss did not improve from 3.64638\n",
            "epoch  220\n",
            "1/1 [==============================] - 3s 3s/step - loss: 3.3273 - accuracy: 0.0625 - val_loss: 3.6688 - val_accuracy: 0.0490\n",
            "\n",
            "Epoch 00001: val_loss did not improve from 3.64638\n",
            "epoch  221\n",
            "1/1 [==============================] - 3s 3s/step - loss: 3.2271 - accuracy: 0.1562 - val_loss: 3.6528 - val_accuracy: 0.0520\n",
            "\n",
            "Epoch 00001: val_loss did not improve from 3.64638\n",
            "epoch  222\n",
            "1/1 [==============================] - 3s 3s/step - loss: 3.1671 - accuracy: 0.0938 - val_loss: 3.6485 - val_accuracy: 0.0440\n",
            "\n",
            "Epoch 00001: val_loss did not improve from 3.64638\n",
            "epoch  223\n",
            "1/1 [==============================] - 3s 3s/step - loss: 3.1374 - accuracy: 0.2188 - val_loss: 3.6512 - val_accuracy: 0.0460\n",
            "\n",
            "Epoch 00001: val_loss did not improve from 3.64638\n",
            "epoch  224\n",
            "1/1 [==============================] - 3s 3s/step - loss: 3.2732 - accuracy: 0.1250 - val_loss: 3.6679 - val_accuracy: 0.0510\n",
            "\n",
            "Epoch 00001: val_loss did not improve from 3.64638\n",
            "epoch  225\n",
            "1/1 [==============================] - 3s 3s/step - loss: 2.9495 - accuracy: 0.1562 - val_loss: 3.6792 - val_accuracy: 0.0520\n",
            "\n",
            "Epoch 00001: val_loss did not improve from 3.64638\n",
            "epoch  226\n",
            "1/1 [==============================] - 3s 3s/step - loss: 3.1730 - accuracy: 0.1875 - val_loss: 3.6789 - val_accuracy: 0.0590\n",
            "\n",
            "Epoch 00001: val_loss did not improve from 3.64638\n",
            "epoch  227\n",
            "1/1 [==============================] - 3s 3s/step - loss: 3.2943 - accuracy: 0.1250 - val_loss: 3.6728 - val_accuracy: 0.0570\n",
            "\n",
            "Epoch 00001: val_loss did not improve from 3.64638\n",
            "epoch  228\n",
            "1/1 [==============================] - 3s 3s/step - loss: 3.0476 - accuracy: 0.2500 - val_loss: 3.6731 - val_accuracy: 0.0560\n",
            "\n",
            "Epoch 00001: val_loss did not improve from 3.64638\n",
            "epoch  229\n",
            "1/1 [==============================] - 3s 3s/step - loss: 3.1601 - accuracy: 0.0625 - val_loss: 3.6833 - val_accuracy: 0.0660\n",
            "\n",
            "Epoch 00001: val_loss did not improve from 3.64638\n",
            "epoch  230\n",
            "1/1 [==============================] - 3s 3s/step - loss: 3.1784 - accuracy: 0.1875 - val_loss: 3.6965 - val_accuracy: 0.0550\n",
            "\n",
            "Epoch 00001: val_loss did not improve from 3.64638\n",
            "epoch  231\n",
            "1/1 [==============================] - 3s 3s/step - loss: 3.0978 - accuracy: 0.1250 - val_loss: 3.7004 - val_accuracy: 0.0490\n",
            "\n",
            "Epoch 00001: val_loss did not improve from 3.64638\n",
            "epoch  232\n",
            "1/1 [==============================] - 3s 3s/step - loss: 3.2878 - accuracy: 0.2812 - val_loss: 3.6997 - val_accuracy: 0.0530\n",
            "\n",
            "Epoch 00001: val_loss did not improve from 3.64638\n",
            "epoch  233\n",
            "1/1 [==============================] - 3s 3s/step - loss: 2.9951 - accuracy: 0.2812 - val_loss: 3.6864 - val_accuracy: 0.0540\n",
            "\n",
            "Epoch 00001: val_loss did not improve from 3.64638\n",
            "epoch  234\n",
            "1/1 [==============================] - 3s 3s/step - loss: 3.3258 - accuracy: 0.2188 - val_loss: 3.6688 - val_accuracy: 0.0550\n",
            "\n",
            "Epoch 00001: val_loss did not improve from 3.64638\n",
            "epoch  235\n",
            "1/1 [==============================] - 3s 3s/step - loss: 3.3006 - accuracy: 0.1562 - val_loss: 3.6605 - val_accuracy: 0.0580\n",
            "\n",
            "Epoch 00001: val_loss did not improve from 3.64638\n",
            "epoch  236\n",
            "1/1 [==============================] - 3s 3s/step - loss: 3.5062 - accuracy: 0.1875 - val_loss: 3.6580 - val_accuracy: 0.0540\n",
            "\n",
            "Epoch 00001: val_loss did not improve from 3.64638\n",
            "epoch  237\n",
            "1/1 [==============================] - 3s 3s/step - loss: 3.2268 - accuracy: 0.2500 - val_loss: 3.6622 - val_accuracy: 0.0520\n",
            "\n",
            "Epoch 00001: val_loss did not improve from 3.64638\n",
            "epoch  238\n",
            "1/1 [==============================] - 3s 3s/step - loss: 3.4111 - accuracy: 0.1250 - val_loss: 3.6694 - val_accuracy: 0.0570\n",
            "\n",
            "Epoch 00001: val_loss did not improve from 3.64638\n",
            "epoch  239\n",
            "1/1 [==============================] - 3s 3s/step - loss: 3.4229 - accuracy: 0.1250 - val_loss: 3.6862 - val_accuracy: 0.0670\n",
            "\n",
            "Epoch 00001: val_loss did not improve from 3.64638\n",
            "epoch  240\n",
            "1/1 [==============================] - 3s 3s/step - loss: 2.7977 - accuracy: 0.2188 - val_loss: 3.7122 - val_accuracy: 0.0670\n",
            "\n",
            "Epoch 00001: val_loss did not improve from 3.64638\n",
            "epoch  241\n",
            "1/1 [==============================] - 3s 3s/step - loss: 3.3401 - accuracy: 0.1875 - val_loss: 3.7302 - val_accuracy: 0.0590\n",
            "\n",
            "Epoch 00001: val_loss did not improve from 3.64638\n",
            "epoch  242\n",
            "1/1 [==============================] - 3s 3s/step - loss: 3.0017 - accuracy: 0.2188 - val_loss: 3.7212 - val_accuracy: 0.0650\n",
            "\n",
            "Epoch 00001: val_loss did not improve from 3.64638\n",
            "epoch  243\n",
            "1/1 [==============================] - 3s 3s/step - loss: 3.2618 - accuracy: 0.0625 - val_loss: 3.6803 - val_accuracy: 0.0620\n",
            "\n",
            "Epoch 00001: val_loss did not improve from 3.64638\n",
            "epoch  244\n",
            "1/1 [==============================] - 3s 3s/step - loss: 3.2179 - accuracy: 0.0938 - val_loss: 3.6548 - val_accuracy: 0.0610\n",
            "\n",
            "Epoch 00001: val_loss did not improve from 3.64638\n",
            "epoch  245\n",
            "1/1 [==============================] - 3s 3s/step - loss: 2.8636 - accuracy: 0.2812 - val_loss: 3.6483 - val_accuracy: 0.0630\n",
            "\n",
            "Epoch 00001: val_loss did not improve from 3.64638\n",
            "epoch  246\n",
            "1/1 [==============================] - 3s 3s/step - loss: 3.4264 - accuracy: 0.0938 - val_loss: 3.6578 - val_accuracy: 0.0600\n",
            "\n",
            "Epoch 00001: val_loss did not improve from 3.64638\n",
            "epoch  247\n",
            "1/1 [==============================] - 3s 3s/step - loss: 3.1531 - accuracy: 0.1250 - val_loss: 3.6724 - val_accuracy: 0.0610\n",
            "\n",
            "Epoch 00001: val_loss did not improve from 3.64638\n",
            "epoch  248\n",
            "1/1 [==============================] - 3s 3s/step - loss: 2.6871 - accuracy: 0.2812 - val_loss: 3.6787 - val_accuracy: 0.0550\n",
            "\n",
            "Epoch 00001: val_loss did not improve from 3.64638\n",
            "epoch  249\n",
            "1/1 [==============================] - 3s 3s/step - loss: 3.1991 - accuracy: 0.2188 - val_loss: 3.6868 - val_accuracy: 0.0540\n",
            "\n",
            "Epoch 00001: val_loss did not improve from 3.64638\n"
          ],
          "name": "stdout"
        }
      ]
    },
    {
      "cell_type": "code",
      "metadata": {
        "id": "o1ST7dLGs8u2",
        "colab": {
          "base_uri": "https://localhost:8080/",
          "height": 265
        },
        "outputId": "afe205e2-3b91-4e68-fe9f-8cccc2385569"
      },
      "source": [
        "val_loss_change = []; loss_change = []\n",
        "for i in range(0, len(scores)):\n",
        "    val_loss_change.append(scores[i].history['val_loss'])\n",
        "    loss_change.append(scores[i].history['loss'])\n",
        "\n",
        "plt.plot(val_loss_change, label='val_loss')\n",
        "plt.plot(loss_change, label='train_loss')\n",
        "plt.legend(loc='upper right')\n",
        "plt.show()"
      ],
      "execution_count": 31,
      "outputs": [
        {
          "output_type": "display_data",
          "data": {
            "image/png": "[encoded data removed]",
            "text/plain": [
              "<Figure size 432x288 with 1 Axes>"
            ]
          },
          "metadata": {
            "tags": [],
            "needs_background": "light"
          }
        }
      ]
    },
    {
      "cell_type": "code",
      "metadata": {
        "id": "TX1CciYUs8xr",
        "colab": {
          "base_uri": "https://localhost:8080/"
        },
        "outputId": "bef064f5-321e-4e4e-b798-2afb88914f16"
      },
      "source": [
        "#loss and accuracy on validation set\n",
        "age_model.evaluate(test_x, test_y, verbose=1)"
      ],
      "execution_count": 32,
      "outputs": [
        {
          "output_type": "stream",
          "text": [
            "32/32 [==============================] - 4s 98ms/step - loss: 3.6464 - accuracy: 0.0460\n"
          ],
          "name": "stdout"
        },
        {
          "output_type": "execute_result",
          "data": {
            "text/plain": [
              "[3.646380662918091, 0.04600000008940697]"
            ]
          },
          "metadata": {
            "tags": []
          },
          "execution_count": 32
        }
      ]
    },
    {
      "cell_type": "code",
      "metadata": {
        "id": "qOGpFQpMzh0M"
      },
      "source": [
        "predictions = age_model.predict(test_x)"
      ],
      "execution_count": 33,
      "outputs": []
    },
    {
      "cell_type": "code",
      "metadata": {
        "id": "xSy0Dpr_0Ad4"
      },
      "source": [
        "output_indexes = np.array([i for i in range(0, 101)])\n",
        "apparent_predictions = np.sum(predictions * output_indexes, axis = 1)"
      ],
      "execution_count": 34,
      "outputs": []
    },
    {
      "cell_type": "code",
      "metadata": {
        "id": "FDI0JixjziFR",
        "colab": {
          "base_uri": "https://localhost:8080/"
        },
        "outputId": "2f10b9dc-07ba-4dcf-917d-31604fe4d1e4"
      },
      "source": [
        "mae = 0\n",
        "for i in range(0 ,apparent_predictions.shape[0]):\n",
        "    prediction = int(apparent_predictions[i])\n",
        "    actual = np.argmax(test_y[i])\n",
        "    \n",
        "    abs_error = abs(prediction - actual)\n",
        "    # actual_mean = actual_mean + actual\n",
        "    \n",
        "    mae = mae + abs_error\n",
        "    \n",
        "    mae = mae / apparent_predictions.shape[0]\n",
        "\n",
        "print(\"mae: \",mae)\n",
        "print(\"instances: \",apparent_predictions.shape[0])"
      ],
      "execution_count": 35,
      "outputs": [
        {
          "output_type": "stream",
          "text": [
            "mae:  0.004009012001005014\n",
            "instances:  1000\n"
          ],
          "name": "stdout"
        }
      ]
    },
    {
      "cell_type": "code",
      "metadata": {
        "id": "beVTwtyJvvWN"
      },
      "source": [
        "#Testing model on a custom image"
      ],
      "execution_count": 36,
      "outputs": []
    },
    {
      "cell_type": "code",
      "metadata": {
        "id": "6b42oSSGzn3j"
      },
      "source": [
        "\n",
        "from keras.preprocessing import image\n",
        "from keras.preprocessing.image import ImageDataGenerator"
      ],
      "execution_count": 37,
      "outputs": []
    },
    {
      "cell_type": "code",
      "metadata": {
        "id": "N5xYEDfKzoBG"
      },
      "source": [
        "def loadImage(filepath):\n",
        "    test_img = image.load_img(filepath, target_size=(224, 224))\n",
        "    test_img = image.img_to_array(test_img)\n",
        "    test_img = np.expand_dims(test_img, axis = 0)\n",
        "    test_img /= 255\n",
        "    return test_img"
      ],
      "execution_count": 38,
      "outputs": []
    },
    {
      "cell_type": "code",
      "metadata": {
        "id": "PDWh6D0dzoIp"
      },
      "source": [
        "picture = \"/content/drive/MyDrive/YOUNGER/face_old.jpeg\"\n",
        "#picture = \"brando.jpg\"\n",
        "#picture = \"katy-3.jpg\"\n",
        "\n",
        "prediction = age_model.predict(loadImage(picture))"
      ],
      "execution_count": 39,
      "outputs": []
    },
    {
      "cell_type": "code",
      "metadata": {
        "id": "cL2J7J2dzvWx",
        "colab": {
          "base_uri": "https://localhost:8080/",
          "height": 281
        },
        "outputId": "cd790b04-6fbb-4598-b153-f06406375dd4"
      },
      "source": [
        "\n",
        "y_pos = np.arange(101)\n",
        "plt.bar(y_pos, prediction[0], align='center', alpha=0.3)\n",
        "plt.ylabel('percentage')\n",
        "plt.title('age')\n",
        "plt.show()"
      ],
      "execution_count": 40,
      "outputs": [
        {
          "output_type": "display_data",
          "data": {
            "image/png": "[encoded data removed]",
            "text/plain": [
              "<Figure size 432x288 with 1 Axes>"
            ]
          },
          "metadata": {
            "tags": [],
            "needs_background": "light"
          }
        }
      ]
    },
    {
      "cell_type": "code",
      "metadata": {
        "id": "Cp0kgrIrzwUI",
        "colab": {
          "base_uri": "https://localhost:8080/",
          "height": 302
        },
        "outputId": "11791e2d-7071-4f94-f990-55d3383c4e73"
      },
      "source": [
        "img = image.load_img(picture)#, target_size=(224, 224))\n",
        "plt.imshow(img)\n",
        "plt.show()\n",
        "\n",
        "print(\"most dominant age class (not apparent age): \",np.argmax(prediction))\n",
        "\n",
        "apparent_age = np.round(np.sum(prediction * output_indexes, axis = 1))\n",
        "print(\"apparent age: \", int(apparent_age[0]))"
      ],
      "execution_count": 43,
      "outputs": [
        {
          "output_type": "display_data",
          "data": {
            "image/png": "[encoded data removed]",
            "text/plain": [
              "<Figure size 432x288 with 1 Axes>"
            ]
          },
          "metadata": {
            "tags": [],
            "needs_background": "light"
          }
        },
        {
          "output_type": "stream",
          "text": [
            "most dominant age class (not apparent age):  66\n",
            "apparent age:  60\n"
          ],
          "name": "stdout"
        }
      ]
    },
    {
      "cell_type": "markdown",
      "metadata": {
        "id": "59zPf1yCWAGC"
      },
      "source": [
        "**NOTE: The numpy array of the image data is 2.53 GB compressed. **\n",
        "\n",
        "**This is a logical break point in the process as we have exported matrix_x, the array of pixel data and the related target vector, age.**\n",
        "\n",
        "'matrix_x' is the array of the vectors of image pixel data.\n",
        "\n",
        "'vector_y' is the array of ages."
      ]
    },
    {
      "cell_type": "markdown",
      "metadata": {
        "id": "fQ81AKygb2mB"
      },
      "source": [
        "---\n",
        "\n",
        "## **IMAGE EXPLORATION**\n",
        "\n",
        "---"
      ]
    },
    {
      "cell_type": "markdown",
      "metadata": {
        "id": "FQJjfxDUkLfU"
      },
      "source": [
        "\n",
        "\n",
        "---\n",
        "\n",
        "\n",
        "# **SUMMARY**\n",
        "\n",
        "\n",
        "---\n",
        "Thus far, we have completed the Data Wrangling and Data Exploration phase of this project. We have downloaded, inspected and cleaned the metadata and the images dataset. We have looked at distributions and noticed some imbalanced classes which will need to be addressed. \n",
        "\n",
        "We have exported 2 objects that will persist to the next phase of the project: 'matrix_x' and 'vector_y'. \n",
        "\n",
        "'matrix_x' is an array of the grayscale pixel information extracted from our images. \n",
        "\n",
        "'vector_y' is an array of the ages of each observation, which is our target variable.\n",
        "\n",
        "We also examined the concept of an 'average face' from the images in our dataset. More to come in the next phases, preprocessing & training.\n"
      ]
    },
    {
      "cell_type": "markdown",
      "metadata": {
        "id": "UhDT3ZLzzWxs"
      },
      "source": [
        "# **REFERENCES**\n"
      ]
    },
    {
      "cell_type": "markdown",
      "metadata": {
        "id": "ntycdHWdR2uJ"
      },
      "source": [
        "1.   https://data.vision.ee.ethz.ch/cvl/rrothe/imdb-wiki/ \n",
        "2.   https://data.vision.ee.ethz.ch/cvl/publications/papers/proceedings/eth_biwi_01229.pdf\n",
        "3. https://sefiks.com/2019/02/13/apparent-age-and-gender-prediction-in-keras/ \n",
        "4. https://www.researchgate.net/publication/265125544_Face_Detection_without_Bells_and_Whistles\n",
        "5. https://github.com/yu4u/age-gender-estimation\n",
        "\n",
        "---"
      ]
    }
  ]
}