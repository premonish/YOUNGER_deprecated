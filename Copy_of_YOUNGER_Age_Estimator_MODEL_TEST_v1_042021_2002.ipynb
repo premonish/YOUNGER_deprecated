{
  "nbformat": 4,
  "nbformat_minor": 0,
  "metadata": {
    "colab": {
      "name": "Copy of YOUNGER_Age_Estimator_MODEL_TEST_v1_042021_2002",
      "provenance": [],
      "collapsed_sections": [],
      "machine_shape": "hm",
      "include_colab_link": true
    },
    "kernelspec": {
      "display_name": "Python 3",
      "language": "python",
      "name": "python3"
    },
    "language_info": {
      "codemirror_mode": {
        "name": "ipython",
        "version": 3
      },
      "file_extension": ".py",
      "mimetype": "text/x-python",
      "name": "python",
      "nbconvert_exporter": "python",
      "pygments_lexer": "ipython3",
      "version": "3.7.6"
    },
    "accelerator": "GPU"
  },
  "cells": [
    {
      "cell_type": "markdown",
      "metadata": {
        "id": "view-in-github",
        "colab_type": "text"
      },
      "source": [
        "<a href=\"https://colab.research.google.com/github/premonish/YOUNGER_deprecated/blob/main/Copy_of_YOUNGER_Age_Estimator_MODEL_TEST_v1_042021_2002.ipynb\" target=\"_parent\"><img src=\"https://colab.research.google.com/assets/colab-badge.svg\" alt=\"Open In Colab\"/></a>"
      ]
    },
    {
      "cell_type": "markdown",
      "metadata": {
        "id": "5NdHFhDErTM4"
      },
      "source": [
        "# **YOUNGER - Age Estimator**"
      ]
    },
    {
      "cell_type": "markdown",
      "metadata": {
        "id": "nAuKSR5HuQCy"
      },
      "source": [
        "# **I. PROBLEM IDENTIFICATION**"
      ]
    },
    {
      "cell_type": "markdown",
      "metadata": {
        "id": "bu0ZzPKHreQo"
      },
      "source": [
        "## A. Introduction"
      ]
    },
    {
      "cell_type": "markdown",
      "metadata": {
        "id": "dxTSoNsp1Gqz"
      },
      "source": [
        "**CONTEXT:** \"Babyface\" a startup skincare company wants to build an app that can estimate a person’s age from an image. They need an app to create an age estimate within about 5 years of their real age. The primary problem to solve is: When given a photo of a face, estimate the age with reasonable accuracy. Babyface will eventually use this to create \"before & after\" age estimates to demonstrate the benefits of their skin products.\n",
        "\n",
        "**[INPUT] → [OUTPUT]**\n",
        "\n",
        "**[Photo of a face] → [Age estimate]**"
      ]
    },
    {
      "cell_type": "markdown",
      "metadata": {
        "id": "WtcERHZA0f1-"
      },
      "source": [
        "## B. Proposed Method"
      ]
    },
    {
      "cell_type": "markdown",
      "metadata": {
        "id": "bbPmAo_a1Rb1"
      },
      "source": [
        "**i. The techniques** to explore are a combination of **Support Vector Machines, Decision Trees, K Nearest Neighbor, and Convolutional Neural Network (CNN)** (for feature detection)."
      ]
    },
    {
      "cell_type": "markdown",
      "metadata": {
        "id": "RWsAxEOS3j9-"
      },
      "source": [
        "**ii. Process Overview**\n",
        "\n",
        "1. DATA WRANGLING - Source Data, Download Data, Inspect Data, Clean Data\n",
        "2. EXPLORATORY DATA ANALYSIS - Statistical EDA, Visual EDA\n",
        "3. PREPROCESSING - Face Detection, Crop Images, Augmentation, Class Balancing\n",
        "4. TRAINING - Feature Extraction\n",
        "5. MODELING - Prediction, Hyperparameter Tuning"
      ]
    },
    {
      "cell_type": "markdown",
      "metadata": {
        "id": "Z_MaOw6FvBd8"
      },
      "source": [
        "# **II. DATA WRANGLING**"
      ]
    },
    {
      "cell_type": "markdown",
      "metadata": {
        "id": "dy1UfWrAtL-l"
      },
      "source": [
        "**DATASET:** Researchers from ETH Zurich University have created a labeled dataset used to successfully predicting age and gender from face images.\n",
        "The image dataset consists of human faces with associated ages. \n",
        "\n",
        "\"In total we obtained 460,723 face images from 20,284 celebrities from IMDb and 62,328 from Wikipedia, thus 523,051 in total.\"\n",
        "\n",
        "[IMDB-WIKI – 500k+ face images with age and gender labels\n",
        "Rasmus Rothe, Radu Timofte, Luc Van Gool](https://data.vision.ee.ethz.ch/cvl/rrothe/imdb-wiki/)\n"
      ]
    },
    {
      "cell_type": "markdown",
      "metadata": {
        "id": "s9lm5UwHePLz"
      },
      "source": [
        "**DETAILS:** The dataset that we will use for our age predictor was created by Rasmus Rothe, Radu Timofte, Luc Van Gool in combination with a competition \"ChaLearn LAP 2015\" dataset. This dataset was scraped from IMDb and Wikipedia. The dataset is labeled with date-of-birth (DOB) and gender and includes only images with timestamps, indicating when the image was captured. The age of the person in the image can be obtained by simply subtracting the person's date of birth from the timestamp (picture taken date). It is important to note that some of the IMDb dataset images are \"production photos\" like movie posters and the timestamps may not be precise, since movie production cycles can be months long.\n",
        "\n",
        "**APPROACH:** *Source, Download, Inspect, Clean:* Since we have sourced an image dataset, we will proceed by downloading the dataset and exploring the images and metadata to understand the attirbutes of the data and any constraints or missing information. The ages can be calculated from the subjects' date of birth and the related photo taken date. We will then clean our dataset as needed and distill the dataset down to the essential features useful for feature extraction."
      ]
    },
    {
      "cell_type": "code",
      "metadata": {
        "id": "KoFpJkXPKJV4"
      },
      "source": [
        "# !pip install tensorflow"
      ],
      "execution_count": 1,
      "outputs": []
    },
    {
      "cell_type": "markdown",
      "metadata": {
        "id": "b0T5efW7dih1"
      },
      "source": [
        "**Why Google Colab?**\n",
        "\n",
        "Google Colab was chosen as we intend to use a deep learning convolutional neural network (CNN) for training and modeling as CNNs excel for image classification projects. Google Colab provides free access to GPUs that will expedite training immensely. The platform is also very handy for live team collaboration in a Google Docs/Sheets style."
      ]
    },
    {
      "cell_type": "code",
      "metadata": {
        "id": "paCb6SdG9lPb"
      },
      "source": [
        "# Creating a list of currently installed python libraries for posterity\n",
        "# !pip freeze > requirements.txt"
      ],
      "execution_count": 2,
      "outputs": []
    },
    {
      "cell_type": "code",
      "metadata": {
        "id": "t6lsfcB9EpWm"
      },
      "source": [
        "### IMPORT libraries and packages ###\n",
        "### I get by with a little help from my friends ###\n",
        "import os\n",
        "from pathlib import Path\n",
        "import pandas as pd\n",
        "import matplotlib.pyplot as plt\n",
        "import seaborn as sns\n",
        "import numpy as np\n",
        "import PIL\n",
        "from PIL import Image\n",
        "import requests\n",
        "import scipy.io\n",
        "import random\n",
        "from datetime import datetime, date, time, timedelta\n",
        "\n",
        "import tensorflow as tf\n",
        "from tensorflow import keras\n",
        "from keras.preprocessing import image\n",
        "from keras.applications.resnet import preprocess_input"
      ],
      "execution_count": 3,
      "outputs": []
    },
    {
      "cell_type": "markdown",
      "metadata": {
        "id": "aaUSvPGN-Gkp"
      },
      "source": [
        "**COLAB/ Google Drive**\n",
        "\n",
        "We have uploaded our dataset to Google Drive for easy access in the Google Colab environment. To access Google Drive, we must mount the drive."
      ]
    },
    {
      "cell_type": "code",
      "metadata": {
        "colab": {
          "base_uri": "https://localhost:8080/"
        },
        "id": "8y2HbkGJMwo5",
        "outputId": "6fa4a9f4-552d-4ad8-8756-2a4a9a66a9a9"
      },
      "source": [
        "# mount GDrive where the dataset is stored\n",
        "from google.colab import drive\n",
        "drive.mount('/content/drive')"
      ],
      "execution_count": 4,
      "outputs": [
        {
          "output_type": "stream",
          "text": [
            "Drive already mounted at /content/drive; to attempt to forcibly remount, call drive.mount(\"/content/drive\", force_remount=True).\n"
          ],
          "name": "stdout"
        }
      ]
    },
    {
      "cell_type": "code",
      "metadata": {
        "colab": {
          "base_uri": "https://localhost:8080/",
          "height": 262
        },
        "id": "RCRKFevoK3OR",
        "outputId": "419a0876-5287-4b64-f200-f25aa70a4f9c"
      },
      "source": [
        "### VIEW A RANDOM IMAGE FROM DATASET ###\n",
        "# loc = 'C:/Users/Prem/Desktop/SPRINGBOARD_MASTER/YOUNGER/Data/wiki_crop_subset/81800_1986-06-13_2011.jpg'\n",
        "directory = '/content/drive/MyDrive/YOUNGER/wiki_crop/01'\n",
        "dir_list = []\n",
        "for filename in os.listdir(directory):\n",
        "    if filename.endswith(\".jpg\"):\n",
        "        dir_list.append(os.path.join(directory, filename))\n",
        "\n",
        "random_number = random.randint(0,len(dir_list))\n",
        "random_image = Image.open(dir_list[random_number]) \n",
        "random_image"
      ],
      "execution_count": 5,
      "outputs": [
        {
          "output_type": "execute_result",
          "data": {
            "image/png": "[encoded data removed]",
            "text/plain": [
              "<PIL.JpegImagePlugin.JpegImageFile image mode=RGB size=245x245 at 0x7F25B775AD50>"
            ]
          },
          "metadata": {
            "tags": []
          },
          "execution_count": 5
        }
      ]
    },
    {
      "cell_type": "markdown",
      "metadata": {
        "id": "SfAtcfuBfzBC"
      },
      "source": [
        "**Metadata Inspection** \n",
        "\n",
        "Next, we will inspect the metadata to understand the dataset. We will focus on the Wikipedia dataset."
      ]
    },
    {
      "cell_type": "code",
      "metadata": {
        "id": "yFaSBYTBMiOb",
        "colab": {
          "base_uri": "https://localhost:8080/"
        },
        "outputId": "a752582c-411b-4b4c-f8ef-596d964e33a9"
      },
      "source": [
        "### LOAD METADATA FILE ###\n",
        "# wiki_mat_path = 'C:/Users/Prem/Desktop/SPRINGBOARD_MASTER/YOUNGER/Data/WIKI_CROP/wiki.mat'\n",
        "wiki_mat_path = '/content/drive/MyDrive/YOUNGER/wiki.mat' # COLAB\n",
        "\n",
        "# load .mat as python dict\n",
        "mat = scipy.io.loadmat(wiki_mat_path)\n",
        "\n",
        "# Metadata Keys #\n",
        "print(mat.keys())"
      ],
      "execution_count": 6,
      "outputs": [
        {
          "output_type": "stream",
          "text": [
            "dict_keys(['__header__', '__version__', '__globals__', 'wiki'])\n"
          ],
          "name": "stdout"
        }
      ]
    },
    {
      "cell_type": "code",
      "metadata": {
        "colab": {
          "base_uri": "https://localhost:8080/"
        },
        "id": "wteiQ-_u1zQY",
        "outputId": "f6ed25e5-857f-4d39-a721-9d679d4a630c"
      },
      "source": [
        "### INSPECT METADATA STRUCTURE ###\n",
        "print(mat['wiki'][0][0])"
      ],
      "execution_count": 7,
      "outputs": [
        {
          "output_type": "stream",
          "text": [
            "(array([[723671, 703186, 711677, ..., 720620, 723893, 713846]], dtype=int32), array([[2009, 1964, 2008, ..., 2013, 2011, 2008]], dtype=uint16), array([[array(['17/10000217_1981-05-05_2009.jpg'], dtype='<U31'),\n",
            "        array(['48/10000548_1925-04-04_1964.jpg'], dtype='<U31'),\n",
            "        array(['12/100012_1948-07-03_2008.jpg'], dtype='<U29'), ...,\n",
            "        array(['09/9998109_1972-12-27_2013.jpg'], dtype='<U30'),\n",
            "        array(['00/9999400_1981-12-13_2011.jpg'], dtype='<U30'),\n",
            "        array(['80/999980_1954-06-11_2008.jpg'], dtype='<U29')]],\n",
            "      dtype=object), array([[1., 1., 1., ..., 1., 1., 0.]]), array([[array(['Sami Jauhojärvi'], dtype='<U15'),\n",
            "        array(['Dettmar Cramer'], dtype='<U14'),\n",
            "        array(['Marc Okrand'], dtype='<U11'), ...,\n",
            "        array(['Michael Wiesinger'], dtype='<U17'),\n",
            "        array(['Johann Grugger'], dtype='<U14'),\n",
            "        array(['Greta Van Susteren'], dtype='<U18')]], dtype=object), array([[array([[111.29109473, 111.29109473, 252.66993082, 252.66993082]]),\n",
            "        array([[252.4833023 , 126.68165115, 354.53192596, 228.73027481]]),\n",
            "        array([[113.52, 169.84, 366.08, 422.4 ]]), ...,\n",
            "        array([[169.88839786,  74.31669472, 235.2534231 , 139.68171997]]),\n",
            "        array([[1, 1, 1, 1]], dtype=uint8),\n",
            "        array([[ 92.72633235,  62.0435549 , 230.12083087, 199.43805342]])]],\n",
            "      dtype=object), array([[4.30096239, 2.6456395 , 4.32932883, ..., 3.49430317,       -inf,\n",
            "        5.48691655]]), array([[       nan, 1.94924791,        nan, ...,        nan,        nan,\n",
            "               nan]]))\n"
          ],
          "name": "stdout"
        }
      ]
    },
    {
      "cell_type": "markdown",
      "metadata": {
        "id": "pPuvrssinSIh"
      },
      "source": [
        "**MATLAB to pandas DataFrame**\n",
        "\n",
        "Next, we will transform the data from the '.mat' MATLAB nested structure into an easier-to-read pandas DataFrame with a familiar table format.\n"
      ]
    },
    {
      "cell_type": "code",
      "metadata": {
        "id": "fVEG2Py1UES7",
        "colab": {
          "base_uri": "https://localhost:8080/",
          "height": 279
        },
        "outputId": "7ea3e0cb-ed7f-4ca9-b621-1e88621f1a72"
      },
      "source": [
        "### CREATE DATAFRAME FROM METADATA ###\n",
        "# Assign the length of the array to 'num_of_observations'\n",
        "num_of_observations = mat['wiki'][0][0][0].shape[1]\n",
        "columns = [\"dob\", \"photo_taken\", \"full_path\", \"gender\", \"name\", \"face_location\", \"face_score\", \"second_face_score\"]\n",
        "\n",
        "# Create pandas dataframe as tall as 'num_of_observations' with column headers from metadata\n",
        "df = pd.DataFrame(index = range(0, num_of_observations), columns = columns)\n",
        "\n",
        "# Iterate through the 'wiki' header of the metadata\n",
        "for i in mat:\n",
        "  if i == \"wiki\":\n",
        "    wiki_array = mat[i][0][0]               # Dig two layers deep into the dict structure and assign to 'wiki_array'\n",
        "    for b in range(len(wiki_array)):        \n",
        "      df[columns[b]] = pd.DataFrame(wiki_array[b][0]) # Create a pandas DataFrame for each nested value and assign to respective df[columns]\n",
        "\n",
        "df.sample(5)"
      ],
      "execution_count": 8,
      "outputs": [
        {
          "output_type": "execute_result",
          "data": {
            "text/html": [
              "<div>\n",
              "<style scoped>\n",
              "    .dataframe tbody tr th:only-of-type {\n",
              "        vertical-align: middle;\n",
              "    }\n",
              "\n",
              "    .dataframe tbody tr th {\n",
              "        vertical-align: top;\n",
              "    }\n",
              "\n",
              "    .dataframe thead th {\n",
              "        text-align: right;\n",
              "    }\n",
              "</style>\n",
              "<table border=\"1\" class=\"dataframe\">\n",
              "  <thead>\n",
              "    <tr style=\"text-align: right;\">\n",
              "      <th></th>\n",
              "      <th>dob</th>\n",
              "      <th>photo_taken</th>\n",
              "      <th>full_path</th>\n",
              "      <th>gender</th>\n",
              "      <th>name</th>\n",
              "      <th>face_location</th>\n",
              "      <th>face_score</th>\n",
              "      <th>second_face_score</th>\n",
              "    </tr>\n",
              "  </thead>\n",
              "  <tbody>\n",
              "    <tr>\n",
              "      <th>31746</th>\n",
              "      <td>726542</td>\n",
              "      <td>2012</td>\n",
              "      <td>[07/4050107_1989-03-15_2012.jpg]</td>\n",
              "      <td>1.0</td>\n",
              "      <td>[Sam Baldock]</td>\n",
              "      <td>[[239.92925783938324, 74.51669471981023, 321.6...</td>\n",
              "      <td>2.660542</td>\n",
              "      <td>NaN</td>\n",
              "    </tr>\n",
              "    <tr>\n",
              "      <th>25727</th>\n",
              "      <td>723741</td>\n",
              "      <td>2012</td>\n",
              "      <td>[88/21421788_1981-07-14_2012.jpg]</td>\n",
              "      <td>1.0</td>\n",
              "      <td>[Milow]</td>\n",
              "      <td>[[211.61390767954595, 96.0510058550327, 256.24...</td>\n",
              "      <td>1.814427</td>\n",
              "      <td>NaN</td>\n",
              "    </tr>\n",
              "    <tr>\n",
              "      <th>29025</th>\n",
              "      <td>724298</td>\n",
              "      <td>1980</td>\n",
              "      <td>[86/16476886_1983-01-22_1980.jpg]</td>\n",
              "      <td>1.0</td>\n",
              "      <td>[Chris St. Jacques]</td>\n",
              "      <td>[[1, 1, 47, 100]]</td>\n",
              "      <td>-inf</td>\n",
              "      <td>NaN</td>\n",
              "    </tr>\n",
              "    <tr>\n",
              "      <th>58338</th>\n",
              "      <td>721786</td>\n",
              "      <td>2011</td>\n",
              "      <td>[65/7298965_1976-03-07_2011.jpg]</td>\n",
              "      <td>0.0</td>\n",
              "      <td>[Chelsea Charms]</td>\n",
              "      <td>[[136.69513317259904, 76.33285176255502, 271.6...</td>\n",
              "      <td>3.566882</td>\n",
              "      <td>NaN</td>\n",
              "    </tr>\n",
              "    <tr>\n",
              "      <th>22058</th>\n",
              "      <td>707903</td>\n",
              "      <td>1963</td>\n",
              "      <td>[41/1537841_1938-03-04_1963.jpg]</td>\n",
              "      <td>0.0</td>\n",
              "      <td>[Paula Prentiss]</td>\n",
              "      <td>[[158.52525425005896, 79.70262712502948, 275.8...</td>\n",
              "      <td>3.553301</td>\n",
              "      <td>NaN</td>\n",
              "    </tr>\n",
              "  </tbody>\n",
              "</table>\n",
              "</div>"
            ],
            "text/plain": [
              "          dob  photo_taken  ... face_score  second_face_score\n",
              "31746  726542         2012  ...   2.660542                NaN\n",
              "25727  723741         2012  ...   1.814427                NaN\n",
              "29025  724298         1980  ...       -inf                NaN\n",
              "58338  721786         2011  ...   3.566882                NaN\n",
              "22058  707903         1963  ...   3.553301                NaN\n",
              "\n",
              "[5 rows x 8 columns]"
            ]
          },
          "metadata": {
            "tags": []
          },
          "execution_count": 8
        }
      ]
    },
    {
      "cell_type": "markdown",
      "metadata": {
        "id": "zCrloHvB5XxT"
      },
      "source": [
        "**Metadata Feature Descriptions**\n",
        "\n",
        "---\n",
        "\n",
        "**dob:** date of birth (Matlab serial date number)\n",
        "\n",
        "**photo_taken:** year when the photo was taken\n",
        "\n",
        "**full_path:** path to image file in folder\n",
        "\n",
        "**gender:** 0 = female, 1 = male, NaN = unknown\n",
        "\n",
        "**name:** full name \n",
        "\n",
        "***face_location:** location of the face \n",
        "\n",
        "***face_score:** detector score ('inf'= no face detected)\n",
        "\n",
        "***second_face_score:** detector score of the face with the second highest score. 'NaN' if no second face was detected.\n",
        "\n",
        "---\n",
        "\n",
        "(*)  Features created during preprocessing indicated with asterisk *"
      ]
    },
    {
      "cell_type": "markdown",
      "metadata": {
        "id": "uLhiqZwO3IaA"
      },
      "source": [
        "**Metadata Preprocessed Features**\n",
        "\n",
        "Some features have been inherited from the preprocessing of the dataset. Namely, these preprocessed features are: face_location, face_score, and second_face_score. The features were created with a face detection algorithm ([Mathias et al. 2014](https://https://www.researchgate.net/publication/265125544_Face_Detection_without_Bells_and_Whistles)) and contain the relative position of the face, how strongly a face was detected in the image and how strongly a second face was detected, respectively. "
      ]
    },
    {
      "cell_type": "code",
      "metadata": {
        "colab": {
          "base_uri": "https://localhost:8080/"
        },
        "id": "8MURxTP8ULm-",
        "outputId": "f3f531c1-6c12-4ab1-9ead-73cea2879cc0"
      },
      "source": [
        "### INSPECT DATAFRAME ###\n",
        "print(\"***There are\", df.shape[0], \"images and\", df.shape[1], \"features in this dataset.***\")\n",
        "print(\" \")\n",
        "print(df.info())"
      ],
      "execution_count": 9,
      "outputs": [
        {
          "output_type": "stream",
          "text": [
            "***There are 62328 images and 8 features in this dataset.***\n",
            " \n",
            "<class 'pandas.core.frame.DataFrame'>\n",
            "RangeIndex: 62328 entries, 0 to 62327\n",
            "Data columns (total 8 columns):\n",
            " #   Column             Non-Null Count  Dtype  \n",
            "---  ------             --------------  -----  \n",
            " 0   dob                62328 non-null  int32  \n",
            " 1   photo_taken        62328 non-null  uint16 \n",
            " 2   full_path          62328 non-null  object \n",
            " 3   gender             59685 non-null  float64\n",
            " 4   name               62328 non-null  object \n",
            " 5   face_location      62328 non-null  object \n",
            " 6   face_score         62328 non-null  float64\n",
            " 7   second_face_score  4096 non-null   float64\n",
            "dtypes: float64(3), int32(1), object(3), uint16(1)\n",
            "memory usage: 3.2+ MB\n",
            "None\n"
          ],
          "name": "stdout"
        }
      ]
    },
    {
      "cell_type": "markdown",
      "metadata": {
        "id": "lgLc3Sq8jr_X"
      },
      "source": [
        "**Observations**\n",
        "\n",
        "1. 'gender' column has missing values. \n",
        "2. 'second_face_score' has spare data and mostly Null values. "
      ]
    },
    {
      "cell_type": "code",
      "metadata": {
        "colab": {
          "base_uri": "https://localhost:8080/"
        },
        "id": "RKZKG-gqQMzu",
        "outputId": "9a5010ce-e50d-4baa-c0ef-698e621271fa"
      },
      "source": [
        "print(\"General information about the dataset: \")\n",
        "print(\"======================================\")\n",
        "print(\"Oldest Photo Date: \"+str(df.photo_taken.min()))\n",
        "print(\"Most Recent Photo Date: \"+str(df.photo_taken.max()))\n",
        "print(\"Minimum Face Score: \"+str(df.face_score.min()))\n",
        "print(\"Maximum Face Score: \"+str(round(df.face_score.max(),3)))\n",
        "print(\"Null Second Face Scores: \"+ str(df.second_face_score.isna().sum()))"
      ],
      "execution_count": 10,
      "outputs": [
        {
          "output_type": "stream",
          "text": [
            "General information about the dataset: \n",
            "======================================\n",
            "Oldest Photo Date: 1940\n",
            "Most Recent Photo Date: 2015\n",
            "Minimum Face Score: -inf\n",
            "Maximum Face Score: 7.081\n",
            "Null Second Face Scores: 58232\n"
          ],
          "name": "stdout"
        }
      ]
    },
    {
      "cell_type": "markdown",
      "metadata": {
        "id": "fX97jMgOEl39"
      },
      "source": [
        "We need to convert \"dob\" from Matlab datenum into Python datetime and then compute each subject's age."
      ]
    },
    {
      "cell_type": "code",
      "metadata": {
        "id": "ZnDLCh2tVNrx",
        "colab": {
          "base_uri": "https://localhost:8080/"
        },
        "outputId": "8bcff46c-2b15-40a2-83d2-e233ea0b75e3"
      },
      "source": [
        "# Function to convert Matlab datenum into Python datetime\n",
        "def datenum_to_datetime(datenum):\n",
        "  days = datenum % 1\n",
        "  hours = days % 1 * 24\n",
        "  minutes = hours % 1 * 60\n",
        "  seconds = minutes % 1 * 60\n",
        "  exact_date = datetime.fromordinal(int(datenum)) \\\n",
        "    + timedelta(days=int(days)) + timedelta(hours=int(hours)) \\\n",
        "    + timedelta(minutes=int(minutes)) + timedelta(seconds=round(seconds)) \\\n",
        "    - timedelta(days=366)\n",
        "  return exact_date.year\n",
        " \n",
        "# Convert Matlab datenum into Python datetime & create a new columns 'date_of_birth'\n",
        "df['date_of_birth'] = df['dob'].apply(datenum_to_datetime)\n",
        "\n",
        "# Compute age by subtracting 'date_of_birth' from 'photo_taken'\n",
        "df['age'] = df['photo_taken'] - df['date_of_birth']\n",
        "df['age'].sample(5)"
      ],
      "execution_count": 11,
      "outputs": [
        {
          "output_type": "execute_result",
          "data": {
            "text/plain": [
              "27382    25\n",
              "23993    21\n",
              "29990    23\n",
              "10860    62\n",
              "13068    36\n",
              "Name: age, dtype: int64"
            ]
          },
          "metadata": {
            "tags": []
          },
          "execution_count": 11
        }
      ]
    },
    {
      "cell_type": "code",
      "metadata": {
        "colab": {
          "base_uri": "https://localhost:8080/"
        },
        "id": "Xnb6wA5SqjOD",
        "outputId": "38af7321-43c0-46c4-b4a1-dac82f7c8287"
      },
      "source": [
        "# Check the maximum & minimum age...\n",
        "print('age.max', str(df.age.max()))\n",
        "print('age.min', str(df.age.min()))"
      ],
      "execution_count": 12,
      "outputs": [
        {
          "output_type": "stream",
          "text": [
            "age.max 1996\n",
            "age.min -74\n"
          ],
          "name": "stdout"
        }
      ]
    },
    {
      "cell_type": "markdown",
      "metadata": {
        "id": "_PIsy2CXGO8S"
      },
      "source": [
        "We can see that there are some ages that are impossible. Let's clean up the dataset by removing observations that are over 100 and under 0. "
      ]
    },
    {
      "cell_type": "code",
      "metadata": {
        "id": "8Rf8YIGFjWAZ",
        "colab": {
          "base_uri": "https://localhost:8080/"
        },
        "outputId": "873cff2b-0b2d-47a4-ebaa-fd007f3fab02"
      },
      "source": [
        "# Remove ages over 100 & remove ages under 0\n",
        "df_shape_raw = df.shape[0]\n",
        "df = df[df['age'] <= 100]\n",
        "df = df[df['age'] > 0]\n",
        "\n",
        "diff = df_shape_raw - df.shape[0]\n",
        "print('We cleaned', df_shape_raw - df.shape[0], 'observations or',round((diff/df_shape_raw*100),2),'percent of the Wikipedia Dataset that were out of the age range 0-100.')"
      ],
      "execution_count": 13,
      "outputs": [
        {
          "output_type": "stream",
          "text": [
            "We cleaned 1880 observations or 3.02 percent of the Wikipedia Dataset that were out of the age range 0-100.\n"
          ],
          "name": "stdout"
        }
      ]
    },
    {
      "cell_type": "markdown",
      "metadata": {
        "id": "U4ZIr0NPKJ3K"
      },
      "source": [
        "**DATA CLEANING**\n",
        "\n",
        "We will clean by omitting data with missing gender information, images where faces were not detected (represented by -inf), images where a second face *is* detected, and images that have a face detection score (face_score) of less than '3.0'."
      ]
    },
    {
      "cell_type": "code",
      "metadata": {
        "id": "UsEcVcQ7WGOB"
      },
      "source": [
        "### CLEAN THE DATASET ###\n",
        "\n",
        "# Remove records with missing gender data\n",
        "df = df[~df['gender'].isna()]\n",
        "\n",
        "# Remove images where faces were not detected\n",
        "df = df[df['face_score'] != -np.inf]\n",
        " \n",
        "# Include only images with a second face score missing (NaN)\n",
        "# We don't want to deal with extra faces in the images\n",
        "df = df[df['second_face_score'].isna()]\n",
        " \n",
        "# Include images that have a primary 'face_score' of 3 or more\n",
        "df = df[df['face_score'] >= 3.0]"
      ],
      "execution_count": 14,
      "outputs": []
    },
    {
      "cell_type": "markdown",
      "metadata": {
        "id": "ysTJAKf7nmdk"
      },
      "source": [
        "**Columns to Drop**\n",
        "\n",
        "'name' are arbitrary, so we will drop the names.\n",
        "\n",
        "'dob' has been replaced by date_of_birth.\n",
        "\n",
        "'second_face_score' are all \"Nan\". Let's drop them."
      ]
    },
    {
      "cell_type": "code",
      "metadata": {
        "id": "oxiZY9Mgncl8"
      },
      "source": [
        "# Drop columns that won't inform the prediction model\n",
        "df = df.drop(columns = ['dob','name', 'second_face_score'])"
      ],
      "execution_count": 15,
      "outputs": []
    },
    {
      "cell_type": "markdown",
      "metadata": {
        "id": "hkTeqW60vKTN"
      },
      "source": [
        "# **III. EXPLORATORY DATA ANALYSIS**"
      ]
    },
    {
      "cell_type": "markdown",
      "metadata": {
        "id": "KNmuOzsRpBx3"
      },
      "source": [
        "## **METADATA**\n",
        "**Distribution Visualizations**\n",
        "\n",
        "Let's take a look at the shape of the dataset's variables with some colorful histograms."
      ]
    },
    {
      "cell_type": "code",
      "metadata": {
        "colab": {
          "base_uri": "https://localhost:8080/",
          "height": 350
        },
        "id": "XzbdDdGiWMmn",
        "outputId": "6391a29d-c547-4c03-a61a-a38f35533acd"
      },
      "source": [
        "# Plot Age Distribution represented in the dataset\n",
        "plt.figure(figsize=(10, 5))\n",
        "# histogram_age = df['age'].hist(bins=df['age'].nunique())\n",
        "sns.histplot(df['age'], bins=df['age'].nunique(), color='green')\n",
        "plt.title('Age Distribution')\n",
        "plt.xlabel('age')\n",
        "plt.ylabel('count');"
      ],
      "execution_count": 16,
      "outputs": [
        {
          "output_type": "display_data",
          "data": {
            "image/png": "[encoded data removed]",
            "text/plain": [
              "<Figure size 720x360 with 1 Axes>"
            ]
          },
          "metadata": {
            "tags": [],
            "needs_background": "light"
          }
        }
      ]
    },
    {
      "cell_type": "code",
      "metadata": {
        "colab": {
          "base_uri": "https://localhost:8080/",
          "height": 350
        },
        "id": "lxCqjKq3KJV_",
        "outputId": "e0fbb583-dde0-4865-c2b3-74d017f3324c"
      },
      "source": [
        "# Plot Age Distribution in ten (10) age bins\n",
        "plt.figure(figsize=(10, 5))\n",
        "# histogram_age = df['age'].hist(bins=10)\n",
        "sns.histplot(df['age'],bins=10, color='blue')\n",
        "plt.title('Age Distribution - 10 Bins')\n",
        "plt.xlabel('age')\n",
        "plt.ylabel('count');"
      ],
      "execution_count": 17,
      "outputs": [
        {
          "output_type": "display_data",
          "data": {
            "image/png": "[encoded data removed]",
            "text/plain": [
              "<Figure size 720x360 with 1 Axes>"
            ]
          },
          "metadata": {
            "tags": [],
            "needs_background": "light"
          }
        }
      ]
    },
    {
      "cell_type": "markdown",
      "metadata": {
        "id": "crtEn61kEj1j"
      },
      "source": [
        "The Age Distribution is **right skewed** with a large representation in the 20-30 age range. We must consider balancing the classes before training our algorithm as a biased dataset would lead to a biased output (age estimation). "
      ]
    },
    {
      "cell_type": "code",
      "metadata": {
        "colab": {
          "base_uri": "https://localhost:8080/",
          "height": 350
        },
        "id": "CA9ioNQ2EZje",
        "outputId": "53b31fd5-c658-4bda-d335-af956406c792"
      },
      "source": [
        "# Plot Years Photos Taken Distribution represented in the dataset\n",
        "plt.figure(figsize=(10, 5))\n",
        "sns.histplot(df['photo_taken'], bins=50, color='purple')\n",
        "# histogram_age = df['face_score'].hist(bins=50)\n",
        "plt.title('Years the Photos Were Taken')\n",
        "plt.xlabel('Year Photo Taken')\n",
        "plt.ylabel('count');"
      ],
      "execution_count": 18,
      "outputs": [
        {
          "output_type": "display_data",
          "data": {
            "image/png": "[encoded data removed]",
            "text/plain": [
              "<Figure size 720x360 with 1 Axes>"
            ]
          },
          "metadata": {
            "tags": [],
            "needs_background": "light"
          }
        }
      ]
    },
    {
      "cell_type": "markdown",
      "metadata": {
        "id": "yuYiLRgHFeVD"
      },
      "source": [
        "As we might expect, most of the images in the dataset were created in the last 20 years, coinciding with the boom of digital imagery and the explosion of digital data creation."
      ]
    },
    {
      "cell_type": "code",
      "metadata": {
        "colab": {
          "base_uri": "https://localhost:8080/",
          "height": 351
        },
        "id": "FDysRSgDr6cS",
        "outputId": "f44c202b-962b-4d0e-8f1e-8f59ff3b5e44"
      },
      "source": [
        "# Plot face_score Distribution represented in the dataset\n",
        "plt.figure(figsize=(10, 5))\n",
        "sns.histplot(df['face_score'], bins=50, color='maroon')\n",
        "# histogram_age = df['face_score'].hist(bins=50)\n",
        "plt.title('Face Scores Distribution')\n",
        "plt.xlabel('face_score')\n",
        "plt.ylabel('count');"
      ],
      "execution_count": 19,
      "outputs": [
        {
          "output_type": "display_data",
          "data": {
            "image/png": "[encoded data removed]",
            "text/plain": [
              "<Figure size 720x360 with 1 Axes>"
            ]
          },
          "metadata": {
            "tags": [],
            "needs_background": "light"
          }
        }
      ]
    },
    {
      "cell_type": "markdown",
      "metadata": {
        "id": "GkPTLbCHPUPB"
      },
      "source": [
        "The Face Scores distribution shows that we subset for images with a face scores of 3 or above. This will ensure that we are working with faces that were clearly detected during\n",
        " preprocessing."
      ]
    },
    {
      "cell_type": "code",
      "metadata": {
        "colab": {
          "base_uri": "https://localhost:8080/",
          "height": 350
        },
        "id": "3kkH4vDtteCk",
        "outputId": "89cd91bd-20a3-449d-8898-8c2907672525"
      },
      "source": [
        "# Plot Gender Distribution represented in the dataset\n",
        "plt.figure(figsize=(10, 5))\n",
        "sns.histplot(df['gender'], bins=2)\n",
        "# histogram_age = df['gender'].hist(bins=2)\n",
        "plt.title('Gender Distribution (Female/Male)')\n",
        "plt.xlabel('gender')\n",
        "plt.ylabel('count');"
      ],
      "execution_count": 20,
      "outputs": [
        {
          "output_type": "display_data",
          "data": {
            "image/png": "[encoded data removed]",
            "text/plain": [
              "<Figure size 720x360 with 1 Axes>"
            ]
          },
          "metadata": {
            "tags": [],
            "needs_background": "light"
          }
        }
      ]
    },
    {
      "cell_type": "markdown",
      "metadata": {
        "id": "4VkA3U8LKvop"
      },
      "source": [
        "The left side of the plot represents 'female' and the right side of the plot represents 'male'. The gender distribution is very uneven with many more 'male' subjects represented. We will consider balancing this as well."
      ]
    },
    {
      "cell_type": "code",
      "metadata": {
        "colab": {
          "base_uri": "https://localhost:8080/"
        },
        "id": "F7ptJuYlsuYc",
        "outputId": "0b9105a6-e4a2-483b-8bbe-a8468cc8cd96"
      },
      "source": [
        "### Descriptive Statistics about Age Distribution ###\n",
        "df.age.describe()"
      ],
      "execution_count": 21,
      "outputs": [
        {
          "output_type": "execute_result",
          "data": {
            "text/plain": [
              "count    22138.000000\n",
              "mean        38.210678\n",
              "std         15.871291\n",
              "min          1.000000\n",
              "25%         26.000000\n",
              "50%         34.000000\n",
              "75%         48.000000\n",
              "max        100.000000\n",
              "Name: age, dtype: float64"
            ]
          },
          "metadata": {
            "tags": []
          },
          "execution_count": 21
        }
      ]
    },
    {
      "cell_type": "markdown",
      "metadata": {
        "id": "bgLBxbzGnT69"
      },
      "source": [
        ""
      ]
    },
    {
      "cell_type": "markdown",
      "metadata": {
        "id": "1HyuZiy6sUd5"
      },
      "source": [
        "## **IMAGES**\n",
        "Let's prepare the images directly."
      ]
    },
    {
      "cell_type": "markdown",
      "metadata": {
        "id": "gKUt6y9QB8pO"
      },
      "source": [
        "##**Images ---> Pixel Values ---> Vectors**\n",
        "\n",
        "We need to convert the images from pixels to vectors. Specifically, we need to convert the images from colored, 3-channel pixels to long one-dimensional vectors.  This is required to hunt for patterns, reduce complexity, and extract features.\n",
        "\n",
        "Each digital image is composed of a large grid of pixels. In color images, each pixel has 3 color channels: Red, Green, Blue (RGB). Each color channel's intensity are in the range [0-255]. \n",
        "\n",
        "To translate our images from photos (jpg format) to vectors of pixel values, we will first use a *Keras module called \"load_img\" to read the images in a PIL (Python Imaging Library) format. We will set the 'color mode' argument to (RGB) and set the target-size to 224 x 224 pixels. \n",
        "\n",
        "Next, we will use Kera's \"img_to_array\" module to extract the pixel information and store it in an array (index-based vector) of 150,528 numbers per image (224x224x3). \n",
        "\n",
        "*Keras is a high-level API interface for TensorFlow for working with artificial neural networks (ANN). TensorFlow & Keras are frequently used on computer vision image classification projects, such as this."
      ]
    },
    {
      "cell_type": "markdown",
      "metadata": {
        "id": "3KgBBUKCUELk"
      },
      "source": [
        "*Prem: I remember being inspired to learn more about AI when hearing VC Marc Andreessen talk about how acccessible TensorFlow was in a 2018 [Tim Ferriss Show podcast](https://https://tim.blog/2018/01/01/the-tim-ferriss-show-transcripts-marc-andreessen/). He said \"So all of a sudden, AI is like a tractable thing that you can just have on your own laptop, and you can build new things on top of it.\"*"
      ]
    },
    {
      "cell_type": "code",
      "metadata": {
        "id": "Fs5fjBv4KJV_"
      },
      "source": [
        "# Create function to load images using 'load_img' and create 1 array per image (224, 224, 3)\n",
        "target_size=(224, 224)\n",
        "\n",
        "def getImagePixels(image_path):\n",
        "    # img = image.load_img(\"C:/Users/Prem/Desktop/SPRINGBOARD_MASTER/YOUNGER/Data/wiki_crop/%s\" % image_path[0], grayscale=False, target_size=(224, 224))\n",
        "    img = image.load_img(\"/content/drive/MyDrive/YOUNGER/wiki_crop/%s\" % image_path[0], color_mode='rgb', target_size=target_size)\n",
        "    x = image.img_to_array(img)\n",
        "    x = np.array([x])\n",
        "    # x = image.img_to_array(img).reshape(1, -1)[0]\n",
        "    # x = preprocess_input(x)\n",
        "    return x"
      ],
      "execution_count": 22,
      "outputs": []
    },
    {
      "cell_type": "markdown",
      "metadata": {
        "id": "o5a6aqk8TDpU"
      },
      "source": [
        "**Images to Grayscale?**\n",
        "\n",
        "We reduce the images to grayscale to reduce the heavy load of data per image (by a factor of three). Also, image classification on color images is more prone to overfitting. Color images are much more compute and memory intensive compared to grayscale images."
      ]
    },
    {
      "cell_type": "code",
      "metadata": {
        "id": "QvF3ML3dnbfg"
      },
      "source": [
        "### SUBSETTING THE DATASET FOR RAPID TESTING ### ### TESTING ### ### TESTING ### ### TESTING ###\n",
        "df = df[:10000]\n",
        "### TESTING ### ### TESTING ### ### TESTING ### ### TESTING ### ### TESTING ### ### TESTING ### "
      ],
      "execution_count": 23,
      "outputs": []
    },
    {
      "cell_type": "code",
      "metadata": {
        "id": "0JBWohIYahhC"
      },
      "source": [
        "# df['pixels'] = [getImagePixels[a] for a in df.full_path]"
      ],
      "execution_count": 24,
      "outputs": []
    },
    {
      "cell_type": "code",
      "metadata": {
        "colab": {
          "base_uri": "https://localhost:8080/"
        },
        "id": "-ukPyjqJSgFZ",
        "outputId": "4e32136f-5f73-4448-839f-aa7c728e4b11"
      },
      "source": [
        "df.shape[0]"
      ],
      "execution_count": 25,
      "outputs": [
        {
          "output_type": "execute_result",
          "data": {
            "text/plain": [
              "10000"
            ]
          },
          "metadata": {
            "tags": []
          },
          "execution_count": 25
        }
      ]
    },
    {
      "cell_type": "code",
      "metadata": {
        "id": "gxcABpB_OayF",
        "colab": {
          "base_uri": "https://localhost:8080/"
        },
        "outputId": "110d39f0-13d9-4444-a819-f3f23b233206"
      },
      "source": [
        "%%time\n",
        "# apply 'getImagePixels' function to all observations and create new column df.pixels\n",
        "df['pixels'] = df['full_path'].apply(getImagePixels)"
      ],
      "execution_count": 26,
      "outputs": [
        {
          "output_type": "stream",
          "text": [
            "CPU times: user 17.5 s, sys: 4.27 s, total: 21.8 s\n",
            "Wall time: 32.4 s\n"
          ],
          "name": "stdout"
        }
      ]
    },
    {
      "cell_type": "code",
      "metadata": {
        "id": "cFQI99BibK2N"
      },
      "source": [
        "# print(df['pixels'][0].shape)\n",
        "# print(type(df['pixels'][0].shape))"
      ],
      "execution_count": 27,
      "outputs": []
    },
    {
      "cell_type": "code",
      "metadata": {
        "colab": {
          "base_uri": "https://localhost:8080/"
        },
        "id": "dKTp4nnpA77z",
        "outputId": "341c37d0-d46d-4255-fd28-f4c6787b9b5f"
      },
      "source": [
        "classes = 101 #(0, 100])\n",
        "print(\"number of output classes: \",classes)"
      ],
      "execution_count": 28,
      "outputs": [
        {
          "output_type": "stream",
          "text": [
            "number of output classes:  101\n"
          ],
          "name": "stdout"
        }
      ]
    },
    {
      "cell_type": "code",
      "metadata": {
        "id": "CL0ghLAdCVhw"
      },
      "source": [
        "import tensorflow as tf\n",
        "\n",
        "import keras\n",
        "from keras.preprocessing import image\n",
        "from keras.callbacks import ModelCheckpoint,EarlyStopping\n",
        "from keras.layers import Dense, Activation, Dropout, Flatten, Input, Convolution2D, ZeroPadding2D, MaxPooling2D, Activation\n",
        "from keras.layers import Conv2D, AveragePooling2D\n",
        "from keras.models import Model, Sequential\n",
        "\n",
        "from sklearn.model_selection import train_test_split\n",
        "\n",
        "from keras import metrics\n",
        "\n",
        "from keras.models import model_from_json"
      ],
      "execution_count": 29,
      "outputs": []
    },
    {
      "cell_type": "code",
      "metadata": {
        "id": "UQZh-CthBNiu"
      },
      "source": [
        "target = df['age'].values\n",
        "target_classes = keras.utils.to_categorical(target, classes)"
      ],
      "execution_count": 30,
      "outputs": []
    },
    {
      "cell_type": "code",
      "metadata": {
        "id": "DYSPf2WrBNnm"
      },
      "source": [
        "features = df['pixels'].values\n",
        "features = []\n",
        "\n",
        "for i in range(0, df.shape[0]):\n",
        "    features.append(df['pixels'].values[i])\n",
        "\n",
        "features = np.array(features)\n",
        "features = features.reshape(features.shape[0], 224, 224, 3)"
      ],
      "execution_count": 31,
      "outputs": []
    },
    {
      "cell_type": "code",
      "metadata": {
        "colab": {
          "base_uri": "https://localhost:8080/"
        },
        "id": "edD6_X00BNrR",
        "outputId": "b55efaf2-22e3-431b-b243-af2d10c8a234"
      },
      "source": [
        "features.shape"
      ],
      "execution_count": 32,
      "outputs": [
        {
          "output_type": "execute_result",
          "data": {
            "text/plain": [
              "(10000, 224, 224, 3)"
            ]
          },
          "metadata": {
            "tags": []
          },
          "execution_count": 32
        }
      ]
    },
    {
      "cell_type": "code",
      "metadata": {
        "id": "prDUIwNgBNuk"
      },
      "source": [
        "features /= 255 #normalize in [0, 1]"
      ],
      "execution_count": 33,
      "outputs": []
    },
    {
      "cell_type": "code",
      "metadata": {
        "id": "XO1LsUJRBNxT"
      },
      "source": [
        "train_x, test_x, train_y, test_y = train_test_split(features, target_classes\n",
        "                                        , test_size=0.30, random_state=42)"
      ],
      "execution_count": 34,
      "outputs": []
    },
    {
      "cell_type": "code",
      "metadata": {
        "id": "0321dbthBN1H"
      },
      "source": [
        "model = Sequential()\n",
        "model.add(ZeroPadding2D((1,1),input_shape=(224,224, 3)))\n",
        "model.add(Convolution2D(64, (3, 3), activation='relu'))\n",
        "model.add(ZeroPadding2D((1,1)))\n",
        "model.add(Convolution2D(64, (3, 3), activation='relu'))\n",
        "model.add(MaxPooling2D((2,2), strides=(2,2)))\n",
        " \n",
        "model.add(ZeroPadding2D((1,1)))\n",
        "model.add(Convolution2D(128, (3, 3), activation='relu'))\n",
        "model.add(ZeroPadding2D((1,1)))\n",
        "model.add(Convolution2D(128, (3, 3), activation='relu'))\n",
        "model.add(MaxPooling2D((2,2), strides=(2,2)))\n",
        " \n",
        "model.add(ZeroPadding2D((1,1)))\n",
        "model.add(Convolution2D(256, (3, 3), activation='relu'))\n",
        "model.add(ZeroPadding2D((1,1)))\n",
        "model.add(Convolution2D(256, (3, 3), activation='relu'))\n",
        "model.add(ZeroPadding2D((1,1)))\n",
        "model.add(Convolution2D(256, (3, 3), activation='relu'))\n",
        "model.add(MaxPooling2D((2,2), strides=(2,2)))\n",
        " \n",
        "model.add(ZeroPadding2D((1,1)))\n",
        "model.add(Convolution2D(512, (3, 3), activation='relu'))\n",
        "model.add(ZeroPadding2D((1,1)))\n",
        "model.add(Convolution2D(512, (3, 3), activation='relu'))\n",
        "model.add(ZeroPadding2D((1,1)))\n",
        "model.add(Convolution2D(512, (3, 3), activation='relu'))\n",
        "model.add(MaxPooling2D((2,2), strides=(2,2)))\n",
        " \n",
        "model.add(ZeroPadding2D((1,1)))\n",
        "model.add(Convolution2D(512, (3, 3), activation='relu'))\n",
        "model.add(ZeroPadding2D((1,1)))\n",
        "model.add(Convolution2D(512, (3, 3), activation='relu'))\n",
        "model.add(ZeroPadding2D((1,1)))\n",
        "model.add(Convolution2D(512, (3, 3), activation='relu'))\n",
        "model.add(MaxPooling2D((2,2), strides=(2,2)))\n",
        " \n",
        "model.add(Convolution2D(4096, (7, 7), activation='relu'))\n",
        "model.add(Dropout(0.5))\n",
        "model.add(Convolution2D(4096, (1, 1), activation='relu'))\n",
        "model.add(Dropout(0.5))\n",
        "model.add(Convolution2D(2622, (1, 1)))\n",
        "model.add(Flatten())\n",
        "model.add(Activation('softmax'))"
      ],
      "execution_count": 35,
      "outputs": []
    },
    {
      "cell_type": "code",
      "metadata": {
        "id": "nkjYsJyCBN3m"
      },
      "source": [
        "model.load_weights('/content/drive/MyDrive/YOUNGER/vgg_face_weights.h5')"
      ],
      "execution_count": 36,
      "outputs": []
    },
    {
      "cell_type": "code",
      "metadata": {
        "id": "EYCoijGZBN6K"
      },
      "source": [
        "#freeze all layers of VGG-Face except last 7 one\n",
        "for layer in model.layers[:-7]:\n",
        "    layer.trainable = False\n",
        "\n",
        "base_model_output = Sequential()\n",
        "base_model_output = Convolution2D(classes, (1, 1), name='predictions')(model.layers[-4].output)\n",
        "base_model_output = Flatten()(base_model_output)\n",
        "base_model_output = Activation('softmax')(base_model_output)\n",
        "\n",
        "age_model = Model(inputs=model.input, outputs=base_model_output)"
      ],
      "execution_count": 37,
      "outputs": []
    },
    {
      "cell_type": "code",
      "metadata": {
        "id": "JDiWsy3OBOBN"
      },
      "source": [
        "sgd = keras.optimizers.SGD(lr=1e-3, decay=1e-6, momentum=0.9, nesterov=True)\n",
        "\n",
        "age_model.compile(loss='categorical_crossentropy'\n",
        "                  , optimizer=keras.optimizers.Adam()\n",
        "                  # , optimizer = sgd\n",
        "                  , metrics=['accuracy']\n",
        "                 )"
      ],
      "execution_count": 38,
      "outputs": []
    },
    {
      "cell_type": "code",
      "metadata": {
        "id": "U6LnmGrjBOD6"
      },
      "source": [
        "\n",
        "checkpointer = ModelCheckpoint(\n",
        "    # filepath='classification_age_model.hdf5'\n",
        "    filepath='/content/classification_age_model.hdf5'\n",
        "    , monitor = \"val_loss\"\n",
        "    , verbose=1\n",
        "    , save_best_only=True\n",
        "    , mode = 'auto'\n",
        ")"
      ],
      "execution_count": 39,
      "outputs": []
    },
    {
      "cell_type": "code",
      "metadata": {
        "id": "0AB4JlKHBOGq"
      },
      "source": [
        "scores = []"
      ],
      "execution_count": 40,
      "outputs": []
    },
    {
      "cell_type": "code",
      "metadata": {
        "colab": {
          "base_uri": "https://localhost:8080/"
        },
        "id": "UDD_fUXzBOI-",
        "outputId": "7853c2f1-b115-48e7-9501-dd55250fd5b9"
      },
      "source": [
        "enableFit = True\n",
        "\n",
        "if enableFit:\n",
        "    \n",
        "    # batch_size = 256 # original\n",
        "    # epochs = 250 # original\n",
        "    batch_size = 32\n",
        "    epochs = 250 \n",
        "\n",
        "    for i in range(epochs):\n",
        "        print(\"epoch \",i)\n",
        "        \n",
        "        ix_train = np.random.choice(train_x.shape[0], size=batch_size)\n",
        "        \n",
        "        score = age_model.fit(\n",
        "            train_x[ix_train], train_y[ix_train]\n",
        "            , epochs=1\n",
        "            , validation_data=(test_x, test_y)\n",
        "            , callbacks=[checkpointer]\n",
        "        )\n",
        "        \n",
        "        scores.append(score)\n",
        "    \n",
        "    #restore the best weights\n",
        "    from keras.models import load_model\n",
        "    age_model = load_model('/content/classification_age_model.hdf5')\n",
        "    \n",
        "    age_model.save_weights('/content/drive/MyDrive/YOUNGER/age_model_weights.h5')\n",
        "        \n",
        "else:\n",
        "    #pre-trained weights for age prediction: https://drive.google.com/file/d/1YCox_4kJ-BYeXq27uUbasu--yz28zUMV/view?usp=sharing\n",
        "    age_model.load_weights(\"/content/drive/MyDrive/YOUNGER/age_model_weights.h5\")"
      ],
      "execution_count": 41,
      "outputs": [
        {
          "output_type": "stream",
          "text": [
            "epoch  0\n",
            "1/1 [==============================] - 33s 33s/step - loss: 4.6209 - accuracy: 0.0000e+00 - val_loss: 4.6109 - val_accuracy: 0.0247\n",
            "\n",
            "Epoch 00001: val_loss improved from inf to 4.61093, saving model to /content/classification_age_model.hdf5\n",
            "epoch  1\n",
            "1/1 [==============================] - 10s 10s/step - loss: 4.6117 - accuracy: 0.0000e+00 - val_loss: 4.5890 - val_accuracy: 0.0363\n",
            "\n",
            "Epoch 00001: val_loss improved from 4.61093 to 4.58903, saving model to /content/classification_age_model.hdf5\n",
            "epoch  2\n",
            "1/1 [==============================] - 10s 10s/step - loss: 4.5989 - accuracy: 0.0000e+00 - val_loss: 4.5111 - val_accuracy: 0.0227\n",
            "\n",
            "Epoch 00001: val_loss improved from 4.58903 to 4.51114, saving model to /content/classification_age_model.hdf5\n",
            "epoch  3\n",
            "1/1 [==============================] - 10s 10s/step - loss: 4.5131 - accuracy: 0.0000e+00 - val_loss: 4.3806 - val_accuracy: 0.0337\n",
            "\n",
            "Epoch 00001: val_loss improved from 4.51114 to 4.38055, saving model to /content/classification_age_model.hdf5\n",
            "epoch  4\n",
            "1/1 [==============================] - 10s 10s/step - loss: 4.4167 - accuracy: 0.0000e+00 - val_loss: 4.2859 - val_accuracy: 0.0420\n",
            "\n",
            "Epoch 00001: val_loss improved from 4.38055 to 4.28591, saving model to /content/classification_age_model.hdf5\n",
            "epoch  5\n",
            "1/1 [==============================] - 10s 10s/step - loss: 4.4079 - accuracy: 0.0625 - val_loss: 4.3116 - val_accuracy: 0.0420\n",
            "\n",
            "Epoch 00001: val_loss did not improve from 4.28591\n",
            "epoch  6\n",
            "1/1 [==============================] - 10s 10s/step - loss: 4.3199 - accuracy: 0.0625 - val_loss: 4.3399 - val_accuracy: 0.0420\n",
            "\n",
            "Epoch 00001: val_loss did not improve from 4.28591\n",
            "epoch  7\n",
            "1/1 [==============================] - 10s 10s/step - loss: 4.3931 - accuracy: 0.0625 - val_loss: 4.2934 - val_accuracy: 0.0440\n",
            "\n",
            "Epoch 00001: val_loss did not improve from 4.28591\n",
            "epoch  8\n",
            "1/1 [==============================] - 10s 10s/step - loss: 4.4110 - accuracy: 0.0312 - val_loss: 4.2249 - val_accuracy: 0.0417\n",
            "\n",
            "Epoch 00001: val_loss improved from 4.28591 to 4.22489, saving model to /content/classification_age_model.hdf5\n",
            "epoch  9\n",
            "1/1 [==============================] - 9s 9s/step - loss: 4.2972 - accuracy: 0.0312 - val_loss: 4.1784 - val_accuracy: 0.0400\n",
            "\n",
            "Epoch 00001: val_loss improved from 4.22489 to 4.17838, saving model to /content/classification_age_model.hdf5\n",
            "epoch  10\n",
            "1/1 [==============================] - 9s 9s/step - loss: 4.3000 - accuracy: 0.0625 - val_loss: 4.1504 - val_accuracy: 0.0407\n",
            "\n",
            "Epoch 00001: val_loss improved from 4.17838 to 4.15045, saving model to /content/classification_age_model.hdf5\n",
            "epoch  11\n",
            "1/1 [==============================] - 9s 9s/step - loss: 4.0691 - accuracy: 0.0625 - val_loss: 4.1353 - val_accuracy: 0.0347\n",
            "\n",
            "Epoch 00001: val_loss improved from 4.15045 to 4.13526, saving model to /content/classification_age_model.hdf5\n",
            "epoch  12\n",
            "1/1 [==============================] - 9s 9s/step - loss: 4.2654 - accuracy: 0.0000e+00 - val_loss: 4.1214 - val_accuracy: 0.0340\n",
            "\n",
            "Epoch 00001: val_loss improved from 4.13526 to 4.12144, saving model to /content/classification_age_model.hdf5\n",
            "epoch  13\n",
            "1/1 [==============================] - 9s 9s/step - loss: 4.2616 - accuracy: 0.0625 - val_loss: 4.1154 - val_accuracy: 0.0340\n",
            "\n",
            "Epoch 00001: val_loss improved from 4.12144 to 4.11544, saving model to /content/classification_age_model.hdf5\n",
            "epoch  14\n",
            "1/1 [==============================] - 9s 9s/step - loss: 3.9683 - accuracy: 0.0000e+00 - val_loss: 4.1117 - val_accuracy: 0.0357\n",
            "\n",
            "Epoch 00001: val_loss improved from 4.11544 to 4.11175, saving model to /content/classification_age_model.hdf5\n",
            "epoch  15\n",
            "1/1 [==============================] - 9s 9s/step - loss: 4.0030 - accuracy: 0.0312 - val_loss: 4.1194 - val_accuracy: 0.0443\n",
            "\n",
            "Epoch 00001: val_loss did not improve from 4.11175\n",
            "epoch  16\n",
            "1/1 [==============================] - 9s 9s/step - loss: 4.0839 - accuracy: 0.0312 - val_loss: 4.1458 - val_accuracy: 0.0420\n",
            "\n",
            "Epoch 00001: val_loss did not improve from 4.11175\n",
            "epoch  17\n",
            "1/1 [==============================] - 9s 9s/step - loss: 4.5146 - accuracy: 0.0000e+00 - val_loss: 4.1186 - val_accuracy: 0.0423\n",
            "\n",
            "Epoch 00001: val_loss did not improve from 4.11175\n",
            "epoch  18\n",
            "1/1 [==============================] - 9s 9s/step - loss: 4.3117 - accuracy: 0.0000e+00 - val_loss: 4.0779 - val_accuracy: 0.0417\n",
            "\n",
            "Epoch 00001: val_loss improved from 4.11175 to 4.07790, saving model to /content/classification_age_model.hdf5\n",
            "epoch  19\n",
            "1/1 [==============================] - 9s 9s/step - loss: 4.1884 - accuracy: 0.0312 - val_loss: 4.0440 - val_accuracy: 0.0420\n",
            "\n",
            "Epoch 00001: val_loss improved from 4.07790 to 4.04401, saving model to /content/classification_age_model.hdf5\n",
            "epoch  20\n",
            "1/1 [==============================] - 9s 9s/step - loss: 4.2328 - accuracy: 0.0000e+00 - val_loss: 4.0318 - val_accuracy: 0.0367\n",
            "\n",
            "Epoch 00001: val_loss improved from 4.04401 to 4.03175, saving model to /content/classification_age_model.hdf5\n",
            "epoch  21\n",
            "1/1 [==============================] - 9s 9s/step - loss: 4.1249 - accuracy: 0.0312 - val_loss: 4.0361 - val_accuracy: 0.0377\n",
            "\n",
            "Epoch 00001: val_loss did not improve from 4.03175\n",
            "epoch  22\n",
            "1/1 [==============================] - 9s 9s/step - loss: 3.9085 - accuracy: 0.0000e+00 - val_loss: 4.0250 - val_accuracy: 0.0410\n",
            "\n",
            "Epoch 00001: val_loss improved from 4.03175 to 4.02496, saving model to /content/classification_age_model.hdf5\n",
            "epoch  23\n",
            "1/1 [==============================] - 9s 9s/step - loss: 4.0399 - accuracy: 0.0000e+00 - val_loss: 4.0051 - val_accuracy: 0.0447\n",
            "\n",
            "Epoch 00001: val_loss improved from 4.02496 to 4.00506, saving model to /content/classification_age_model.hdf5\n",
            "epoch  24\n",
            "1/1 [==============================] - 9s 9s/step - loss: 3.9840 - accuracy: 0.0312 - val_loss: 3.9833 - val_accuracy: 0.0393\n",
            "\n",
            "Epoch 00001: val_loss improved from 4.00506 to 3.98333, saving model to /content/classification_age_model.hdf5\n",
            "epoch  25\n",
            "1/1 [==============================] - 9s 9s/step - loss: 3.8490 - accuracy: 0.0000e+00 - val_loss: 3.9759 - val_accuracy: 0.0380\n",
            "\n",
            "Epoch 00001: val_loss improved from 3.98333 to 3.97585, saving model to /content/classification_age_model.hdf5\n",
            "epoch  26\n",
            "1/1 [==============================] - 9s 9s/step - loss: 3.9628 - accuracy: 0.0312 - val_loss: 3.9845 - val_accuracy: 0.0387\n",
            "\n",
            "Epoch 00001: val_loss did not improve from 3.97585\n",
            "epoch  27\n",
            "1/1 [==============================] - 9s 9s/step - loss: 4.2358 - accuracy: 0.0000e+00 - val_loss: 3.9867 - val_accuracy: 0.0427\n",
            "\n",
            "Epoch 00001: val_loss did not improve from 3.97585\n",
            "epoch  28\n",
            "1/1 [==============================] - 9s 9s/step - loss: 4.3588 - accuracy: 0.0000e+00 - val_loss: 3.9681 - val_accuracy: 0.0397\n",
            "\n",
            "Epoch 00001: val_loss improved from 3.97585 to 3.96812, saving model to /content/classification_age_model.hdf5\n",
            "epoch  29\n",
            "1/1 [==============================] - 9s 9s/step - loss: 3.9332 - accuracy: 0.0625 - val_loss: 3.9505 - val_accuracy: 0.0340\n",
            "\n",
            "Epoch 00001: val_loss improved from 3.96812 to 3.95045, saving model to /content/classification_age_model.hdf5\n",
            "epoch  30\n",
            "1/1 [==============================] - 9s 9s/step - loss: 3.9543 - accuracy: 0.0312 - val_loss: 3.9350 - val_accuracy: 0.0357\n",
            "\n",
            "Epoch 00001: val_loss improved from 3.95045 to 3.93496, saving model to /content/classification_age_model.hdf5\n",
            "epoch  31\n",
            "1/1 [==============================] - 9s 9s/step - loss: 4.0530 - accuracy: 0.0000e+00 - val_loss: 3.9253 - val_accuracy: 0.0367\n",
            "\n",
            "Epoch 00001: val_loss improved from 3.93496 to 3.92533, saving model to /content/classification_age_model.hdf5\n",
            "epoch  32\n",
            "1/1 [==============================] - 9s 9s/step - loss: 3.9240 - accuracy: 0.1250 - val_loss: 3.9209 - val_accuracy: 0.0393\n",
            "\n",
            "Epoch 00001: val_loss improved from 3.92533 to 3.92090, saving model to /content/classification_age_model.hdf5\n",
            "epoch  33\n",
            "1/1 [==============================] - 9s 9s/step - loss: 4.2683 - accuracy: 0.0000e+00 - val_loss: 3.9230 - val_accuracy: 0.0363\n",
            "\n",
            "Epoch 00001: val_loss did not improve from 3.92090\n",
            "epoch  34\n",
            "1/1 [==============================] - 9s 9s/step - loss: 3.9626 - accuracy: 0.0312 - val_loss: 3.9247 - val_accuracy: 0.0343\n",
            "\n",
            "Epoch 00001: val_loss did not improve from 3.92090\n",
            "epoch  35\n",
            "1/1 [==============================] - 9s 9s/step - loss: 3.9006 - accuracy: 0.0312 - val_loss: 3.9201 - val_accuracy: 0.0347\n",
            "\n",
            "Epoch 00001: val_loss improved from 3.92090 to 3.92013, saving model to /content/classification_age_model.hdf5\n",
            "epoch  36\n",
            "1/1 [==============================] - 9s 9s/step - loss: 3.8746 - accuracy: 0.0312 - val_loss: 3.9105 - val_accuracy: 0.0357\n",
            "\n",
            "Epoch 00001: val_loss improved from 3.92013 to 3.91053, saving model to /content/classification_age_model.hdf5\n",
            "epoch  37\n",
            "1/1 [==============================] - 9s 9s/step - loss: 3.7312 - accuracy: 0.0312 - val_loss: 3.9009 - val_accuracy: 0.0410\n",
            "\n",
            "Epoch 00001: val_loss improved from 3.91053 to 3.90090, saving model to /content/classification_age_model.hdf5\n",
            "epoch  38\n",
            "1/1 [==============================] - 9s 9s/step - loss: 4.1267 - accuracy: 0.0000e+00 - val_loss: 3.8977 - val_accuracy: 0.0430\n",
            "\n",
            "Epoch 00001: val_loss improved from 3.90090 to 3.89771, saving model to /content/classification_age_model.hdf5\n",
            "epoch  39\n",
            "1/1 [==============================] - 9s 9s/step - loss: 3.8022 - accuracy: 0.0625 - val_loss: 3.8897 - val_accuracy: 0.0440\n",
            "\n",
            "Epoch 00001: val_loss improved from 3.89771 to 3.88972, saving model to /content/classification_age_model.hdf5\n",
            "epoch  40\n",
            "1/1 [==============================] - 9s 9s/step - loss: 3.8603 - accuracy: 0.0312 - val_loss: 3.8795 - val_accuracy: 0.0470\n",
            "\n",
            "Epoch 00001: val_loss improved from 3.88972 to 3.87952, saving model to /content/classification_age_model.hdf5\n",
            "epoch  41\n",
            "1/1 [==============================] - 9s 9s/step - loss: 3.8678 - accuracy: 0.0312 - val_loss: 3.8726 - val_accuracy: 0.0377\n",
            "\n",
            "Epoch 00001: val_loss improved from 3.87952 to 3.87258, saving model to /content/classification_age_model.hdf5\n",
            "epoch  42\n",
            "1/1 [==============================] - 9s 9s/step - loss: 4.0886 - accuracy: 0.0000e+00 - val_loss: 3.8652 - val_accuracy: 0.0377\n",
            "\n",
            "Epoch 00001: val_loss improved from 3.87258 to 3.86524, saving model to /content/classification_age_model.hdf5\n",
            "epoch  43\n",
            "1/1 [==============================] - 9s 9s/step - loss: 4.0733 - accuracy: 0.0625 - val_loss: 3.8670 - val_accuracy: 0.0393\n",
            "\n",
            "Epoch 00001: val_loss did not improve from 3.86524\n",
            "epoch  44\n",
            "1/1 [==============================] - 9s 9s/step - loss: 3.9916 - accuracy: 0.0312 - val_loss: 3.8813 - val_accuracy: 0.0390\n",
            "\n",
            "Epoch 00001: val_loss did not improve from 3.86524\n",
            "epoch  45\n",
            "1/1 [==============================] - 9s 9s/step - loss: 3.7287 - accuracy: 0.0000e+00 - val_loss: 3.8871 - val_accuracy: 0.0390\n",
            "\n",
            "Epoch 00001: val_loss did not improve from 3.86524\n",
            "epoch  46\n",
            "1/1 [==============================] - 9s 9s/step - loss: 3.8035 - accuracy: 0.0312 - val_loss: 3.8838 - val_accuracy: 0.0417\n",
            "\n",
            "Epoch 00001: val_loss did not improve from 3.86524\n",
            "epoch  47\n",
            "1/1 [==============================] - 9s 9s/step - loss: 3.9889 - accuracy: 0.0312 - val_loss: 3.8780 - val_accuracy: 0.0410\n",
            "\n",
            "Epoch 00001: val_loss did not improve from 3.86524\n",
            "epoch  48\n",
            "1/1 [==============================] - 9s 9s/step - loss: 3.7331 - accuracy: 0.1562 - val_loss: 3.8814 - val_accuracy: 0.0387\n",
            "\n",
            "Epoch 00001: val_loss did not improve from 3.86524\n",
            "epoch  49\n",
            "1/1 [==============================] - 9s 9s/step - loss: 4.0750 - accuracy: 0.0000e+00 - val_loss: 3.8768 - val_accuracy: 0.0387\n",
            "\n",
            "Epoch 00001: val_loss did not improve from 3.86524\n",
            "epoch  50\n",
            "1/1 [==============================] - 9s 9s/step - loss: 3.8949 - accuracy: 0.0625 - val_loss: 3.8723 - val_accuracy: 0.0363\n",
            "\n",
            "Epoch 00001: val_loss did not improve from 3.86524\n",
            "epoch  51\n",
            "1/1 [==============================] - 9s 9s/step - loss: 4.0721 - accuracy: 0.0625 - val_loss: 3.8593 - val_accuracy: 0.0337\n",
            "\n",
            "Epoch 00001: val_loss improved from 3.86524 to 3.85932, saving model to /content/classification_age_model.hdf5\n",
            "epoch  52\n",
            "1/1 [==============================] - 9s 9s/step - loss: 4.0482 - accuracy: 0.0312 - val_loss: 3.8454 - val_accuracy: 0.0303\n",
            "\n",
            "Epoch 00001: val_loss improved from 3.85932 to 3.84543, saving model to /content/classification_age_model.hdf5\n",
            "epoch  53\n",
            "1/1 [==============================] - 9s 9s/step - loss: 3.7587 - accuracy: 0.0000e+00 - val_loss: 3.8397 - val_accuracy: 0.0363\n",
            "\n",
            "Epoch 00001: val_loss improved from 3.84543 to 3.83974, saving model to /content/classification_age_model.hdf5\n",
            "epoch  54\n",
            "1/1 [==============================] - 9s 9s/step - loss: 3.9791 - accuracy: 0.0000e+00 - val_loss: 3.8383 - val_accuracy: 0.0440\n",
            "\n",
            "Epoch 00001: val_loss improved from 3.83974 to 3.83826, saving model to /content/classification_age_model.hdf5\n",
            "epoch  55\n",
            "1/1 [==============================] - 9s 9s/step - loss: 3.9163 - accuracy: 0.0625 - val_loss: 3.8355 - val_accuracy: 0.0517\n",
            "\n",
            "Epoch 00001: val_loss improved from 3.83826 to 3.83547, saving model to /content/classification_age_model.hdf5\n",
            "epoch  56\n",
            "1/1 [==============================] - 9s 9s/step - loss: 3.6200 - accuracy: 0.0312 - val_loss: 3.8287 - val_accuracy: 0.0480\n",
            "\n",
            "Epoch 00001: val_loss improved from 3.83547 to 3.82873, saving model to /content/classification_age_model.hdf5\n",
            "epoch  57\n",
            "1/1 [==============================] - 9s 9s/step - loss: 3.6531 - accuracy: 0.0625 - val_loss: 3.8308 - val_accuracy: 0.0473\n",
            "\n",
            "Epoch 00001: val_loss did not improve from 3.82873\n",
            "epoch  58\n",
            "1/1 [==============================] - 9s 9s/step - loss: 3.8130 - accuracy: 0.0938 - val_loss: 3.8416 - val_accuracy: 0.0430\n",
            "\n",
            "Epoch 00001: val_loss did not improve from 3.82873\n",
            "epoch  59\n",
            "1/1 [==============================] - 9s 9s/step - loss: 3.7791 - accuracy: 0.0312 - val_loss: 3.8551 - val_accuracy: 0.0460\n",
            "\n",
            "Epoch 00001: val_loss did not improve from 3.82873\n",
            "epoch  60\n",
            "1/1 [==============================] - 9s 9s/step - loss: 4.0470 - accuracy: 0.0312 - val_loss: 3.8547 - val_accuracy: 0.0457\n",
            "\n",
            "Epoch 00001: val_loss did not improve from 3.82873\n",
            "epoch  61\n",
            "1/1 [==============================] - 9s 9s/step - loss: 3.9168 - accuracy: 0.0312 - val_loss: 3.8429 - val_accuracy: 0.0453\n",
            "\n",
            "Epoch 00001: val_loss did not improve from 3.82873\n",
            "epoch  62\n",
            "1/1 [==============================] - 9s 9s/step - loss: 3.9790 - accuracy: 0.0625 - val_loss: 3.8284 - val_accuracy: 0.0443\n",
            "\n",
            "Epoch 00001: val_loss improved from 3.82873 to 3.82838, saving model to /content/classification_age_model.hdf5\n",
            "epoch  63\n",
            "1/1 [==============================] - 9s 9s/step - loss: 3.9176 - accuracy: 0.0938 - val_loss: 3.8210 - val_accuracy: 0.0437\n",
            "\n",
            "Epoch 00001: val_loss improved from 3.82838 to 3.82101, saving model to /content/classification_age_model.hdf5\n",
            "epoch  64\n",
            "1/1 [==============================] - 9s 9s/step - loss: 3.7961 - accuracy: 0.0312 - val_loss: 3.8199 - val_accuracy: 0.0420\n",
            "\n",
            "Epoch 00001: val_loss improved from 3.82101 to 3.81991, saving model to /content/classification_age_model.hdf5\n",
            "epoch  65\n",
            "1/1 [==============================] - 9s 9s/step - loss: 3.9998 - accuracy: 0.0312 - val_loss: 3.8219 - val_accuracy: 0.0403\n",
            "\n",
            "Epoch 00001: val_loss did not improve from 3.81991\n",
            "epoch  66\n",
            "1/1 [==============================] - 9s 9s/step - loss: 3.7429 - accuracy: 0.0625 - val_loss: 3.8191 - val_accuracy: 0.0380\n",
            "\n",
            "Epoch 00001: val_loss improved from 3.81991 to 3.81914, saving model to /content/classification_age_model.hdf5\n",
            "epoch  67\n",
            "1/1 [==============================] - 9s 9s/step - loss: 3.5849 - accuracy: 0.0312 - val_loss: 3.8155 - val_accuracy: 0.0360\n",
            "\n",
            "Epoch 00001: val_loss improved from 3.81914 to 3.81545, saving model to /content/classification_age_model.hdf5\n",
            "epoch  68\n",
            "1/1 [==============================] - 9s 9s/step - loss: 3.8779 - accuracy: 0.0000e+00 - val_loss: 3.8084 - val_accuracy: 0.0323\n",
            "\n",
            "Epoch 00001: val_loss improved from 3.81545 to 3.80840, saving model to /content/classification_age_model.hdf5\n",
            "epoch  69\n",
            "1/1 [==============================] - 9s 9s/step - loss: 3.8584 - accuracy: 0.0625 - val_loss: 3.7992 - val_accuracy: 0.0330\n",
            "\n",
            "Epoch 00001: val_loss improved from 3.80840 to 3.79924, saving model to /content/classification_age_model.hdf5\n",
            "epoch  70\n",
            "1/1 [==============================] - 9s 9s/step - loss: 3.5488 - accuracy: 0.1250 - val_loss: 3.7918 - val_accuracy: 0.0390\n",
            "\n",
            "Epoch 00001: val_loss improved from 3.79924 to 3.79177, saving model to /content/classification_age_model.hdf5\n",
            "epoch  71\n",
            "1/1 [==============================] - 9s 9s/step - loss: 3.9191 - accuracy: 0.0312 - val_loss: 3.7878 - val_accuracy: 0.0413\n",
            "\n",
            "Epoch 00001: val_loss improved from 3.79177 to 3.78779, saving model to /content/classification_age_model.hdf5\n",
            "epoch  72\n",
            "1/1 [==============================] - 9s 9s/step - loss: 3.4953 - accuracy: 0.0938 - val_loss: 3.7903 - val_accuracy: 0.0420\n",
            "\n",
            "Epoch 00001: val_loss did not improve from 3.78779\n",
            "epoch  73\n",
            "1/1 [==============================] - 9s 9s/step - loss: 3.9244 - accuracy: 0.0938 - val_loss: 3.7980 - val_accuracy: 0.0443\n",
            "\n",
            "Epoch 00001: val_loss did not improve from 3.78779\n",
            "epoch  74\n",
            "1/1 [==============================] - 9s 9s/step - loss: 3.8294 - accuracy: 0.0625 - val_loss: 3.8053 - val_accuracy: 0.0463\n",
            "\n",
            "Epoch 00001: val_loss did not improve from 3.78779\n",
            "epoch  75\n",
            "1/1 [==============================] - 9s 9s/step - loss: 3.8766 - accuracy: 0.0312 - val_loss: 3.8089 - val_accuracy: 0.0477\n",
            "\n",
            "Epoch 00001: val_loss did not improve from 3.78779\n",
            "epoch  76\n",
            "1/1 [==============================] - 9s 9s/step - loss: 3.8100 - accuracy: 0.0625 - val_loss: 3.8176 - val_accuracy: 0.0493\n",
            "\n",
            "Epoch 00001: val_loss did not improve from 3.78779\n",
            "epoch  77\n",
            "1/1 [==============================] - 9s 9s/step - loss: 3.9712 - accuracy: 0.0938 - val_loss: 3.8157 - val_accuracy: 0.0483\n",
            "\n",
            "Epoch 00001: val_loss did not improve from 3.78779\n",
            "epoch  78\n",
            "1/1 [==============================] - 9s 9s/step - loss: 3.4474 - accuracy: 0.0938 - val_loss: 3.8062 - val_accuracy: 0.0490\n",
            "\n",
            "Epoch 00001: val_loss did not improve from 3.78779\n",
            "epoch  79\n",
            "1/1 [==============================] - 9s 9s/step - loss: 3.8504 - accuracy: 0.0312 - val_loss: 3.7843 - val_accuracy: 0.0470\n",
            "\n",
            "Epoch 00001: val_loss improved from 3.78779 to 3.78430, saving model to /content/classification_age_model.hdf5\n",
            "epoch  80\n",
            "1/1 [==============================] - 9s 9s/step - loss: 3.7284 - accuracy: 0.0312 - val_loss: 3.7669 - val_accuracy: 0.0460\n",
            "\n",
            "Epoch 00001: val_loss improved from 3.78430 to 3.76687, saving model to /content/classification_age_model.hdf5\n",
            "epoch  81\n",
            "1/1 [==============================] - 9s 9s/step - loss: 3.8483 - accuracy: 0.0312 - val_loss: 3.7538 - val_accuracy: 0.0457\n",
            "\n",
            "Epoch 00001: val_loss improved from 3.76687 to 3.75382, saving model to /content/classification_age_model.hdf5\n",
            "epoch  82\n",
            "1/1 [==============================] - 9s 9s/step - loss: 3.8421 - accuracy: 0.0625 - val_loss: 3.7426 - val_accuracy: 0.0457\n",
            "\n",
            "Epoch 00001: val_loss improved from 3.75382 to 3.74259, saving model to /content/classification_age_model.hdf5\n",
            "epoch  83\n",
            "1/1 [==============================] - 9s 9s/step - loss: 3.6744 - accuracy: 0.0312 - val_loss: 3.7374 - val_accuracy: 0.0470\n",
            "\n",
            "Epoch 00001: val_loss improved from 3.74259 to 3.73741, saving model to /content/classification_age_model.hdf5\n",
            "epoch  84\n",
            "1/1 [==============================] - 9s 9s/step - loss: 3.7240 - accuracy: 0.0312 - val_loss: 3.7373 - val_accuracy: 0.0487\n",
            "\n",
            "Epoch 00001: val_loss improved from 3.73741 to 3.73727, saving model to /content/classification_age_model.hdf5\n",
            "epoch  85\n",
            "1/1 [==============================] - 9s 9s/step - loss: 3.5681 - accuracy: 0.0312 - val_loss: 3.7395 - val_accuracy: 0.0500\n",
            "\n",
            "Epoch 00001: val_loss did not improve from 3.73727\n",
            "epoch  86\n",
            "1/1 [==============================] - 9s 9s/step - loss: 3.9042 - accuracy: 0.0000e+00 - val_loss: 3.7436 - val_accuracy: 0.0490\n",
            "\n",
            "Epoch 00001: val_loss did not improve from 3.73727\n",
            "epoch  87\n",
            "1/1 [==============================] - 9s 9s/step - loss: 3.8817 - accuracy: 0.0938 - val_loss: 3.7584 - val_accuracy: 0.0503\n",
            "\n",
            "Epoch 00001: val_loss did not improve from 3.73727\n",
            "epoch  88\n",
            "1/1 [==============================] - 9s 9s/step - loss: 3.9621 - accuracy: 0.0000e+00 - val_loss: 3.7631 - val_accuracy: 0.0460\n",
            "\n",
            "Epoch 00001: val_loss did not improve from 3.73727\n",
            "epoch  89\n",
            "1/1 [==============================] - 9s 9s/step - loss: 3.6722 - accuracy: 0.0312 - val_loss: 3.7620 - val_accuracy: 0.0477\n",
            "\n",
            "Epoch 00001: val_loss did not improve from 3.73727\n",
            "epoch  90\n",
            "1/1 [==============================] - 9s 9s/step - loss: 3.8636 - accuracy: 0.0000e+00 - val_loss: 3.7606 - val_accuracy: 0.0433\n",
            "\n",
            "Epoch 00001: val_loss did not improve from 3.73727\n",
            "epoch  91\n",
            "1/1 [==============================] - 9s 9s/step - loss: 4.2153 - accuracy: 0.0625 - val_loss: 3.7607 - val_accuracy: 0.0413\n",
            "\n",
            "Epoch 00001: val_loss did not improve from 3.73727\n",
            "epoch  92\n",
            "1/1 [==============================] - 9s 9s/step - loss: 3.5888 - accuracy: 0.0625 - val_loss: 3.7629 - val_accuracy: 0.0433\n",
            "\n",
            "Epoch 00001: val_loss did not improve from 3.73727\n",
            "epoch  93\n",
            "1/1 [==============================] - 9s 9s/step - loss: 3.5817 - accuracy: 0.0625 - val_loss: 3.7655 - val_accuracy: 0.0427\n",
            "\n",
            "Epoch 00001: val_loss did not improve from 3.73727\n",
            "epoch  94\n",
            "1/1 [==============================] - 9s 9s/step - loss: 3.5639 - accuracy: 0.0625 - val_loss: 3.7705 - val_accuracy: 0.0423\n",
            "\n",
            "Epoch 00001: val_loss did not improve from 3.73727\n",
            "epoch  95\n",
            "1/1 [==============================] - 9s 9s/step - loss: 3.6442 - accuracy: 0.1250 - val_loss: 3.7681 - val_accuracy: 0.0413\n",
            "\n",
            "Epoch 00001: val_loss did not improve from 3.73727\n",
            "epoch  96\n",
            "1/1 [==============================] - 9s 9s/step - loss: 3.8363 - accuracy: 0.0625 - val_loss: 3.7649 - val_accuracy: 0.0420\n",
            "\n",
            "Epoch 00001: val_loss did not improve from 3.73727\n",
            "epoch  97\n",
            "1/1 [==============================] - 9s 9s/step - loss: 3.9744 - accuracy: 0.0000e+00 - val_loss: 3.7527 - val_accuracy: 0.0407\n",
            "\n",
            "Epoch 00001: val_loss did not improve from 3.73727\n",
            "epoch  98\n",
            "1/1 [==============================] - 9s 9s/step - loss: 3.7197 - accuracy: 0.0000e+00 - val_loss: 3.7355 - val_accuracy: 0.0423\n",
            "\n",
            "Epoch 00001: val_loss improved from 3.73727 to 3.73550, saving model to /content/classification_age_model.hdf5\n",
            "epoch  99\n",
            "1/1 [==============================] - 9s 9s/step - loss: 3.8393 - accuracy: 0.0312 - val_loss: 3.7314 - val_accuracy: 0.0437\n",
            "\n",
            "Epoch 00001: val_loss improved from 3.73550 to 3.73137, saving model to /content/classification_age_model.hdf5\n",
            "epoch  100\n",
            "1/1 [==============================] - 9s 9s/step - loss: 3.5002 - accuracy: 0.0312 - val_loss: 3.7482 - val_accuracy: 0.0510\n",
            "\n",
            "Epoch 00001: val_loss did not improve from 3.73137\n",
            "epoch  101\n",
            "1/1 [==============================] - 9s 9s/step - loss: 3.6658 - accuracy: 0.0625 - val_loss: 3.7585 - val_accuracy: 0.0537\n",
            "\n",
            "Epoch 00001: val_loss did not improve from 3.73137\n",
            "epoch  102\n",
            "1/1 [==============================] - 9s 9s/step - loss: 3.7514 - accuracy: 0.0312 - val_loss: 3.7485 - val_accuracy: 0.0567\n",
            "\n",
            "Epoch 00001: val_loss did not improve from 3.73137\n",
            "epoch  103\n",
            "1/1 [==============================] - 9s 9s/step - loss: 3.7378 - accuracy: 0.0000e+00 - val_loss: 3.7381 - val_accuracy: 0.0560\n",
            "\n",
            "Epoch 00001: val_loss did not improve from 3.73137\n",
            "epoch  104\n",
            "1/1 [==============================] - 9s 9s/step - loss: 3.8565 - accuracy: 0.0312 - val_loss: 3.7343 - val_accuracy: 0.0550\n",
            "\n",
            "Epoch 00001: val_loss did not improve from 3.73137\n",
            "epoch  105\n",
            "1/1 [==============================] - 9s 9s/step - loss: 3.7847 - accuracy: 0.0625 - val_loss: 3.7352 - val_accuracy: 0.0530\n",
            "\n",
            "Epoch 00001: val_loss did not improve from 3.73137\n",
            "epoch  106\n",
            "1/1 [==============================] - 9s 9s/step - loss: 3.7537 - accuracy: 0.0000e+00 - val_loss: 3.7322 - val_accuracy: 0.0530\n",
            "\n",
            "Epoch 00001: val_loss did not improve from 3.73137\n",
            "epoch  107\n",
            "1/1 [==============================] - 9s 9s/step - loss: 3.7347 - accuracy: 0.0000e+00 - val_loss: 3.7190 - val_accuracy: 0.0560\n",
            "\n",
            "Epoch 00001: val_loss improved from 3.73137 to 3.71896, saving model to /content/classification_age_model.hdf5\n",
            "epoch  108\n",
            "1/1 [==============================] - 10s 10s/step - loss: 3.6506 - accuracy: 0.0625 - val_loss: 3.7088 - val_accuracy: 0.0520\n",
            "\n",
            "Epoch 00001: val_loss improved from 3.71896 to 3.70875, saving model to /content/classification_age_model.hdf5\n",
            "epoch  109\n",
            "1/1 [==============================] - 9s 9s/step - loss: 3.5433 - accuracy: 0.0938 - val_loss: 3.7058 - val_accuracy: 0.0553\n",
            "\n",
            "Epoch 00001: val_loss improved from 3.70875 to 3.70581, saving model to /content/classification_age_model.hdf5\n",
            "epoch  110\n",
            "1/1 [==============================] - 10s 10s/step - loss: 3.8677 - accuracy: 0.0312 - val_loss: 3.7103 - val_accuracy: 0.0523\n",
            "\n",
            "Epoch 00001: val_loss did not improve from 3.70581\n",
            "epoch  111\n",
            "1/1 [==============================] - 9s 9s/step - loss: 3.7114 - accuracy: 0.0000e+00 - val_loss: 3.7129 - val_accuracy: 0.0510\n",
            "\n",
            "Epoch 00001: val_loss did not improve from 3.70581\n",
            "epoch  112\n",
            "1/1 [==============================] - 9s 9s/step - loss: 3.8200 - accuracy: 0.0625 - val_loss: 3.7159 - val_accuracy: 0.0497\n",
            "\n",
            "Epoch 00001: val_loss did not improve from 3.70581\n",
            "epoch  113\n",
            "1/1 [==============================] - 9s 9s/step - loss: 3.6613 - accuracy: 0.0312 - val_loss: 3.7203 - val_accuracy: 0.0517\n",
            "\n",
            "Epoch 00001: val_loss did not improve from 3.70581\n",
            "epoch  114\n",
            "1/1 [==============================] - 9s 9s/step - loss: 3.7555 - accuracy: 0.0312 - val_loss: 3.7155 - val_accuracy: 0.0477\n",
            "\n",
            "Epoch 00001: val_loss did not improve from 3.70581\n",
            "epoch  115\n",
            "1/1 [==============================] - 9s 9s/step - loss: 4.0717 - accuracy: 0.0000e+00 - val_loss: 3.7106 - val_accuracy: 0.0483\n",
            "\n",
            "Epoch 00001: val_loss did not improve from 3.70581\n",
            "epoch  116\n",
            "1/1 [==============================] - 9s 9s/step - loss: 3.5041 - accuracy: 0.0938 - val_loss: 3.7077 - val_accuracy: 0.0453\n",
            "\n",
            "Epoch 00001: val_loss did not improve from 3.70581\n",
            "epoch  117\n",
            "1/1 [==============================] - 9s 9s/step - loss: 3.6415 - accuracy: 0.0312 - val_loss: 3.7102 - val_accuracy: 0.0437\n",
            "\n",
            "Epoch 00001: val_loss did not improve from 3.70581\n",
            "epoch  118\n",
            "1/1 [==============================] - 9s 9s/step - loss: 3.8547 - accuracy: 0.0312 - val_loss: 3.7154 - val_accuracy: 0.0497\n",
            "\n",
            "Epoch 00001: val_loss did not improve from 3.70581\n",
            "epoch  119\n",
            "1/1 [==============================] - 9s 9s/step - loss: 3.6863 - accuracy: 0.0938 - val_loss: 3.7224 - val_accuracy: 0.0533\n",
            "\n",
            "Epoch 00001: val_loss did not improve from 3.70581\n",
            "epoch  120\n",
            "1/1 [==============================] - 9s 9s/step - loss: 3.8918 - accuracy: 0.0938 - val_loss: 3.7232 - val_accuracy: 0.0527\n",
            "\n",
            "Epoch 00001: val_loss did not improve from 3.70581\n",
            "epoch  121\n",
            "1/1 [==============================] - 9s 9s/step - loss: 3.7412 - accuracy: 0.0312 - val_loss: 3.7248 - val_accuracy: 0.0527\n",
            "\n",
            "Epoch 00001: val_loss did not improve from 3.70581\n",
            "epoch  122\n",
            "1/1 [==============================] - 9s 9s/step - loss: 3.6993 - accuracy: 0.0625 - val_loss: 3.7142 - val_accuracy: 0.0510\n",
            "\n",
            "Epoch 00001: val_loss did not improve from 3.70581\n",
            "epoch  123\n",
            "1/1 [==============================] - 9s 9s/step - loss: 3.4080 - accuracy: 0.1562 - val_loss: 3.7092 - val_accuracy: 0.0473\n",
            "\n",
            "Epoch 00001: val_loss did not improve from 3.70581\n",
            "epoch  124\n",
            "1/1 [==============================] - 9s 9s/step - loss: 3.4627 - accuracy: 0.0312 - val_loss: 3.7149 - val_accuracy: 0.0497\n",
            "\n",
            "Epoch 00001: val_loss did not improve from 3.70581\n",
            "epoch  125\n",
            "1/1 [==============================] - 9s 9s/step - loss: 3.3571 - accuracy: 0.0938 - val_loss: 3.7433 - val_accuracy: 0.0500\n",
            "\n",
            "Epoch 00001: val_loss did not improve from 3.70581\n",
            "epoch  126\n",
            "1/1 [==============================] - 9s 9s/step - loss: 3.8089 - accuracy: 0.0625 - val_loss: 3.7371 - val_accuracy: 0.0513\n",
            "\n",
            "Epoch 00001: val_loss did not improve from 3.70581\n",
            "epoch  127\n",
            "1/1 [==============================] - 9s 9s/step - loss: 3.8236 - accuracy: 0.0625 - val_loss: 3.7199 - val_accuracy: 0.0493\n",
            "\n",
            "Epoch 00001: val_loss did not improve from 3.70581\n",
            "epoch  128\n",
            "1/1 [==============================] - 9s 9s/step - loss: 3.9150 - accuracy: 0.0312 - val_loss: 3.7120 - val_accuracy: 0.0513\n",
            "\n",
            "Epoch 00001: val_loss did not improve from 3.70581\n",
            "epoch  129\n",
            "1/1 [==============================] - 9s 9s/step - loss: 3.5505 - accuracy: 0.0625 - val_loss: 3.7254 - val_accuracy: 0.0497\n",
            "\n",
            "Epoch 00001: val_loss did not improve from 3.70581\n",
            "epoch  130\n",
            "1/1 [==============================] - 9s 9s/step - loss: 3.4969 - accuracy: 0.0625 - val_loss: 3.7291 - val_accuracy: 0.0440\n",
            "\n",
            "Epoch 00001: val_loss did not improve from 3.70581\n",
            "epoch  131\n",
            "1/1 [==============================] - 9s 9s/step - loss: 3.7762 - accuracy: 0.0625 - val_loss: 3.7127 - val_accuracy: 0.0440\n",
            "\n",
            "Epoch 00001: val_loss did not improve from 3.70581\n",
            "epoch  132\n",
            "1/1 [==============================] - 9s 9s/step - loss: 3.5326 - accuracy: 0.0000e+00 - val_loss: 3.6933 - val_accuracy: 0.0447\n",
            "\n",
            "Epoch 00001: val_loss improved from 3.70581 to 3.69327, saving model to /content/classification_age_model.hdf5\n",
            "epoch  133\n",
            "1/1 [==============================] - 9s 9s/step - loss: 3.6145 - accuracy: 0.0312 - val_loss: 3.6797 - val_accuracy: 0.0463\n",
            "\n",
            "Epoch 00001: val_loss improved from 3.69327 to 3.67972, saving model to /content/classification_age_model.hdf5\n",
            "epoch  134\n",
            "1/1 [==============================] - 9s 9s/step - loss: 3.9004 - accuracy: 0.1562 - val_loss: 3.6760 - val_accuracy: 0.0440\n",
            "\n",
            "Epoch 00001: val_loss improved from 3.67972 to 3.67596, saving model to /content/classification_age_model.hdf5\n",
            "epoch  135\n",
            "1/1 [==============================] - 9s 9s/step - loss: 3.5046 - accuracy: 0.0312 - val_loss: 3.6752 - val_accuracy: 0.0470\n",
            "\n",
            "Epoch 00001: val_loss improved from 3.67596 to 3.67518, saving model to /content/classification_age_model.hdf5\n",
            "epoch  136\n",
            "1/1 [==============================] - 9s 9s/step - loss: 3.5531 - accuracy: 0.0625 - val_loss: 3.6771 - val_accuracy: 0.0467\n",
            "\n",
            "Epoch 00001: val_loss did not improve from 3.67518\n",
            "epoch  137\n",
            "1/1 [==============================] - 9s 9s/step - loss: 3.3754 - accuracy: 0.0938 - val_loss: 3.6892 - val_accuracy: 0.0493\n",
            "\n",
            "Epoch 00001: val_loss did not improve from 3.67518\n",
            "epoch  138\n",
            "1/1 [==============================] - 9s 9s/step - loss: 3.8437 - accuracy: 0.0625 - val_loss: 3.6915 - val_accuracy: 0.0473\n",
            "\n",
            "Epoch 00001: val_loss did not improve from 3.67518\n",
            "epoch  139\n",
            "1/1 [==============================] - 9s 9s/step - loss: 3.7390 - accuracy: 0.0312 - val_loss: 3.6782 - val_accuracy: 0.0473\n",
            "\n",
            "Epoch 00001: val_loss did not improve from 3.67518\n",
            "epoch  140\n",
            "1/1 [==============================] - 9s 9s/step - loss: 3.2971 - accuracy: 0.1250 - val_loss: 3.6724 - val_accuracy: 0.0483\n",
            "\n",
            "Epoch 00001: val_loss improved from 3.67518 to 3.67244, saving model to /content/classification_age_model.hdf5\n",
            "epoch  141\n",
            "1/1 [==============================] - 9s 9s/step - loss: 3.5080 - accuracy: 0.0938 - val_loss: 3.6721 - val_accuracy: 0.0500\n",
            "\n",
            "Epoch 00001: val_loss improved from 3.67244 to 3.67207, saving model to /content/classification_age_model.hdf5\n",
            "epoch  142\n",
            "1/1 [==============================] - 9s 9s/step - loss: 3.4625 - accuracy: 0.0312 - val_loss: 3.6883 - val_accuracy: 0.0497\n",
            "\n",
            "Epoch 00001: val_loss did not improve from 3.67207\n",
            "epoch  143\n",
            "1/1 [==============================] - 9s 9s/step - loss: 3.5008 - accuracy: 0.0625 - val_loss: 3.7102 - val_accuracy: 0.0467\n",
            "\n",
            "Epoch 00001: val_loss did not improve from 3.67207\n",
            "epoch  144\n",
            "1/1 [==============================] - 9s 9s/step - loss: 3.7868 - accuracy: 0.0312 - val_loss: 3.7041 - val_accuracy: 0.0467\n",
            "\n",
            "Epoch 00001: val_loss did not improve from 3.67207\n",
            "epoch  145\n",
            "1/1 [==============================] - 9s 9s/step - loss: 3.6565 - accuracy: 0.0312 - val_loss: 3.6759 - val_accuracy: 0.0490\n",
            "\n",
            "Epoch 00001: val_loss did not improve from 3.67207\n",
            "epoch  146\n",
            "1/1 [==============================] - 9s 9s/step - loss: 3.4553 - accuracy: 0.1562 - val_loss: 3.6624 - val_accuracy: 0.0527\n",
            "\n",
            "Epoch 00001: val_loss improved from 3.67207 to 3.66242, saving model to /content/classification_age_model.hdf5\n",
            "epoch  147\n",
            "1/1 [==============================] - 9s 9s/step - loss: 3.7639 - accuracy: 0.0312 - val_loss: 3.6594 - val_accuracy: 0.0533\n",
            "\n",
            "Epoch 00001: val_loss improved from 3.66242 to 3.65935, saving model to /content/classification_age_model.hdf5\n",
            "epoch  148\n",
            "1/1 [==============================] - 9s 9s/step - loss: 3.4847 - accuracy: 0.1562 - val_loss: 3.6720 - val_accuracy: 0.0517\n",
            "\n",
            "Epoch 00001: val_loss did not improve from 3.65935\n",
            "epoch  149\n",
            "1/1 [==============================] - 9s 9s/step - loss: 3.3696 - accuracy: 0.0938 - val_loss: 3.6926 - val_accuracy: 0.0523\n",
            "\n",
            "Epoch 00001: val_loss did not improve from 3.65935\n",
            "epoch  150\n",
            "1/1 [==============================] - 9s 9s/step - loss: 3.5184 - accuracy: 0.1250 - val_loss: 3.6945 - val_accuracy: 0.0530\n",
            "\n",
            "Epoch 00001: val_loss did not improve from 3.65935\n",
            "epoch  151\n",
            "1/1 [==============================] - 9s 9s/step - loss: 3.6801 - accuracy: 0.0938 - val_loss: 3.6664 - val_accuracy: 0.0510\n",
            "\n",
            "Epoch 00001: val_loss did not improve from 3.65935\n",
            "epoch  152\n",
            "1/1 [==============================] - 9s 9s/step - loss: 3.4374 - accuracy: 0.0938 - val_loss: 3.6562 - val_accuracy: 0.0500\n",
            "\n",
            "Epoch 00001: val_loss improved from 3.65935 to 3.65618, saving model to /content/classification_age_model.hdf5\n",
            "epoch  153\n",
            "1/1 [==============================] - 9s 9s/step - loss: 3.5812 - accuracy: 0.0000e+00 - val_loss: 3.6582 - val_accuracy: 0.0497\n",
            "\n",
            "Epoch 00001: val_loss did not improve from 3.65618\n",
            "epoch  154\n",
            "1/1 [==============================] - 9s 9s/step - loss: 3.8898 - accuracy: 0.0312 - val_loss: 3.6625 - val_accuracy: 0.0517\n",
            "\n",
            "Epoch 00001: val_loss did not improve from 3.65618\n",
            "epoch  155\n",
            "1/1 [==============================] - 9s 9s/step - loss: 3.3312 - accuracy: 0.1562 - val_loss: 3.6747 - val_accuracy: 0.0443\n",
            "\n",
            "Epoch 00001: val_loss did not improve from 3.65618\n",
            "epoch  156\n",
            "1/1 [==============================] - 9s 9s/step - loss: 3.4710 - accuracy: 0.0312 - val_loss: 3.6880 - val_accuracy: 0.0453\n",
            "\n",
            "Epoch 00001: val_loss did not improve from 3.65618\n",
            "epoch  157\n",
            "1/1 [==============================] - 9s 9s/step - loss: 3.4798 - accuracy: 0.0938 - val_loss: 3.6960 - val_accuracy: 0.0470\n",
            "\n",
            "Epoch 00001: val_loss did not improve from 3.65618\n",
            "epoch  158\n",
            "1/1 [==============================] - 9s 9s/step - loss: 3.4497 - accuracy: 0.0938 - val_loss: 3.6864 - val_accuracy: 0.0470\n",
            "\n",
            "Epoch 00001: val_loss did not improve from 3.65618\n",
            "epoch  159\n",
            "1/1 [==============================] - 9s 9s/step - loss: 3.4001 - accuracy: 0.0938 - val_loss: 3.6734 - val_accuracy: 0.0510\n",
            "\n",
            "Epoch 00001: val_loss did not improve from 3.65618\n",
            "epoch  160\n",
            "1/1 [==============================] - 9s 9s/step - loss: 3.3751 - accuracy: 0.2188 - val_loss: 3.6626 - val_accuracy: 0.0493\n",
            "\n",
            "Epoch 00001: val_loss did not improve from 3.65618\n",
            "epoch  161\n",
            "1/1 [==============================] - 9s 9s/step - loss: 3.1777 - accuracy: 0.1562 - val_loss: 3.6619 - val_accuracy: 0.0473\n",
            "\n",
            "Epoch 00001: val_loss did not improve from 3.65618\n",
            "epoch  162\n",
            "1/1 [==============================] - 9s 9s/step - loss: 3.5147 - accuracy: 0.0625 - val_loss: 3.6677 - val_accuracy: 0.0540\n",
            "\n",
            "Epoch 00001: val_loss did not improve from 3.65618\n",
            "epoch  163\n",
            "1/1 [==============================] - 9s 9s/step - loss: 3.8247 - accuracy: 0.0312 - val_loss: 3.6730 - val_accuracy: 0.0527\n",
            "\n",
            "Epoch 00001: val_loss did not improve from 3.65618\n",
            "epoch  164\n",
            "1/1 [==============================] - 9s 9s/step - loss: 3.8845 - accuracy: 0.1562 - val_loss: 3.6680 - val_accuracy: 0.0520\n",
            "\n",
            "Epoch 00001: val_loss did not improve from 3.65618\n",
            "epoch  165\n",
            "1/1 [==============================] - 9s 9s/step - loss: 3.7113 - accuracy: 0.0625 - val_loss: 3.6616 - val_accuracy: 0.0507\n",
            "\n",
            "Epoch 00001: val_loss did not improve from 3.65618\n",
            "epoch  166\n",
            "1/1 [==============================] - 9s 9s/step - loss: 4.1637 - accuracy: 0.0000e+00 - val_loss: 3.6452 - val_accuracy: 0.0493\n",
            "\n",
            "Epoch 00001: val_loss improved from 3.65618 to 3.64521, saving model to /content/classification_age_model.hdf5\n",
            "epoch  167\n",
            "1/1 [==============================] - 9s 9s/step - loss: 3.7868 - accuracy: 0.0625 - val_loss: 3.6424 - val_accuracy: 0.0490\n",
            "\n",
            "Epoch 00001: val_loss improved from 3.64521 to 3.64244, saving model to /content/classification_age_model.hdf5\n",
            "epoch  168\n",
            "1/1 [==============================] - 9s 9s/step - loss: 3.6940 - accuracy: 0.0312 - val_loss: 3.6460 - val_accuracy: 0.0517\n",
            "\n",
            "Epoch 00001: val_loss did not improve from 3.64244\n",
            "epoch  169\n",
            "1/1 [==============================] - 9s 9s/step - loss: 3.6362 - accuracy: 0.0312 - val_loss: 3.6567 - val_accuracy: 0.0517\n",
            "\n",
            "Epoch 00001: val_loss did not improve from 3.64244\n",
            "epoch  170\n",
            "1/1 [==============================] - 9s 9s/step - loss: 3.5593 - accuracy: 0.0625 - val_loss: 3.6683 - val_accuracy: 0.0537\n",
            "\n",
            "Epoch 00001: val_loss did not improve from 3.64244\n",
            "epoch  171\n",
            "1/1 [==============================] - 9s 9s/step - loss: 3.5470 - accuracy: 0.0938 - val_loss: 3.6793 - val_accuracy: 0.0480\n",
            "\n",
            "Epoch 00001: val_loss did not improve from 3.64244\n",
            "epoch  172\n",
            "1/1 [==============================] - 9s 9s/step - loss: 3.8692 - accuracy: 0.0000e+00 - val_loss: 3.6873 - val_accuracy: 0.0447\n",
            "\n",
            "Epoch 00001: val_loss did not improve from 3.64244\n",
            "epoch  173\n",
            "1/1 [==============================] - 9s 9s/step - loss: 3.5325 - accuracy: 0.0312 - val_loss: 3.6859 - val_accuracy: 0.0427\n",
            "\n",
            "Epoch 00001: val_loss did not improve from 3.64244\n",
            "epoch  174\n",
            "1/1 [==============================] - 9s 9s/step - loss: 3.4202 - accuracy: 0.0938 - val_loss: 3.6896 - val_accuracy: 0.0427\n",
            "\n",
            "Epoch 00001: val_loss did not improve from 3.64244\n",
            "epoch  175\n",
            "1/1 [==============================] - 9s 9s/step - loss: 3.7857 - accuracy: 0.0625 - val_loss: 3.6871 - val_accuracy: 0.0407\n",
            "\n",
            "Epoch 00001: val_loss did not improve from 3.64244\n",
            "epoch  176\n",
            "1/1 [==============================] - 9s 9s/step - loss: 3.6695 - accuracy: 0.0625 - val_loss: 3.6829 - val_accuracy: 0.0440\n",
            "\n",
            "Epoch 00001: val_loss did not improve from 3.64244\n",
            "epoch  177\n",
            "1/1 [==============================] - 9s 9s/step - loss: 3.5914 - accuracy: 0.0625 - val_loss: 3.6752 - val_accuracy: 0.0460\n",
            "\n",
            "Epoch 00001: val_loss did not improve from 3.64244\n",
            "epoch  178\n",
            "1/1 [==============================] - 9s 9s/step - loss: 3.7687 - accuracy: 0.0312 - val_loss: 3.6616 - val_accuracy: 0.0427\n",
            "\n",
            "Epoch 00001: val_loss did not improve from 3.64244\n",
            "epoch  179\n",
            "1/1 [==============================] - 9s 9s/step - loss: 3.7022 - accuracy: 0.0625 - val_loss: 3.6514 - val_accuracy: 0.0437\n",
            "\n",
            "Epoch 00001: val_loss did not improve from 3.64244\n",
            "epoch  180\n",
            "1/1 [==============================] - 9s 9s/step - loss: 3.7069 - accuracy: 0.0312 - val_loss: 3.6407 - val_accuracy: 0.0480\n",
            "\n",
            "Epoch 00001: val_loss improved from 3.64244 to 3.64069, saving model to /content/classification_age_model.hdf5\n",
            "epoch  181\n",
            "1/1 [==============================] - 9s 9s/step - loss: 3.4153 - accuracy: 0.0625 - val_loss: 3.6311 - val_accuracy: 0.0530\n",
            "\n",
            "Epoch 00001: val_loss improved from 3.64069 to 3.63106, saving model to /content/classification_age_model.hdf5\n",
            "epoch  182\n",
            "1/1 [==============================] - 9s 9s/step - loss: 3.4928 - accuracy: 0.0938 - val_loss: 3.6231 - val_accuracy: 0.0537\n",
            "\n",
            "Epoch 00001: val_loss improved from 3.63106 to 3.62309, saving model to /content/classification_age_model.hdf5\n",
            "epoch  183\n",
            "1/1 [==============================] - 9s 9s/step - loss: 3.2588 - accuracy: 0.0312 - val_loss: 3.6238 - val_accuracy: 0.0520\n",
            "\n",
            "Epoch 00001: val_loss did not improve from 3.62309\n",
            "epoch  184\n",
            "1/1 [==============================] - 9s 9s/step - loss: 3.7699 - accuracy: 0.0625 - val_loss: 3.6211 - val_accuracy: 0.0490\n",
            "\n",
            "Epoch 00001: val_loss improved from 3.62309 to 3.62107, saving model to /content/classification_age_model.hdf5\n",
            "epoch  185\n",
            "1/1 [==============================] - 9s 9s/step - loss: 3.7267 - accuracy: 0.0312 - val_loss: 3.6222 - val_accuracy: 0.0497\n",
            "\n",
            "Epoch 00001: val_loss did not improve from 3.62107\n",
            "epoch  186\n",
            "1/1 [==============================] - 9s 9s/step - loss: 3.8873 - accuracy: 0.0312 - val_loss: 3.6095 - val_accuracy: 0.0463\n",
            "\n",
            "Epoch 00001: val_loss improved from 3.62107 to 3.60949, saving model to /content/classification_age_model.hdf5\n",
            "epoch  187\n",
            "1/1 [==============================] - 9s 9s/step - loss: 3.6434 - accuracy: 0.2500 - val_loss: 3.6063 - val_accuracy: 0.0477\n",
            "\n",
            "Epoch 00001: val_loss improved from 3.60949 to 3.60625, saving model to /content/classification_age_model.hdf5\n",
            "epoch  188\n",
            "1/1 [==============================] - 9s 9s/step - loss: 3.6077 - accuracy: 0.0938 - val_loss: 3.6105 - val_accuracy: 0.0497\n",
            "\n",
            "Epoch 00001: val_loss did not improve from 3.60625\n",
            "epoch  189\n",
            "1/1 [==============================] - 9s 9s/step - loss: 3.6713 - accuracy: 0.0625 - val_loss: 3.6213 - val_accuracy: 0.0517\n",
            "\n",
            "Epoch 00001: val_loss did not improve from 3.60625\n",
            "epoch  190\n",
            "1/1 [==============================] - 9s 9s/step - loss: 3.5371 - accuracy: 0.0312 - val_loss: 3.6448 - val_accuracy: 0.0493\n",
            "\n",
            "Epoch 00001: val_loss did not improve from 3.60625\n",
            "epoch  191\n",
            "1/1 [==============================] - 9s 9s/step - loss: 3.4633 - accuracy: 0.0312 - val_loss: 3.6619 - val_accuracy: 0.0477\n",
            "\n",
            "Epoch 00001: val_loss did not improve from 3.60625\n",
            "epoch  192\n",
            "1/1 [==============================] - 9s 9s/step - loss: 3.8421 - accuracy: 0.0000e+00 - val_loss: 3.6644 - val_accuracy: 0.0487\n",
            "\n",
            "Epoch 00001: val_loss did not improve from 3.60625\n",
            "epoch  193\n",
            "1/1 [==============================] - 9s 9s/step - loss: 3.9657 - accuracy: 0.0938 - val_loss: 3.6566 - val_accuracy: 0.0503\n",
            "\n",
            "Epoch 00001: val_loss did not improve from 3.60625\n",
            "epoch  194\n",
            "1/1 [==============================] - 9s 9s/step - loss: 3.3669 - accuracy: 0.1250 - val_loss: 3.6545 - val_accuracy: 0.0503\n",
            "\n",
            "Epoch 00001: val_loss did not improve from 3.60625\n",
            "epoch  195\n",
            "1/1 [==============================] - 9s 9s/step - loss: 3.5032 - accuracy: 0.0625 - val_loss: 3.6643 - val_accuracy: 0.0503\n",
            "\n",
            "Epoch 00001: val_loss did not improve from 3.60625\n",
            "epoch  196\n",
            "1/1 [==============================] - 9s 9s/step - loss: 3.5124 - accuracy: 0.0625 - val_loss: 3.6768 - val_accuracy: 0.0443\n",
            "\n",
            "Epoch 00001: val_loss did not improve from 3.60625\n",
            "epoch  197\n",
            "1/1 [==============================] - 9s 9s/step - loss: 3.6604 - accuracy: 0.0938 - val_loss: 3.6752 - val_accuracy: 0.0493\n",
            "\n",
            "Epoch 00001: val_loss did not improve from 3.60625\n",
            "epoch  198\n",
            "1/1 [==============================] - 9s 9s/step - loss: 3.4945 - accuracy: 0.0938 - val_loss: 3.6727 - val_accuracy: 0.0457\n",
            "\n",
            "Epoch 00001: val_loss did not improve from 3.60625\n",
            "epoch  199\n",
            "1/1 [==============================] - 9s 9s/step - loss: 3.6232 - accuracy: 0.0625 - val_loss: 3.6645 - val_accuracy: 0.0473\n",
            "\n",
            "Epoch 00001: val_loss did not improve from 3.60625\n",
            "epoch  200\n",
            "1/1 [==============================] - 9s 9s/step - loss: 3.7406 - accuracy: 0.1562 - val_loss: 3.6502 - val_accuracy: 0.0483\n",
            "\n",
            "Epoch 00001: val_loss did not improve from 3.60625\n",
            "epoch  201\n",
            "1/1 [==============================] - 9s 9s/step - loss: 3.5591 - accuracy: 0.0938 - val_loss: 3.6445 - val_accuracy: 0.0503\n",
            "\n",
            "Epoch 00001: val_loss did not improve from 3.60625\n",
            "epoch  202\n",
            "1/1 [==============================] - 9s 9s/step - loss: 3.8240 - accuracy: 0.0625 - val_loss: 3.6466 - val_accuracy: 0.0543\n",
            "\n",
            "Epoch 00001: val_loss did not improve from 3.60625\n",
            "epoch  203\n",
            "1/1 [==============================] - 9s 9s/step - loss: 3.6453 - accuracy: 0.0312 - val_loss: 3.6579 - val_accuracy: 0.0540\n",
            "\n",
            "Epoch 00001: val_loss did not improve from 3.60625\n",
            "epoch  204\n",
            "1/1 [==============================] - 9s 9s/step - loss: 3.4661 - accuracy: 0.0938 - val_loss: 3.6586 - val_accuracy: 0.0553\n",
            "\n",
            "Epoch 00001: val_loss did not improve from 3.60625\n",
            "epoch  205\n",
            "1/1 [==============================] - 9s 9s/step - loss: 3.6800 - accuracy: 0.0938 - val_loss: 3.6437 - val_accuracy: 0.0587\n",
            "\n",
            "Epoch 00001: val_loss did not improve from 3.60625\n",
            "epoch  206\n",
            "1/1 [==============================] - 9s 9s/step - loss: 3.9273 - accuracy: 0.0938 - val_loss: 3.6342 - val_accuracy: 0.0560\n",
            "\n",
            "Epoch 00001: val_loss did not improve from 3.60625\n",
            "epoch  207\n",
            "1/1 [==============================] - 9s 9s/step - loss: 3.3209 - accuracy: 0.1562 - val_loss: 3.6309 - val_accuracy: 0.0547\n",
            "\n",
            "Epoch 00001: val_loss did not improve from 3.60625\n",
            "epoch  208\n",
            "1/1 [==============================] - 9s 9s/step - loss: 3.5335 - accuracy: 0.1562 - val_loss: 3.6301 - val_accuracy: 0.0553\n",
            "\n",
            "Epoch 00001: val_loss did not improve from 3.60625\n",
            "epoch  209\n",
            "1/1 [==============================] - 9s 9s/step - loss: 3.8754 - accuracy: 0.1250 - val_loss: 3.6199 - val_accuracy: 0.0537\n",
            "\n",
            "Epoch 00001: val_loss did not improve from 3.60625\n",
            "epoch  210\n",
            "1/1 [==============================] - 9s 9s/step - loss: 3.5020 - accuracy: 0.0625 - val_loss: 3.6160 - val_accuracy: 0.0550\n",
            "\n",
            "Epoch 00001: val_loss did not improve from 3.60625\n",
            "epoch  211\n",
            "1/1 [==============================] - 9s 9s/step - loss: 3.4415 - accuracy: 0.0938 - val_loss: 3.6141 - val_accuracy: 0.0480\n",
            "\n",
            "Epoch 00001: val_loss did not improve from 3.60625\n",
            "epoch  212\n",
            "1/1 [==============================] - 9s 9s/step - loss: 3.6056 - accuracy: 0.0312 - val_loss: 3.6087 - val_accuracy: 0.0503\n",
            "\n",
            "Epoch 00001: val_loss did not improve from 3.60625\n",
            "epoch  213\n",
            "1/1 [==============================] - 9s 9s/step - loss: 3.3241 - accuracy: 0.1250 - val_loss: 3.6020 - val_accuracy: 0.0470\n",
            "\n",
            "Epoch 00001: val_loss improved from 3.60625 to 3.60200, saving model to /content/classification_age_model.hdf5\n",
            "epoch  214\n",
            "1/1 [==============================] - 9s 9s/step - loss: 3.2125 - accuracy: 0.1875 - val_loss: 3.5975 - val_accuracy: 0.0530\n",
            "\n",
            "Epoch 00001: val_loss improved from 3.60200 to 3.59752, saving model to /content/classification_age_model.hdf5\n",
            "epoch  215\n",
            "1/1 [==============================] - 9s 9s/step - loss: 3.5365 - accuracy: 0.1250 - val_loss: 3.5975 - val_accuracy: 0.0523\n",
            "\n",
            "Epoch 00001: val_loss did not improve from 3.59752\n",
            "epoch  216\n",
            "1/1 [==============================] - 9s 9s/step - loss: 3.4470 - accuracy: 0.0625 - val_loss: 3.5977 - val_accuracy: 0.0520\n",
            "\n",
            "Epoch 00001: val_loss did not improve from 3.59752\n",
            "epoch  217\n",
            "1/1 [==============================] - 9s 9s/step - loss: 3.0914 - accuracy: 0.1875 - val_loss: 3.5991 - val_accuracy: 0.0500\n",
            "\n",
            "Epoch 00001: val_loss did not improve from 3.59752\n",
            "epoch  218\n",
            "1/1 [==============================] - 9s 9s/step - loss: 3.4312 - accuracy: 0.1562 - val_loss: 3.6014 - val_accuracy: 0.0537\n",
            "\n",
            "Epoch 00001: val_loss did not improve from 3.59752\n",
            "epoch  219\n",
            "1/1 [==============================] - 9s 9s/step - loss: 3.4267 - accuracy: 0.0625 - val_loss: 3.6065 - val_accuracy: 0.0543\n",
            "\n",
            "Epoch 00001: val_loss did not improve from 3.59752\n",
            "epoch  220\n",
            "1/1 [==============================] - 9s 9s/step - loss: 3.4045 - accuracy: 0.0938 - val_loss: 3.6172 - val_accuracy: 0.0573\n",
            "\n",
            "Epoch 00001: val_loss did not improve from 3.59752\n",
            "epoch  221\n",
            "1/1 [==============================] - 9s 9s/step - loss: 3.4635 - accuracy: 0.0938 - val_loss: 3.6124 - val_accuracy: 0.0557\n",
            "\n",
            "Epoch 00001: val_loss did not improve from 3.59752\n",
            "epoch  222\n",
            "1/1 [==============================] - 9s 9s/step - loss: 3.5329 - accuracy: 0.0625 - val_loss: 3.6147 - val_accuracy: 0.0530\n",
            "\n",
            "Epoch 00001: val_loss did not improve from 3.59752\n",
            "epoch  223\n",
            "1/1 [==============================] - 9s 9s/step - loss: 3.3806 - accuracy: 0.0000e+00 - val_loss: 3.6408 - val_accuracy: 0.0500\n",
            "\n",
            "Epoch 00001: val_loss did not improve from 3.59752\n",
            "epoch  224\n",
            "1/1 [==============================] - 10s 10s/step - loss: 3.4003 - accuracy: 0.1250 - val_loss: 3.6515 - val_accuracy: 0.0513\n",
            "\n",
            "Epoch 00001: val_loss did not improve from 3.59752\n",
            "epoch  225\n",
            "1/1 [==============================] - 9s 9s/step - loss: 3.8155 - accuracy: 0.0625 - val_loss: 3.6451 - val_accuracy: 0.0497\n",
            "\n",
            "Epoch 00001: val_loss did not improve from 3.59752\n",
            "epoch  226\n",
            "1/1 [==============================] - 9s 9s/step - loss: 3.3719 - accuracy: 0.0938 - val_loss: 3.6282 - val_accuracy: 0.0497\n",
            "\n",
            "Epoch 00001: val_loss did not improve from 3.59752\n",
            "epoch  227\n",
            "1/1 [==============================] - 10s 10s/step - loss: 3.5320 - accuracy: 0.0625 - val_loss: 3.6254 - val_accuracy: 0.0500\n",
            "\n",
            "Epoch 00001: val_loss did not improve from 3.59752\n",
            "epoch  228\n",
            "1/1 [==============================] - 10s 10s/step - loss: 3.5075 - accuracy: 0.0312 - val_loss: 3.6341 - val_accuracy: 0.0547\n",
            "\n",
            "Epoch 00001: val_loss did not improve from 3.59752\n",
            "epoch  229\n",
            "1/1 [==============================] - 9s 9s/step - loss: 3.4781 - accuracy: 0.1250 - val_loss: 3.6375 - val_accuracy: 0.0517\n",
            "\n",
            "Epoch 00001: val_loss did not improve from 3.59752\n",
            "epoch  230\n",
            "1/1 [==============================] - 10s 10s/step - loss: 3.2035 - accuracy: 0.0625 - val_loss: 3.6354 - val_accuracy: 0.0483\n",
            "\n",
            "Epoch 00001: val_loss did not improve from 3.59752\n",
            "epoch  231\n",
            "1/1 [==============================] - 10s 10s/step - loss: 3.4646 - accuracy: 0.0938 - val_loss: 3.6301 - val_accuracy: 0.0483\n",
            "\n",
            "Epoch 00001: val_loss did not improve from 3.59752\n",
            "epoch  232\n",
            "1/1 [==============================] - 10s 10s/step - loss: 3.7172 - accuracy: 0.0312 - val_loss: 3.6274 - val_accuracy: 0.0513\n",
            "\n",
            "Epoch 00001: val_loss did not improve from 3.59752\n",
            "epoch  233\n",
            "1/1 [==============================] - 10s 10s/step - loss: 3.3259 - accuracy: 0.1562 - val_loss: 3.6242 - val_accuracy: 0.0540\n",
            "\n",
            "Epoch 00001: val_loss did not improve from 3.59752\n",
            "epoch  234\n",
            "1/1 [==============================] - 10s 10s/step - loss: 3.8378 - accuracy: 0.0312 - val_loss: 3.6202 - val_accuracy: 0.0503\n",
            "\n",
            "Epoch 00001: val_loss did not improve from 3.59752\n",
            "epoch  235\n",
            "1/1 [==============================] - 10s 10s/step - loss: 3.2979 - accuracy: 0.0625 - val_loss: 3.6220 - val_accuracy: 0.0520\n",
            "\n",
            "Epoch 00001: val_loss did not improve from 3.59752\n",
            "epoch  236\n",
            "1/1 [==============================] - 10s 10s/step - loss: 3.4200 - accuracy: 0.1562 - val_loss: 3.6137 - val_accuracy: 0.0477\n",
            "\n",
            "Epoch 00001: val_loss did not improve from 3.59752\n",
            "epoch  237\n",
            "1/1 [==============================] - 10s 10s/step - loss: 3.2558 - accuracy: 0.1250 - val_loss: 3.6108 - val_accuracy: 0.0527\n",
            "\n",
            "Epoch 00001: val_loss did not improve from 3.59752\n",
            "epoch  238\n",
            "1/1 [==============================] - 10s 10s/step - loss: 3.6651 - accuracy: 0.0312 - val_loss: 3.6155 - val_accuracy: 0.0550\n",
            "\n",
            "Epoch 00001: val_loss did not improve from 3.59752\n",
            "epoch  239\n",
            "1/1 [==============================] - 10s 10s/step - loss: 3.2386 - accuracy: 0.1562 - val_loss: 3.6213 - val_accuracy: 0.0573\n",
            "\n",
            "Epoch 00001: val_loss did not improve from 3.59752\n",
            "epoch  240\n",
            "1/1 [==============================] - 10s 10s/step - loss: 3.6069 - accuracy: 0.1562 - val_loss: 3.6387 - val_accuracy: 0.0610\n",
            "\n",
            "Epoch 00001: val_loss did not improve from 3.59752\n",
            "epoch  241\n",
            "1/1 [==============================] - 10s 10s/step - loss: 3.4065 - accuracy: 0.1562 - val_loss: 3.6543 - val_accuracy: 0.0633\n",
            "\n",
            "Epoch 00001: val_loss did not improve from 3.59752\n",
            "epoch  242\n",
            "1/1 [==============================] - 10s 10s/step - loss: 3.4618 - accuracy: 0.0938 - val_loss: 3.6516 - val_accuracy: 0.0587\n",
            "\n",
            "Epoch 00001: val_loss did not improve from 3.59752\n",
            "epoch  243\n",
            "1/1 [==============================] - 10s 10s/step - loss: 3.4705 - accuracy: 0.0625 - val_loss: 3.6360 - val_accuracy: 0.0613\n",
            "\n",
            "Epoch 00001: val_loss did not improve from 3.59752\n",
            "epoch  244\n",
            "1/1 [==============================] - 10s 10s/step - loss: 3.8001 - accuracy: 0.0625 - val_loss: 3.6296 - val_accuracy: 0.0630\n",
            "\n",
            "Epoch 00001: val_loss did not improve from 3.59752\n",
            "epoch  245\n",
            "1/1 [==============================] - 10s 10s/step - loss: 3.7631 - accuracy: 0.0312 - val_loss: 3.6438 - val_accuracy: 0.0570\n",
            "\n",
            "Epoch 00001: val_loss did not improve from 3.59752\n",
            "epoch  246\n",
            "1/1 [==============================] - 9s 9s/step - loss: 3.3208 - accuracy: 0.1875 - val_loss: 3.6578 - val_accuracy: 0.0517\n",
            "\n",
            "Epoch 00001: val_loss did not improve from 3.59752\n",
            "epoch  247\n",
            "1/1 [==============================] - 9s 9s/step - loss: 3.7951 - accuracy: 0.0625 - val_loss: 3.6768 - val_accuracy: 0.0487\n",
            "\n",
            "Epoch 00001: val_loss did not improve from 3.59752\n",
            "epoch  248\n",
            "1/1 [==============================] - 9s 9s/step - loss: 3.7456 - accuracy: 0.0312 - val_loss: 3.6720 - val_accuracy: 0.0447\n",
            "\n",
            "Epoch 00001: val_loss did not improve from 3.59752\n",
            "epoch  249\n",
            "1/1 [==============================] - 9s 9s/step - loss: 3.5693 - accuracy: 0.0000e+00 - val_loss: 3.6535 - val_accuracy: 0.0460\n",
            "\n",
            "Epoch 00001: val_loss did not improve from 3.59752\n"
          ],
          "name": "stdout"
        }
      ]
    },
    {
      "cell_type": "code",
      "metadata": {
        "colab": {
          "base_uri": "https://localhost:8080/",
          "height": 265
        },
        "id": "pjJNUdLWA8BE",
        "outputId": "b0f180b4-3f44-4f44-892c-de706fe3e06f"
      },
      "source": [
        "val_loss_change = []; loss_change = []\n",
        "for i in range(0, len(scores)):\n",
        "    val_loss_change.append(scores[i].history['val_loss'])\n",
        "    loss_change.append(scores[i].history['loss'])\n",
        "\n",
        "plt.plot(val_loss_change, label='val_loss')\n",
        "plt.plot(loss_change, label='train_loss')\n",
        "plt.legend(loc='upper right')\n",
        "plt.show()"
      ],
      "execution_count": 42,
      "outputs": [
        {
          "output_type": "display_data",
          "data": {
            "image/png": "[encoded data removed]",
            "text/plain": [
              "<Figure size 432x288 with 1 Axes>"
            ]
          },
          "metadata": {
            "tags": [],
            "needs_background": "light"
          }
        }
      ]
    },
    {
      "cell_type": "code",
      "metadata": {
        "colab": {
          "base_uri": "https://localhost:8080/"
        },
        "id": "gFFzzrKFB_AL",
        "outputId": "4c69708d-bae5-4a98-d524-ce062fbc1ec9"
      },
      "source": [
        "#loss and accuracy on validation set\n",
        "age_model.evaluate(test_x, test_y, verbose=1)"
      ],
      "execution_count": 43,
      "outputs": [
        {
          "output_type": "stream",
          "text": [
            "94/94 [==============================] - 10s 100ms/step - loss: 3.5975 - accuracy: 0.0530\n"
          ],
          "name": "stdout"
        },
        {
          "output_type": "execute_result",
          "data": {
            "text/plain": [
              "[3.5975184440612793, 0.05299999937415123]"
            ]
          },
          "metadata": {
            "tags": []
          },
          "execution_count": 43
        }
      ]
    },
    {
      "cell_type": "code",
      "metadata": {
        "id": "woYtqmi5B_J_"
      },
      "source": [
        "predictions = age_model.predict(test_x)"
      ],
      "execution_count": 44,
      "outputs": []
    },
    {
      "cell_type": "code",
      "metadata": {
        "id": "TEGiDP_SB_Tg"
      },
      "source": [
        "output_indexes = np.array([i for i in range(0, 101)])\n",
        "apparent_predictions = np.sum(predictions * output_indexes, axis = 1)"
      ],
      "execution_count": 45,
      "outputs": []
    },
    {
      "cell_type": "code",
      "metadata": {
        "colab": {
          "base_uri": "https://localhost:8080/"
        },
        "id": "Rh419JvTB_rd",
        "outputId": "f526ac6c-4d76-40c1-a3e1-4db199258451"
      },
      "source": [
        "mae = 0\n",
        "\n",
        "for i in range(0 ,apparent_predictions.shape[0]):\n",
        "    prediction = int(apparent_predictions[i])\n",
        "    actual = np.argmax(test_y[i])\n",
        "    \n",
        "    abs_error = abs(prediction - actual)\n",
        "    # actual_mean = actual_mean + actual\n",
        "    \n",
        "    mae = mae + abs_error\n",
        "    \n",
        "mae = mae / apparent_predictions.shape[0]\n",
        "\n",
        "print(\"mae: \",mae)\n",
        "print(\"instances: \",apparent_predictions.shape[0])"
      ],
      "execution_count": 46,
      "outputs": [
        {
          "output_type": "stream",
          "text": [
            "mae:  6.857333333333333\n",
            "instances:  3000\n"
          ],
          "name": "stdout"
        }
      ]
    },
    {
      "cell_type": "code",
      "metadata": {
        "id": "GJpUAx_NB_xR"
      },
      "source": [
        "from keras.preprocessing import image\n",
        "from keras.preprocessing.image import ImageDataGenerator"
      ],
      "execution_count": 47,
      "outputs": []
    },
    {
      "cell_type": "code",
      "metadata": {
        "id": "IOT5Z8L_B_0P"
      },
      "source": [
        "def loadImage(filepath):\n",
        "    test_img = image.load_img(filepath, target_size=(224, 224))\n",
        "    test_img = image.img_to_array(test_img)\n",
        "    test_img = np.expand_dims(test_img, axis = 0)\n",
        "    test_img /= 255\n",
        "    return test_img"
      ],
      "execution_count": 48,
      "outputs": []
    },
    {
      "cell_type": "code",
      "metadata": {
        "id": "IiPXXF-SB_2p"
      },
      "source": [
        "picture = \"/content/drive/MyDrive/YOUNGER/face_old.jpeg\"\n",
        "#picture = \"brando.jpg\"\n",
        "#picture = \"katy-3.jpg\"\n",
        "\n",
        "prediction = age_model.predict(loadImage(picture))"
      ],
      "execution_count": 65,
      "outputs": []
    },
    {
      "cell_type": "code",
      "metadata": {
        "colab": {
          "base_uri": "https://localhost:8080/",
          "height": 281
        },
        "id": "xRqEnc_hB_4m",
        "outputId": "6a52858a-c6ca-4667-a567-df3a7db43dd5"
      },
      "source": [
        "\n",
        "y_pos = np.arange(101)\n",
        "plt.bar(y_pos, prediction[0], align='center', alpha=.7)\n",
        "plt.ylabel('percentage')\n",
        "plt.title('age')\n",
        "plt.show()"
      ],
      "execution_count": 66,
      "outputs": [
        {
          "output_type": "display_data",
          "data": {
            "image/png": "[encoded data removed]",
            "text/plain": [
              "<Figure size 432x288 with 1 Axes>"
            ]
          },
          "metadata": {
            "tags": [],
            "needs_background": "light"
          }
        }
      ]
    },
    {
      "cell_type": "code",
      "metadata": {
        "colab": {
          "base_uri": "https://localhost:8080/",
          "height": 302
        },
        "id": "6pverZsYCLXj",
        "outputId": "31089642-3b59-45f5-c47c-d68575347f81"
      },
      "source": [
        "\n",
        "img = image.load_img(picture)#, target_size=(224, 224))\n",
        "plt.imshow(img)\n",
        "plt.show()\n",
        "\n",
        "print(\"most dominant age class (not apparent age): \",np.argmax(prediction))\n",
        "\n",
        "apparent_age = np.round(np.sum(prediction * output_indexes, axis = 1))\n",
        "print(\"apparent age: \", int(apparent_age[0]))"
      ],
      "execution_count": 67,
      "outputs": [
        {
          "output_type": "display_data",
          "data": {
            "image/png": "[encoded data removed]",
            "text/plain": [
              "<Figure size 432x288 with 1 Axes>"
            ]
          },
          "metadata": {
            "tags": [],
            "needs_background": "light"
          }
        },
        {
          "output_type": "stream",
          "text": [
            "most dominant age class (not apparent age):  57\n",
            "apparent age:  55\n"
          ],
          "name": "stdout"
        }
      ]
    }
  ]
}